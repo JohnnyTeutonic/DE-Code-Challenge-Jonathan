{
 "cells": [
  {
   "cell_type": "code",
   "execution_count": null,
   "metadata": {},
   "outputs": [],
   "source": [
    "analytics.attribute_search(name=\"city\")\n"
   ]
  },
  {
   "cell_type": "markdown",
   "metadata": {},
   "source": [
    "# Beginning of Exploratory Data Analysis"
   ]
  },
  {
   "cell_type": "code",
   "execution_count": 430,
   "metadata": {},
   "outputs": [
    {
     "name": "stdout",
     "output_type": "stream",
     "text": [
      "(11229, 5)\n"
     ]
    },
    {
     "data": {
      "text/html": [
       "<table><tr><th>Column</th><th>Status</th><th>Description</th></tr><tr><th><a href=\"https://demyst.com/docs/demyst-live/types/#street\" target=\"_blank\">street</a></th><td style=\"background-color: lightgreen\"><nobr>All Valid</nobr></td><td style=\"text-align: left\">All values in this column are good to go.</td></tr><tr><th><a href=\"https://demyst.com/docs/demyst-live/types/#state\" target=\"_blank\">state</a></th><td style=\"background-color: peachpuff\"><nobr>Some Invalid</nobr></td><td style=\"text-align: left\">16.8% of the values of this column failed validation. One example of an invalid value is 'NJ  '. <a href=\"https://demyst.com/docs/demyst-live/types/#state\" target=\"_blank\">Click here for documentation for this column.</a></td></tr><tr><th><a href=\"https://demyst.com/docs/demyst-live/types/#city\" target=\"_blank\">city</a></th><td style=\"background-color: lightgreen\"><nobr>All Valid</nobr></td><td style=\"text-align: left\">All values in this column are good to go.</td></tr><tr><th>postcode</th><td style=\"background-color: lightpink\"><nobr>Unrecognized Column Name</nobr></td><td style=\"text-align: left\">This column name is not supported. <a href=\"https://demyst.com/docs/demyst-live/types/\" target=\"_blank\">Click here for a list of all supported column names.</a></td></tr><tr><th>safety_flag</th><td style=\"background-color: lightpink\"><nobr>Unrecognized Column Name</nobr></td><td style=\"text-align: left\">This column name is not supported. <a href=\"https://demyst.com/docs/demyst-live/types/\" target=\"_blank\">Click here for a list of all supported column names.</a></td></tr></table>"
      ],
      "text/plain": [
       "<demyst.analytics.analytics.Validation at 0x178e2d550>"
      ]
     },
     "execution_count": 430,
     "metadata": {},
     "output_type": "execute_result"
    }
   ],
   "source": [
    "import warnings\n",
    "warnings.filterwarnings('ignore')\n",
    "from demyst.analytics import Analytics\n",
    "analytics = Analytics(username=\"code-challenge-johnathan@demystdata.com\", password=\"y(z%CrM32aXW^CQw8cUe2Mx83uG[\")\n",
    "from demyst.common import connectors\n",
    "import numpy as np\n",
    "import pandas as pd\n",
    "df = pd.read_csv('input_file.csv', encoding = \"latin\", header=0)\n",
    "df_copy = df.copy()\n",
    "print(df_copy.shape)\n",
    "analytics.validate(df_copy)\n"
   ]
  },
  {
   "cell_type": "markdown",
   "metadata": {},
   "source": [
    "The two columns 'postcode' and 'safety_flag' aren't recognised as valid column names.\n",
    "We're able to infer the valid column names from https://demyst.com/docs/demyst-live/types/.\n",
    "\n",
    "Based on the column names found in the link listed avoce, we need to change the column name 'postcode' to 'post-code'.\n",
    "'safety_flag' is also not recognised as a valid name, but we can leave it in the dataframe for now because that is our 'target' variable.\n",
    "We will also need to fix the 'state' variables as there are invalid data points present as shown in the output above."
   ]
  },
  {
   "cell_type": "code",
   "execution_count": 431,
   "metadata": {},
   "outputs": [
    {
     "data": {
      "text/html": [
       "<table><tr><th>Column</th><th>Status</th><th>Description</th></tr><tr><th><a href=\"https://demyst.com/docs/demyst-live/types/#street\" target=\"_blank\">street</a></th><td style=\"background-color: lightgreen\"><nobr>All Valid</nobr></td><td style=\"text-align: left\">All values in this column are good to go.</td></tr><tr><th><a href=\"https://demyst.com/docs/demyst-live/types/#state\" target=\"_blank\">state</a></th><td style=\"background-color: peachpuff\"><nobr>Some Invalid</nobr></td><td style=\"text-align: left\">16.8% of the values of this column failed validation. One example of an invalid value is 'NJ  '. <a href=\"https://demyst.com/docs/demyst-live/types/#state\" target=\"_blank\">Click here for documentation for this column.</a></td></tr><tr><th><a href=\"https://demyst.com/docs/demyst-live/types/#city\" target=\"_blank\">city</a></th><td style=\"background-color: lightgreen\"><nobr>All Valid</nobr></td><td style=\"text-align: left\">All values in this column are good to go.</td></tr><tr><th><a href=\"https://demyst.com/docs/demyst-live/types/#post_code\" target=\"_blank\">post_code</a></th><td style=\"background-color: peachpuff\"><nobr>Some Invalid</nobr></td><td style=\"text-align: left\">0.1% of the values of this column failed validation. One example of an invalid value is 'nan'. <a href=\"https://demyst.com/docs/demyst-live/types/#post_code\" target=\"_blank\">Click here for documentation for this column.</a></td></tr><tr><th>safety_flag</th><td style=\"background-color: lightpink\"><nobr>Unrecognized Column Name</nobr></td><td style=\"text-align: left\">This column name is not supported. <a href=\"https://demyst.com/docs/demyst-live/types/\" target=\"_blank\">Click here for a list of all supported column names.</a></td></tr></table>"
      ],
      "text/plain": [
       "<demyst.analytics.analytics.Validation at 0x178e37a58>"
      ]
     },
     "execution_count": 431,
     "metadata": {},
     "output_type": "execute_result"
    }
   ],
   "source": [
    "df_copy.rename(index=str, columns={\"postcode\": \"post_code\"}, inplace=True)\n",
    "analytics.validate(df_copy)\n"
   ]
  },
  {
   "cell_type": "markdown",
   "metadata": {},
   "source": [
    "<!-- The column that has name 'safety_flag' has been inferred to be of type 'Boolean'. This is useful to know - even though we can't use this column for a lookup search for data enrichment, the DemystData api is at least able to infer the *type* of this target variable. -->\n",
    "Now that we've changed the name of 'postcode' to a valid column name (post-code), the analysis recognises this column and has shown that there is a small proportion (0.1%) of invalid data, including the presence of 'nans'.\n",
    "Likewise, the 'state' variable contains invalid data, so we need to fix those invalid data points additionally."
   ]
  },
  {
   "cell_type": "markdown",
   "metadata": {},
   "source": [
    "### Clean data that has invalid inputs"
   ]
  },
  {
   "cell_type": "markdown",
   "metadata": {},
   "source": [
    "There are 'nans' present in the 'state' and 'post_code' variables, so we will drop those from the dataframe"
   ]
  },
  {
   "cell_type": "code",
   "execution_count": 432,
   "metadata": {},
   "outputs": [
    {
     "data": {
      "text/plain": [
       "street         0\n",
       "state          9\n",
       "city           9\n",
       "post_code      9\n",
       "safety_flag    0\n",
       "dtype: int64"
      ]
     },
     "execution_count": 432,
     "metadata": {},
     "output_type": "execute_result"
    }
   ],
   "source": [
    "df_copy.isna().sum()"
   ]
  },
  {
   "cell_type": "code",
   "execution_count": 433,
   "metadata": {},
   "outputs": [
    {
     "name": "stdout",
     "output_type": "stream",
     "text": [
      "(11229, 5)\n",
      "(11219, 5)\n"
     ]
    }
   ],
   "source": [
    "print(df_copy.shape)\n",
    "# this will drop *all* 'nans', regardless of which variable is contained\n",
    "df_copy.dropna(inplace=True)\n",
    "print(df_copy.shape)"
   ]
  },
  {
   "cell_type": "markdown",
   "metadata": {},
   "source": [
    "We managed to remove 10 records from the input data after executing the 'dropna' function, in an 'inplace' manner"
   ]
  },
  {
   "cell_type": "code",
   "execution_count": 434,
   "metadata": {},
   "outputs": [
    {
     "name": "stdout",
     "output_type": "stream",
     "text": [
      "['FL' 'IN' 'VA' 'OH' 'MA' 'MN' 'WI' 'NC' 'CO' 'CA' 'NY' 'NH' 'CT' 'MD'\n",
      " 'NJ' 'KY' 'WA' 'IA' 'LA' 'GA' 'IL' 'TX' 'AZ' 'DE' 'MI' 'RI' 'OR' 'AR'\n",
      " 'HI' 'PA' 'SC' 'AL' 'TN' 'WY' 'NV' 'NE' 'MT' 'MS' 'OK' 'KS' 'MO' 'ID'\n",
      " 'DC' 'UT' 'NM' 'ND' 'ME' 'VT' 'AK' 'SD' 'NJ  ' 'NY  ' 'CA  ' 'OR  '\n",
      " 'GA  ' 'MI  ' 'AZ  ' 'TX  ' 'PA  ']\n"
     ]
    }
   ],
   "source": [
    "print(df_copy['state'].unique())"
   ]
  },
  {
   "cell_type": "markdown",
   "metadata": {},
   "source": [
    "There is whitespace present in several of the data points, so we should remove them"
   ]
  },
  {
   "cell_type": "code",
   "execution_count": 435,
   "metadata": {},
   "outputs": [],
   "source": [
    "# remove whitespace found in state names above\n",
    "df_copy['state'] = df_copy['state'].str.strip()"
   ]
  },
  {
   "cell_type": "markdown",
   "metadata": {},
   "source": [
    "There is an inconsistent schema for the 'city' variable as seen below ('VACKAVILLE' vs 'Lakeland')"
   ]
  },
  {
   "cell_type": "code",
   "execution_count": 436,
   "metadata": {},
   "outputs": [
    {
     "data": {
      "text/plain": [
       "array(['Lakeland', 'Indianapolis', 'Troutville', ..., 'VACKAVILLE',\n",
       "       'San Juan Capistrano', 'White Pains'], dtype=object)"
      ]
     },
     "execution_count": 436,
     "metadata": {},
     "output_type": "execute_result"
    }
   ],
   "source": [
    "df_copy['city'].unique()"
   ]
  },
  {
   "cell_type": "code",
   "execution_count": 437,
   "metadata": {},
   "outputs": [
    {
     "data": {
      "text/plain": [
       "New York            245\n",
       "Brooklyn            158\n",
       "San Francisco       155\n",
       "Los Angeles         138\n",
       "Chicago              99\n",
       "San Antonio          83\n",
       "San Diego            83\n",
       "Houston              82\n",
       "San Jose             74\n",
       "Bronx                65\n",
       "Dallas               54\n",
       "Miami                50\n",
       "Atlanta              43\n",
       "Philadelphia         43\n",
       "Sacramento           42\n",
       "Oakland              41\n",
       "Austin               37\n",
       "Orlando              37\n",
       "Charlotte            34\n",
       "Seattle              33\n",
       "Phoenix              32\n",
       "Jacksonville         31\n",
       "El Paso              31\n",
       "Las Vegas            30\n",
       "Washington           27\n",
       "Fort Worth           27\n",
       "Long Beach           26\n",
       "Portland             25\n",
       "Fresno               25\n",
       "Pittsburgh           25\n",
       "                   ... \n",
       "Sandy Hook            1\n",
       "Ambridge              1\n",
       "Burney                1\n",
       "Pembroke pines        1\n",
       "Flanders              1\n",
       "Beloit                1\n",
       "king of prussia       1\n",
       "North Tonawanda       1\n",
       "greeley               1\n",
       "fox lake              1\n",
       "Gowen                 1\n",
       "Lake Helen            1\n",
       "Buckhead              1\n",
       "Canal Winchester      1\n",
       "Mc Rae Helena         1\n",
       "Kotzebue              1\n",
       "arlington             1\n",
       "Wadsworth             1\n",
       "spring valley         1\n",
       "Alma                  1\n",
       "Cape Canaveral        1\n",
       "MIDLAND               1\n",
       "Cookeville            1\n",
       "Sykesville            1\n",
       "AKRON                 1\n",
       "Hopkins               1\n",
       "DES MOINES            1\n",
       "Brunson               1\n",
       "Borrego Springs       1\n",
       "Hancocks Bridge       1\n",
       "Name: city, Length: 4181, dtype: int64"
      ]
     },
     "execution_count": 437,
     "metadata": {},
     "output_type": "execute_result"
    }
   ],
   "source": [
    "df_copy['city'].value_counts()"
   ]
  },
  {
   "cell_type": "markdown",
   "metadata": {},
   "source": [
    "\n",
    "Because the majority of city names conform to the schema with a capitalised first letter for each part of the name,\n",
    "we need to transform other data points (such as 'long beach' and 'VACKAVILLE') to a schema like:\n",
    "'Long Beach', and 'Vackaville'"
   ]
  },
  {
   "cell_type": "code",
   "execution_count": 438,
   "metadata": {},
   "outputs": [],
   "source": [
    "df_copy['city'] = df_copy['city'].str.title()\n"
   ]
  },
  {
   "cell_type": "code",
   "execution_count": 439,
   "metadata": {},
   "outputs": [
    {
     "data": {
      "text/plain": [
       "New York             261\n",
       "Brooklyn             167\n",
       "San Francisco        158\n",
       "Los Angeles          142\n",
       "Chicago              104\n",
       "San Diego             88\n",
       "San Antonio           85\n",
       "Houston               84\n",
       "San Jose              76\n",
       "Bronx                 73\n",
       "Miami                 54\n",
       "Dallas                54\n",
       "Sacramento            45\n",
       "Philadelphia          43\n",
       "Atlanta               43\n",
       "Oakland               43\n",
       "Austin                39\n",
       "Orlando               37\n",
       "Charlotte             36\n",
       "Las Vegas             35\n",
       "Seattle               35\n",
       "Jacksonville          33\n",
       "Phoenix               32\n",
       "El Paso               32\n",
       "Washington            30\n",
       "Long Beach            29\n",
       "Fort Worth            29\n",
       "Albany                26\n",
       "Pittsburgh            26\n",
       "Portland              26\n",
       "                    ... \n",
       "Chichester             1\n",
       "Moorhead               1\n",
       "Chantilly              1\n",
       "Callicoon              1\n",
       "Gleason                1\n",
       "Lock Haven             1\n",
       "Havertown              1\n",
       "Minooka                1\n",
       "Burien                 1\n",
       "Hanford                1\n",
       "Ravenna                1\n",
       "Del Valle              1\n",
       "Lahoya                 1\n",
       "Deland                 1\n",
       "Cleburne               1\n",
       "Biglerville            1\n",
       "Monmouth Junction      1\n",
       "Erieville              1\n",
       "Angie                  1\n",
       "Dolton                 1\n",
       "West Henrietta         1\n",
       "Riviera Beach          1\n",
       "Lugoff                 1\n",
       "Colts Neck             1\n",
       "Gloster                1\n",
       "Lake Charles           1\n",
       "Pocatello              1\n",
       "Henryville             1\n",
       "Taberg                 1\n",
       "Hancocks Bridge        1\n",
       "Name: city, Length: 3785, dtype: int64"
      ]
     },
     "execution_count": 439,
     "metadata": {},
     "output_type": "execute_result"
    }
   ],
   "source": [
    "\n",
    "df_copy['city'].value_counts()"
   ]
  },
  {
   "cell_type": "markdown",
   "metadata": {},
   "source": [
    "As seen above, now the 'state' variable contains data points that all conform to the same schema"
   ]
  },
  {
   "cell_type": "markdown",
   "metadata": {},
   "source": [
    "Based on the 'postcode' output below, there are variable types of coding schemas present in the dataset.\n",
    "We need to ensure that each postcode is of fixed length. "
   ]
  },
  {
   "cell_type": "code",
   "execution_count": 440,
   "metadata": {},
   "outputs": [
    {
     "data": {
      "text/plain": [
       "array(['33812-5237', '46227', '24175-6054', ..., '14626', '92192',\n",
       "       '92782'], dtype=object)"
      ]
     },
     "execution_count": 440,
     "metadata": {},
     "output_type": "execute_result"
    }
   ],
   "source": [
    "df_copy['post_code'].unique()"
   ]
  },
  {
   "cell_type": "markdown",
   "metadata": {},
   "source": [
    "The majority of postcodes are 5 digits long, so let's ensure that *every* postcode is of that length"
   ]
  },
  {
   "cell_type": "code",
   "execution_count": 441,
   "metadata": {},
   "outputs": [
    {
     "data": {
      "text/plain": [
       "94107    25\n",
       "94103    21\n",
       "10001    20\n",
       "10016    16\n",
       "10003    14\n",
       "10012    13\n",
       "Name: post_code, dtype: int64"
      ]
     },
     "execution_count": 441,
     "metadata": {},
     "output_type": "execute_result"
    }
   ],
   "source": [
    "df_copy['post_code'].value_counts().head(6)"
   ]
  },
  {
   "cell_type": "code",
   "execution_count": 442,
   "metadata": {},
   "outputs": [],
   "source": [
    "# we need to ensure we have a consistent schema for the postcodes\n",
    "def transform_postcodes(postcode):\n",
    "    '''Converts postcodes to 5-digits. Assumes that the input is a Pandas Series'''\n",
    "    l = len(postcode)\n",
    "    if l == 4:\n",
    "        return postcode.zfill(5)\n",
    "    if l == 5:\n",
    "        return postcode\n",
    "    else:\n",
    "        return postcode[:5]\n"
   ]
  },
  {
   "cell_type": "code",
   "execution_count": 443,
   "metadata": {},
   "outputs": [
    {
     "data": {
      "text/plain": [
       "94107    26\n",
       "94103    22\n",
       "10001    22\n",
       "10016    17\n",
       "10003    15\n",
       "10012    13\n",
       "11201    13\n",
       "10019    13\n",
       "11222    13\n",
       "10022    12\n",
       "94110    12\n",
       "10013    12\n",
       "10014    11\n",
       "94025    11\n",
       "10018    11\n",
       "90069    11\n",
       "92101    10\n",
       "94111    10\n",
       "94610    10\n",
       "10010    10\n",
       "92660    10\n",
       "94114    10\n",
       "12866    10\n",
       "94109    10\n",
       "11249    10\n",
       "07024    10\n",
       "92130     9\n",
       "94105     9\n",
       "10009     9\n",
       "11215     9\n",
       "         ..\n",
       "55358     1\n",
       "80751     1\n",
       "11553     1\n",
       "92240     1\n",
       "29303     1\n",
       "29172     1\n",
       "51201     1\n",
       "02330     1\n",
       "85305     1\n",
       "66772     1\n",
       "93304     1\n",
       "50249     1\n",
       "01082     1\n",
       "31058     1\n",
       "37821     1\n",
       "98591     1\n",
       "13057     1\n",
       "21046     1\n",
       "15235     1\n",
       "19522     1\n",
       "62223     1\n",
       "39038     1\n",
       "78404     1\n",
       "66537     1\n",
       "99362     1\n",
       "55396     1\n",
       "32177     1\n",
       "17551     1\n",
       "60051     1\n",
       "95124     1\n",
       "Name: post_code, Length: 6597, dtype: int64"
      ]
     },
     "execution_count": 443,
     "metadata": {},
     "output_type": "execute_result"
    }
   ],
   "source": [
    "a = df_copy['post_code'].astype('str').apply(transform_postcodes)\n",
    "a.value_counts()"
   ]
  },
  {
   "cell_type": "markdown",
   "metadata": {},
   "source": [
    "Now we're ready to apply the 'transform_postcodes' function to the 'post_code' variable"
   ]
  },
  {
   "cell_type": "code",
   "execution_count": 444,
   "metadata": {},
   "outputs": [],
   "source": [
    "df_copy['post_code'] = df_copy['post_code'].astype('str').apply(transform_postcodes)\n"
   ]
  },
  {
   "cell_type": "code",
   "execution_count": 445,
   "metadata": {},
   "outputs": [
    {
     "data": {
      "text/html": [
       "<table><tr><th>Column</th><th>Status</th><th>Description</th></tr><tr><th><a href=\"https://demyst.com/docs/demyst-live/types/#street\" target=\"_blank\">street</a></th><td style=\"background-color: lightgreen\"><nobr>All Valid</nobr></td><td style=\"text-align: left\">All values in this column are good to go.</td></tr><tr><th><a href=\"https://demyst.com/docs/demyst-live/types/#state\" target=\"_blank\">state</a></th><td style=\"background-color: lightgreen\"><nobr>All Valid</nobr></td><td style=\"text-align: left\">All values in this column are good to go.</td></tr><tr><th><a href=\"https://demyst.com/docs/demyst-live/types/#city\" target=\"_blank\">city</a></th><td style=\"background-color: lightgreen\"><nobr>All Valid</nobr></td><td style=\"text-align: left\">All values in this column are good to go.</td></tr><tr><th><a href=\"https://demyst.com/docs/demyst-live/types/#post_code\" target=\"_blank\">post_code</a></th><td style=\"background-color: lightgreen\"><nobr>All Valid</nobr></td><td style=\"text-align: left\">All values in this column are good to go.</td></tr><tr><th>safety_flag</th><td style=\"background-color: lightpink\"><nobr>Unrecognized Column Name</nobr></td><td style=\"text-align: left\">This column name is not supported. <a href=\"https://demyst.com/docs/demyst-live/types/\" target=\"_blank\">Click here for a list of all supported column names.</a></td></tr></table>"
      ],
      "text/plain": [
       "<demyst.analytics.analytics.Validation at 0x176104c50>"
      ]
     },
     "execution_count": 445,
     "metadata": {},
     "output_type": "execute_result"
    }
   ],
   "source": [
    "analytics.validate(df_copy)\n"
   ]
  },
  {
   "cell_type": "markdown",
   "metadata": {},
   "source": [
    "Everything appears 'good to go' for data enrichment *however*, we also need to ensure that there aren't any duplicated data points present.    \n"
   ]
  },
  {
   "cell_type": "code",
   "execution_count": 446,
   "metadata": {},
   "outputs": [
    {
     "data": {
      "text/plain": [
       "21"
      ]
     },
     "execution_count": 446,
     "metadata": {},
     "output_type": "execute_result"
    }
   ],
   "source": [
    "df_copy[df_copy.duplicated()].shape[0]"
   ]
  },
  {
   "cell_type": "markdown",
   "metadata": {},
   "source": [
    "21 duplicates were found, so let's drop them"
   ]
  },
  {
   "cell_type": "code",
   "execution_count": 447,
   "metadata": {},
   "outputs": [],
   "source": [
    "df_copy.drop_duplicates(inplace=True)\n"
   ]
  },
  {
   "cell_type": "markdown",
   "metadata": {},
   "source": [
    "Now we're ready to search for any data sets that we could use for enrichment for our input data"
   ]
  },
  {
   "cell_type": "code",
   "execution_count": 448,
   "metadata": {},
   "outputs": [
    {
     "data": {
      "text/html": [
       "<div style=\"\"><div style=\"pading:10px;\"><div style=\"padding:5px\"><h1><img height=\"30\" width=\"30\" src=\"https://console.demystdata.com/assets/attom-018667395fd6d2e395ec7079d09434844d7ef98d02dac7c32e8bcb6c326145f1.svg\" style=\"display:inline-block\" /> Attom</h1><pre style=\"\">attom_expanded_profile_report</pre><p><em>Retrieve Attom's internal reference ID for a property in order to search public property records including real estate data: sale, ownership, tax, and more - for more than 150 million U.S. properties.</em></p></div><div style=\"padding: 5px;\"><table><tr><th> </th><th>post_code</th><th>street</th><th>country</th><th>city</th><th>state</th></tr><tr><td>Option 1</td><td><span style=\"font-size: 20px;\">☒</span></td><td><span style=\"font-size: 20px;\">☒</span></td><td><span style=\"font-size: 20px;\">☐</span></td><td><span style=\"font-size: 20px;\">☒</span></td><td><span style=\"font-size: 20px;\">☒</span></td></tr></table></div></div></div>"
      ],
      "text/plain": [
       "<IPython.core.display.HTML object>"
      ]
     },
     "execution_count": 448,
     "metadata": {},
     "output_type": "execute_result"
    }
   ],
   "source": [
    "analytics.search(df_copy)\n"
   ]
  },
  {
   "cell_type": "markdown",
   "metadata": {},
   "source": [
    "The above output shows that 'attom_expanded_profile_report' could be used to enrich our input dataframe.\n",
    "However, we don't have the column/attribute 'country' present in our data, so we need to include that to get a proper match.\n",
    "We can infer that the 'country' column can be set to 'US', as the output from running df['state'].unique() shows that each of the two letter acronyms match the 'ISO_3166-1_alpha-2' schema referenced in https://demyst.com/docs/demyst-live/types/#country\n",
    "So let's add that column to the sanitised dataframe.\n"
   ]
  },
  {
   "cell_type": "code",
   "execution_count": 449,
   "metadata": {},
   "outputs": [],
   "source": [
    "df_copy['country'] = 'US'\n"
   ]
  },
  {
   "cell_type": "code",
   "execution_count": 450,
   "metadata": {},
   "outputs": [
    {
     "data": {
      "text/html": [
       "<div style=\"\"><div style=\"pading:10px;\"><div style=\"padding:5px\"><h1><img height=\"30\" width=\"30\" src=\"https://console.demystdata.com/assets/attom-018667395fd6d2e395ec7079d09434844d7ef98d02dac7c32e8bcb6c326145f1.svg\" style=\"display:inline-block\" /> Attom</h1><pre style=\"\">attom_expanded_profile_report</pre><p><em>Retrieve Attom's internal reference ID for a property in order to search public property records including real estate data: sale, ownership, tax, and more - for more than 150 million U.S. properties.</em></p></div><div style=\"padding: 5px;\"><table><tr><th> </th><th>post_code</th><th>street</th><th>country</th><th>city</th><th>state</th></tr><tr><td>Option 1</td><td><span style=\"font-size: 20px;\">☒</span></td><td><span style=\"font-size: 20px;\">☒</span></td><td><span style=\"font-size: 20px;\">☒</span></td><td><span style=\"font-size: 20px;\">☒</span></td><td><span style=\"font-size: 20px;\">☒</span></td></tr></table></div></div></div>"
      ],
      "text/plain": [
       "<IPython.core.display.HTML object>"
      ]
     },
     "execution_count": 450,
     "metadata": {},
     "output_type": "execute_result"
    }
   ],
   "source": [
    "analytics.search(df_copy)\n"
   ]
  },
  {
   "cell_type": "markdown",
   "metadata": {},
   "source": [
    "Now all the data matches!\n",
    "It's time to perform enrichment and downloading"
   ]
  },
  {
   "cell_type": "code",
   "execution_count": 503,
   "metadata": {},
   "outputs": [
    {
     "data": {
      "text/html": [
       "<table><tr><th>Column</th><th>Status</th><th>Description</th></tr><tr><th><a href=\"https://demyst.com/docs/demyst-live/types/#street\" target=\"_blank\">street</a></th><td style=\"background-color: lightgreen\"><nobr>All Valid</nobr></td><td style=\"text-align: left\">All values in this column are good to go.</td></tr><tr><th><a href=\"https://demyst.com/docs/demyst-live/types/#state\" target=\"_blank\">state</a></th><td style=\"background-color: lightgreen\"><nobr>All Valid</nobr></td><td style=\"text-align: left\">All values in this column are good to go.</td></tr><tr><th><a href=\"https://demyst.com/docs/demyst-live/types/#city\" target=\"_blank\">city</a></th><td style=\"background-color: lightgreen\"><nobr>All Valid</nobr></td><td style=\"text-align: left\">All values in this column are good to go.</td></tr><tr><th><a href=\"https://demyst.com/docs/demyst-live/types/#post_code\" target=\"_blank\">post_code</a></th><td style=\"background-color: lightgreen\"><nobr>All Valid</nobr></td><td style=\"text-align: left\">All values in this column are good to go.</td></tr><tr><th>safety_flag</th><td style=\"background-color: lightpink\"><nobr>Unrecognized Column Name</nobr></td><td style=\"text-align: left\">This column name is not supported. <a href=\"https://demyst.com/docs/demyst-live/types/\" target=\"_blank\">Click here for a list of all supported column names.</a></td></tr><tr><th><a href=\"https://demyst.com/docs/demyst-live/types/#country\" target=\"_blank\">country</a></th><td style=\"background-color: lightgreen\"><nobr>All Valid</nobr></td><td style=\"text-align: left\">All values in this column are good to go.</td></tr></table>"
      ],
      "text/plain": [
       "<demyst.analytics.analytics.Validation at 0x1765713c8>"
      ]
     },
     "execution_count": 503,
     "metadata": {},
     "output_type": "execute_result"
    }
   ],
   "source": [
    "analytics.validate(df_copy)"
   ]
  },
  {
   "cell_type": "code",
   "execution_count": 47,
   "metadata": {},
   "outputs": [
    {
     "name": "stdout",
     "output_type": "stream",
     "text": [
      "Verifying providers...\n",
      "Starting enrichment...\n",
      "Enrich Job ID: 13191\n"
     ]
    },
    {
     "data": {
      "application/vnd.jupyter.widget-view+json": {
       "model_id": "955e50949c524a3f96ec037c3b931d54",
       "version_major": 2,
       "version_minor": 0
      },
      "text/plain": [
       "IntProgress(value=1, max=2)"
      ]
     },
     "metadata": {},
     "output_type": "display_data"
    },
    {
     "data": {
      "application/vnd.jupyter.widget-view+json": {
       "model_id": "70f4215a629c45fe96b29c0278dda06d",
       "version_major": 2,
       "version_minor": 0
      },
      "text/plain": [
       "HTML(value='Checking status...')"
      ]
     },
     "metadata": {},
     "output_type": "display_data"
    }
   ],
   "source": [
    "# check if enriched data already exists \n",
    "if not os.path.isfile('enriched_dataframe_attom.csv'):\n",
    "    results = analytics.enrich_and_download([\"attom_expanded_profile_report\"], df_copy, validate=True)\n",
    "    results.to_csv('enriched_dataframe_attom.csv', index=False)\n"
   ]
  },
  {
   "cell_type": "markdown",
   "metadata": {},
   "source": [
    "The output of the below cell shows that we've obtained four new columns appended to our original data"
   ]
  },
  {
   "cell_type": "code",
   "execution_count": 451,
   "metadata": {},
   "outputs": [
    {
     "data": {
      "text/html": [
       "<div>\n",
       "<style scoped>\n",
       "    .dataframe tbody tr th:only-of-type {\n",
       "        vertical-align: middle;\n",
       "    }\n",
       "\n",
       "    .dataframe tbody tr th {\n",
       "        vertical-align: top;\n",
       "    }\n",
       "\n",
       "    .dataframe thead th {\n",
       "        text-align: right;\n",
       "    }\n",
       "</style>\n",
       "<table border=\"1\" class=\"dataframe\">\n",
       "  <thead>\n",
       "    <tr style=\"text-align: right;\">\n",
       "      <th></th>\n",
       "      <th>inputs.city</th>\n",
       "      <th>inputs.country</th>\n",
       "      <th>inputs.post_code</th>\n",
       "      <th>inputs.safety_flag</th>\n",
       "      <th>inputs.state</th>\n",
       "      <th>inputs.street</th>\n",
       "      <th>attom_expanded_profile_report.row_id</th>\n",
       "      <th>attom_expanded_profile_report.client_id</th>\n",
       "      <th>attom_expanded_profile_report.attom_id</th>\n",
       "      <th>attom_expanded_profile_report.error</th>\n",
       "    </tr>\n",
       "  </thead>\n",
       "  <tbody>\n",
       "    <tr>\n",
       "      <th>0</th>\n",
       "      <td>Lakeland</td>\n",
       "      <td>USA</td>\n",
       "      <td>33812</td>\n",
       "      <td>False</td>\n",
       "      <td>FL</td>\n",
       "      <td>3160 Otto Dr</td>\n",
       "      <td>0</td>\n",
       "      <td>NaN</td>\n",
       "      <td>162278089.0</td>\n",
       "      <td>NaN</td>\n",
       "    </tr>\n",
       "    <tr>\n",
       "      <th>1</th>\n",
       "      <td>Indianapolis</td>\n",
       "      <td>USA</td>\n",
       "      <td>46227</td>\n",
       "      <td>False</td>\n",
       "      <td>IN</td>\n",
       "      <td>940 Tulip Dr</td>\n",
       "      <td>1</td>\n",
       "      <td>NaN</td>\n",
       "      <td>28461481.0</td>\n",
       "      <td>NaN</td>\n",
       "    </tr>\n",
       "    <tr>\n",
       "      <th>2</th>\n",
       "      <td>Troutville</td>\n",
       "      <td>USA</td>\n",
       "      <td>24175</td>\n",
       "      <td>False</td>\n",
       "      <td>VA</td>\n",
       "      <td>68 Rocky Top Rd</td>\n",
       "      <td>2</td>\n",
       "      <td>NaN</td>\n",
       "      <td>214628965.0</td>\n",
       "      <td>NaN</td>\n",
       "    </tr>\n",
       "  </tbody>\n",
       "</table>\n",
       "</div>"
      ],
      "text/plain": [
       "    inputs.city inputs.country  inputs.post_code  inputs.safety_flag  \\\n",
       "0      Lakeland            USA             33812               False   \n",
       "1  Indianapolis            USA             46227               False   \n",
       "2    Troutville            USA             24175               False   \n",
       "\n",
       "  inputs.state    inputs.street  attom_expanded_profile_report.row_id  \\\n",
       "0           FL     3160 Otto Dr                                     0   \n",
       "1           IN     940 Tulip Dr                                     1   \n",
       "2           VA  68 Rocky Top Rd                                     2   \n",
       "\n",
       "   attom_expanded_profile_report.client_id  \\\n",
       "0                                      NaN   \n",
       "1                                      NaN   \n",
       "2                                      NaN   \n",
       "\n",
       "   attom_expanded_profile_report.attom_id  attom_expanded_profile_report.error  \n",
       "0                             162278089.0                                  NaN  \n",
       "1                              28461481.0                                  NaN  \n",
       "2                             214628965.0                                  NaN  "
      ]
     },
     "execution_count": 451,
     "metadata": {},
     "output_type": "execute_result"
    }
   ],
   "source": [
    "# after reading in the enriched data from a csv, we need to drop useless columns like 'Unnamed: 0'\n",
    "results = pd.read_csv('enriched_dataframe_attom.csv')\n",
    "results.drop(results.filter(regex=\"Unname|index\"),axis=1, inplace=True)\n",
    "results.head(3)"
   ]
  },
  {
   "cell_type": "code",
   "execution_count": 452,
   "metadata": {},
   "outputs": [
    {
     "data": {
      "text/plain": [
       "(11198, 10)"
      ]
     },
     "execution_count": 452,
     "metadata": {},
     "output_type": "execute_result"
    }
   ],
   "source": [
    "results.shape"
   ]
  },
  {
   "cell_type": "code",
   "execution_count": 169,
   "metadata": {},
   "outputs": [
    {
     "data": {
      "text/html": [
       "<div>\n",
       "<style scoped>\n",
       "    .dataframe tbody tr th:only-of-type {\n",
       "        vertical-align: middle;\n",
       "    }\n",
       "\n",
       "    .dataframe tbody tr th {\n",
       "        vertical-align: top;\n",
       "    }\n",
       "\n",
       "    .dataframe thead th {\n",
       "        text-align: right;\n",
       "    }\n",
       "</style>\n",
       "<table border=\"1\" class=\"dataframe\">\n",
       "  <thead>\n",
       "    <tr style=\"text-align: right;\">\n",
       "      <th></th>\n",
       "      <th>street</th>\n",
       "      <th>state</th>\n",
       "      <th>city</th>\n",
       "      <th>post_code</th>\n",
       "      <th>safety_flag</th>\n",
       "      <th>country</th>\n",
       "    </tr>\n",
       "  </thead>\n",
       "  <tbody>\n",
       "    <tr>\n",
       "      <th>0</th>\n",
       "      <td>3160 Otto Dr</td>\n",
       "      <td>FL</td>\n",
       "      <td>Lakeland</td>\n",
       "      <td>33812</td>\n",
       "      <td>False</td>\n",
       "      <td>US</td>\n",
       "    </tr>\n",
       "    <tr>\n",
       "      <th>1</th>\n",
       "      <td>940 Tulip Dr</td>\n",
       "      <td>IN</td>\n",
       "      <td>Indianapolis</td>\n",
       "      <td>46227</td>\n",
       "      <td>False</td>\n",
       "      <td>US</td>\n",
       "    </tr>\n",
       "    <tr>\n",
       "      <th>2</th>\n",
       "      <td>68 Rocky Top Rd</td>\n",
       "      <td>VA</td>\n",
       "      <td>Troutville</td>\n",
       "      <td>24175</td>\n",
       "      <td>False</td>\n",
       "      <td>US</td>\n",
       "    </tr>\n",
       "    <tr>\n",
       "      <th>3</th>\n",
       "      <td>3330 Taylor Blair Rd</td>\n",
       "      <td>OH</td>\n",
       "      <td>West Jefferson</td>\n",
       "      <td>43162</td>\n",
       "      <td>False</td>\n",
       "      <td>US</td>\n",
       "    </tr>\n",
       "    <tr>\n",
       "      <th>4</th>\n",
       "      <td>4254 Eagle Landing Parkway</td>\n",
       "      <td>FL</td>\n",
       "      <td>Orange Park</td>\n",
       "      <td>32065</td>\n",
       "      <td>False</td>\n",
       "      <td>US</td>\n",
       "    </tr>\n",
       "  </tbody>\n",
       "</table>\n",
       "</div>"
      ],
      "text/plain": [
       "                       street state            city post_code  safety_flag  \\\n",
       "0                3160 Otto Dr    FL        Lakeland     33812        False   \n",
       "1                940 Tulip Dr    IN    Indianapolis     46227        False   \n",
       "2             68 Rocky Top Rd    VA      Troutville     24175        False   \n",
       "3        3330 Taylor Blair Rd    OH  West Jefferson     43162        False   \n",
       "4  4254 Eagle Landing Parkway    FL     Orange Park     32065        False   \n",
       "\n",
       "  country  \n",
       "0      US  \n",
       "1      US  \n",
       "2      US  \n",
       "3      US  \n",
       "4      US  "
      ]
     },
     "metadata": {},
     "output_type": "display_data"
    },
    {
     "data": {
      "text/html": [
       "<div>\n",
       "<style scoped>\n",
       "    .dataframe tbody tr th:only-of-type {\n",
       "        vertical-align: middle;\n",
       "    }\n",
       "\n",
       "    .dataframe tbody tr th {\n",
       "        vertical-align: top;\n",
       "    }\n",
       "\n",
       "    .dataframe thead th {\n",
       "        text-align: right;\n",
       "    }\n",
       "</style>\n",
       "<table border=\"1\" class=\"dataframe\">\n",
       "  <thead>\n",
       "    <tr style=\"text-align: right;\">\n",
       "      <th></th>\n",
       "      <th>inputs.city</th>\n",
       "      <th>inputs.country</th>\n",
       "      <th>inputs.post_code</th>\n",
       "      <th>inputs.safety_flag</th>\n",
       "      <th>inputs.state</th>\n",
       "      <th>inputs.street</th>\n",
       "      <th>attom_expanded_profile_report.row_id</th>\n",
       "      <th>attom_expanded_profile_report.client_id</th>\n",
       "      <th>attom_expanded_profile_report.attom_id</th>\n",
       "      <th>attom_expanded_profile_report.error</th>\n",
       "    </tr>\n",
       "  </thead>\n",
       "  <tbody>\n",
       "    <tr>\n",
       "      <th>0</th>\n",
       "      <td>Lakeland</td>\n",
       "      <td>USA</td>\n",
       "      <td>33812</td>\n",
       "      <td>False</td>\n",
       "      <td>FL</td>\n",
       "      <td>3160 Otto Dr</td>\n",
       "      <td>0</td>\n",
       "      <td>NaN</td>\n",
       "      <td>162278089.0</td>\n",
       "      <td>NaN</td>\n",
       "    </tr>\n",
       "    <tr>\n",
       "      <th>1</th>\n",
       "      <td>Indianapolis</td>\n",
       "      <td>USA</td>\n",
       "      <td>46227</td>\n",
       "      <td>False</td>\n",
       "      <td>IN</td>\n",
       "      <td>940 Tulip Dr</td>\n",
       "      <td>1</td>\n",
       "      <td>NaN</td>\n",
       "      <td>28461481.0</td>\n",
       "      <td>NaN</td>\n",
       "    </tr>\n",
       "    <tr>\n",
       "      <th>2</th>\n",
       "      <td>Troutville</td>\n",
       "      <td>USA</td>\n",
       "      <td>24175</td>\n",
       "      <td>False</td>\n",
       "      <td>VA</td>\n",
       "      <td>68 Rocky Top Rd</td>\n",
       "      <td>2</td>\n",
       "      <td>NaN</td>\n",
       "      <td>214628965.0</td>\n",
       "      <td>NaN</td>\n",
       "    </tr>\n",
       "    <tr>\n",
       "      <th>3</th>\n",
       "      <td>West Jefferson</td>\n",
       "      <td>USA</td>\n",
       "      <td>43162</td>\n",
       "      <td>False</td>\n",
       "      <td>OH</td>\n",
       "      <td>3330 Taylor Blair Rd</td>\n",
       "      <td>3</td>\n",
       "      <td>NaN</td>\n",
       "      <td>246515148.0</td>\n",
       "      <td>NaN</td>\n",
       "    </tr>\n",
       "    <tr>\n",
       "      <th>4</th>\n",
       "      <td>Orange Park</td>\n",
       "      <td>USA</td>\n",
       "      <td>32065</td>\n",
       "      <td>False</td>\n",
       "      <td>FL</td>\n",
       "      <td>4254 Eagle Landing Parkway</td>\n",
       "      <td>4</td>\n",
       "      <td>NaN</td>\n",
       "      <td>164680663.0</td>\n",
       "      <td>NaN</td>\n",
       "    </tr>\n",
       "  </tbody>\n",
       "</table>\n",
       "</div>"
      ],
      "text/plain": [
       "      inputs.city inputs.country  inputs.post_code  inputs.safety_flag  \\\n",
       "0        Lakeland            USA             33812               False   \n",
       "1    Indianapolis            USA             46227               False   \n",
       "2      Troutville            USA             24175               False   \n",
       "3  West Jefferson            USA             43162               False   \n",
       "4     Orange Park            USA             32065               False   \n",
       "\n",
       "  inputs.state               inputs.street  \\\n",
       "0           FL                3160 Otto Dr   \n",
       "1           IN                940 Tulip Dr   \n",
       "2           VA             68 Rocky Top Rd   \n",
       "3           OH        3330 Taylor Blair Rd   \n",
       "4           FL  4254 Eagle Landing Parkway   \n",
       "\n",
       "   attom_expanded_profile_report.row_id  \\\n",
       "0                                     0   \n",
       "1                                     1   \n",
       "2                                     2   \n",
       "3                                     3   \n",
       "4                                     4   \n",
       "\n",
       "   attom_expanded_profile_report.client_id  \\\n",
       "0                                      NaN   \n",
       "1                                      NaN   \n",
       "2                                      NaN   \n",
       "3                                      NaN   \n",
       "4                                      NaN   \n",
       "\n",
       "   attom_expanded_profile_report.attom_id  attom_expanded_profile_report.error  \n",
       "0                             162278089.0                                  NaN  \n",
       "1                              28461481.0                                  NaN  \n",
       "2                             214628965.0                                  NaN  \n",
       "3                             246515148.0                                  NaN  \n",
       "4                             164680663.0                                  NaN  "
      ]
     },
     "metadata": {},
     "output_type": "display_data"
    },
    {
     "data": {
      "text/plain": [
       "(11198, 6)"
      ]
     },
     "metadata": {},
     "output_type": "display_data"
    },
    {
     "data": {
      "text/plain": [
       "(11198, 10)"
      ]
     },
     "metadata": {},
     "output_type": "display_data"
    }
   ],
   "source": [
    "from IPython.display import display\n",
    "display(df_copy.head(5))\n",
    "display(results.head(5))\n",
    "display(df_copy.shape)\n",
    "display(results.shape)"
   ]
  },
  {
   "cell_type": "markdown",
   "metadata": {},
   "source": [
    "Let's save the results to csv for future use..."
   ]
  },
  {
   "cell_type": "markdown",
   "metadata": {},
   "source": [
    "Let's do some analysis on the new data to see if there is any cleaning required."
   ]
  },
  {
   "cell_type": "code",
   "execution_count": 453,
   "metadata": {},
   "outputs": [
    {
     "data": {
      "text/plain": [
       "'100013224.0'"
      ]
     },
     "metadata": {},
     "output_type": "display_data"
    },
    {
     "data": {
      "text/plain": [
       "'nan'"
      ]
     },
     "metadata": {},
     "output_type": "display_data"
    },
    {
     "data": {
      "text/plain": [
       "str"
      ]
     },
     "metadata": {},
     "output_type": "display_data"
    }
   ],
   "source": [
    "results['attom_expanded_profile_report.attom_id'] = results['attom_expanded_profile_report.attom_id'].astype(str)\n",
    "display(results['attom_expanded_profile_report.attom_id'].min())\n",
    "display(results['attom_expanded_profile_report.attom_id'].max())\n",
    "display(type(results['attom_expanded_profile_report.attom_id'].iloc[0]))"
   ]
  },
  {
   "cell_type": "markdown",
   "metadata": {},
   "source": [
    "Let's find the indices of the empty values"
   ]
  },
  {
   "cell_type": "code",
   "execution_count": 454,
   "metadata": {},
   "outputs": [],
   "source": [
    "empty_res_idxs = results['attom_expanded_profile_report.attom_id'][results['attom_expanded_profile_report.attom_id'].isin(['nan'])].index"
   ]
  },
  {
   "cell_type": "code",
   "execution_count": 455,
   "metadata": {},
   "outputs": [
    {
     "data": {
      "text/plain": [
       "Int64Index([   15,    25,    32,    35,    46,    69,    76,    78,    82,\n",
       "               87,\n",
       "            ...\n",
       "            11169, 11171, 11173, 11178, 11180, 11184, 11186, 11187, 11190,\n",
       "            11195],\n",
       "           dtype='int64', length=2294)"
      ]
     },
     "execution_count": 455,
     "metadata": {},
     "output_type": "execute_result"
    }
   ],
   "source": [
    "empty_res_idxs"
   ]
  },
  {
   "cell_type": "markdown",
   "metadata": {},
   "source": [
    "Let's replace those empty atom ids with 'nans'"
   ]
  },
  {
   "cell_type": "code",
   "execution_count": 456,
   "metadata": {},
   "outputs": [],
   "source": [
    "results['attom_expanded_profile_report.attom_id'].iloc[empty_res_idxs] = results['attom_expanded_profile_report.attom_id'].iloc[empty_res_idxs].replace('', np.nan)"
   ]
  },
  {
   "cell_type": "markdown",
   "metadata": {},
   "source": [
    "Now we have to drop 2294 of these records with empty atom ids"
   ]
  },
  {
   "cell_type": "code",
   "execution_count": 457,
   "metadata": {},
   "outputs": [
    {
     "data": {
      "text/plain": [
       "nan            2294\n",
       "155661423.0       4\n",
       "206014472.0       3\n",
       "157625010.0       3\n",
       "168314141.0       2\n",
       "155978117.0       2\n",
       "155999620.0       2\n",
       "157172850.0       2\n",
       "200973617.0       2\n",
       "224674708.0       2\n",
       "216044453.0       2\n",
       "206551040.0       2\n",
       "169559254.0       2\n",
       "168655763.0       2\n",
       "46343898.0        2\n",
       "162850659.0       2\n",
       "51309196.0        2\n",
       "45608305.0        2\n",
       "170838616.0       2\n",
       "151113878.0       2\n",
       "156777902.0       2\n",
       "223390422.0       2\n",
       "205710214.0       2\n",
       "169176504.0       2\n",
       "169180531.0       2\n",
       "156158432.0       2\n",
       "31236220.0        2\n",
       "156346735.0       2\n",
       "243763327.0       2\n",
       "227579808.0       2\n",
       "               ... \n",
       "23260640.0        1\n",
       "209460331.0       1\n",
       "20154871.0        1\n",
       "49454559.0        1\n",
       "34455770.0        1\n",
       "45945459.0        1\n",
       "159161898.0       1\n",
       "168052774.0       1\n",
       "154396676.0       1\n",
       "169548732.0       1\n",
       "191090737.0       1\n",
       "46698444.0        1\n",
       "17158735.0        1\n",
       "187561483.0       1\n",
       "196178513.0       1\n",
       "193253751.0       1\n",
       "41618418.0        1\n",
       "195815116.0       1\n",
       "54427789.0        1\n",
       "217749145.0       1\n",
       "168183335.0       1\n",
       "215663244.0       1\n",
       "37553553.0        1\n",
       "50329236.0        1\n",
       "20544342.0        1\n",
       "164983989.0       1\n",
       "169817631.0       1\n",
       "52894503.0        1\n",
       "14614532.0        1\n",
       "189044221.0       1\n",
       "Name: attom_expanded_profile_report.attom_id, Length: 8853, dtype: int64"
      ]
     },
     "execution_count": 457,
     "metadata": {},
     "output_type": "execute_result"
    }
   ],
   "source": [
    "results['attom_expanded_profile_report.attom_id'].value_counts()"
   ]
  },
  {
   "cell_type": "code",
   "execution_count": 458,
   "metadata": {},
   "outputs": [
    {
     "data": {
      "text/plain": [
       "(11198, 10)"
      ]
     },
     "metadata": {},
     "output_type": "display_data"
    },
    {
     "data": {
      "text/plain": [
       "(8904, 8)"
      ]
     },
     "metadata": {},
     "output_type": "display_data"
    },
    {
     "data": {
      "text/plain": [
       "(8904, 8)"
      ]
     },
     "metadata": {},
     "output_type": "display_data"
    },
    {
     "data": {
      "text/plain": [
       "(8904, 7)"
      ]
     },
     "metadata": {},
     "output_type": "display_data"
    }
   ],
   "source": [
    "# after reading in the enriched data from a csv, we need to drop useless columns like 'Unnamed: 0'\n",
    "results = pd.read_csv('enriched_dataframe_attom.csv')\n",
    "results.drop(results.filter(regex=\"Unname|index\"),axis=1, inplace=True)\n",
    "display(results.shape)\n",
    "results.dropna(how='all', axis=1, inplace=True) # get rid nans present of cols\n",
    "results.dropna(inplace=True, axis=0) # get nans present in of rows\n",
    "display(results.shape)\n",
    "results.drop_duplicates(inplace=True) # drop duplicate rows\n",
    "display(results.shape)\n",
    "# drop row_id (not useful) and 'Unnamed :0' - this is an index \n",
    "results.drop(columns=['attom_expanded_profile_report.row_id'], inplace=True)\n",
    "display(results.shape)"
   ]
  },
  {
   "cell_type": "code",
   "execution_count": 460,
   "metadata": {},
   "outputs": [
    {
     "data": {
      "text/html": [
       "<div>\n",
       "<style scoped>\n",
       "    .dataframe tbody tr th:only-of-type {\n",
       "        vertical-align: middle;\n",
       "    }\n",
       "\n",
       "    .dataframe tbody tr th {\n",
       "        vertical-align: top;\n",
       "    }\n",
       "\n",
       "    .dataframe thead th {\n",
       "        text-align: right;\n",
       "    }\n",
       "</style>\n",
       "<table border=\"1\" class=\"dataframe\">\n",
       "  <thead>\n",
       "    <tr style=\"text-align: right;\">\n",
       "      <th></th>\n",
       "      <th>inputs.city</th>\n",
       "      <th>inputs.country</th>\n",
       "      <th>inputs.post_code</th>\n",
       "      <th>inputs.safety_flag</th>\n",
       "      <th>inputs.state</th>\n",
       "      <th>inputs.street</th>\n",
       "      <th>attom_expanded_profile_report.attom_id</th>\n",
       "    </tr>\n",
       "  </thead>\n",
       "  <tbody>\n",
       "    <tr>\n",
       "      <th>0</th>\n",
       "      <td>Lakeland</td>\n",
       "      <td>USA</td>\n",
       "      <td>33812</td>\n",
       "      <td>False</td>\n",
       "      <td>FL</td>\n",
       "      <td>3160 Otto Dr</td>\n",
       "      <td>162278089.0</td>\n",
       "    </tr>\n",
       "    <tr>\n",
       "      <th>1</th>\n",
       "      <td>Indianapolis</td>\n",
       "      <td>USA</td>\n",
       "      <td>46227</td>\n",
       "      <td>False</td>\n",
       "      <td>IN</td>\n",
       "      <td>940 Tulip Dr</td>\n",
       "      <td>28461481.0</td>\n",
       "    </tr>\n",
       "    <tr>\n",
       "      <th>2</th>\n",
       "      <td>Troutville</td>\n",
       "      <td>USA</td>\n",
       "      <td>24175</td>\n",
       "      <td>False</td>\n",
       "      <td>VA</td>\n",
       "      <td>68 Rocky Top Rd</td>\n",
       "      <td>214628965.0</td>\n",
       "    </tr>\n",
       "  </tbody>\n",
       "</table>\n",
       "</div>"
      ],
      "text/plain": [
       "    inputs.city inputs.country  inputs.post_code  inputs.safety_flag  \\\n",
       "0      Lakeland            USA             33812               False   \n",
       "1  Indianapolis            USA             46227               False   \n",
       "2    Troutville            USA             24175               False   \n",
       "\n",
       "  inputs.state    inputs.street  attom_expanded_profile_report.attom_id  \n",
       "0           FL     3160 Otto Dr                             162278089.0  \n",
       "1           IN     940 Tulip Dr                              28461481.0  \n",
       "2           VA  68 Rocky Top Rd                             214628965.0  "
      ]
     },
     "execution_count": 460,
     "metadata": {},
     "output_type": "execute_result"
    }
   ],
   "source": [
    "results.head(3)"
   ]
  },
  {
   "cell_type": "markdown",
   "metadata": {},
   "source": [
    "We need to remove the 'inputs' beginning of each column as there are no matches currently..."
   ]
  },
  {
   "cell_type": "code",
   "execution_count": 461,
   "metadata": {},
   "outputs": [],
   "source": [
    "results.columns = results.columns.str.replace('inputs.', '').str.replace('attom_expanded_profile_report.', '')\n",
    "results['country'] = 'US'"
   ]
  },
  {
   "cell_type": "code",
   "execution_count": 462,
   "metadata": {},
   "outputs": [
    {
     "data": {
      "text/html": [
       "<table><tr><th>Column</th><th>Status</th><th>Description</th></tr><tr><th><a href=\"https://demyst.com/docs/demyst-live/types/#city\" target=\"_blank\">city</a></th><td style=\"background-color: lightgreen\"><nobr>All Valid</nobr></td><td style=\"text-align: left\">All values in this column are good to go.</td></tr><tr><th><a href=\"https://demyst.com/docs/demyst-live/types/#country\" target=\"_blank\">country</a></th><td style=\"background-color: lightgreen\"><nobr>All Valid</nobr></td><td style=\"text-align: left\">All values in this column are good to go.</td></tr><tr><th>post_code</th><td style=\"background-color: lightpink\"><nobr>Not a String Column</nobr></td><td style=\"text-align: left\">You must convert this column to string type.</td></tr><tr><th>safety_flag</th><td style=\"background-color: lightpink\"><nobr>Unrecognized Column Name</nobr></td><td style=\"text-align: left\">This column name is not supported. <a href=\"https://demyst.com/docs/demyst-live/types/\" target=\"_blank\">Click here for a list of all supported column names.</a></td></tr><tr><th><a href=\"https://demyst.com/docs/demyst-live/types/#state\" target=\"_blank\">state</a></th><td style=\"background-color: lightgreen\"><nobr>All Valid</nobr></td><td style=\"text-align: left\">All values in this column are good to go.</td></tr><tr><th><a href=\"https://demyst.com/docs/demyst-live/types/#street\" target=\"_blank\">street</a></th><td style=\"background-color: lightgreen\"><nobr>All Valid</nobr></td><td style=\"text-align: left\">All values in this column are good to go.</td></tr><tr><th>attom_id</th><td style=\"background-color: lightpink\"><nobr>Not a String Column</nobr></td><td style=\"text-align: left\">You must convert this column to string type.</td></tr></table>"
      ],
      "text/plain": [
       "<demyst.analytics.analytics.Validation at 0x168b90588>"
      ]
     },
     "execution_count": 462,
     "metadata": {},
     "output_type": "execute_result"
    }
   ],
   "source": [
    "analytics.validate(results)"
   ]
  },
  {
   "cell_type": "code",
   "execution_count": 465,
   "metadata": {},
   "outputs": [],
   "source": [
    "results1 = results.copy()\n",
    "results['post_code'] = results['post_code'].astype('str')\n",
    "results['attom_id'] = results['attom_id'].astype('str')\n"
   ]
  },
  {
   "cell_type": "code",
   "execution_count": 466,
   "metadata": {},
   "outputs": [
    {
     "data": {
      "text/html": [
       "<div style=\"\"><div style=\"pading:10px;\"><div style=\"padding:5px\"><h1><img height=\"30\" width=\"30\" src=\"https://console.demystdata.com/assets/attom-018667395fd6d2e395ec7079d09434844d7ef98d02dac7c32e8bcb6c326145f1.svg\" style=\"display:inline-block\" /> Attom</h1><pre style=\"\">attom_expanded_profile_report</pre><p><em>Retrieve Attom's internal reference ID for a property in order to search public property records including real estate data: sale, ownership, tax, and more - for more than 150 million U.S. properties.</em></p></div><div style=\"padding: 5px;\"><table><tr><th> </th><th>post_code</th><th>street</th><th>country</th><th>city</th><th>state</th></tr><tr><td>Option 1</td><td><span style=\"font-size: 20px;\">☒</span></td><td><span style=\"font-size: 20px;\">☒</span></td><td><span style=\"font-size: 20px;\">☒</span></td><td><span style=\"font-size: 20px;\">☒</span></td><td><span style=\"font-size: 20px;\">☒</span></td></tr></table></div></div></div><div style=\"\"><div style=\"pading:10px;\"><div style=\"padding:5px\"><h1><img height=\"30\" width=\"30\" src=\"https://console.demystdata.com/assets/attom-018667395fd6d2e395ec7079d09434844d7ef98d02dac7c32e8bcb6c326145f1.svg\" style=\"display:inline-block\" /> Attom</h1><pre style=\"\">attom_tax_assessor</pre><p><em>Attom Tax Assessor provides publicly available information collected by county tax assessor offices.  Attom is a database that contains public property records including real estate data (sale, ownership, tax, and more) for more than 150 million U.S. properties. All the data Attom collects is publicly recorded.\r\n",
       "</em></p></div><div style=\"padding: 5px;\"><table><tr><th> </th><th>propertyaddressstate</th><th>unit_count_high</th><th>unit_count_low</th><th>unit_count_comparison_operator</th><th>unit_count</th><th>attom_id</th></tr><tr><td>Option 1</td><td><span style=\"font-size: 20px;\"> </span></td><td><span style=\"font-size: 20px;\"> </span></td><td><span style=\"font-size: 20px;\"> </span></td><td><span style=\"font-size: 20px;\"> </span></td><td><span style=\"font-size: 20px;\"> </span></td><td><span style=\"font-size: 20px;\">☒</span></td></tr><tr><td>Option 2</td><td><span style=\"font-size: 20px;\">☐</span></td><td><span style=\"font-size: 20px;\">☐</span></td><td><span style=\"font-size: 20px;\">☐</span></td><td><span style=\"font-size: 20px;\"> </span></td><td><span style=\"font-size: 20px;\"> </span></td><td><span style=\"font-size: 20px;\"> </span></td></tr><tr><td>Option 3</td><td><span style=\"font-size: 20px;\">☐</span></td><td><span style=\"font-size: 20px;\"> </span></td><td><span style=\"font-size: 20px;\"> </span></td><td><span style=\"font-size: 20px;\">☐</span></td><td><span style=\"font-size: 20px;\">☐</span></td><td><span style=\"font-size: 20px;\"> </span></td></tr></table></div></div></div><div style=\"\"><div style=\"pading:10px;\"><div style=\"padding:5px\"><h1><img height=\"30\" width=\"30\" src=\"https://console.demystdata.com/assets/attom-018667395fd6d2e395ec7079d09434844d7ef98d02dac7c32e8bcb6c326145f1.svg\" style=\"display:inline-block\" /> Attom</h1><pre style=\"\">attom_recorder</pre><p><em>Attom Recorder provides recorder and deed information on properties including real-estate transactions involving properties throughout the United States.  This data set contains primarily residential properties within the US.  ATTOM blends property tax, deed, mortgage, foreclosure, environmental risk, natural hazard and neighborhood data for more than 155 million U.S. residential and commercial properties multi-sourced from more than 3,000 U.S. counties.\r\n",
       "</em></p></div><div style=\"padding: 5px;\"><table><tr><th> </th><th>attom_id</th><th>transactionid</th></tr><tr><td>Option 1</td><td><span style=\"font-size: 20px;\"> </span></td><td><span style=\"font-size: 20px;\">☐</span></td></tr><tr><td>Option 2</td><td><span style=\"font-size: 20px;\">☒</span></td><td><span style=\"font-size: 20px;\"> </span></td></tr></table></div></div></div><div style=\"\"><div style=\"pading:10px;\"><div style=\"padding:5px\"><h1><img height=\"30\" width=\"30\" src=\"https://console.demystdata.com/assets/attom-018667395fd6d2e395ec7079d09434844d7ef98d02dac7c32e8bcb6c326145f1.svg\" style=\"display:inline-block\" /> Attom</h1><pre style=\"\">attom_pre_foreclosure</pre><p><em>Attom Pre-Foreclosure provides pre-forclosure notices and relevant property data. This data set contains primarily residential properties within the US.  ATTOM blends property tax, deed, mortgage, foreclosure, environmental risk, natural hazard and neighborhood data for more than 155 million U.S. residential and commercial properties multi-sourced from more than 3,000 U.S. counties.\r\n",
       "</em></p></div><div style=\"padding: 5px;\"><table><tr><th> </th><th>attom_id</th><th>transactionid</th></tr><tr><td>Option 1</td><td><span style=\"font-size: 20px;\"> </span></td><td><span style=\"font-size: 20px;\">☐</span></td></tr><tr><td>Option 2</td><td><span style=\"font-size: 20px;\">☒</span></td><td><span style=\"font-size: 20px;\"> </span></td></tr></table></div></div></div><div style=\"\"><div style=\"pading:10px;\"><div style=\"padding:5px\"><h1><img height=\"30\" width=\"30\" src=\"https://console.demystdata.com/assets/attom-018667395fd6d2e395ec7079d09434844d7ef98d02dac7c32e8bcb6c326145f1.svg\" style=\"display:inline-block\" /> Attom</h1><pre style=\"\">attom_avm</pre><p><em>Attom Commerical AVM (automated valuation model) Value is a statistical calculation model to estimate the current value of a property.  This data set contains primarily residential properties within the US.  ATTOM blends property tax, deed, mortgage, foreclosure, environmental risk, natural hazard and neighborhood data for more than 155 million U.S. residential and commercial properties multi-sourced from more than 3,000 U.S. counties.</em></p></div><div style=\"padding: 5px;\"><table><tr><th> </th><th>attom_id</th></tr><tr><td>Option 1</td><td><span style=\"font-size: 20px;\">☒</span></td></tr></table></div></div></div><div style=\"\"><div style=\"pading:10px;\"><div style=\"padding:5px\"><h1><img height=\"30\" width=\"30\" src=\"https://console.demystdata.com/assets/attom-018667395fd6d2e395ec7079d09434844d7ef98d02dac7c32e8bcb6c326145f1.svg\" style=\"display:inline-block\" /> Attom</h1><pre style=\"\">attom_commercial_tax_assessor</pre><p><em>Attom Commerical Tax Assessor Data provides publicly available information collected by county tax assessor offices including property details and ownership information.  This data set contains primarily commercial properties within the US.  ATTOM blends property tax, deed, mortgage, foreclosure, environmental risk, natural hazard and neighborhood data for more than 155 million U.S. residential and commercial properties multi-sourced from more than 3,000 U.S. counties.</em></p></div><div style=\"padding: 5px;\"><table><tr><th> </th><th>propertyaddressstate</th><th>unit_count_high</th><th>unit_count_low</th><th>unit_count_comparison_operator</th><th>unit_count</th><th>attom_id</th></tr><tr><td>Option 1</td><td><span style=\"font-size: 20px;\"> </span></td><td><span style=\"font-size: 20px;\"> </span></td><td><span style=\"font-size: 20px;\"> </span></td><td><span style=\"font-size: 20px;\"> </span></td><td><span style=\"font-size: 20px;\"> </span></td><td><span style=\"font-size: 20px;\">☒</span></td></tr><tr><td>Option 2</td><td><span style=\"font-size: 20px;\">☐</span></td><td><span style=\"font-size: 20px;\">☐</span></td><td><span style=\"font-size: 20px;\">☐</span></td><td><span style=\"font-size: 20px;\"> </span></td><td><span style=\"font-size: 20px;\"> </span></td><td><span style=\"font-size: 20px;\"> </span></td></tr><tr><td>Option 3</td><td><span style=\"font-size: 20px;\">☐</span></td><td><span style=\"font-size: 20px;\"> </span></td><td><span style=\"font-size: 20px;\"> </span></td><td><span style=\"font-size: 20px;\">☐</span></td><td><span style=\"font-size: 20px;\">☐</span></td><td><span style=\"font-size: 20px;\"> </span></td></tr></table></div></div></div><div style=\"\"><div style=\"pading:10px;\"><div style=\"padding:5px\"><h1><img height=\"30\" width=\"30\" src=\"https://console.demystdata.com/assets/attom-018667395fd6d2e395ec7079d09434844d7ef98d02dac7c32e8bcb6c326145f1.svg\" style=\"display:inline-block\" /> Attom</h1><pre style=\"\">attom_commercial_pre_foreclosure</pre><p><em>Attom Commerical Pre-Foreclosure Data aggregates data from Notice of Default (NODs) and Lis Pendens (LIS) submissions.  This data set contains primarily commercial properties within the US.  ATTOM blends property tax, deed, mortgage, foreclosure, environmental risk, natural hazard and neighborhood data for more than 155 million U.S. residential and commercial properties multi-sourced from more than 3,000 U.S. counties.</em></p></div><div style=\"padding: 5px;\"><table><tr><th> </th><th>attom_id</th><th>transactionid</th></tr><tr><td>Option 1</td><td><span style=\"font-size: 20px;\"> </span></td><td><span style=\"font-size: 20px;\">☐</span></td></tr><tr><td>Option 2</td><td><span style=\"font-size: 20px;\">☒</span></td><td><span style=\"font-size: 20px;\"> </span></td></tr></table></div></div></div><div style=\"\"><div style=\"pading:10px;\"><div style=\"padding:5px\"><h1><img height=\"30\" width=\"30\" src=\"https://console.demystdata.com/assets/attom-018667395fd6d2e395ec7079d09434844d7ef98d02dac7c32e8bcb6c326145f1.svg\" style=\"display:inline-block\" /> Attom</h1><pre style=\"\">attom_commercial_avm</pre><p><em>Attom Commerical AVM (automated valuation model) Value is a statistical calculation model to estimate the current value of a property.  This data set contains primarily commercial properties within the US.  ATTOM blends property tax, deed, mortgage, foreclosure, environmental risk, natural hazard and neighborhood data for more than 155 million U.S. residential and commercial properties multi-sourced from more than 3,000 U.S. counties.</em></p></div><div style=\"padding: 5px;\"><table><tr><th> </th><th>attom_id</th></tr><tr><td>Option 1</td><td><span style=\"font-size: 20px;\">☒</span></td></tr></table></div></div></div><div style=\"\"><div style=\"pading:10px;\"><div style=\"padding:5px\"><h1><img height=\"30\" width=\"30\" src=\"https://console.demystdata.com/assets/attom-018667395fd6d2e395ec7079d09434844d7ef98d02dac7c32e8bcb6c326145f1.svg\" style=\"display:inline-block\" /> Attom</h1><pre style=\"\">attom_commercial_recorder</pre><p><em>Attom Commerical Recorder Data provides data derived from public records and documents on real estate transactions (sales deeds and mortgages) involving properties.  This data set contains primarily commercial properties within the US.  ATTOM blends property tax, deed, mortgage, foreclosure, environmental risk, natural hazard and neighborhood data for more than 155 million U.S. residential and commercial properties multi-sourced from more than 3,000 U.S. counties.</em></p></div><div style=\"padding: 5px;\"><table><tr><th> </th><th>attom_id</th><th>transactionid</th></tr><tr><td>Option 1</td><td><span style=\"font-size: 20px;\"> </span></td><td><span style=\"font-size: 20px;\">☐</span></td></tr><tr><td>Option 2</td><td><span style=\"font-size: 20px;\">☒</span></td><td><span style=\"font-size: 20px;\"> </span></td></tr></table></div></div></div>"
      ],
      "text/plain": [
       "<IPython.core.display.HTML object>"
      ]
     },
     "metadata": {},
     "output_type": "display_data"
    }
   ],
   "source": [
    "# let's look at any further data sets for enrichment without using a 'strict' policy\n",
    "display(analytics.search(results, strict=False))\n"
   ]
  },
  {
   "cell_type": "code",
   "execution_count": 467,
   "metadata": {},
   "outputs": [
    {
     "data": {
      "text/html": [
       "<div>\n",
       "<style scoped>\n",
       "    .dataframe tbody tr th:only-of-type {\n",
       "        vertical-align: middle;\n",
       "    }\n",
       "\n",
       "    .dataframe tbody tr th {\n",
       "        vertical-align: top;\n",
       "    }\n",
       "\n",
       "    .dataframe thead th {\n",
       "        text-align: right;\n",
       "    }\n",
       "</style>\n",
       "<table border=\"1\" class=\"dataframe\">\n",
       "  <thead>\n",
       "    <tr style=\"text-align: right;\">\n",
       "      <th></th>\n",
       "      <th>provider_name</th>\n",
       "      <th>attribute</th>\n",
       "      <th>option</th>\n",
       "      <th>type</th>\n",
       "      <th>description</th>\n",
       "    </tr>\n",
       "  </thead>\n",
       "  <tbody>\n",
       "    <tr>\n",
       "      <th>1286</th>\n",
       "      <td>attom_tax_assessor</td>\n",
       "      <td>results[].fencecode</td>\n",
       "      <td>output</td>\n",
       "      <td>String</td>\n",
       "      <td>Indicates the presence and/or type of fence on...</td>\n",
       "    </tr>\n",
       "    <tr>\n",
       "      <th>1015</th>\n",
       "      <td>attom_recorder</td>\n",
       "      <td>results[].mortgage2interestrateminfirstchanger...</td>\n",
       "      <td>output</td>\n",
       "      <td>Number</td>\n",
       "      <td>Applies only to adjustable rate loans. The min...</td>\n",
       "    </tr>\n",
       "    <tr>\n",
       "      <th>1161</th>\n",
       "      <td>attom_tax_assessor</td>\n",
       "      <td>results[].taxmarketvalueland</td>\n",
       "      <td>output</td>\n",
       "      <td>Number</td>\n",
       "      <td>Market value of the land</td>\n",
       "    </tr>\n",
       "    <tr>\n",
       "      <th>1011</th>\n",
       "      <td>attom_recorder</td>\n",
       "      <td>results[].mortgage2documentinforideradjustable...</td>\n",
       "      <td>output</td>\n",
       "      <td>String</td>\n",
       "      <td>Flag to indicate if an adjustable rate rider w...</td>\n",
       "    </tr>\n",
       "    <tr>\n",
       "      <th>1054</th>\n",
       "      <td>attom_tax_assessor</td>\n",
       "      <td>results[].parcelnumberprevious</td>\n",
       "      <td>output</td>\n",
       "      <td>String</td>\n",
       "      <td>Previous parcel number assigned to the subject...</td>\n",
       "    </tr>\n",
       "    <tr>\n",
       "      <th>1082</th>\n",
       "      <td>attom_tax_assessor</td>\n",
       "      <td>results[].legaltractnumber</td>\n",
       "      <td>output</td>\n",
       "      <td>String</td>\n",
       "      <td>Tract number</td>\n",
       "    </tr>\n",
       "    <tr>\n",
       "      <th>471</th>\n",
       "      <td>attom_commercial_tax_assessor</td>\n",
       "      <td>results[].deedowner1namemiddle</td>\n",
       "      <td>output</td>\n",
       "      <td>MiddleName</td>\n",
       "      <td>The first deed owner's middle name of the prop...</td>\n",
       "    </tr>\n",
       "    <tr>\n",
       "      <th>1071</th>\n",
       "      <td>attom_tax_assessor</td>\n",
       "      <td>results[].propertylatitude</td>\n",
       "      <td>output</td>\n",
       "      <td>Latitude</td>\n",
       "      <td>The latitude of the property in degrees.</td>\n",
       "    </tr>\n",
       "    <tr>\n",
       "      <th>125</th>\n",
       "      <td>attom_commercial_pre_foreclosure</td>\n",
       "      <td>results[].publicationdate</td>\n",
       "      <td>output</td>\n",
       "      <td>Date</td>\n",
       "      <td>The date on which the client's data file was e...</td>\n",
       "    </tr>\n",
       "    <tr>\n",
       "      <th>809</th>\n",
       "      <td>attom_recorder</td>\n",
       "      <td>results[].transferinfomultiparcelflag</td>\n",
       "      <td>output</td>\n",
       "      <td>Number</td>\n",
       "      <td>Flag used to indicate a multiple parcel transa...</td>\n",
       "    </tr>\n",
       "  </tbody>\n",
       "</table>\n",
       "</div>"
      ],
      "text/plain": [
       "                         provider_name  \\\n",
       "1286                attom_tax_assessor   \n",
       "1015                    attom_recorder   \n",
       "1161                attom_tax_assessor   \n",
       "1011                    attom_recorder   \n",
       "1054                attom_tax_assessor   \n",
       "1082                attom_tax_assessor   \n",
       "471      attom_commercial_tax_assessor   \n",
       "1071                attom_tax_assessor   \n",
       "125   attom_commercial_pre_foreclosure   \n",
       "809                     attom_recorder   \n",
       "\n",
       "                                              attribute  option        type  \\\n",
       "1286                                results[].fencecode  output      String   \n",
       "1015  results[].mortgage2interestrateminfirstchanger...  output      Number   \n",
       "1161                       results[].taxmarketvalueland  output      Number   \n",
       "1011  results[].mortgage2documentinforideradjustable...  output      String   \n",
       "1054                     results[].parcelnumberprevious  output      String   \n",
       "1082                         results[].legaltractnumber  output      String   \n",
       "471                      results[].deedowner1namemiddle  output  MiddleName   \n",
       "1071                         results[].propertylatitude  output    Latitude   \n",
       "125                           results[].publicationdate  output        Date   \n",
       "809               results[].transferinfomultiparcelflag  output      Number   \n",
       "\n",
       "                                            description  \n",
       "1286  Indicates the presence and/or type of fence on...  \n",
       "1015  Applies only to adjustable rate loans. The min...  \n",
       "1161                           Market value of the land  \n",
       "1011  Flag to indicate if an adjustable rate rider w...  \n",
       "1054  Previous parcel number assigned to the subject...  \n",
       "1082                                       Tract number  \n",
       "471   The first deed owner's middle name of the prop...  \n",
       "1071           The latitude of the property in degrees.  \n",
       "125   The date on which the client's data file was e...  \n",
       "809   Flag used to indicate a multiple parcel transa...  "
      ]
     },
     "execution_count": 467,
     "metadata": {},
     "output_type": "execute_result"
    }
   ],
   "source": [
    "analytics.product_outputs('safety_flag', all_products=True).sample(10)"
   ]
  },
  {
   "cell_type": "code",
   "execution_count": 468,
   "metadata": {},
   "outputs": [
    {
     "data": {
      "text/plain": [
       "attom_tax_assessor                       319\n",
       "attom_commercial_tax_assessor            319\n",
       "attom_recorder                           239\n",
       "attom_commercial_recorder                239\n",
       "attom_pre_foreclosure                    104\n",
       "attom_commercial_pre_foreclosure         104\n",
       "powerlytics_lfo2_zipcode_naics4_sales     46\n",
       "attom_commercial_avm                      11\n",
       "attom_avm                                 11\n",
       "attom_expanded_profile_report              1\n",
       "data-fn--818-demyst-testdf                 1\n",
       "Name: provider_name, dtype: int64"
      ]
     },
     "execution_count": 468,
     "metadata": {},
     "output_type": "execute_result"
    }
   ],
   "source": [
    "analytics.product_outputs('safety_flag', all_products=True).provider_name.value_counts()"
   ]
  },
  {
   "cell_type": "markdown",
   "metadata": {},
   "source": [
    "As we have already enriched our initial data with the 'attom_expanded_profile_report' dataset, we can exclude that from further enrichment.\n",
    "Let's make a list excluding that data set from further enrichments"
   ]
  },
  {
   "cell_type": "code",
   "execution_count": 469,
   "metadata": {},
   "outputs": [],
   "source": [
    "potential_products = list(set(analytics.product_outputs('safety_flag', all_products=True).provider_name)-\\\n",
    "                          set(['attom_expanded_profile_report']))"
   ]
  },
  {
   "cell_type": "code",
   "execution_count": 470,
   "metadata": {},
   "outputs": [
    {
     "data": {
      "text/plain": [
       "['attom_avm',\n",
       " 'attom_commercial_recorder',\n",
       " 'data-fn--818-demyst-testdf',\n",
       " 'attom_tax_assessor',\n",
       " 'powerlytics_lfo2_zipcode_naics4_sales',\n",
       " 'attom_commercial_pre_foreclosure',\n",
       " 'attom_recorder',\n",
       " 'attom_commercial_avm',\n",
       " 'attom_commercial_tax_assessor',\n",
       " 'attom_pre_foreclosure']"
      ]
     },
     "execution_count": 470,
     "metadata": {},
     "output_type": "execute_result"
    }
   ],
   "source": [
    "potential_products"
   ]
  },
  {
   "cell_type": "code",
   "execution_count": 504,
   "metadata": {},
   "outputs": [
    {
     "data": {
      "text/html": [
       "<table><tr><th>Column</th><th>Status</th><th>Description</th></tr><tr><th><a href=\"https://demyst.com/docs/demyst-live/types/#city\" target=\"_blank\">city</a></th><td style=\"background-color: lightgreen\"><nobr>All Valid</nobr></td><td style=\"text-align: left\">All values in this column are good to go.</td></tr><tr><th><a href=\"https://demyst.com/docs/demyst-live/types/#country\" target=\"_blank\">country</a></th><td style=\"background-color: lightgreen\"><nobr>All Valid</nobr></td><td style=\"text-align: left\">All values in this column are good to go.</td></tr><tr><th><a href=\"https://demyst.com/docs/demyst-live/types/#post_code\" target=\"_blank\">post_code</a></th><td style=\"background-color: lightgreen\"><nobr>All Valid</nobr></td><td style=\"text-align: left\">All values in this column are good to go.</td></tr><tr><th>safety_flag</th><td style=\"background-color: lightpink\"><nobr>Unrecognized Column Name</nobr></td><td style=\"text-align: left\">This column name is not supported. <a href=\"https://demyst.com/docs/demyst-live/types/\" target=\"_blank\">Click here for a list of all supported column names.</a></td></tr><tr><th><a href=\"https://demyst.com/docs/demyst-live/types/#state\" target=\"_blank\">state</a></th><td style=\"background-color: lightgreen\"><nobr>All Valid</nobr></td><td style=\"text-align: left\">All values in this column are good to go.</td></tr><tr><th><a href=\"https://demyst.com/docs/demyst-live/types/#street\" target=\"_blank\">street</a></th><td style=\"background-color: lightgreen\"><nobr>All Valid</nobr></td><td style=\"text-align: left\">All values in this column are good to go.</td></tr><tr><th>attom_id</th><td style=\"background-color: lightgreen\"><nobr>All Valid</nobr></td><td style=\"text-align: left\">All values in this column are good to go.</td></tr></table>"
      ],
      "text/plain": [
       "<demyst.analytics.analytics.Validation at 0x15a3829e8>"
      ]
     },
     "execution_count": 504,
     "metadata": {},
     "output_type": "execute_result"
    }
   ],
   "source": [
    "analytics.validate(results)"
   ]
  },
  {
   "cell_type": "code",
   "execution_count": 505,
   "metadata": {},
   "outputs": [
    {
     "name": "stdout",
     "output_type": "stream",
     "text": [
      "Verifying providers...\n",
      "Starting enrichment...\n",
      "Enrich Job ID: 13220\n"
     ]
    },
    {
     "data": {
      "application/vnd.jupyter.widget-view+json": {
       "model_id": "e14573695f1c429581b83cc586e8b757",
       "version_major": 2,
       "version_minor": 0
      },
      "text/plain": [
       "IntProgress(value=1, max=2)"
      ]
     },
     "metadata": {},
     "output_type": "display_data"
    },
    {
     "data": {
      "application/vnd.jupyter.widget-view+json": {
       "model_id": "10b46bd1b593431490f9858d2061d983",
       "version_major": 2,
       "version_minor": 0
      },
      "text/plain": [
       "HTML(value='Checking status...')"
      ]
     },
     "metadata": {},
     "output_type": "display_data"
    }
   ],
   "source": [
    "results_avm = analytics.enrich_and_download([\"attom_avm\"], results, validate=True)\n"
   ]
  },
  {
   "cell_type": "code",
   "execution_count": 506,
   "metadata": {},
   "outputs": [],
   "source": [
    "if not os.path.isfile('results_avm_21_12.csv'):\n",
    "    results_avm.to_csv('results_avm_21_12.csv', index=False)\n"
   ]
  },
  {
   "cell_type": "code",
   "execution_count": 508,
   "metadata": {},
   "outputs": [
    {
     "data": {
      "text/html": [
       "<div>\n",
       "<style scoped>\n",
       "    .dataframe tbody tr th:only-of-type {\n",
       "        vertical-align: middle;\n",
       "    }\n",
       "\n",
       "    .dataframe tbody tr th {\n",
       "        vertical-align: top;\n",
       "    }\n",
       "\n",
       "    .dataframe thead th {\n",
       "        text-align: right;\n",
       "    }\n",
       "</style>\n",
       "<table border=\"1\" class=\"dataframe\">\n",
       "  <thead>\n",
       "    <tr style=\"text-align: right;\">\n",
       "      <th></th>\n",
       "      <th>inputs.attom_id</th>\n",
       "      <th>inputs.city</th>\n",
       "      <th>inputs.country</th>\n",
       "      <th>inputs.post_code</th>\n",
       "      <th>inputs.safety_flag</th>\n",
       "      <th>inputs.state</th>\n",
       "      <th>inputs.street</th>\n",
       "      <th>attom_avm.row_id</th>\n",
       "      <th>attom_avm.client_id</th>\n",
       "      <th>attom_avm.attom_id</th>\n",
       "      <th>attom_avm.confidencescore</th>\n",
       "      <th>attom_avm.createdate</th>\n",
       "      <th>attom_avm.estimatedmaxvalue</th>\n",
       "      <th>attom_avm.estimatedminvalue</th>\n",
       "      <th>attom_avm.estimatedvalue</th>\n",
       "      <th>attom_avm.fsd</th>\n",
       "      <th>attom_avm.lastupdatedate</th>\n",
       "      <th>attom_avm.publicationdate</th>\n",
       "      <th>attom_avm.valuationdate</th>\n",
       "      <th>attom_avm.error</th>\n",
       "    </tr>\n",
       "  </thead>\n",
       "  <tbody>\n",
       "    <tr>\n",
       "      <th>0</th>\n",
       "      <td>162278089</td>\n",
       "      <td>Lakeland</td>\n",
       "      <td>US</td>\n",
       "      <td>33812</td>\n",
       "      <td>False</td>\n",
       "      <td>FL</td>\n",
       "      <td>3160 Otto Dr</td>\n",
       "      <td>0</td>\n",
       "      <td>NaN</td>\n",
       "      <td>162278089.0</td>\n",
       "      <td>89.0</td>\n",
       "      <td>2019-07-03</td>\n",
       "      <td>237000.0</td>\n",
       "      <td>189000.0</td>\n",
       "      <td>213000.0</td>\n",
       "      <td>11.0</td>\n",
       "      <td>2019-07-03</td>\n",
       "      <td>2019-07-22</td>\n",
       "      <td>2019-06-28</td>\n",
       "      <td>NaN</td>\n",
       "    </tr>\n",
       "    <tr>\n",
       "      <th>1</th>\n",
       "      <td>28461481</td>\n",
       "      <td>Indianapolis</td>\n",
       "      <td>US</td>\n",
       "      <td>46227</td>\n",
       "      <td>False</td>\n",
       "      <td>IN</td>\n",
       "      <td>940 Tulip Dr</td>\n",
       "      <td>1</td>\n",
       "      <td>NaN</td>\n",
       "      <td>28461481.0</td>\n",
       "      <td>48.0</td>\n",
       "      <td>2019-07-03</td>\n",
       "      <td>158000.0</td>\n",
       "      <td>80000.0</td>\n",
       "      <td>119000.0</td>\n",
       "      <td>32.0</td>\n",
       "      <td>2019-07-03</td>\n",
       "      <td>2019-07-22</td>\n",
       "      <td>2019-06-28</td>\n",
       "      <td>NaN</td>\n",
       "    </tr>\n",
       "    <tr>\n",
       "      <th>2</th>\n",
       "      <td>214628965</td>\n",
       "      <td>Troutville</td>\n",
       "      <td>US</td>\n",
       "      <td>24175</td>\n",
       "      <td>False</td>\n",
       "      <td>VA</td>\n",
       "      <td>68 Rocky Top Rd</td>\n",
       "      <td>2</td>\n",
       "      <td>NaN</td>\n",
       "      <td>214628965.0</td>\n",
       "      <td>62.0</td>\n",
       "      <td>2019-07-03</td>\n",
       "      <td>157000.0</td>\n",
       "      <td>98000.0</td>\n",
       "      <td>127000.0</td>\n",
       "      <td>23.0</td>\n",
       "      <td>2019-07-03</td>\n",
       "      <td>2019-07-22</td>\n",
       "      <td>2019-06-28</td>\n",
       "      <td>NaN</td>\n",
       "    </tr>\n",
       "  </tbody>\n",
       "</table>\n",
       "</div>"
      ],
      "text/plain": [
       "   inputs.attom_id   inputs.city inputs.country  inputs.post_code  \\\n",
       "0        162278089      Lakeland             US             33812   \n",
       "1         28461481  Indianapolis             US             46227   \n",
       "2        214628965    Troutville             US             24175   \n",
       "\n",
       "   inputs.safety_flag inputs.state    inputs.street  attom_avm.row_id  \\\n",
       "0               False           FL     3160 Otto Dr                 0   \n",
       "1               False           IN     940 Tulip Dr                 1   \n",
       "2               False           VA  68 Rocky Top Rd                 2   \n",
       "\n",
       "   attom_avm.client_id  attom_avm.attom_id  attom_avm.confidencescore  \\\n",
       "0                  NaN         162278089.0                       89.0   \n",
       "1                  NaN          28461481.0                       48.0   \n",
       "2                  NaN         214628965.0                       62.0   \n",
       "\n",
       "  attom_avm.createdate  attom_avm.estimatedmaxvalue  \\\n",
       "0           2019-07-03                     237000.0   \n",
       "1           2019-07-03                     158000.0   \n",
       "2           2019-07-03                     157000.0   \n",
       "\n",
       "   attom_avm.estimatedminvalue  attom_avm.estimatedvalue  attom_avm.fsd  \\\n",
       "0                     189000.0                  213000.0           11.0   \n",
       "1                      80000.0                  119000.0           32.0   \n",
       "2                      98000.0                  127000.0           23.0   \n",
       "\n",
       "  attom_avm.lastupdatedate attom_avm.publicationdate attom_avm.valuationdate  \\\n",
       "0               2019-07-03                2019-07-22              2019-06-28   \n",
       "1               2019-07-03                2019-07-22              2019-06-28   \n",
       "2               2019-07-03                2019-07-22              2019-06-28   \n",
       "\n",
       "   attom_avm.error  \n",
       "0              NaN  \n",
       "1              NaN  \n",
       "2              NaN  "
      ]
     },
     "execution_count": 508,
     "metadata": {},
     "output_type": "execute_result"
    }
   ],
   "source": [
    "df_avm = pd.read_csv('results_avm_21_12.csv')\n",
    "df_avm.head(3)"
   ]
  },
  {
   "cell_type": "code",
   "execution_count": null,
   "metadata": {},
   "outputs": [],
   "source": [
    "display(df_avm.shape)\n",
    "display(results.shape)"
   ]
  },
  {
   "cell_type": "code",
   "execution_count": 492,
   "metadata": {},
   "outputs": [
    {
     "data": {
      "text/html": [
       "<table><tr><th>Column</th><th>Status</th><th>Description</th></tr><tr><th>attom_id</th><td style=\"background-color: lightpink\"><nobr>Not a String Column</nobr></td><td style=\"text-align: left\">You must convert this column to string type.</td></tr><tr><th><a href=\"https://demyst.com/docs/demyst-live/types/#city\" target=\"_blank\">city</a></th><td style=\"background-color: lightgreen\"><nobr>All Valid</nobr></td><td style=\"text-align: left\">All values in this column are good to go.</td></tr><tr><th><a href=\"https://demyst.com/docs/demyst-live/types/#country\" target=\"_blank\">country</a></th><td style=\"background-color: lightgreen\"><nobr>All Valid</nobr></td><td style=\"text-align: left\">All values in this column are good to go.</td></tr><tr><th>post_code</th><td style=\"background-color: lightpink\"><nobr>Not a String Column</nobr></td><td style=\"text-align: left\">You must convert this column to string type.</td></tr><tr><th>safety_flag</th><td style=\"background-color: lightpink\"><nobr>Unrecognized Column Name</nobr></td><td style=\"text-align: left\">This column name is not supported. <a href=\"https://demyst.com/docs/demyst-live/types/\" target=\"_blank\">Click here for a list of all supported column names.</a></td></tr><tr><th><a href=\"https://demyst.com/docs/demyst-live/types/#state\" target=\"_blank\">state</a></th><td style=\"background-color: lightgreen\"><nobr>All Valid</nobr></td><td style=\"text-align: left\">All values in this column are good to go.</td></tr><tr><th><a href=\"https://demyst.com/docs/demyst-live/types/#street\" target=\"_blank\">street</a></th><td style=\"background-color: lightgreen\"><nobr>All Valid</nobr></td><td style=\"text-align: left\">All values in this column are good to go.</td></tr><tr><th>row_id</th><td style=\"background-color: lightpink\"><nobr>Unrecognized Column Name</nobr></td><td style=\"text-align: left\">This column name is not supported. <a href=\"https://demyst.com/docs/demyst-live/types/\" target=\"_blank\">Click here for a list of all supported column names.</a></td></tr><tr><th>client_id</th><td style=\"background-color: lightpink\"><nobr>Unrecognized Column Name</nobr></td><td style=\"text-align: left\">This column name is not supported. <a href=\"https://demyst.com/docs/demyst-live/types/\" target=\"_blank\">Click here for a list of all supported column names.</a></td></tr><tr><th>attom_id</th><td style=\"background-color: lightpink\"><nobr>Not a String Column</nobr></td><td style=\"text-align: left\">You must convert this column to string type.</td></tr><tr><th>confidencescore</th><td style=\"background-color: lightpink\"><nobr>Unrecognized Column Name</nobr></td><td style=\"text-align: left\">This column name is not supported. <a href=\"https://demyst.com/docs/demyst-live/types/\" target=\"_blank\">Click here for a list of all supported column names.</a></td></tr><tr><th>createdate</th><td style=\"background-color: lightpink\"><nobr>Unrecognized Column Name</nobr></td><td style=\"text-align: left\">This column name is not supported. <a href=\"https://demyst.com/docs/demyst-live/types/\" target=\"_blank\">Click here for a list of all supported column names.</a></td></tr><tr><th>estimatedmaxvalue</th><td style=\"background-color: lightpink\"><nobr>Unrecognized Column Name</nobr></td><td style=\"text-align: left\">This column name is not supported. <a href=\"https://demyst.com/docs/demyst-live/types/\" target=\"_blank\">Click here for a list of all supported column names.</a></td></tr><tr><th>estimatedminvalue</th><td style=\"background-color: lightpink\"><nobr>Unrecognized Column Name</nobr></td><td style=\"text-align: left\">This column name is not supported. <a href=\"https://demyst.com/docs/demyst-live/types/\" target=\"_blank\">Click here for a list of all supported column names.</a></td></tr><tr><th>estimatedvalue</th><td style=\"background-color: lightpink\"><nobr>Unrecognized Column Name</nobr></td><td style=\"text-align: left\">This column name is not supported. <a href=\"https://demyst.com/docs/demyst-live/types/\" target=\"_blank\">Click here for a list of all supported column names.</a></td></tr><tr><th>fsd</th><td style=\"background-color: lightpink\"><nobr>Unrecognized Column Name</nobr></td><td style=\"text-align: left\">This column name is not supported. <a href=\"https://demyst.com/docs/demyst-live/types/\" target=\"_blank\">Click here for a list of all supported column names.</a></td></tr><tr><th>lastupdatedate</th><td style=\"background-color: lightpink\"><nobr>Unrecognized Column Name</nobr></td><td style=\"text-align: left\">This column name is not supported. <a href=\"https://demyst.com/docs/demyst-live/types/\" target=\"_blank\">Click here for a list of all supported column names.</a></td></tr><tr><th>publicationdate</th><td style=\"background-color: lightpink\"><nobr>Unrecognized Column Name</nobr></td><td style=\"text-align: left\">This column name is not supported. <a href=\"https://demyst.com/docs/demyst-live/types/\" target=\"_blank\">Click here for a list of all supported column names.</a></td></tr><tr><th>valuationdate</th><td style=\"background-color: lightpink\"><nobr>Unrecognized Column Name</nobr></td><td style=\"text-align: left\">This column name is not supported. <a href=\"https://demyst.com/docs/demyst-live/types/\" target=\"_blank\">Click here for a list of all supported column names.</a></td></tr><tr><th>error</th><td style=\"background-color: lightpink\"><nobr>Unrecognized Column Name</nobr></td><td style=\"text-align: left\">This column name is not supported. <a href=\"https://demyst.com/docs/demyst-live/types/\" target=\"_blank\">Click here for a list of all supported column names.</a></td></tr></table>"
      ],
      "text/plain": [
       "<demyst.analytics.analytics.Validation at 0x1548eb748>"
      ]
     },
     "execution_count": 492,
     "metadata": {},
     "output_type": "execute_result"
    }
   ],
   "source": [
    "analytics.validate(df_avm)"
   ]
  },
  {
   "cell_type": "markdown",
   "metadata": {},
   "source": [
    "We need to clean the data into the appropriate format, as shown above.\n",
    "Let's create a function to do so."
   ]
  },
  {
   "cell_type": "code",
   "execution_count": 327,
   "metadata": {},
   "outputs": [],
   "source": [
    "def clean_avm(df, target_col):\n",
    "    df.columns = df.columns.str.replace('inputs.', '').str.replace(str(target_col) + '.', '')\n",
    "    return df"
   ]
  },
  {
   "cell_type": "code",
   "execution_count": 545,
   "metadata": {},
   "outputs": [
    {
     "data": {
      "text/html": [
       "<table><tr><th>Column</th><th>Status</th><th>Description</th></tr><tr><th>attom_id</th><td style=\"background-color: lightpink\"><nobr>Not a String Column</nobr></td><td style=\"text-align: left\">You must convert this column to string type.</td></tr><tr><th><a href=\"https://demyst.com/docs/demyst-live/types/#city\" target=\"_blank\">city</a></th><td style=\"background-color: lightgreen\"><nobr>All Valid</nobr></td><td style=\"text-align: left\">All values in this column are good to go.</td></tr><tr><th><a href=\"https://demyst.com/docs/demyst-live/types/#country\" target=\"_blank\">country</a></th><td style=\"background-color: lightgreen\"><nobr>All Valid</nobr></td><td style=\"text-align: left\">All values in this column are good to go.</td></tr><tr><th><a href=\"https://demyst.com/docs/demyst-live/types/#post_code\" target=\"_blank\">post_code</a></th><td style=\"background-color: lightgreen\"><nobr>All Valid</nobr></td><td style=\"text-align: left\">All values in this column are good to go.</td></tr><tr><th>safety_flag</th><td style=\"background-color: lightpink\"><nobr>Unrecognized Column Name</nobr></td><td style=\"text-align: left\">This column name is not supported. <a href=\"https://demyst.com/docs/demyst-live/types/\" target=\"_blank\">Click here for a list of all supported column names.</a></td></tr><tr><th><a href=\"https://demyst.com/docs/demyst-live/types/#state\" target=\"_blank\">state</a></th><td style=\"background-color: lightgreen\"><nobr>All Valid</nobr></td><td style=\"text-align: left\">All values in this column are good to go.</td></tr><tr><th><a href=\"https://demyst.com/docs/demyst-live/types/#street\" target=\"_blank\">street</a></th><td style=\"background-color: lightgreen\"><nobr>All Valid</nobr></td><td style=\"text-align: left\">All values in this column are good to go.</td></tr><tr><th>row_id</th><td style=\"background-color: lightpink\"><nobr>Unrecognized Column Name</nobr></td><td style=\"text-align: left\">This column name is not supported. <a href=\"https://demyst.com/docs/demyst-live/types/\" target=\"_blank\">Click here for a list of all supported column names.</a></td></tr><tr><th>client_id</th><td style=\"background-color: lightpink\"><nobr>Unrecognized Column Name</nobr></td><td style=\"text-align: left\">This column name is not supported. <a href=\"https://demyst.com/docs/demyst-live/types/\" target=\"_blank\">Click here for a list of all supported column names.</a></td></tr><tr><th>apnformatted</th><td style=\"background-color: lightpink\"><nobr>Unrecognized Column Name</nobr></td><td style=\"text-align: left\">This column name is not supported. <a href=\"https://demyst.com/docs/demyst-live/types/\" target=\"_blank\">Click here for a list of all supported column names.</a></td></tr><tr><th>apnoriginal</th><td style=\"background-color: lightpink\"><nobr>Unrecognized Column Name</nobr></td><td style=\"text-align: left\">This column name is not supported. <a href=\"https://demyst.com/docs/demyst-live/types/\" target=\"_blank\">Click here for a list of all supported column names.</a></td></tr><tr><th>armslengthflag</th><td style=\"background-color: lightpink\"><nobr>Unrecognized Column Name</nobr></td><td style=\"text-align: left\">This column name is not supported. <a href=\"https://demyst.com/docs/demyst-live/types/\" target=\"_blank\">Click here for a list of all supported column names.</a></td></tr><tr><th>attom_id</th><td style=\"background-color: lightpink\"><nobr>Not a String Column</nobr></td><td style=\"text-align: left\">You must convert this column to string type.</td></tr><tr><th>book</th><td style=\"background-color: lightpink\"><nobr>Unrecognized Column Name</nobr></td><td style=\"text-align: left\">This column name is not supported. <a href=\"https://demyst.com/docs/demyst-live/types/\" target=\"_blank\">Click here for a list of all supported column names.</a></td></tr><tr><th>documentnumberformatted</th><td style=\"background-color: lightpink\"><nobr>Unrecognized Column Name</nobr></td><td style=\"text-align: left\">This column name is not supported. <a href=\"https://demyst.com/docs/demyst-live/types/\" target=\"_blank\">Click here for a list of all supported column names.</a></td></tr><tr><th>documentnumberlegacy</th><td style=\"background-color: lightpink\"><nobr>Unrecognized Column Name</nobr></td><td style=\"text-align: left\">This column name is not supported. <a href=\"https://demyst.com/docs/demyst-live/types/\" target=\"_blank\">Click here for a list of all supported column names.</a></td></tr><tr><th>documentrecordingcountyfips</th><td style=\"background-color: lightpink\"><nobr>Unrecognized Column Name</nobr></td><td style=\"text-align: left\">This column name is not supported. <a href=\"https://demyst.com/docs/demyst-live/types/\" target=\"_blank\">Click here for a list of all supported column names.</a></td></tr><tr><th>documentrecordingcountyname</th><td style=\"background-color: lightpink\"><nobr>Unrecognized Column Name</nobr></td><td style=\"text-align: left\">This column name is not supported. <a href=\"https://demyst.com/docs/demyst-live/types/\" target=\"_blank\">Click here for a list of all supported column names.</a></td></tr><tr><th>documentrecordingjurisdictionname</th><td style=\"background-color: lightpink\"><nobr>Unrecognized Column Name</nobr></td><td style=\"text-align: left\">This column name is not supported. <a href=\"https://demyst.com/docs/demyst-live/types/\" target=\"_blank\">Click here for a list of all supported column names.</a></td></tr><tr><th>documentrecordingstatecode</th><td style=\"background-color: lightpink\"><nobr>Unrecognized Column Name</nobr></td><td style=\"text-align: left\">This column name is not supported. <a href=\"https://demyst.com/docs/demyst-live/types/\" target=\"_blank\">Click here for a list of all supported column names.</a></td></tr><tr><th>documenttypecode</th><td style=\"background-color: lightpink\"><nobr>Unrecognized Column Name</nobr></td><td style=\"text-align: left\">This column name is not supported. <a href=\"https://demyst.com/docs/demyst-live/types/\" target=\"_blank\">Click here for a list of all supported column names.</a></td></tr><tr><th>foreclosureauctionsale</th><td style=\"background-color: lightpink\"><nobr>Unrecognized Column Name</nobr></td><td style=\"text-align: left\">This column name is not supported. <a href=\"https://demyst.com/docs/demyst-live/types/\" target=\"_blank\">Click here for a list of all supported column names.</a></td></tr><tr><th>grantee1infoentityclassification</th><td style=\"background-color: lightpink\"><nobr>Unrecognized Column Name</nobr></td><td style=\"text-align: left\">This column name is not supported. <a href=\"https://demyst.com/docs/demyst-live/types/\" target=\"_blank\">Click here for a list of all supported column names.</a></td></tr><tr><th>grantee1infoownertype</th><td style=\"background-color: lightpink\"><nobr>Unrecognized Column Name</nobr></td><td style=\"text-align: left\">This column name is not supported. <a href=\"https://demyst.com/docs/demyst-live/types/\" target=\"_blank\">Click here for a list of all supported column names.</a></td></tr><tr><th>grantee1namefirst</th><td style=\"background-color: lightpink\"><nobr>Unrecognized Column Name</nobr></td><td style=\"text-align: left\">This column name is not supported. <a href=\"https://demyst.com/docs/demyst-live/types/\" target=\"_blank\">Click here for a list of all supported column names.</a></td></tr><tr><th>grantee1namefull</th><td style=\"background-color: lightpink\"><nobr>Unrecognized Column Name</nobr></td><td style=\"text-align: left\">This column name is not supported. <a href=\"https://demyst.com/docs/demyst-live/types/\" target=\"_blank\">Click here for a list of all supported column names.</a></td></tr><tr><th>grantee1namelast</th><td style=\"background-color: lightpink\"><nobr>Unrecognized Column Name</nobr></td><td style=\"text-align: left\">This column name is not supported. <a href=\"https://demyst.com/docs/demyst-live/types/\" target=\"_blank\">Click here for a list of all supported column names.</a></td></tr><tr><th>grantee1namemiddle</th><td style=\"background-color: lightpink\"><nobr>Unrecognized Column Name</nobr></td><td style=\"text-align: left\">This column name is not supported. <a href=\"https://demyst.com/docs/demyst-live/types/\" target=\"_blank\">Click here for a list of all supported column names.</a></td></tr><tr><th>grantee1namesuffix</th><td style=\"background-color: lightpink\"><nobr>Unrecognized Column Name</nobr></td><td style=\"text-align: left\">This column name is not supported. <a href=\"https://demyst.com/docs/demyst-live/types/\" target=\"_blank\">Click here for a list of all supported column names.</a></td></tr><tr><th>grantee2infoentityclassification</th><td style=\"background-color: lightpink\"><nobr>Unrecognized Column Name</nobr></td><td style=\"text-align: left\">This column name is not supported. <a href=\"https://demyst.com/docs/demyst-live/types/\" target=\"_blank\">Click here for a list of all supported column names.</a></td></tr><tr><th>grantee2namefirst</th><td style=\"background-color: lightpink\"><nobr>Unrecognized Column Name</nobr></td><td style=\"text-align: left\">This column name is not supported. <a href=\"https://demyst.com/docs/demyst-live/types/\" target=\"_blank\">Click here for a list of all supported column names.</a></td></tr><tr><th>grantee2namefull</th><td style=\"background-color: lightpink\"><nobr>Unrecognized Column Name</nobr></td><td style=\"text-align: left\">This column name is not supported. <a href=\"https://demyst.com/docs/demyst-live/types/\" target=\"_blank\">Click here for a list of all supported column names.</a></td></tr><tr><th>grantee2namelast</th><td style=\"background-color: lightpink\"><nobr>Unrecognized Column Name</nobr></td><td style=\"text-align: left\">This column name is not supported. <a href=\"https://demyst.com/docs/demyst-live/types/\" target=\"_blank\">Click here for a list of all supported column names.</a></td></tr><tr><th>grantee2namemiddle</th><td style=\"background-color: lightpink\"><nobr>Unrecognized Column Name</nobr></td><td style=\"text-align: left\">This column name is not supported. <a href=\"https://demyst.com/docs/demyst-live/types/\" target=\"_blank\">Click here for a list of all supported column names.</a></td></tr><tr><th>grantee2namesuffix</th><td style=\"background-color: lightpink\"><nobr>Unrecognized Column Name</nobr></td><td style=\"text-align: left\">This column name is not supported. <a href=\"https://demyst.com/docs/demyst-live/types/\" target=\"_blank\">Click here for a list of all supported column names.</a></td></tr><tr><th>grantee3infoentityclassification</th><td style=\"background-color: lightpink\"><nobr>Unrecognized Column Name</nobr></td><td style=\"text-align: left\">This column name is not supported. <a href=\"https://demyst.com/docs/demyst-live/types/\" target=\"_blank\">Click here for a list of all supported column names.</a></td></tr><tr><th>grantee3namefirst</th><td style=\"background-color: lightpink\"><nobr>Unrecognized Column Name</nobr></td><td style=\"text-align: left\">This column name is not supported. <a href=\"https://demyst.com/docs/demyst-live/types/\" target=\"_blank\">Click here for a list of all supported column names.</a></td></tr><tr><th>grantee3namefull</th><td style=\"background-color: lightpink\"><nobr>Unrecognized Column Name</nobr></td><td style=\"text-align: left\">This column name is not supported. <a href=\"https://demyst.com/docs/demyst-live/types/\" target=\"_blank\">Click here for a list of all supported column names.</a></td></tr><tr><th>grantee3namelast</th><td style=\"background-color: lightpink\"><nobr>Unrecognized Column Name</nobr></td><td style=\"text-align: left\">This column name is not supported. <a href=\"https://demyst.com/docs/demyst-live/types/\" target=\"_blank\">Click here for a list of all supported column names.</a></td></tr><tr><th>grantee3namemiddle</th><td style=\"background-color: lightpink\"><nobr>Unrecognized Column Name</nobr></td><td style=\"text-align: left\">This column name is not supported. <a href=\"https://demyst.com/docs/demyst-live/types/\" target=\"_blank\">Click here for a list of all supported column names.</a></td></tr><tr><th>grantee3namesuffix</th><td style=\"background-color: lightpink\"><nobr>Unrecognized Column Name</nobr></td><td style=\"text-align: left\">This column name is not supported. <a href=\"https://demyst.com/docs/demyst-live/types/\" target=\"_blank\">Click here for a list of all supported column names.</a></td></tr><tr><th>grantee4infoentityclassification</th><td style=\"background-color: lightpink\"><nobr>Unrecognized Column Name</nobr></td><td style=\"text-align: left\">This column name is not supported. <a href=\"https://demyst.com/docs/demyst-live/types/\" target=\"_blank\">Click here for a list of all supported column names.</a></td></tr><tr><th>grantee4namefirst</th><td style=\"background-color: lightpink\"><nobr>Unrecognized Column Name</nobr></td><td style=\"text-align: left\">This column name is not supported. <a href=\"https://demyst.com/docs/demyst-live/types/\" target=\"_blank\">Click here for a list of all supported column names.</a></td></tr><tr><th>grantee4namefull</th><td style=\"background-color: lightpink\"><nobr>Unrecognized Column Name</nobr></td><td style=\"text-align: left\">This column name is not supported. <a href=\"https://demyst.com/docs/demyst-live/types/\" target=\"_blank\">Click here for a list of all supported column names.</a></td></tr><tr><th>grantee4namelast</th><td style=\"background-color: lightpink\"><nobr>Unrecognized Column Name</nobr></td><td style=\"text-align: left\">This column name is not supported. <a href=\"https://demyst.com/docs/demyst-live/types/\" target=\"_blank\">Click here for a list of all supported column names.</a></td></tr><tr><th>grantee4namemiddle</th><td style=\"background-color: lightpink\"><nobr>Unrecognized Column Name</nobr></td><td style=\"text-align: left\">This column name is not supported. <a href=\"https://demyst.com/docs/demyst-live/types/\" target=\"_blank\">Click here for a list of all supported column names.</a></td></tr><tr><th>grantee4namesuffix</th><td style=\"background-color: lightpink\"><nobr>Unrecognized Column Name</nobr></td><td style=\"text-align: left\">This column name is not supported. <a href=\"https://demyst.com/docs/demyst-live/types/\" target=\"_blank\">Click here for a list of all supported column names.</a></td></tr><tr><th>granteegrantorownerrelationshipcode</th><td style=\"background-color: lightpink\"><nobr>Unrecognized Column Name</nobr></td><td style=\"text-align: left\">This column name is not supported. <a href=\"https://demyst.com/docs/demyst-live/types/\" target=\"_blank\">Click here for a list of all supported column names.</a></td></tr><tr><th>granteeinfoentitycount</th><td style=\"background-color: lightpink\"><nobr>Unrecognized Column Name</nobr></td><td style=\"text-align: left\">This column name is not supported. <a href=\"https://demyst.com/docs/demyst-live/types/\" target=\"_blank\">Click here for a list of all supported column names.</a></td></tr><tr><th>granteeinfovesting1</th><td style=\"background-color: lightpink\"><nobr>Unrecognized Column Name</nobr></td><td style=\"text-align: left\">This column name is not supported. <a href=\"https://demyst.com/docs/demyst-live/types/\" target=\"_blank\">Click here for a list of all supported column names.</a></td></tr><tr><th>granteeinfovesting2</th><td style=\"background-color: lightpink\"><nobr>Unrecognized Column Name</nobr></td><td style=\"text-align: left\">This column name is not supported. <a href=\"https://demyst.com/docs/demyst-live/types/\" target=\"_blank\">Click here for a list of all supported column names.</a></td></tr><tr><th>granteeinvestorflag</th><td style=\"background-color: lightpink\"><nobr>Unrecognized Column Name</nobr></td><td style=\"text-align: left\">This column name is not supported. <a href=\"https://demyst.com/docs/demyst-live/types/\" target=\"_blank\">Click here for a list of all supported column names.</a></td></tr><tr><th>granteemailaddresscity</th><td style=\"background-color: lightpink\"><nobr>Unrecognized Column Name</nobr></td><td style=\"text-align: left\">This column name is not supported. <a href=\"https://demyst.com/docs/demyst-live/types/\" target=\"_blank\">Click here for a list of all supported column names.</a></td></tr><tr><th>granteemailaddresscrrt</th><td style=\"background-color: lightpink\"><nobr>Unrecognized Column Name</nobr></td><td style=\"text-align: left\">This column name is not supported. <a href=\"https://demyst.com/docs/demyst-live/types/\" target=\"_blank\">Click here for a list of all supported column names.</a></td></tr><tr><th>granteemailaddressfull</th><td style=\"background-color: lightpink\"><nobr>Unrecognized Column Name</nobr></td><td style=\"text-align: left\">This column name is not supported. <a href=\"https://demyst.com/docs/demyst-live/types/\" target=\"_blank\">Click here for a list of all supported column names.</a></td></tr><tr><th>granteemailaddresshousenumber</th><td style=\"background-color: lightpink\"><nobr>Unrecognized Column Name</nobr></td><td style=\"text-align: left\">This column name is not supported. <a href=\"https://demyst.com/docs/demyst-live/types/\" target=\"_blank\">Click here for a list of all supported column names.</a></td></tr><tr><th>granteemailaddressinfoformat</th><td style=\"background-color: lightpink\"><nobr>Unrecognized Column Name</nobr></td><td style=\"text-align: left\">This column name is not supported. <a href=\"https://demyst.com/docs/demyst-live/types/\" target=\"_blank\">Click here for a list of all supported column names.</a></td></tr><tr><th>granteemailaddressinfoprivacy</th><td style=\"background-color: lightpink\"><nobr>Unrecognized Column Name</nobr></td><td style=\"text-align: left\">This column name is not supported. <a href=\"https://demyst.com/docs/demyst-live/types/\" target=\"_blank\">Click here for a list of all supported column names.</a></td></tr><tr><th>granteemailaddressstate</th><td style=\"background-color: lightpink\"><nobr>Unrecognized Column Name</nobr></td><td style=\"text-align: left\">This column name is not supported. <a href=\"https://demyst.com/docs/demyst-live/types/\" target=\"_blank\">Click here for a list of all supported column names.</a></td></tr><tr><th>granteemailaddressstreetdirection</th><td style=\"background-color: lightpink\"><nobr>Unrecognized Column Name</nobr></td><td style=\"text-align: left\">This column name is not supported. <a href=\"https://demyst.com/docs/demyst-live/types/\" target=\"_blank\">Click here for a list of all supported column names.</a></td></tr><tr><th>granteemailaddressstreetname</th><td style=\"background-color: lightpink\"><nobr>Unrecognized Column Name</nobr></td><td style=\"text-align: left\">This column name is not supported. <a href=\"https://demyst.com/docs/demyst-live/types/\" target=\"_blank\">Click here for a list of all supported column names.</a></td></tr><tr><th>granteemailaddressstreetpostdirection</th><td style=\"background-color: lightpink\"><nobr>Unrecognized Column Name</nobr></td><td style=\"text-align: left\">This column name is not supported. <a href=\"https://demyst.com/docs/demyst-live/types/\" target=\"_blank\">Click here for a list of all supported column names.</a></td></tr><tr><th>granteemailaddressstreetsuffix</th><td style=\"background-color: lightpink\"><nobr>Unrecognized Column Name</nobr></td><td style=\"text-align: left\">This column name is not supported. <a href=\"https://demyst.com/docs/demyst-live/types/\" target=\"_blank\">Click here for a list of all supported column names.</a></td></tr><tr><th>granteemailaddressunitprefix</th><td style=\"background-color: lightpink\"><nobr>Unrecognized Column Name</nobr></td><td style=\"text-align: left\">This column name is not supported. <a href=\"https://demyst.com/docs/demyst-live/types/\" target=\"_blank\">Click here for a list of all supported column names.</a></td></tr><tr><th>granteemailaddressunitvalue</th><td style=\"background-color: lightpink\"><nobr>Unrecognized Column Name</nobr></td><td style=\"text-align: left\">This column name is not supported. <a href=\"https://demyst.com/docs/demyst-live/types/\" target=\"_blank\">Click here for a list of all supported column names.</a></td></tr><tr><th>granteemailaddresszip</th><td style=\"background-color: lightpink\"><nobr>Unrecognized Column Name</nobr></td><td style=\"text-align: left\">This column name is not supported. <a href=\"https://demyst.com/docs/demyst-live/types/\" target=\"_blank\">Click here for a list of all supported column names.</a></td></tr><tr><th>granteemailaddresszip4</th><td style=\"background-color: lightpink\"><nobr>Unrecognized Column Name</nobr></td><td style=\"text-align: left\">This column name is not supported. <a href=\"https://demyst.com/docs/demyst-live/types/\" target=\"_blank\">Click here for a list of all supported column names.</a></td></tr><tr><th>granteemailcareofname</th><td style=\"background-color: lightpink\"><nobr>Unrecognized Column Name</nobr></td><td style=\"text-align: left\">This column name is not supported. <a href=\"https://demyst.com/docs/demyst-live/types/\" target=\"_blank\">Click here for a list of all supported column names.</a></td></tr><tr><th>grantor1infoentityclassification</th><td style=\"background-color: lightpink\"><nobr>Unrecognized Column Name</nobr></td><td style=\"text-align: left\">This column name is not supported. <a href=\"https://demyst.com/docs/demyst-live/types/\" target=\"_blank\">Click here for a list of all supported column names.</a></td></tr><tr><th>grantor1infoownertype</th><td style=\"background-color: lightpink\"><nobr>Unrecognized Column Name</nobr></td><td style=\"text-align: left\">This column name is not supported. <a href=\"https://demyst.com/docs/demyst-live/types/\" target=\"_blank\">Click here for a list of all supported column names.</a></td></tr><tr><th>grantor1namefirst</th><td style=\"background-color: lightpink\"><nobr>Unrecognized Column Name</nobr></td><td style=\"text-align: left\">This column name is not supported. <a href=\"https://demyst.com/docs/demyst-live/types/\" target=\"_blank\">Click here for a list of all supported column names.</a></td></tr><tr><th>grantor1namefull</th><td style=\"background-color: lightpink\"><nobr>Unrecognized Column Name</nobr></td><td style=\"text-align: left\">This column name is not supported. <a href=\"https://demyst.com/docs/demyst-live/types/\" target=\"_blank\">Click here for a list of all supported column names.</a></td></tr><tr><th>grantor1namelast</th><td style=\"background-color: lightpink\"><nobr>Unrecognized Column Name</nobr></td><td style=\"text-align: left\">This column name is not supported. <a href=\"https://demyst.com/docs/demyst-live/types/\" target=\"_blank\">Click here for a list of all supported column names.</a></td></tr><tr><th>grantor1namemiddle</th><td style=\"background-color: lightpink\"><nobr>Unrecognized Column Name</nobr></td><td style=\"text-align: left\">This column name is not supported. <a href=\"https://demyst.com/docs/demyst-live/types/\" target=\"_blank\">Click here for a list of all supported column names.</a></td></tr><tr><th>grantor1namesuffix</th><td style=\"background-color: lightpink\"><nobr>Unrecognized Column Name</nobr></td><td style=\"text-align: left\">This column name is not supported. <a href=\"https://demyst.com/docs/demyst-live/types/\" target=\"_blank\">Click here for a list of all supported column names.</a></td></tr><tr><th>grantor2infoentityclassification</th><td style=\"background-color: lightpink\"><nobr>Unrecognized Column Name</nobr></td><td style=\"text-align: left\">This column name is not supported. <a href=\"https://demyst.com/docs/demyst-live/types/\" target=\"_blank\">Click here for a list of all supported column names.</a></td></tr><tr><th>grantor2infoownertype</th><td style=\"background-color: lightpink\"><nobr>Unrecognized Column Name</nobr></td><td style=\"text-align: left\">This column name is not supported. <a href=\"https://demyst.com/docs/demyst-live/types/\" target=\"_blank\">Click here for a list of all supported column names.</a></td></tr><tr><th>grantor2namefirst</th><td style=\"background-color: lightpink\"><nobr>Unrecognized Column Name</nobr></td><td style=\"text-align: left\">This column name is not supported. <a href=\"https://demyst.com/docs/demyst-live/types/\" target=\"_blank\">Click here for a list of all supported column names.</a></td></tr><tr><th>grantor2namefull</th><td style=\"background-color: lightpink\"><nobr>Unrecognized Column Name</nobr></td><td style=\"text-align: left\">This column name is not supported. <a href=\"https://demyst.com/docs/demyst-live/types/\" target=\"_blank\">Click here for a list of all supported column names.</a></td></tr><tr><th>grantor2namelast</th><td style=\"background-color: lightpink\"><nobr>Unrecognized Column Name</nobr></td><td style=\"text-align: left\">This column name is not supported. <a href=\"https://demyst.com/docs/demyst-live/types/\" target=\"_blank\">Click here for a list of all supported column names.</a></td></tr><tr><th>grantor2namemiddle</th><td style=\"background-color: lightpink\"><nobr>Unrecognized Column Name</nobr></td><td style=\"text-align: left\">This column name is not supported. <a href=\"https://demyst.com/docs/demyst-live/types/\" target=\"_blank\">Click here for a list of all supported column names.</a></td></tr><tr><th>grantor2namesuffix</th><td style=\"background-color: lightpink\"><nobr>Unrecognized Column Name</nobr></td><td style=\"text-align: left\">This column name is not supported. <a href=\"https://demyst.com/docs/demyst-live/types/\" target=\"_blank\">Click here for a list of all supported column names.</a></td></tr><tr><th>grantor3infoentityclassification</th><td style=\"background-color: lightpink\"><nobr>Unrecognized Column Name</nobr></td><td style=\"text-align: left\">This column name is not supported. <a href=\"https://demyst.com/docs/demyst-live/types/\" target=\"_blank\">Click here for a list of all supported column names.</a></td></tr><tr><th>grantor3namefirst</th><td style=\"background-color: lightpink\"><nobr>Unrecognized Column Name</nobr></td><td style=\"text-align: left\">This column name is not supported. <a href=\"https://demyst.com/docs/demyst-live/types/\" target=\"_blank\">Click here for a list of all supported column names.</a></td></tr><tr><th>grantor3namefull</th><td style=\"background-color: lightpink\"><nobr>Unrecognized Column Name</nobr></td><td style=\"text-align: left\">This column name is not supported. <a href=\"https://demyst.com/docs/demyst-live/types/\" target=\"_blank\">Click here for a list of all supported column names.</a></td></tr><tr><th>grantor3namelast</th><td style=\"background-color: lightpink\"><nobr>Unrecognized Column Name</nobr></td><td style=\"text-align: left\">This column name is not supported. <a href=\"https://demyst.com/docs/demyst-live/types/\" target=\"_blank\">Click here for a list of all supported column names.</a></td></tr><tr><th>grantor3namemiddle</th><td style=\"background-color: lightpink\"><nobr>Unrecognized Column Name</nobr></td><td style=\"text-align: left\">This column name is not supported. <a href=\"https://demyst.com/docs/demyst-live/types/\" target=\"_blank\">Click here for a list of all supported column names.</a></td></tr><tr><th>grantor3namesuffix</th><td style=\"background-color: lightpink\"><nobr>Unrecognized Column Name</nobr></td><td style=\"text-align: left\">This column name is not supported. <a href=\"https://demyst.com/docs/demyst-live/types/\" target=\"_blank\">Click here for a list of all supported column names.</a></td></tr><tr><th>grantor4infoentityclassification</th><td style=\"background-color: lightpink\"><nobr>Unrecognized Column Name</nobr></td><td style=\"text-align: left\">This column name is not supported. <a href=\"https://demyst.com/docs/demyst-live/types/\" target=\"_blank\">Click here for a list of all supported column names.</a></td></tr><tr><th>grantor4namefirst</th><td style=\"background-color: lightpink\"><nobr>Unrecognized Column Name</nobr></td><td style=\"text-align: left\">This column name is not supported. <a href=\"https://demyst.com/docs/demyst-live/types/\" target=\"_blank\">Click here for a list of all supported column names.</a></td></tr><tr><th>grantor4namefull</th><td style=\"background-color: lightpink\"><nobr>Unrecognized Column Name</nobr></td><td style=\"text-align: left\">This column name is not supported. <a href=\"https://demyst.com/docs/demyst-live/types/\" target=\"_blank\">Click here for a list of all supported column names.</a></td></tr><tr><th>grantor4namelast</th><td style=\"background-color: lightpink\"><nobr>Unrecognized Column Name</nobr></td><td style=\"text-align: left\">This column name is not supported. <a href=\"https://demyst.com/docs/demyst-live/types/\" target=\"_blank\">Click here for a list of all supported column names.</a></td></tr><tr><th>grantor4namemiddle</th><td style=\"background-color: lightpink\"><nobr>Unrecognized Column Name</nobr></td><td style=\"text-align: left\">This column name is not supported. <a href=\"https://demyst.com/docs/demyst-live/types/\" target=\"_blank\">Click here for a list of all supported column names.</a></td></tr><tr><th>grantor4namesuffix</th><td style=\"background-color: lightpink\"><nobr>Unrecognized Column Name</nobr></td><td style=\"text-align: left\">This column name is not supported. <a href=\"https://demyst.com/docs/demyst-live/types/\" target=\"_blank\">Click here for a list of all supported column names.</a></td></tr><tr><th>grantoraddresscity</th><td style=\"background-color: lightpink\"><nobr>Unrecognized Column Name</nobr></td><td style=\"text-align: left\">This column name is not supported. <a href=\"https://demyst.com/docs/demyst-live/types/\" target=\"_blank\">Click here for a list of all supported column names.</a></td></tr><tr><th>grantoraddresscrrt</th><td style=\"background-color: lightpink\"><nobr>Unrecognized Column Name</nobr></td><td style=\"text-align: left\">This column name is not supported. <a href=\"https://demyst.com/docs/demyst-live/types/\" target=\"_blank\">Click here for a list of all supported column names.</a></td></tr><tr><th>grantoraddressfull</th><td style=\"background-color: lightpink\"><nobr>Unrecognized Column Name</nobr></td><td style=\"text-align: left\">This column name is not supported. <a href=\"https://demyst.com/docs/demyst-live/types/\" target=\"_blank\">Click here for a list of all supported column names.</a></td></tr><tr><th>grantoraddresshousenumber</th><td style=\"background-color: lightpink\"><nobr>Unrecognized Column Name</nobr></td><td style=\"text-align: left\">This column name is not supported. <a href=\"https://demyst.com/docs/demyst-live/types/\" target=\"_blank\">Click here for a list of all supported column names.</a></td></tr><tr><th>grantoraddressinfoformat</th><td style=\"background-color: lightpink\"><nobr>Unrecognized Column Name</nobr></td><td style=\"text-align: left\">This column name is not supported. <a href=\"https://demyst.com/docs/demyst-live/types/\" target=\"_blank\">Click here for a list of all supported column names.</a></td></tr><tr><th>grantoraddressinfoprivacy</th><td style=\"background-color: lightpink\"><nobr>Unrecognized Column Name</nobr></td><td style=\"text-align: left\">This column name is not supported. <a href=\"https://demyst.com/docs/demyst-live/types/\" target=\"_blank\">Click here for a list of all supported column names.</a></td></tr><tr><th>grantoraddressstate</th><td style=\"background-color: lightpink\"><nobr>Unrecognized Column Name</nobr></td><td style=\"text-align: left\">This column name is not supported. <a href=\"https://demyst.com/docs/demyst-live/types/\" target=\"_blank\">Click here for a list of all supported column names.</a></td></tr><tr><th>grantoraddressstreetdirection</th><td style=\"background-color: lightpink\"><nobr>Unrecognized Column Name</nobr></td><td style=\"text-align: left\">This column name is not supported. <a href=\"https://demyst.com/docs/demyst-live/types/\" target=\"_blank\">Click here for a list of all supported column names.</a></td></tr><tr><th>grantoraddressstreetname</th><td style=\"background-color: lightpink\"><nobr>Unrecognized Column Name</nobr></td><td style=\"text-align: left\">This column name is not supported. <a href=\"https://demyst.com/docs/demyst-live/types/\" target=\"_blank\">Click here for a list of all supported column names.</a></td></tr><tr><th>grantoraddressstreetpostdirection</th><td style=\"background-color: lightpink\"><nobr>Unrecognized Column Name</nobr></td><td style=\"text-align: left\">This column name is not supported. <a href=\"https://demyst.com/docs/demyst-live/types/\" target=\"_blank\">Click here for a list of all supported column names.</a></td></tr><tr><th>grantoraddressstreetsuffix</th><td style=\"background-color: lightpink\"><nobr>Unrecognized Column Name</nobr></td><td style=\"text-align: left\">This column name is not supported. <a href=\"https://demyst.com/docs/demyst-live/types/\" target=\"_blank\">Click here for a list of all supported column names.</a></td></tr><tr><th>grantoraddressunitprefix</th><td style=\"background-color: lightpink\"><nobr>Unrecognized Column Name</nobr></td><td style=\"text-align: left\">This column name is not supported. <a href=\"https://demyst.com/docs/demyst-live/types/\" target=\"_blank\">Click here for a list of all supported column names.</a></td></tr><tr><th>grantoraddressunitvalue</th><td style=\"background-color: lightpink\"><nobr>Unrecognized Column Name</nobr></td><td style=\"text-align: left\">This column name is not supported. <a href=\"https://demyst.com/docs/demyst-live/types/\" target=\"_blank\">Click here for a list of all supported column names.</a></td></tr><tr><th>grantoraddresszip</th><td style=\"background-color: lightpink\"><nobr>Unrecognized Column Name</nobr></td><td style=\"text-align: left\">This column name is not supported. <a href=\"https://demyst.com/docs/demyst-live/types/\" target=\"_blank\">Click here for a list of all supported column names.</a></td></tr><tr><th>grantoraddresszip4</th><td style=\"background-color: lightpink\"><nobr>Unrecognized Column Name</nobr></td><td style=\"text-align: left\">This column name is not supported. <a href=\"https://demyst.com/docs/demyst-live/types/\" target=\"_blank\">Click here for a list of all supported column names.</a></td></tr><tr><th>instrumentdate</th><td style=\"background-color: lightpink\"><nobr>Unrecognized Column Name</nobr></td><td style=\"text-align: left\">This column name is not supported. <a href=\"https://demyst.com/docs/demyst-live/types/\" target=\"_blank\">Click here for a list of all supported column names.</a></td></tr><tr><th>instrumentnumber</th><td style=\"background-color: lightpink\"><nobr>Unrecognized Column Name</nobr></td><td style=\"text-align: left\">This column name is not supported. <a href=\"https://demyst.com/docs/demyst-live/types/\" target=\"_blank\">Click here for a list of all supported column names.</a></td></tr><tr><th>lastupdated</th><td style=\"background-color: lightpink\"><nobr>Unrecognized Column Name</nobr></td><td style=\"text-align: left\">This column name is not supported. <a href=\"https://demyst.com/docs/demyst-live/types/\" target=\"_blank\">Click here for a list of all supported column names.</a></td></tr><tr><th>legalblock</th><td style=\"background-color: lightpink\"><nobr>Unrecognized Column Name</nobr></td><td style=\"text-align: left\">This column name is not supported. <a href=\"https://demyst.com/docs/demyst-live/types/\" target=\"_blank\">Click here for a list of all supported column names.</a></td></tr><tr><th>legaldescriptionpart1</th><td style=\"background-color: lightpink\"><nobr>Unrecognized Column Name</nobr></td><td style=\"text-align: left\">This column name is not supported. <a href=\"https://demyst.com/docs/demyst-live/types/\" target=\"_blank\">Click here for a list of all supported column names.</a></td></tr><tr><th>legaldescriptionpart2</th><td style=\"background-color: lightpink\"><nobr>Unrecognized Column Name</nobr></td><td style=\"text-align: left\">This column name is not supported. <a href=\"https://demyst.com/docs/demyst-live/types/\" target=\"_blank\">Click here for a list of all supported column names.</a></td></tr><tr><th>legaldescriptionpart3</th><td style=\"background-color: lightpink\"><nobr>Unrecognized Column Name</nobr></td><td style=\"text-align: left\">This column name is not supported. <a href=\"https://demyst.com/docs/demyst-live/types/\" target=\"_blank\">Click here for a list of all supported column names.</a></td></tr><tr><th>legaldescriptionpart4</th><td style=\"background-color: lightpink\"><nobr>Unrecognized Column Name</nobr></td><td style=\"text-align: left\">This column name is not supported. <a href=\"https://demyst.com/docs/demyst-live/types/\" target=\"_blank\">Click here for a list of all supported column names.</a></td></tr><tr><th>legaldistrict</th><td style=\"background-color: lightpink\"><nobr>Unrecognized Column Name</nobr></td><td style=\"text-align: left\">This column name is not supported. <a href=\"https://demyst.com/docs/demyst-live/types/\" target=\"_blank\">Click here for a list of all supported column names.</a></td></tr><tr><th>legallot</th><td style=\"background-color: lightpink\"><nobr>Unrecognized Column Name</nobr></td><td style=\"text-align: left\">This column name is not supported. <a href=\"https://demyst.com/docs/demyst-live/types/\" target=\"_blank\">Click here for a list of all supported column names.</a></td></tr><tr><th>legalplatmapbook</th><td style=\"background-color: lightpink\"><nobr>Unrecognized Column Name</nobr></td><td style=\"text-align: left\">This column name is not supported. <a href=\"https://demyst.com/docs/demyst-live/types/\" target=\"_blank\">Click here for a list of all supported column names.</a></td></tr><tr><th>legalplatmappage</th><td style=\"background-color: lightpink\"><nobr>Unrecognized Column Name</nobr></td><td style=\"text-align: left\">This column name is not supported. <a href=\"https://demyst.com/docs/demyst-live/types/\" target=\"_blank\">Click here for a list of all supported column names.</a></td></tr><tr><th>legalrange</th><td style=\"background-color: lightpink\"><nobr>Unrecognized Column Name</nobr></td><td style=\"text-align: left\">This column name is not supported. <a href=\"https://demyst.com/docs/demyst-live/types/\" target=\"_blank\">Click here for a list of all supported column names.</a></td></tr><tr><th>legalsection</th><td style=\"background-color: lightpink\"><nobr>Unrecognized Column Name</nobr></td><td style=\"text-align: left\">This column name is not supported. <a href=\"https://demyst.com/docs/demyst-live/types/\" target=\"_blank\">Click here for a list of all supported column names.</a></td></tr><tr><th>legalsubdivision</th><td style=\"background-color: lightpink\"><nobr>Unrecognized Column Name</nobr></td><td style=\"text-align: left\">This column name is not supported. <a href=\"https://demyst.com/docs/demyst-live/types/\" target=\"_blank\">Click here for a list of all supported column names.</a></td></tr><tr><th>legaltownship</th><td style=\"background-color: lightpink\"><nobr>Unrecognized Column Name</nobr></td><td style=\"text-align: left\">This column name is not supported. <a href=\"https://demyst.com/docs/demyst-live/types/\" target=\"_blank\">Click here for a list of all supported column names.</a></td></tr><tr><th>legaltract</th><td style=\"background-color: lightpink\"><nobr>Unrecognized Column Name</nobr></td><td style=\"text-align: left\">This column name is not supported. <a href=\"https://demyst.com/docs/demyst-live/types/\" target=\"_blank\">Click here for a list of all supported column names.</a></td></tr><tr><th>legalunit</th><td style=\"background-color: lightpink\"><nobr>Unrecognized Column Name</nobr></td><td style=\"text-align: left\">This column name is not supported. <a href=\"https://demyst.com/docs/demyst-live/types/\" target=\"_blank\">Click here for a list of all supported column names.</a></td></tr><tr><th>mortgage1adjustablerateindex</th><td style=\"background-color: lightpink\"><nobr>Unrecognized Column Name</nobr></td><td style=\"text-align: left\">This column name is not supported. <a href=\"https://demyst.com/docs/demyst-live/types/\" target=\"_blank\">Click here for a list of all supported column names.</a></td></tr><tr><th>mortgage1amount</th><td style=\"background-color: lightpink\"><nobr>Unrecognized Column Name</nobr></td><td style=\"text-align: left\">This column name is not supported. <a href=\"https://demyst.com/docs/demyst-live/types/\" target=\"_blank\">Click here for a list of all supported column names.</a></td></tr><tr><th>mortgage1book</th><td style=\"background-color: lightpink\"><nobr>Unrecognized Column Name</nobr></td><td style=\"text-align: left\">This column name is not supported. <a href=\"https://demyst.com/docs/demyst-live/types/\" target=\"_blank\">Click here for a list of all supported column names.</a></td></tr><tr><th>mortgage1documentinforideradjustablerateflag</th><td style=\"background-color: lightpink\"><nobr>Unrecognized Column Name</nobr></td><td style=\"text-align: left\">This column name is not supported. <a href=\"https://demyst.com/docs/demyst-live/types/\" target=\"_blank\">Click here for a list of all supported column names.</a></td></tr><tr><th>mortgage1documentnumberformatted</th><td style=\"background-color: lightpink\"><nobr>Unrecognized Column Name</nobr></td><td style=\"text-align: left\">This column name is not supported. <a href=\"https://demyst.com/docs/demyst-live/types/\" target=\"_blank\">Click here for a list of all supported column names.</a></td></tr><tr><th>mortgage1documentnumberlegacy</th><td style=\"background-color: lightpink\"><nobr>Unrecognized Column Name</nobr></td><td style=\"text-align: left\">This column name is not supported. <a href=\"https://demyst.com/docs/demyst-live/types/\" target=\"_blank\">Click here for a list of all supported column names.</a></td></tr><tr><th>mortgage1fixedstepconversionrate</th><td style=\"background-color: lightpink\"><nobr>Unrecognized Column Name</nobr></td><td style=\"text-align: left\">This column name is not supported. <a href=\"https://demyst.com/docs/demyst-live/types/\" target=\"_blank\">Click here for a list of all supported column names.</a></td></tr><tr><th>mortgage1infointeresttypechangeday</th><td style=\"background-color: lightpink\"><nobr>Unrecognized Column Name</nobr></td><td style=\"text-align: left\">This column name is not supported. <a href=\"https://demyst.com/docs/demyst-live/types/\" target=\"_blank\">Click here for a list of all supported column names.</a></td></tr><tr><th>mortgage1infointeresttypechangemonth</th><td style=\"background-color: lightpink\"><nobr>Unrecognized Column Name</nobr></td><td style=\"text-align: left\">This column name is not supported. <a href=\"https://demyst.com/docs/demyst-live/types/\" target=\"_blank\">Click here for a list of all supported column names.</a></td></tr><tr><th>mortgage1infointeresttypechangeyear</th><td style=\"background-color: lightpink\"><nobr>Unrecognized Column Name</nobr></td><td style=\"text-align: left\">This column name is not supported. <a href=\"https://demyst.com/docs/demyst-live/types/\" target=\"_blank\">Click here for a list of all supported column names.</a></td></tr><tr><th>mortgage1infoprepaymentpenaltyflag</th><td style=\"background-color: lightpink\"><nobr>Unrecognized Column Name</nobr></td><td style=\"text-align: left\">This column name is not supported. <a href=\"https://demyst.com/docs/demyst-live/types/\" target=\"_blank\">Click here for a list of all supported column names.</a></td></tr><tr><th>mortgage1infoprepaymentterm</th><td style=\"background-color: lightpink\"><nobr>Unrecognized Column Name</nobr></td><td style=\"text-align: left\">This column name is not supported. <a href=\"https://demyst.com/docs/demyst-live/types/\" target=\"_blank\">Click here for a list of all supported column names.</a></td></tr><tr><th>mortgage1instrumentnumber</th><td style=\"background-color: lightpink\"><nobr>Unrecognized Column Name</nobr></td><td style=\"text-align: left\">This column name is not supported. <a href=\"https://demyst.com/docs/demyst-live/types/\" target=\"_blank\">Click here for a list of all supported column names.</a></td></tr><tr><th>mortgage1interestchangefrequency</th><td style=\"background-color: lightpink\"><nobr>Unrecognized Column Name</nobr></td><td style=\"text-align: left\">This column name is not supported. <a href=\"https://demyst.com/docs/demyst-live/types/\" target=\"_blank\">Click here for a list of all supported column names.</a></td></tr><tr><th>mortgage1interestindex</th><td style=\"background-color: lightpink\"><nobr>Unrecognized Column Name</nobr></td><td style=\"text-align: left\">This column name is not supported. <a href=\"https://demyst.com/docs/demyst-live/types/\" target=\"_blank\">Click here for a list of all supported column names.</a></td></tr><tr><th>mortgage1interestmargin</th><td style=\"background-color: lightpink\"><nobr>Unrecognized Column Name</nobr></td><td style=\"text-align: left\">This column name is not supported. <a href=\"https://demyst.com/docs/demyst-live/types/\" target=\"_blank\">Click here for a list of all supported column names.</a></td></tr><tr><th>mortgage1interestonlyflag</th><td style=\"background-color: lightpink\"><nobr>Unrecognized Column Name</nobr></td><td style=\"text-align: left\">This column name is not supported. <a href=\"https://demyst.com/docs/demyst-live/types/\" target=\"_blank\">Click here for a list of all supported column names.</a></td></tr><tr><th>mortgage1interestonlyperiod</th><td style=\"background-color: lightpink\"><nobr>Unrecognized Column Name</nobr></td><td style=\"text-align: left\">This column name is not supported. <a href=\"https://demyst.com/docs/demyst-live/types/\" target=\"_blank\">Click here for a list of all supported column names.</a></td></tr><tr><th>mortgage1interestrate</th><td style=\"background-color: lightpink\"><nobr>Unrecognized Column Name</nobr></td><td style=\"text-align: left\">This column name is not supported. <a href=\"https://demyst.com/docs/demyst-live/types/\" target=\"_blank\">Click here for a list of all supported column names.</a></td></tr><tr><th>mortgage1interestratemax</th><td style=\"background-color: lightpink\"><nobr>Unrecognized Column Name</nobr></td><td style=\"text-align: left\">This column name is not supported. <a href=\"https://demyst.com/docs/demyst-live/types/\" target=\"_blank\">Click here for a list of all supported column names.</a></td></tr><tr><th>mortgage1interestratemaxfirstchangerateconversion</th><td style=\"background-color: lightpink\"><nobr>Unrecognized Column Name</nobr></td><td style=\"text-align: left\">This column name is not supported. <a href=\"https://demyst.com/docs/demyst-live/types/\" target=\"_blank\">Click here for a list of all supported column names.</a></td></tr><tr><th>mortgage1interestrateminfirstchangerateconversion</th><td style=\"background-color: lightpink\"><nobr>Unrecognized Column Name</nobr></td><td style=\"text-align: left\">This column name is not supported. <a href=\"https://demyst.com/docs/demyst-live/types/\" target=\"_blank\">Click here for a list of all supported column names.</a></td></tr><tr><th>mortgage1interestratetype</th><td style=\"background-color: lightpink\"><nobr>Unrecognized Column Name</nobr></td><td style=\"text-align: left\">This column name is not supported. <a href=\"https://demyst.com/docs/demyst-live/types/\" target=\"_blank\">Click here for a list of all supported column names.</a></td></tr><tr><th>mortgage1interesttypeinitial</th><td style=\"background-color: lightpink\"><nobr>Unrecognized Column Name</nobr></td><td style=\"text-align: left\">This column name is not supported. <a href=\"https://demyst.com/docs/demyst-live/types/\" target=\"_blank\">Click here for a list of all supported column names.</a></td></tr><tr><th>mortgage1lenderaddress</th><td style=\"background-color: lightpink\"><nobr>Unrecognized Column Name</nobr></td><td style=\"text-align: left\">This column name is not supported. <a href=\"https://demyst.com/docs/demyst-live/types/\" target=\"_blank\">Click here for a list of all supported column names.</a></td></tr><tr><th>mortgage1lenderaddresscity</th><td style=\"background-color: lightpink\"><nobr>Unrecognized Column Name</nobr></td><td style=\"text-align: left\">This column name is not supported. <a href=\"https://demyst.com/docs/demyst-live/types/\" target=\"_blank\">Click here for a list of all supported column names.</a></td></tr><tr><th>mortgage1lenderaddressstate</th><td style=\"background-color: lightpink\"><nobr>Unrecognized Column Name</nobr></td><td style=\"text-align: left\">This column name is not supported. <a href=\"https://demyst.com/docs/demyst-live/types/\" target=\"_blank\">Click here for a list of all supported column names.</a></td></tr><tr><th>mortgage1lenderaddresszip</th><td style=\"background-color: lightpink\"><nobr>Unrecognized Column Name</nobr></td><td style=\"text-align: left\">This column name is not supported. <a href=\"https://demyst.com/docs/demyst-live/types/\" target=\"_blank\">Click here for a list of all supported column names.</a></td></tr><tr><th>mortgage1lenderaddresszip4</th><td style=\"background-color: lightpink\"><nobr>Unrecognized Column Name</nobr></td><td style=\"text-align: left\">This column name is not supported. <a href=\"https://demyst.com/docs/demyst-live/types/\" target=\"_blank\">Click here for a list of all supported column names.</a></td></tr><tr><th>mortgage1lendercode</th><td style=\"background-color: lightpink\"><nobr>Unrecognized Column Name</nobr></td><td style=\"text-align: left\">This column name is not supported. <a href=\"https://demyst.com/docs/demyst-live/types/\" target=\"_blank\">Click here for a list of all supported column names.</a></td></tr><tr><th>mortgage1lenderinfoentityclassification</th><td style=\"background-color: lightpink\"><nobr>Unrecognized Column Name</nobr></td><td style=\"text-align: left\">This column name is not supported. <a href=\"https://demyst.com/docs/demyst-live/types/\" target=\"_blank\">Click here for a list of all supported column names.</a></td></tr><tr><th>mortgage1lenderinfosellercarrybackflag</th><td style=\"background-color: lightpink\"><nobr>Unrecognized Column Name</nobr></td><td style=\"text-align: left\">This column name is not supported. <a href=\"https://demyst.com/docs/demyst-live/types/\" target=\"_blank\">Click here for a list of all supported column names.</a></td></tr><tr><th>mortgage1lendernamefirst</th><td style=\"background-color: lightpink\"><nobr>Unrecognized Column Name</nobr></td><td style=\"text-align: left\">This column name is not supported. <a href=\"https://demyst.com/docs/demyst-live/types/\" target=\"_blank\">Click here for a list of all supported column names.</a></td></tr><tr><th>mortgage1lendernamefullstandardized</th><td style=\"background-color: lightpink\"><nobr>Unrecognized Column Name</nobr></td><td style=\"text-align: left\">This column name is not supported. <a href=\"https://demyst.com/docs/demyst-live/types/\" target=\"_blank\">Click here for a list of all supported column names.</a></td></tr><tr><th>mortgage1lendernamelast</th><td style=\"background-color: lightpink\"><nobr>Unrecognized Column Name</nobr></td><td style=\"text-align: left\">This column name is not supported. <a href=\"https://demyst.com/docs/demyst-live/types/\" target=\"_blank\">Click here for a list of all supported column names.</a></td></tr><tr><th>mortgage1page</th><td style=\"background-color: lightpink\"><nobr>Unrecognized Column Name</nobr></td><td style=\"text-align: left\">This column name is not supported. <a href=\"https://demyst.com/docs/demyst-live/types/\" target=\"_blank\">Click here for a list of all supported column names.</a></td></tr><tr><th>mortgage1recordingdate</th><td style=\"background-color: lightpink\"><nobr>Unrecognized Column Name</nobr></td><td style=\"text-align: left\">This column name is not supported. <a href=\"https://demyst.com/docs/demyst-live/types/\" target=\"_blank\">Click here for a list of all supported column names.</a></td></tr><tr><th>mortgage1term</th><td style=\"background-color: lightpink\"><nobr>Unrecognized Column Name</nobr></td><td style=\"text-align: left\">This column name is not supported. <a href=\"https://demyst.com/docs/demyst-live/types/\" target=\"_blank\">Click here for a list of all supported column names.</a></td></tr><tr><th>mortgage1termdate</th><td style=\"background-color: lightpink\"><nobr>Unrecognized Column Name</nobr></td><td style=\"text-align: left\">This column name is not supported. <a href=\"https://demyst.com/docs/demyst-live/types/\" target=\"_blank\">Click here for a list of all supported column names.</a></td></tr><tr><th>mortgage1termtype</th><td style=\"background-color: lightpink\"><nobr>Unrecognized Column Name</nobr></td><td style=\"text-align: left\">This column name is not supported. <a href=\"https://demyst.com/docs/demyst-live/types/\" target=\"_blank\">Click here for a list of all supported column names.</a></td></tr><tr><th>mortgage1type</th><td style=\"background-color: lightpink\"><nobr>Unrecognized Column Name</nobr></td><td style=\"text-align: left\">This column name is not supported. <a href=\"https://demyst.com/docs/demyst-live/types/\" target=\"_blank\">Click here for a list of all supported column names.</a></td></tr><tr><th>mortgage2adjustablerateindex</th><td style=\"background-color: lightpink\"><nobr>Unrecognized Column Name</nobr></td><td style=\"text-align: left\">This column name is not supported. <a href=\"https://demyst.com/docs/demyst-live/types/\" target=\"_blank\">Click here for a list of all supported column names.</a></td></tr><tr><th>mortgage2amount</th><td style=\"background-color: lightpink\"><nobr>Unrecognized Column Name</nobr></td><td style=\"text-align: left\">This column name is not supported. <a href=\"https://demyst.com/docs/demyst-live/types/\" target=\"_blank\">Click here for a list of all supported column names.</a></td></tr><tr><th>mortgage2book</th><td style=\"background-color: lightpink\"><nobr>Unrecognized Column Name</nobr></td><td style=\"text-align: left\">This column name is not supported. <a href=\"https://demyst.com/docs/demyst-live/types/\" target=\"_blank\">Click here for a list of all supported column names.</a></td></tr><tr><th>mortgage2documentinforideradjustablerateflag</th><td style=\"background-color: lightpink\"><nobr>Unrecognized Column Name</nobr></td><td style=\"text-align: left\">This column name is not supported. <a href=\"https://demyst.com/docs/demyst-live/types/\" target=\"_blank\">Click here for a list of all supported column names.</a></td></tr><tr><th>mortgage2documentnumberformatted</th><td style=\"background-color: lightpink\"><nobr>Unrecognized Column Name</nobr></td><td style=\"text-align: left\">This column name is not supported. <a href=\"https://demyst.com/docs/demyst-live/types/\" target=\"_blank\">Click here for a list of all supported column names.</a></td></tr><tr><th>mortgage2documentnumberlegacy</th><td style=\"background-color: lightpink\"><nobr>Unrecognized Column Name</nobr></td><td style=\"text-align: left\">This column name is not supported. <a href=\"https://demyst.com/docs/demyst-live/types/\" target=\"_blank\">Click here for a list of all supported column names.</a></td></tr><tr><th>mortgage2fixedstepconversionrate</th><td style=\"background-color: lightpink\"><nobr>Unrecognized Column Name</nobr></td><td style=\"text-align: left\">This column name is not supported. <a href=\"https://demyst.com/docs/demyst-live/types/\" target=\"_blank\">Click here for a list of all supported column names.</a></td></tr><tr><th>mortgage2infointeresttypechangeday</th><td style=\"background-color: lightpink\"><nobr>Unrecognized Column Name</nobr></td><td style=\"text-align: left\">This column name is not supported. <a href=\"https://demyst.com/docs/demyst-live/types/\" target=\"_blank\">Click here for a list of all supported column names.</a></td></tr><tr><th>mortgage2infointeresttypechangemonth</th><td style=\"background-color: lightpink\"><nobr>Unrecognized Column Name</nobr></td><td style=\"text-align: left\">This column name is not supported. <a href=\"https://demyst.com/docs/demyst-live/types/\" target=\"_blank\">Click here for a list of all supported column names.</a></td></tr><tr><th>mortgage2infointeresttypechangeyear</th><td style=\"background-color: lightpink\"><nobr>Unrecognized Column Name</nobr></td><td style=\"text-align: left\">This column name is not supported. <a href=\"https://demyst.com/docs/demyst-live/types/\" target=\"_blank\">Click here for a list of all supported column names.</a></td></tr><tr><th>mortgage2infoprepaymentpenaltyflag</th><td style=\"background-color: lightpink\"><nobr>Unrecognized Column Name</nobr></td><td style=\"text-align: left\">This column name is not supported. <a href=\"https://demyst.com/docs/demyst-live/types/\" target=\"_blank\">Click here for a list of all supported column names.</a></td></tr><tr><th>mortgage2infoprepaymentterm</th><td style=\"background-color: lightpink\"><nobr>Unrecognized Column Name</nobr></td><td style=\"text-align: left\">This column name is not supported. <a href=\"https://demyst.com/docs/demyst-live/types/\" target=\"_blank\">Click here for a list of all supported column names.</a></td></tr><tr><th>mortgage2instrumentnumber</th><td style=\"background-color: lightpink\"><nobr>Unrecognized Column Name</nobr></td><td style=\"text-align: left\">This column name is not supported. <a href=\"https://demyst.com/docs/demyst-live/types/\" target=\"_blank\">Click here for a list of all supported column names.</a></td></tr><tr><th>mortgage2interestchangefrequency</th><td style=\"background-color: lightpink\"><nobr>Unrecognized Column Name</nobr></td><td style=\"text-align: left\">This column name is not supported. <a href=\"https://demyst.com/docs/demyst-live/types/\" target=\"_blank\">Click here for a list of all supported column names.</a></td></tr><tr><th>mortgage2interestindex</th><td style=\"background-color: lightpink\"><nobr>Unrecognized Column Name</nobr></td><td style=\"text-align: left\">This column name is not supported. <a href=\"https://demyst.com/docs/demyst-live/types/\" target=\"_blank\">Click here for a list of all supported column names.</a></td></tr><tr><th>mortgage2interestmargin</th><td style=\"background-color: lightpink\"><nobr>Unrecognized Column Name</nobr></td><td style=\"text-align: left\">This column name is not supported. <a href=\"https://demyst.com/docs/demyst-live/types/\" target=\"_blank\">Click here for a list of all supported column names.</a></td></tr><tr><th>mortgage2interestonlyflag</th><td style=\"background-color: lightpink\"><nobr>Unrecognized Column Name</nobr></td><td style=\"text-align: left\">This column name is not supported. <a href=\"https://demyst.com/docs/demyst-live/types/\" target=\"_blank\">Click here for a list of all supported column names.</a></td></tr><tr><th>mortgage2interestonlyperiod</th><td style=\"background-color: lightpink\"><nobr>Unrecognized Column Name</nobr></td><td style=\"text-align: left\">This column name is not supported. <a href=\"https://demyst.com/docs/demyst-live/types/\" target=\"_blank\">Click here for a list of all supported column names.</a></td></tr><tr><th>mortgage2interestrate</th><td style=\"background-color: lightpink\"><nobr>Unrecognized Column Name</nobr></td><td style=\"text-align: left\">This column name is not supported. <a href=\"https://demyst.com/docs/demyst-live/types/\" target=\"_blank\">Click here for a list of all supported column names.</a></td></tr><tr><th>mortgage2interestratemax</th><td style=\"background-color: lightpink\"><nobr>Unrecognized Column Name</nobr></td><td style=\"text-align: left\">This column name is not supported. <a href=\"https://demyst.com/docs/demyst-live/types/\" target=\"_blank\">Click here for a list of all supported column names.</a></td></tr><tr><th>mortgage2interestratemaxfirstchangerateconversion</th><td style=\"background-color: lightpink\"><nobr>Unrecognized Column Name</nobr></td><td style=\"text-align: left\">This column name is not supported. <a href=\"https://demyst.com/docs/demyst-live/types/\" target=\"_blank\">Click here for a list of all supported column names.</a></td></tr><tr><th>mortgage2interestrateminfirstchangerateconversion</th><td style=\"background-color: lightpink\"><nobr>Unrecognized Column Name</nobr></td><td style=\"text-align: left\">This column name is not supported. <a href=\"https://demyst.com/docs/demyst-live/types/\" target=\"_blank\">Click here for a list of all supported column names.</a></td></tr><tr><th>mortgage2interestratetype</th><td style=\"background-color: lightpink\"><nobr>Unrecognized Column Name</nobr></td><td style=\"text-align: left\">This column name is not supported. <a href=\"https://demyst.com/docs/demyst-live/types/\" target=\"_blank\">Click here for a list of all supported column names.</a></td></tr><tr><th>mortgage2interesttypeinitial</th><td style=\"background-color: lightpink\"><nobr>Unrecognized Column Name</nobr></td><td style=\"text-align: left\">This column name is not supported. <a href=\"https://demyst.com/docs/demyst-live/types/\" target=\"_blank\">Click here for a list of all supported column names.</a></td></tr><tr><th>mortgage2lenderaddress</th><td style=\"background-color: lightpink\"><nobr>Unrecognized Column Name</nobr></td><td style=\"text-align: left\">This column name is not supported. <a href=\"https://demyst.com/docs/demyst-live/types/\" target=\"_blank\">Click here for a list of all supported column names.</a></td></tr><tr><th>mortgage2lenderaddresscity</th><td style=\"background-color: lightpink\"><nobr>Unrecognized Column Name</nobr></td><td style=\"text-align: left\">This column name is not supported. <a href=\"https://demyst.com/docs/demyst-live/types/\" target=\"_blank\">Click here for a list of all supported column names.</a></td></tr><tr><th>mortgage2lenderaddressstate</th><td style=\"background-color: lightpink\"><nobr>Unrecognized Column Name</nobr></td><td style=\"text-align: left\">This column name is not supported. <a href=\"https://demyst.com/docs/demyst-live/types/\" target=\"_blank\">Click here for a list of all supported column names.</a></td></tr><tr><th>mortgage2lenderaddresszip</th><td style=\"background-color: lightpink\"><nobr>Unrecognized Column Name</nobr></td><td style=\"text-align: left\">This column name is not supported. <a href=\"https://demyst.com/docs/demyst-live/types/\" target=\"_blank\">Click here for a list of all supported column names.</a></td></tr><tr><th>mortgage2lenderaddresszip4</th><td style=\"background-color: lightpink\"><nobr>Unrecognized Column Name</nobr></td><td style=\"text-align: left\">This column name is not supported. <a href=\"https://demyst.com/docs/demyst-live/types/\" target=\"_blank\">Click here for a list of all supported column names.</a></td></tr><tr><th>mortgage2lendercode</th><td style=\"background-color: lightpink\"><nobr>Unrecognized Column Name</nobr></td><td style=\"text-align: left\">This column name is not supported. <a href=\"https://demyst.com/docs/demyst-live/types/\" target=\"_blank\">Click here for a list of all supported column names.</a></td></tr><tr><th>mortgage2lenderinfoentityclassification</th><td style=\"background-color: lightpink\"><nobr>Unrecognized Column Name</nobr></td><td style=\"text-align: left\">This column name is not supported. <a href=\"https://demyst.com/docs/demyst-live/types/\" target=\"_blank\">Click here for a list of all supported column names.</a></td></tr><tr><th>mortgage2lenderinfosellercarrybackflag</th><td style=\"background-color: lightpink\"><nobr>Unrecognized Column Name</nobr></td><td style=\"text-align: left\">This column name is not supported. <a href=\"https://demyst.com/docs/demyst-live/types/\" target=\"_blank\">Click here for a list of all supported column names.</a></td></tr><tr><th>mortgage2lendernamefirst</th><td style=\"background-color: lightpink\"><nobr>Unrecognized Column Name</nobr></td><td style=\"text-align: left\">This column name is not supported. <a href=\"https://demyst.com/docs/demyst-live/types/\" target=\"_blank\">Click here for a list of all supported column names.</a></td></tr><tr><th>mortgage2lendernamefullstandardized</th><td style=\"background-color: lightpink\"><nobr>Unrecognized Column Name</nobr></td><td style=\"text-align: left\">This column name is not supported. <a href=\"https://demyst.com/docs/demyst-live/types/\" target=\"_blank\">Click here for a list of all supported column names.</a></td></tr><tr><th>mortgage2lendernamelast</th><td style=\"background-color: lightpink\"><nobr>Unrecognized Column Name</nobr></td><td style=\"text-align: left\">This column name is not supported. <a href=\"https://demyst.com/docs/demyst-live/types/\" target=\"_blank\">Click here for a list of all supported column names.</a></td></tr><tr><th>mortgage2page</th><td style=\"background-color: lightpink\"><nobr>Unrecognized Column Name</nobr></td><td style=\"text-align: left\">This column name is not supported. <a href=\"https://demyst.com/docs/demyst-live/types/\" target=\"_blank\">Click here for a list of all supported column names.</a></td></tr><tr><th>mortgage2recordingdate</th><td style=\"background-color: lightpink\"><nobr>Unrecognized Column Name</nobr></td><td style=\"text-align: left\">This column name is not supported. <a href=\"https://demyst.com/docs/demyst-live/types/\" target=\"_blank\">Click here for a list of all supported column names.</a></td></tr><tr><th>mortgage2term</th><td style=\"background-color: lightpink\"><nobr>Unrecognized Column Name</nobr></td><td style=\"text-align: left\">This column name is not supported. <a href=\"https://demyst.com/docs/demyst-live/types/\" target=\"_blank\">Click here for a list of all supported column names.</a></td></tr><tr><th>mortgage2termdate</th><td style=\"background-color: lightpink\"><nobr>Unrecognized Column Name</nobr></td><td style=\"text-align: left\">This column name is not supported. <a href=\"https://demyst.com/docs/demyst-live/types/\" target=\"_blank\">Click here for a list of all supported column names.</a></td></tr><tr><th>mortgage2termtype</th><td style=\"background-color: lightpink\"><nobr>Unrecognized Column Name</nobr></td><td style=\"text-align: left\">This column name is not supported. <a href=\"https://demyst.com/docs/demyst-live/types/\" target=\"_blank\">Click here for a list of all supported column names.</a></td></tr><tr><th>mortgage2type</th><td style=\"background-color: lightpink\"><nobr>Unrecognized Column Name</nobr></td><td style=\"text-align: left\">This column name is not supported. <a href=\"https://demyst.com/docs/demyst-live/types/\" target=\"_blank\">Click here for a list of all supported column names.</a></td></tr><tr><th>page</th><td style=\"background-color: lightpink\"><nobr>Unrecognized Column Name</nobr></td><td style=\"text-align: left\">This column name is not supported. <a href=\"https://demyst.com/docs/demyst-live/types/\" target=\"_blank\">Click here for a list of all supported column names.</a></td></tr><tr><th>partialinterest</th><td style=\"background-color: lightpink\"><nobr>Unrecognized Column Name</nobr></td><td style=\"text-align: left\">This column name is not supported. <a href=\"https://demyst.com/docs/demyst-live/types/\" target=\"_blank\">Click here for a list of all supported column names.</a></td></tr><tr><th>propertyaddresscity</th><td style=\"background-color: lightpink\"><nobr>Unrecognized Column Name</nobr></td><td style=\"text-align: left\">This column name is not supported. <a href=\"https://demyst.com/docs/demyst-live/types/\" target=\"_blank\">Click here for a list of all supported column names.</a></td></tr><tr><th>propertyaddresscrrt</th><td style=\"background-color: lightpink\"><nobr>Unrecognized Column Name</nobr></td><td style=\"text-align: left\">This column name is not supported. <a href=\"https://demyst.com/docs/demyst-live/types/\" target=\"_blank\">Click here for a list of all supported column names.</a></td></tr><tr><th>propertyaddressfull</th><td style=\"background-color: lightpink\"><nobr>Unrecognized Column Name</nobr></td><td style=\"text-align: left\">This column name is not supported. <a href=\"https://demyst.com/docs/demyst-live/types/\" target=\"_blank\">Click here for a list of all supported column names.</a></td></tr><tr><th>propertyaddresshousenumber</th><td style=\"background-color: lightpink\"><nobr>Unrecognized Column Name</nobr></td><td style=\"text-align: left\">This column name is not supported. <a href=\"https://demyst.com/docs/demyst-live/types/\" target=\"_blank\">Click here for a list of all supported column names.</a></td></tr><tr><th>propertyaddressinfoformat</th><td style=\"background-color: lightpink\"><nobr>Unrecognized Column Name</nobr></td><td style=\"text-align: left\">This column name is not supported. <a href=\"https://demyst.com/docs/demyst-live/types/\" target=\"_blank\">Click here for a list of all supported column names.</a></td></tr><tr><th>propertyaddressinfoprivacy</th><td style=\"background-color: lightpink\"><nobr>Unrecognized Column Name</nobr></td><td style=\"text-align: left\">This column name is not supported. <a href=\"https://demyst.com/docs/demyst-live/types/\" target=\"_blank\">Click here for a list of all supported column names.</a></td></tr><tr><th>propertyaddressstate</th><td style=\"background-color: lightgreen\"><nobr>All Valid</nobr></td><td style=\"text-align: left\">All values in this column are good to go.</td></tr><tr><th>propertyaddressstreetdirection</th><td style=\"background-color: lightpink\"><nobr>Unrecognized Column Name</nobr></td><td style=\"text-align: left\">This column name is not supported. <a href=\"https://demyst.com/docs/demyst-live/types/\" target=\"_blank\">Click here for a list of all supported column names.</a></td></tr><tr><th>propertyaddressstreetname</th><td style=\"background-color: lightpink\"><nobr>Unrecognized Column Name</nobr></td><td style=\"text-align: left\">This column name is not supported. <a href=\"https://demyst.com/docs/demyst-live/types/\" target=\"_blank\">Click here for a list of all supported column names.</a></td></tr><tr><th>propertyaddressstreetpostdirection</th><td style=\"background-color: lightpink\"><nobr>Unrecognized Column Name</nobr></td><td style=\"text-align: left\">This column name is not supported. <a href=\"https://demyst.com/docs/demyst-live/types/\" target=\"_blank\">Click here for a list of all supported column names.</a></td></tr><tr><th>propertyaddressstreetsuffix</th><td style=\"background-color: lightpink\"><nobr>Unrecognized Column Name</nobr></td><td style=\"text-align: left\">This column name is not supported. <a href=\"https://demyst.com/docs/demyst-live/types/\" target=\"_blank\">Click here for a list of all supported column names.</a></td></tr><tr><th>propertyaddressunitprefix</th><td style=\"background-color: lightpink\"><nobr>Unrecognized Column Name</nobr></td><td style=\"text-align: left\">This column name is not supported. <a href=\"https://demyst.com/docs/demyst-live/types/\" target=\"_blank\">Click here for a list of all supported column names.</a></td></tr><tr><th>propertyaddressunitvalue</th><td style=\"background-color: lightpink\"><nobr>Unrecognized Column Name</nobr></td><td style=\"text-align: left\">This column name is not supported. <a href=\"https://demyst.com/docs/demyst-live/types/\" target=\"_blank\">Click here for a list of all supported column names.</a></td></tr><tr><th>propertyaddresszip</th><td style=\"background-color: lightpink\"><nobr>Unrecognized Column Name</nobr></td><td style=\"text-align: left\">This column name is not supported. <a href=\"https://demyst.com/docs/demyst-live/types/\" target=\"_blank\">Click here for a list of all supported column names.</a></td></tr><tr><th>propertyaddresszip4</th><td style=\"background-color: lightpink\"><nobr>Unrecognized Column Name</nobr></td><td style=\"text-align: left\">This column name is not supported. <a href=\"https://demyst.com/docs/demyst-live/types/\" target=\"_blank\">Click here for a list of all supported column names.</a></td></tr><tr><th>propertyusegroup</th><td style=\"background-color: lightpink\"><nobr>Unrecognized Column Name</nobr></td><td style=\"text-align: left\">This column name is not supported. <a href=\"https://demyst.com/docs/demyst-live/types/\" target=\"_blank\">Click here for a list of all supported column names.</a></td></tr><tr><th>propertyusestandardized</th><td style=\"background-color: lightpink\"><nobr>Unrecognized Column Name</nobr></td><td style=\"text-align: left\">This column name is not supported. <a href=\"https://demyst.com/docs/demyst-live/types/\" target=\"_blank\">Click here for a list of all supported column names.</a></td></tr><tr><th>publicationdate</th><td style=\"background-color: lightpink\"><nobr>Unrecognized Column Name</nobr></td><td style=\"text-align: left\">This column name is not supported. <a href=\"https://demyst.com/docs/demyst-live/types/\" target=\"_blank\">Click here for a list of all supported column names.</a></td></tr><tr><th>quitclaimflag</th><td style=\"background-color: lightpink\"><nobr>Unrecognized Column Name</nobr></td><td style=\"text-align: left\">This column name is not supported. <a href=\"https://demyst.com/docs/demyst-live/types/\" target=\"_blank\">Click here for a list of all supported column names.</a></td></tr><tr><th>recordermapreference</th><td style=\"background-color: lightpink\"><nobr>Unrecognized Column Name</nobr></td><td style=\"text-align: left\">This column name is not supported. <a href=\"https://demyst.com/docs/demyst-live/types/\" target=\"_blank\">Click here for a list of all supported column names.</a></td></tr><tr><th>recordingdate</th><td style=\"background-color: lightpink\"><nobr>Unrecognized Column Name</nobr></td><td style=\"text-align: left\">This column name is not supported. <a href=\"https://demyst.com/docs/demyst-live/types/\" target=\"_blank\">Click here for a list of all supported column names.</a></td></tr><tr><th>titlecompanyraw</th><td style=\"background-color: lightpink\"><nobr>Unrecognized Column Name</nobr></td><td style=\"text-align: left\">This column name is not supported. <a href=\"https://demyst.com/docs/demyst-live/types/\" target=\"_blank\">Click here for a list of all supported column names.</a></td></tr><tr><th>titlecompanystandardizedcode</th><td style=\"background-color: lightpink\"><nobr>Unrecognized Column Name</nobr></td><td style=\"text-align: left\">This column name is not supported. <a href=\"https://demyst.com/docs/demyst-live/types/\" target=\"_blank\">Click here for a list of all supported column names.</a></td></tr><tr><th>titlecompanystandardizedname</th><td style=\"background-color: lightpink\"><nobr>Unrecognized Column Name</nobr></td><td style=\"text-align: left\">This column name is not supported. <a href=\"https://demyst.com/docs/demyst-live/types/\" target=\"_blank\">Click here for a list of all supported column names.</a></td></tr><tr><th>transactionid</th><td style=\"background-color: lightpink\"><nobr>Not a String Column</nobr></td><td style=\"text-align: left\">You must convert this column to string type.</td></tr><tr><th>transactiontype</th><td style=\"background-color: lightpink\"><nobr>Unrecognized Column Name</nobr></td><td style=\"text-align: left\">This column name is not supported. <a href=\"https://demyst.com/docs/demyst-live/types/\" target=\"_blank\">Click here for a list of all supported column names.</a></td></tr><tr><th>transferamount</th><td style=\"background-color: lightpink\"><nobr>Unrecognized Column Name</nobr></td><td style=\"text-align: left\">This column name is not supported. <a href=\"https://demyst.com/docs/demyst-live/types/\" target=\"_blank\">Click here for a list of all supported column names.</a></td></tr><tr><th>transferamountinfoaccuracy</th><td style=\"background-color: lightpink\"><nobr>Unrecognized Column Name</nobr></td><td style=\"text-align: left\">This column name is not supported. <a href=\"https://demyst.com/docs/demyst-live/types/\" target=\"_blank\">Click here for a list of all supported column names.</a></td></tr><tr><th>transferinfodistresscircumstancecode</th><td style=\"background-color: lightpink\"><nobr>Unrecognized Column Name</nobr></td><td style=\"text-align: left\">This column name is not supported. <a href=\"https://demyst.com/docs/demyst-live/types/\" target=\"_blank\">Click here for a list of all supported column names.</a></td></tr><tr><th>transferinfomultiparcelflag</th><td style=\"background-color: lightpink\"><nobr>Unrecognized Column Name</nobr></td><td style=\"text-align: left\">This column name is not supported. <a href=\"https://demyst.com/docs/demyst-live/types/\" target=\"_blank\">Click here for a list of all supported column names.</a></td></tr><tr><th>transferinfopurchasedownpayment</th><td style=\"background-color: lightpink\"><nobr>Unrecognized Column Name</nobr></td><td style=\"text-align: left\">This column name is not supported. <a href=\"https://demyst.com/docs/demyst-live/types/\" target=\"_blank\">Click here for a list of all supported column names.</a></td></tr><tr><th>transferinfopurchaseloantovalue</th><td style=\"background-color: lightpink\"><nobr>Unrecognized Column Name</nobr></td><td style=\"text-align: left\">This column name is not supported. <a href=\"https://demyst.com/docs/demyst-live/types/\" target=\"_blank\">Click here for a list of all supported column names.</a></td></tr><tr><th>transferinfopurchasetypecode</th><td style=\"background-color: lightpink\"><nobr>Unrecognized Column Name</nobr></td><td style=\"text-align: left\">This column name is not supported. <a href=\"https://demyst.com/docs/demyst-live/types/\" target=\"_blank\">Click here for a list of all supported column names.</a></td></tr><tr><th>transfertaxcity</th><td style=\"background-color: lightpink\"><nobr>Unrecognized Column Name</nobr></td><td style=\"text-align: left\">This column name is not supported. <a href=\"https://demyst.com/docs/demyst-live/types/\" target=\"_blank\">Click here for a list of all supported column names.</a></td></tr><tr><th>transfertaxcounty</th><td style=\"background-color: lightpink\"><nobr>Unrecognized Column Name</nobr></td><td style=\"text-align: left\">This column name is not supported. <a href=\"https://demyst.com/docs/demyst-live/types/\" target=\"_blank\">Click here for a list of all supported column names.</a></td></tr><tr><th>transfertaxtotal</th><td style=\"background-color: lightpink\"><nobr>Unrecognized Column Name</nobr></td><td style=\"text-align: left\">This column name is not supported. <a href=\"https://demyst.com/docs/demyst-live/types/\" target=\"_blank\">Click here for a list of all supported column names.</a></td></tr><tr><th>error</th><td style=\"background-color: lightpink\"><nobr>Unrecognized Column Name</nobr></td><td style=\"text-align: left\">This column name is not supported. <a href=\"https://demyst.com/docs/demyst-live/types/\" target=\"_blank\">Click here for a list of all supported column names.</a></td></tr></table>"
      ],
      "text/plain": [
       "<demyst.analytics.analytics.Validation at 0x17a39bcc0>"
      ]
     },
     "execution_count": 545,
     "metadata": {},
     "output_type": "execute_result"
    }
   ],
   "source": [
    "df_recorder = clean_avm(results3, 'attom_recorder')\n",
    "analytics.validate(results3)"
   ]
  },
  {
   "cell_type": "code",
   "execution_count": 288,
   "metadata": {},
   "outputs": [],
   "source": [
    "def avm_preprocesser(df, target_col):\n",
    "    df.replace(r'^\\s*$', np.nan, regex=True, inplace=True)\n",
    "    df.dropna(how='all', axis=1, inplace=True)\n",
    "    df.dropna(inplace=True)\n",
    "    df.drop_duplicates(inplace=True)\n",
    "    df.columns = df.columns.str.replace(str(target_col)+'.', '').str.replace('inputs.', '')\n",
    "    return df"
   ]
  },
  {
   "cell_type": "code",
   "execution_count": null,
   "metadata": {},
   "outputs": [],
   "source": [
    "df_avm = avm_preprocessor(df_avm, 'attom_avm')"
   ]
  },
  {
   "cell_type": "code",
   "execution_count": 491,
   "metadata": {},
   "outputs": [],
   "source": [
    "df_avm = clean_avm(df_avm, 'attom_avm')"
   ]
  },
  {
   "cell_type": "code",
   "execution_count": 199,
   "metadata": {},
   "outputs": [
    {
     "name": "stdout",
     "output_type": "stream",
     "text": [
      "Verifying providers...\n",
      "Starting enrichment...\n",
      "Enrich Job ID: 13203\n"
     ]
    },
    {
     "data": {
      "application/vnd.jupyter.widget-view+json": {
       "model_id": "9c42ecb5b6da47ff9edd2232cc889468",
       "version_major": 2,
       "version_minor": 0
      },
      "text/plain": [
       "IntProgress(value=1, max=2)"
      ]
     },
     "metadata": {},
     "output_type": "display_data"
    },
    {
     "data": {
      "application/vnd.jupyter.widget-view+json": {
       "model_id": "67bc32322e064fd690eb47db8d8a5e3b",
       "version_major": 2,
       "version_minor": 0
      },
      "text/plain": [
       "HTML(value='Checking status...')"
      ]
     },
     "metadata": {},
     "output_type": "display_data"
    }
   ],
   "source": [
    "if not os.path.isfile('results_avm_com.csv'):\n",
    "    results_avm_com = analytics.enrich_and_download([\"attom_commercial_avm\"], df_avm, validate=True)\n",
    "    results_avm_com.to_csv('results_avm_com.csv')"
   ]
  },
  {
   "cell_type": "markdown",
   "metadata": {},
   "source": [
    "Based on the number of records that were downloaded through both the 'attom_avm' and 'attom_commerical_avm' data sets,\n",
    "this shows that the input dataset consists *only* of non-commerial/residential records.\n",
    "Therefore, we can deduce that we can remove any of the commercial data sets from further enrichment pipelines."
   ]
  },
  {
   "cell_type": "code",
   "execution_count": 200,
   "metadata": {},
   "outputs": [
    {
     "data": {
      "text/plain": [
       "((8904, 20), (8904, 30))"
      ]
     },
     "execution_count": 200,
     "metadata": {},
     "output_type": "execute_result"
    }
   ],
   "source": [
    "results_avm.shape, results_avm_com.shape"
   ]
  },
  {
   "cell_type": "markdown",
   "metadata": {},
   "source": [
    "The number of records present in the different 'tax_assesor' data sets also confirm that *only* residential properties\n",
    "are present in our input dataset"
   ]
  },
  {
   "cell_type": "code",
   "execution_count": 160,
   "metadata": {},
   "outputs": [
    {
     "name": "stderr",
     "output_type": "stream",
     "text": [
      "Provider doesn't have any sample data.\n"
     ]
    }
   ],
   "source": [
    "analytics.sample_data('data-fn--818-demyst-testdf',row_limit=5).columns"
   ]
  },
  {
   "cell_type": "markdown",
   "metadata": {},
   "source": [
    "We can infer from the name that 'data-fn--818-demyst-testdf' is not going to be of interest to us.\n",
    "Based on the other product descriptions, the other remaining 'attom' data sets could be used for enrichment.\n",
    "The 'powerlytics_lfo2_zipcode_naics4_sales' could be of use, but the output of the cell shown below shows that there isn't an 'attom_id' column to tie in this data set to the others."
   ]
  },
  {
   "cell_type": "code",
   "execution_count": 161,
   "metadata": {},
   "outputs": [
    {
     "data": {
      "text/plain": [
       "False"
      ]
     },
     "execution_count": 161,
     "metadata": {},
     "output_type": "execute_result"
    }
   ],
   "source": [
    "s = analytics.sample_data('powerlytics_lfo2_zipcode_naics4_sales', row_limit=5).columns\n",
    "'attom_id' in s"
   ]
  },
  {
   "cell_type": "code",
   "execution_count": 201,
   "metadata": {},
   "outputs": [
    {
     "data": {
      "text/plain": [
       "['attom_tax_assessor', 'attom_recorder', 'attom_pre_foreclosure']"
      ]
     },
     "execution_count": 201,
     "metadata": {},
     "output_type": "execute_result"
    }
   ],
   "source": [
    "updated_prods = [prod for prod in potential_products if not ('comm' in prod or 'avm' in prod or 'power' in prod \\\n",
    "                                                         or 'data-fn' in prod)]\n",
    "updated_prods"
   ]
  },
  {
   "cell_type": "code",
   "execution_count": 353,
   "metadata": {},
   "outputs": [
    {
     "data": {
      "text/plain": [
       "city           0\n",
       "country        0\n",
       "post_code      0\n",
       "safety_flag    0\n",
       "state          0\n",
       "street         0\n",
       "attom_id       0\n",
       "dtype: int64"
      ]
     },
     "execution_count": 353,
     "metadata": {},
     "output_type": "execute_result"
    }
   ],
   "source": [
    "results.isna().sum()"
   ]
  },
  {
   "cell_type": "code",
   "execution_count": 351,
   "metadata": {},
   "outputs": [
    {
     "data": {
      "text/plain": [
       "attom_id                0\n",
       "city                    0\n",
       "country                 0\n",
       "post_code               0\n",
       "safety_flag             0\n",
       "state                   0\n",
       "street                  0\n",
       "row_id                  0\n",
       "client_id            8904\n",
       "attom_id             1378\n",
       "confidencescore      1378\n",
       "createdate           1378\n",
       "estimatedmaxvalue    1378\n",
       "estimatedminvalue    1378\n",
       "estimatedvalue       1378\n",
       "fsd                  1378\n",
       "lastupdatedate       1378\n",
       "publicationdate      1378\n",
       "valuationdate        1378\n",
       "error                8904\n",
       "dtype: int64"
      ]
     },
     "execution_count": 351,
     "metadata": {},
     "output_type": "execute_result"
    }
   ],
   "source": [
    "df_avm.isna().sum()"
   ]
  },
  {
   "cell_type": "code",
   "execution_count": 493,
   "metadata": {},
   "outputs": [],
   "source": [
    "df_avm = df_avm.loc[:,~df_avm.columns.duplicated()]\n",
    "df_avm['attom_id'] = df_avm['attom_id'].astype(str)\n",
    "df_avm['post_code'] = df_avm['post_code'].astype(str)\n"
   ]
  },
  {
   "cell_type": "code",
   "execution_count": 486,
   "metadata": {},
   "outputs": [],
   "source": [
    "df_avm.replace(r'^\\s*$', np.nan, regex=True, inplace=True)\n",
    "df_avm.dropna(how='all', axis=1, inplace=True)\n",
    "df_avm.dropna(inplace=True)\n",
    "df_avm.drop_duplicates(inplace=True)\n",
    "df_avm = df_avm.loc[:,~df_avm.columns.duplicated()]\n"
   ]
  },
  {
   "cell_type": "code",
   "execution_count": 487,
   "metadata": {},
   "outputs": [
    {
     "data": {
      "text/plain": [
       "0    162278089.0\n",
       "1     28461481.0\n",
       "Name: attom_id, dtype: object"
      ]
     },
     "execution_count": 487,
     "metadata": {},
     "output_type": "execute_result"
    }
   ],
   "source": [
    "df_avm['attom_id'].head(2)"
   ]
  },
  {
   "cell_type": "code",
   "execution_count": 501,
   "metadata": {},
   "outputs": [],
   "source": [
    "results['attom_id'] = results['attom_id'].astype(float)\n",
    "results['attom_id'] = results['attom_id'].astype(int)\n",
    "results['attom_id'] = results['attom_id'].astype(str)\n"
   ]
  },
  {
   "cell_type": "code",
   "execution_count": 502,
   "metadata": {},
   "outputs": [
    {
     "data": {
      "text/html": [
       "<table><tr><th>Column</th><th>Status</th><th>Description</th></tr><tr><th><a href=\"https://demyst.com/docs/demyst-live/types/#city\" target=\"_blank\">city</a></th><td style=\"background-color: lightgreen\"><nobr>All Valid</nobr></td><td style=\"text-align: left\">All values in this column are good to go.</td></tr><tr><th><a href=\"https://demyst.com/docs/demyst-live/types/#country\" target=\"_blank\">country</a></th><td style=\"background-color: lightgreen\"><nobr>All Valid</nobr></td><td style=\"text-align: left\">All values in this column are good to go.</td></tr><tr><th><a href=\"https://demyst.com/docs/demyst-live/types/#post_code\" target=\"_blank\">post_code</a></th><td style=\"background-color: lightgreen\"><nobr>All Valid</nobr></td><td style=\"text-align: left\">All values in this column are good to go.</td></tr><tr><th>safety_flag</th><td style=\"background-color: lightpink\"><nobr>Unrecognized Column Name</nobr></td><td style=\"text-align: left\">This column name is not supported. <a href=\"https://demyst.com/docs/demyst-live/types/\" target=\"_blank\">Click here for a list of all supported column names.</a></td></tr><tr><th><a href=\"https://demyst.com/docs/demyst-live/types/#state\" target=\"_blank\">state</a></th><td style=\"background-color: lightgreen\"><nobr>All Valid</nobr></td><td style=\"text-align: left\">All values in this column are good to go.</td></tr><tr><th><a href=\"https://demyst.com/docs/demyst-live/types/#street\" target=\"_blank\">street</a></th><td style=\"background-color: lightgreen\"><nobr>All Valid</nobr></td><td style=\"text-align: left\">All values in this column are good to go.</td></tr><tr><th>attom_id</th><td style=\"background-color: lightgreen\"><nobr>All Valid</nobr></td><td style=\"text-align: left\">All values in this column are good to go.</td></tr></table>"
      ],
      "text/plain": [
       "<demyst.analytics.analytics.Validation at 0x176570cf8>"
      ]
     },
     "execution_count": 502,
     "metadata": {},
     "output_type": "execute_result"
    }
   ],
   "source": [
    "analytics.validate(results)"
   ]
  },
  {
   "cell_type": "code",
   "execution_count": 495,
   "metadata": {},
   "outputs": [
    {
     "data": {
      "text/plain": [
       "(8904, 19)"
      ]
     },
     "execution_count": 495,
     "metadata": {},
     "output_type": "execute_result"
    }
   ],
   "source": [
    "df_avm.shape"
   ]
  },
  {
   "cell_type": "code",
   "execution_count": 544,
   "metadata": {},
   "outputs": [
    {
     "data": {
      "text/plain": [
       "['attom_tax_assessor', 'attom_recorder', 'attom_pre_foreclosure']"
      ]
     },
     "execution_count": 544,
     "metadata": {},
     "output_type": "execute_result"
    }
   ],
   "source": [
    "updated_prods"
   ]
  },
  {
   "cell_type": "code",
   "execution_count": 546,
   "metadata": {},
   "outputs": [
    {
     "data": {
      "text/html": [
       "<table><tr><th>Column</th><th>Status</th><th>Description</th></tr><tr><th><a href=\"https://demyst.com/docs/demyst-live/types/#city\" target=\"_blank\">city</a></th><td style=\"background-color: lightgreen\"><nobr>All Valid</nobr></td><td style=\"text-align: left\">All values in this column are good to go.</td></tr><tr><th><a href=\"https://demyst.com/docs/demyst-live/types/#country\" target=\"_blank\">country</a></th><td style=\"background-color: lightgreen\"><nobr>All Valid</nobr></td><td style=\"text-align: left\">All values in this column are good to go.</td></tr><tr><th><a href=\"https://demyst.com/docs/demyst-live/types/#post_code\" target=\"_blank\">post_code</a></th><td style=\"background-color: lightgreen\"><nobr>All Valid</nobr></td><td style=\"text-align: left\">All values in this column are good to go.</td></tr><tr><th>safety_flag</th><td style=\"background-color: lightpink\"><nobr>Unrecognized Column Name</nobr></td><td style=\"text-align: left\">This column name is not supported. <a href=\"https://demyst.com/docs/demyst-live/types/\" target=\"_blank\">Click here for a list of all supported column names.</a></td></tr><tr><th><a href=\"https://demyst.com/docs/demyst-live/types/#state\" target=\"_blank\">state</a></th><td style=\"background-color: lightgreen\"><nobr>All Valid</nobr></td><td style=\"text-align: left\">All values in this column are good to go.</td></tr><tr><th><a href=\"https://demyst.com/docs/demyst-live/types/#street\" target=\"_blank\">street</a></th><td style=\"background-color: lightgreen\"><nobr>All Valid</nobr></td><td style=\"text-align: left\">All values in this column are good to go.</td></tr><tr><th>attom_id</th><td style=\"background-color: lightgreen\"><nobr>All Valid</nobr></td><td style=\"text-align: left\">All values in this column are good to go.</td></tr></table>"
      ],
      "text/plain": [
       "<demyst.analytics.analytics.Validation at 0x17a399d68>"
      ]
     },
     "execution_count": 546,
     "metadata": {},
     "output_type": "execute_result"
    }
   ],
   "source": [
    "analytics.validate(results)"
   ]
  },
  {
   "cell_type": "code",
   "execution_count": 547,
   "metadata": {},
   "outputs": [
    {
     "name": "stdout",
     "output_type": "stream",
     "text": [
      "Verifying providers...\n",
      "Starting enrichment...\n",
      "Enrich Job ID: 13222\n"
     ]
    },
    {
     "data": {
      "application/vnd.jupyter.widget-view+json": {
       "model_id": "1b290a71dde94f17a592a4de3ab0d19f",
       "version_major": 2,
       "version_minor": 0
      },
      "text/plain": [
       "IntProgress(value=1, max=2)"
      ]
     },
     "metadata": {},
     "output_type": "display_data"
    },
    {
     "data": {
      "application/vnd.jupyter.widget-view+json": {
       "model_id": "d64762315ebc40c7b546a96f0e1d30c9",
       "version_major": 2,
       "version_minor": 0
      },
      "text/plain": [
       "HTML(value='Checking status...')"
      ]
     },
     "metadata": {},
     "output_type": "display_data"
    },
    {
     "name": "stdout",
     "output_type": "stream",
     "text": [
      "Verifying providers...\n",
      "Starting enrichment...\n",
      "Enrich Job ID: 13223\n"
     ]
    },
    {
     "data": {
      "application/vnd.jupyter.widget-view+json": {
       "model_id": "11fe8e4aae2240509175df203a5e9f29",
       "version_major": 2,
       "version_minor": 0
      },
      "text/plain": [
       "IntProgress(value=1, max=2)"
      ]
     },
     "metadata": {},
     "output_type": "display_data"
    },
    {
     "data": {
      "application/vnd.jupyter.widget-view+json": {
       "model_id": "0a6cadf8bdef4224b3a272593f65b1bb",
       "version_major": 2,
       "version_minor": 0
      },
      "text/plain": [
       "HTML(value='Checking status...')"
      ]
     },
     "metadata": {},
     "output_type": "display_data"
    },
    {
     "name": "stdout",
     "output_type": "stream",
     "text": [
      "Verifying providers...\n",
      "Starting enrichment...\n",
      "Enrich Job ID: 13225\n"
     ]
    },
    {
     "data": {
      "application/vnd.jupyter.widget-view+json": {
       "model_id": "d245378bf4d4446c92bda547fb764860",
       "version_major": 2,
       "version_minor": 0
      },
      "text/plain": [
       "IntProgress(value=1, max=2)"
      ]
     },
     "metadata": {},
     "output_type": "display_data"
    },
    {
     "data": {
      "application/vnd.jupyter.widget-view+json": {
       "model_id": "9bba4a0dbc6c4c20ad11c09acc8bb8e1",
       "version_major": 2,
       "version_minor": 0
      },
      "text/plain": [
       "HTML(value='Checking status...')"
      ]
     },
     "metadata": {},
     "output_type": "display_data"
    }
   ],
   "source": [
    "updated_prods = ['attom_tax_assessor',\n",
    "             'attom_pre_foreclosure',\n",
    "             'attom_avm'] \n",
    "\n",
    "prod_dict_3 = {}\n",
    "for idx, prod in enumerate(updated_prods):\n",
    "    if prod_dict_3.get(str(idx)) is None and not os.path.isfile(f'{prod}_{idx}_22_11.csv'):\n",
    "        prod_dict_3[str(idx)] = analytics.enrich_and_download([prod], results, validate=True)\n",
    "        if not os.path.isfile(f'{prod}_{idx}_22_11.csv'):\n",
    "            prod_dict_2[str(idx)].to_csv(f'{prod}_{idx}_22_11.csv', index=False)\n",
    "    else:\n",
    "        prod_dict_3[str(idx)] = pd.read_csv(f'{prod}_{idx}_22_11.csv')\n",
    "full_df = pd.concat([df_recorder, *prod_dict_3.values()],axis=1)\n"
   ]
  },
  {
   "cell_type": "code",
   "execution_count": 395,
   "metadata": {},
   "outputs": [
    {
     "name": "stderr",
     "output_type": "stream",
     "text": [
      "avm_preprocesser() missing 1 required positional argument: 'target_col'\n"
     ]
    }
   ],
   "source": [
    "cleaned_full_df = avm_preprocesser(full_df)\n",
    "cleaned_full_df.isnull().sum()"
   ]
  },
  {
   "cell_type": "code",
   "execution_count": 571,
   "metadata": {},
   "outputs": [
    {
     "name": "stdout",
     "output_type": "stream",
     "text": [
      "(8904, 709)\n",
      "(8904, 653)\n"
     ]
    }
   ],
   "source": [
    "full_df = pd.concat([df_recorder, *prod_dict_3.values()],axis=1)\n",
    "print(full_df.shape)\n",
    "full_df.replace(r'^\\s*$', np.nan, regex=True, inplace=True)\n",
    "full_df.dropna(how='all', axis=1, inplace=True)\n",
    "full_df.drop_duplicates(inplace=True)\n",
    "full_df.columns = full_df.columns.str.replace('inputs.', '').str.replace(str('attom_avm')+'.', '')\n",
    "print(full_df.shape)"
   ]
  },
  {
   "cell_type": "code",
   "execution_count": 575,
   "metadata": {},
   "outputs": [
    {
     "data": {
      "text/plain": [
       "3943721"
      ]
     },
     "execution_count": 575,
     "metadata": {},
     "output_type": "execute_result"
    }
   ],
   "source": [
    "full_df.isna().sum().sum()"
   ]
  },
  {
   "cell_type": "code",
   "execution_count": 576,
   "metadata": {},
   "outputs": [
    {
     "data": {
      "text/plain": [
       "object     569\n",
       "float64     69\n",
       "int64       11\n",
       "bool         4\n",
       "dtype: int64"
      ]
     },
     "execution_count": 576,
     "metadata": {},
     "output_type": "execute_result"
    }
   ],
   "source": [
    "full_df.dtypes.value_counts()"
   ]
  },
  {
   "cell_type": "code",
   "execution_count": 594,
   "metadata": {},
   "outputs": [
    {
     "name": "stdout",
     "output_type": "stream",
     "text": [
      "attom_tax_assessor\n",
      "attom_tax_assessor\n",
      "attom_tax_assessor\n",
      "attom_tax_assessor\n",
      "attom_tax_assessor\n",
      "attom_tax_assessor\n",
      "attom_tax_assessor\n",
      "attom_tax_assessor\n",
      "attom_tax_assessor\n",
      "attom_tax_assessor\n",
      "attom_tax_assessor\n",
      "attom_tax_assessor\n",
      "attom_tax_assessor\n",
      "attom_tax_assessor\n",
      "attom_tax_assessor\n",
      "attom_tax_assessor\n",
      "attom_tax_assessor\n",
      "attom_tax_assessor\n",
      "attom_tax_assessor\n",
      "attom_tax_assessor\n",
      "attom_tax_assessor\n",
      "attom_tax_assessor\n",
      "attom_tax_assessor\n",
      "attom_tax_assessor\n",
      "attom_tax_assessor\n",
      "attom_tax_assessor\n",
      "attom_tax_assessor\n",
      "attom_tax_assessor\n",
      "attom_tax_assessor\n",
      "attom_tax_assessor\n",
      "attom_tax_assessor\n",
      "attom_tax_assessor\n",
      "attom_tax_assessor\n",
      "attom_tax_assessor\n",
      "attom_tax_assessor\n",
      "attom_tax_assessor\n",
      "attom_tax_assessor\n",
      "attom_tax_assessor\n",
      "attom_tax_assessor\n",
      "attom_tax_assessor\n",
      "attom_tax_assessor\n",
      "attom_tax_assessor\n",
      "attom_tax_assessor\n",
      "attom_tax_assessor\n",
      "attom_tax_assessor\n",
      "attom_tax_assessor\n",
      "attom_tax_assessor\n",
      "attom_tax_assessor\n",
      "attom_tax_assessor\n",
      "attom_tax_assessor\n",
      "attom_tax_assessor\n",
      "attom_tax_assessor\n",
      "attom_tax_assessor\n",
      "attom_tax_assessor\n",
      "attom_tax_assessor\n",
      "attom_tax_assessor\n",
      "attom_tax_assessor\n",
      "attom_tax_assessor\n",
      "attom_tax_assessor\n",
      "attom_tax_assessor\n",
      "attom_tax_assessor\n",
      "attom_tax_assessor\n",
      "attom_tax_assessor\n",
      "attom_tax_assessor\n",
      "attom_tax_assessor\n",
      "attom_tax_assessor\n",
      "attom_tax_assessor\n",
      "attom_tax_assessor\n",
      "attom_tax_assessor\n",
      "attom_tax_assessor\n",
      "attom_tax_assessor\n",
      "attom_tax_assessor\n",
      "attom_tax_assessor\n",
      "attom_tax_assessor\n",
      "attom_tax_assessor\n",
      "attom_tax_assessor\n",
      "attom_tax_assessor\n",
      "attom_tax_assessor\n",
      "attom_tax_assessor\n",
      "attom_tax_assessor\n",
      "attom_tax_assessor\n",
      "attom_tax_assessor\n",
      "attom_tax_assessor\n",
      "attom_tax_assessor\n",
      "attom_tax_assessor\n",
      "attom_tax_assessor\n",
      "attom_tax_assessor\n",
      "attom_tax_assessor\n",
      "attom_tax_assessor\n",
      "attom_tax_assessor\n",
      "attom_tax_assessor\n",
      "attom_tax_assessor\n",
      "attom_tax_assessor\n",
      "attom_tax_assessor\n",
      "attom_tax_assessor\n",
      "attom_tax_assessor\n",
      "attom_tax_assessor\n",
      "attom_tax_assessor\n",
      "attom_tax_assessor\n",
      "attom_tax_assessor\n",
      "attom_tax_assessor\n",
      "attom_tax_assessor\n",
      "attom_tax_assessor\n",
      "attom_tax_assessor\n",
      "attom_tax_assessor\n",
      "attom_tax_assessor\n",
      "attom_tax_assessor\n",
      "attom_tax_assessor\n",
      "attom_tax_assessor\n",
      "attom_tax_assessor\n",
      "attom_tax_assessor\n",
      "attom_tax_assessor\n",
      "attom_tax_assessor\n",
      "attom_tax_assessor\n",
      "attom_tax_assessor\n",
      "attom_tax_assessor\n",
      "attom_tax_assessor\n",
      "attom_tax_assessor\n",
      "attom_tax_assessor\n",
      "attom_tax_assessor\n",
      "attom_tax_assessor\n",
      "attom_tax_assessor\n",
      "attom_tax_assessor\n",
      "attom_tax_assessor\n",
      "attom_tax_assessor\n",
      "attom_tax_assessor\n",
      "attom_tax_assessor\n",
      "attom_tax_assessor\n",
      "attom_tax_assessor\n",
      "attom_tax_assessor\n",
      "attom_tax_assessor\n",
      "attom_tax_assessor\n",
      "attom_tax_assessor\n",
      "attom_tax_assessor\n",
      "attom_tax_assessor\n",
      "attom_tax_assessor\n",
      "attom_tax_assessor\n",
      "attom_tax_assessor\n",
      "attom_tax_assessor\n",
      "attom_tax_assessor\n",
      "attom_tax_assessor\n",
      "attom_tax_assessor\n",
      "attom_tax_assessor\n",
      "attom_tax_assessor\n",
      "attom_tax_assessor\n",
      "attom_tax_assessor\n",
      "attom_tax_assessor\n",
      "attom_tax_assessor\n",
      "attom_tax_assessor\n",
      "attom_tax_assessor\n",
      "attom_tax_assessor\n",
      "attom_tax_assessor\n",
      "attom_tax_assessor\n",
      "attom_tax_assessor\n",
      "attom_tax_assessor\n",
      "attom_tax_assessor\n",
      "attom_tax_assessor\n",
      "attom_tax_assessor\n",
      "attom_tax_assessor\n",
      "attom_tax_assessor\n",
      "attom_tax_assessor\n",
      "attom_tax_assessor\n",
      "attom_tax_assessor\n",
      "attom_tax_assessor\n",
      "attom_tax_assessor\n",
      "attom_tax_assessor\n",
      "attom_tax_assessor\n",
      "attom_tax_assessor\n",
      "attom_tax_assessor\n",
      "attom_tax_assessor\n",
      "attom_tax_assessor\n",
      "attom_tax_assessor\n",
      "attom_tax_assessor\n",
      "attom_tax_assessor\n",
      "attom_tax_assessor\n",
      "attom_tax_assessor\n",
      "attom_tax_assessor\n",
      "attom_tax_assessor\n",
      "attom_tax_assessor\n",
      "attom_tax_assessor\n",
      "attom_tax_assessor\n",
      "attom_tax_assessor\n",
      "attom_tax_assessor\n",
      "attom_tax_assessor\n",
      "attom_tax_assessor\n",
      "attom_tax_assessor\n",
      "attom_tax_assessor\n",
      "attom_tax_assessor\n",
      "attom_tax_assessor\n",
      "attom_tax_assessor\n",
      "attom_tax_assessor\n",
      "attom_tax_assessor\n",
      "attom_tax_assessor\n",
      "attom_tax_assessor\n",
      "attom_tax_assessor\n",
      "attom_tax_assessor\n",
      "attom_tax_assessor\n",
      "attom_tax_assessor\n",
      "attom_tax_assessor\n",
      "attom_tax_assessor\n",
      "attom_tax_assessor\n",
      "attom_tax_assessor\n",
      "attom_tax_assessor\n",
      "attom_tax_assessor\n",
      "attom_tax_assessor\n",
      "attom_tax_assessor\n",
      "attom_tax_assessor\n",
      "attom_tax_assessor\n",
      "attom_tax_assessor\n",
      "attom_tax_assessor\n",
      "attom_tax_assessor\n",
      "attom_tax_assessor\n",
      "attom_tax_assessor\n",
      "attom_tax_assessor\n",
      "attom_tax_assessor\n",
      "attom_tax_assessor\n",
      "attom_tax_assessor\n",
      "attom_tax_assessor\n",
      "attom_tax_assessor\n",
      "attom_tax_assessor\n",
      "attom_tax_assessor\n",
      "attom_tax_assessor\n",
      "attom_tax_assessor\n",
      "attom_tax_assessor\n",
      "attom_tax_assessor\n",
      "attom_tax_assessor\n",
      "attom_tax_assessor\n",
      "attom_tax_assessor\n",
      "attom_tax_assessor\n",
      "attom_tax_assessor\n",
      "attom_tax_assessor\n",
      "attom_tax_assessor\n",
      "attom_tax_assessor\n",
      "attom_tax_assessor\n",
      "attom_tax_assessor\n",
      "attom_tax_assessor\n",
      "attom_tax_assessor\n",
      "attom_tax_assessor\n",
      "attom_tax_assessor\n",
      "attom_tax_assessor\n",
      "attom_tax_assessor\n",
      "attom_tax_assessor\n",
      "attom_tax_assessor\n",
      "attom_tax_assessor\n",
      "attom_tax_assessor\n",
      "attom_tax_assessor\n",
      "attom_tax_assessor\n",
      "attom_tax_assessor\n",
      "attom_tax_assessor\n",
      "attom_tax_assessor\n",
      "attom_tax_assessor\n",
      "attom_tax_assessor\n",
      "attom_tax_assessor\n",
      "attom_tax_assessor\n",
      "attom_tax_assessor\n",
      "attom_tax_assessor\n",
      "attom_tax_assessor\n",
      "attom_tax_assessor\n",
      "attom_tax_assessor\n",
      "attom_tax_assessor\n",
      "attom_tax_assessor\n",
      "attom_tax_assessor\n",
      "attom_tax_assessor\n",
      "attom_tax_assessor\n",
      "attom_tax_assessor\n",
      "attom_tax_assessor\n",
      "attom_tax_assessor\n",
      "attom_tax_assessor\n",
      "attom_tax_assessor\n",
      "attom_tax_assessor\n",
      "attom_tax_assessor\n",
      "attom_tax_assessor\n",
      "attom_tax_assessor\n",
      "attom_tax_assessor\n",
      "attom_tax_assessor\n",
      "attom_tax_assessor\n",
      "attom_tax_assessor\n",
      "attom_tax_assessor\n",
      "attom_tax_assessor\n",
      "attom_tax_assessor\n",
      "attom_tax_assessor\n",
      "attom_tax_assessor\n",
      "attom_tax_assessor\n",
      "attom_tax_assessor\n",
      "attom_tax_assessor\n",
      "attom_tax_assessor\n",
      "attom_tax_assessor\n",
      "attom_tax_assessor\n",
      "attom_tax_assessor\n",
      "attom_tax_assessor\n",
      "attom_tax_assessor\n",
      "attom_tax_assessor\n",
      "attom_tax_assessor\n",
      "attom_tax_assessor\n",
      "attom_tax_assessor\n",
      "attom_tax_assessor\n",
      "attom_tax_assessor\n",
      "attom_tax_assessor\n",
      "attom_tax_assessor\n",
      "attom_pre_foreclosure\n",
      "attom_pre_foreclosure\n",
      "attom_pre_foreclosure\n",
      "attom_pre_foreclosure\n",
      "attom_pre_foreclosure\n",
      "attom_pre_foreclosure\n",
      "attom_pre_foreclosure\n",
      "attom_pre_foreclosure\n",
      "attom_pre_foreclosure\n",
      "attom_pre_foreclosure\n",
      "attom_pre_foreclosure\n",
      "attom_pre_foreclosure\n",
      "attom_pre_foreclosure\n",
      "attom_pre_foreclosure\n",
      "attom_pre_foreclosure\n",
      "attom_pre_foreclosure\n",
      "attom_pre_foreclosure\n",
      "attom_pre_foreclosure\n",
      "attom_pre_foreclosure\n",
      "attom_pre_foreclosure\n",
      "attom_pre_foreclosure\n",
      "attom_pre_foreclosure\n",
      "attom_pre_foreclosure\n",
      "attom_pre_foreclosure\n",
      "attom_pre_foreclosure\n",
      "attom_pre_foreclosure\n",
      "attom_pre_foreclosure\n",
      "attom_pre_foreclosure\n",
      "attom_pre_foreclosure\n",
      "attom_pre_foreclosure\n",
      "attom_pre_foreclosure\n",
      "attom_pre_foreclosure\n",
      "attom_pre_foreclosure\n",
      "attom_pre_foreclosure\n",
      "attom_pre_foreclosure\n",
      "attom_pre_foreclosure\n",
      "attom_pre_foreclosure\n",
      "attom_pre_foreclosure\n",
      "attom_pre_foreclosure\n",
      "attom_pre_foreclosure\n",
      "attom_pre_foreclosure\n",
      "attom_pre_foreclosure\n",
      "attom_pre_foreclosure\n",
      "attom_pre_foreclosure\n",
      "attom_pre_foreclosure\n",
      "attom_pre_foreclosure\n",
      "attom_pre_foreclosure\n",
      "attom_pre_foreclosure\n",
      "attom_pre_foreclosure\n",
      "attom_pre_foreclosure\n",
      "attom_pre_foreclosure\n",
      "attom_pre_foreclosure\n",
      "attom_pre_foreclosure\n",
      "attom_pre_foreclosure\n",
      "attom_pre_foreclosure\n",
      "attom_pre_foreclosure\n",
      "attom_pre_foreclosure\n",
      "attom_pre_foreclosure\n",
      "attom_pre_foreclosure\n",
      "attom_pre_foreclosure\n",
      "attom_pre_foreclosure\n",
      "attom_pre_foreclosure\n",
      "attom_pre_foreclosure\n",
      "attom_pre_foreclosure\n",
      "attom_pre_foreclosure\n",
      "attom_pre_foreclosure\n",
      "attom_pre_foreclosure\n",
      "attom_pre_foreclosure\n",
      "attom_pre_foreclosure\n",
      "attom_pre_foreclosure\n",
      "attom_pre_foreclosure\n",
      "attom_pre_foreclosure\n",
      "attom_pre_foreclosure\n",
      "attom_pre_foreclosure\n",
      "attom_pre_foreclosure\n",
      "attom_pre_foreclosure\n",
      "attom_pre_foreclosure\n",
      "attom_pre_foreclosure\n",
      "attom_pre_foreclosure\n",
      "attom_pre_foreclosure\n",
      "attom_pre_foreclosure\n",
      "attom_pre_foreclosure\n",
      "attom_pre_foreclosure\n",
      "attom_pre_foreclosure\n",
      "attom_pre_foreclosure\n",
      "attom_pre_foreclosure\n",
      "attom_pre_foreclosure\n",
      "attom_pre_foreclosure\n",
      "attom_pre_foreclosure\n",
      "attom_pre_foreclosure\n",
      "attom_pre_foreclosure\n",
      "attom_pre_foreclosure\n",
      "attom_pre_foreclosure\n",
      "attom_pre_foreclosure\n",
      "attom_pre_foreclosure\n",
      "attom_pre_foreclosure\n",
      "attom_pre_foreclosure\n",
      "attom_pre_foreclosure\n",
      "attom_pre_foreclosure\n",
      "attom_pre_foreclosure\n"
     ]
    },
    {
     "data": {
      "text/html": [
       "<div>\n",
       "<style scoped>\n",
       "    .dataframe tbody tr th:only-of-type {\n",
       "        vertical-align: middle;\n",
       "    }\n",
       "\n",
       "    .dataframe tbody tr th {\n",
       "        vertical-align: top;\n",
       "    }\n",
       "\n",
       "    .dataframe thead th {\n",
       "        text-align: right;\n",
       "    }\n",
       "</style>\n",
       "<table border=\"1\" class=\"dataframe\">\n",
       "  <thead>\n",
       "    <tr style=\"text-align: right;\">\n",
       "      <th></th>\n",
       "      <th>6723</th>\n",
       "    </tr>\n",
       "  </thead>\n",
       "  <tbody>\n",
       "    <tr>\n",
       "      <th>attom_id</th>\n",
       "      <td>146609930</td>\n",
       "    </tr>\n",
       "    <tr>\n",
       "      <th>city</th>\n",
       "      <td>Homestead</td>\n",
       "    </tr>\n",
       "    <tr>\n",
       "      <th>country</th>\n",
       "      <td>US</td>\n",
       "    </tr>\n",
       "    <tr>\n",
       "      <th>post_code</th>\n",
       "      <td>33035</td>\n",
       "    </tr>\n",
       "    <tr>\n",
       "      <th>safety_flag</th>\n",
       "      <td>False</td>\n",
       "    </tr>\n",
       "    <tr>\n",
       "      <th>state</th>\n",
       "      <td>FL</td>\n",
       "    </tr>\n",
       "    <tr>\n",
       "      <th>street</th>\n",
       "      <td>1612 S Goldeneye Ln</td>\n",
       "    </tr>\n",
       "    <tr>\n",
       "      <th>row_id</th>\n",
       "      <td>6723</td>\n",
       "    </tr>\n",
       "    <tr>\n",
       "      <th>apnformatted</th>\n",
       "      <td>NaN</td>\n",
       "    </tr>\n",
       "    <tr>\n",
       "      <th>apnoriginal</th>\n",
       "      <td>NaN</td>\n",
       "    </tr>\n",
       "    <tr>\n",
       "      <th>armslengthflag</th>\n",
       "      <td>NaN</td>\n",
       "    </tr>\n",
       "    <tr>\n",
       "      <th>attom_id</th>\n",
       "      <td>NaN</td>\n",
       "    </tr>\n",
       "    <tr>\n",
       "      <th>book</th>\n",
       "      <td>NaN</td>\n",
       "    </tr>\n",
       "    <tr>\n",
       "      <th>documentnumberformatted</th>\n",
       "      <td>NaN</td>\n",
       "    </tr>\n",
       "    <tr>\n",
       "      <th>documentnumberlegacy</th>\n",
       "      <td>NaN</td>\n",
       "    </tr>\n",
       "    <tr>\n",
       "      <th>documentrecordingcountyfips</th>\n",
       "      <td>NaN</td>\n",
       "    </tr>\n",
       "    <tr>\n",
       "      <th>documentrecordingcountyname</th>\n",
       "      <td>NaN</td>\n",
       "    </tr>\n",
       "    <tr>\n",
       "      <th>documentrecordingjurisdictionname</th>\n",
       "      <td>NaN</td>\n",
       "    </tr>\n",
       "    <tr>\n",
       "      <th>documentrecordingstatecode</th>\n",
       "      <td>NaN</td>\n",
       "    </tr>\n",
       "    <tr>\n",
       "      <th>documenttypecode</th>\n",
       "      <td>NaN</td>\n",
       "    </tr>\n",
       "    <tr>\n",
       "      <th>foreclosureauctionsale</th>\n",
       "      <td>NaN</td>\n",
       "    </tr>\n",
       "    <tr>\n",
       "      <th>grantee1infoentityclassification</th>\n",
       "      <td>NaN</td>\n",
       "    </tr>\n",
       "    <tr>\n",
       "      <th>grantee1infoownertype</th>\n",
       "      <td>NaN</td>\n",
       "    </tr>\n",
       "    <tr>\n",
       "      <th>grantee1namefirst</th>\n",
       "      <td>NaN</td>\n",
       "    </tr>\n",
       "    <tr>\n",
       "      <th>grantee1namefull</th>\n",
       "      <td>NaN</td>\n",
       "    </tr>\n",
       "    <tr>\n",
       "      <th>grantee1namelast</th>\n",
       "      <td>NaN</td>\n",
       "    </tr>\n",
       "    <tr>\n",
       "      <th>grantee1namemiddle</th>\n",
       "      <td>NaN</td>\n",
       "    </tr>\n",
       "    <tr>\n",
       "      <th>grantee1namesuffix</th>\n",
       "      <td>NaN</td>\n",
       "    </tr>\n",
       "    <tr>\n",
       "      <th>grantee2infoentityclassification</th>\n",
       "      <td>NaN</td>\n",
       "    </tr>\n",
       "    <tr>\n",
       "      <th>grantee2namefirst</th>\n",
       "      <td>NaN</td>\n",
       "    </tr>\n",
       "    <tr>\n",
       "      <th>...</th>\n",
       "      <td>...</td>\n",
       "    </tr>\n",
       "    <tr>\n",
       "      <th>trusteeaddressstate</th>\n",
       "      <td>NaN</td>\n",
       "    </tr>\n",
       "    <tr>\n",
       "      <th>trusteeaddressstreetdirection</th>\n",
       "      <td>NaN</td>\n",
       "    </tr>\n",
       "    <tr>\n",
       "      <th>trusteeaddressstreetname</th>\n",
       "      <td>NaN</td>\n",
       "    </tr>\n",
       "    <tr>\n",
       "      <th>trusteeaddressstreetpostdirection</th>\n",
       "      <td>NaN</td>\n",
       "    </tr>\n",
       "    <tr>\n",
       "      <th>trusteeaddressstreetsuffix</th>\n",
       "      <td>NaN</td>\n",
       "    </tr>\n",
       "    <tr>\n",
       "      <th>trusteeaddressunitvalue</th>\n",
       "      <td>NaN</td>\n",
       "    </tr>\n",
       "    <tr>\n",
       "      <th>trusteeaddresszip</th>\n",
       "      <td>NaN</td>\n",
       "    </tr>\n",
       "    <tr>\n",
       "      <th>trusteename</th>\n",
       "      <td>NaN</td>\n",
       "    </tr>\n",
       "    <tr>\n",
       "      <th>trusteephone</th>\n",
       "      <td>NaN</td>\n",
       "    </tr>\n",
       "    <tr>\n",
       "      <th>trusteereferencenumber</th>\n",
       "      <td>NaN</td>\n",
       "    </tr>\n",
       "    <tr>\n",
       "      <th>yearbuilt</th>\n",
       "      <td>NaN</td>\n",
       "    </tr>\n",
       "    <tr>\n",
       "      <th>yearbuilteffective</th>\n",
       "      <td>NaN</td>\n",
       "    </tr>\n",
       "    <tr>\n",
       "      <th>attom_id</th>\n",
       "      <td>146609930</td>\n",
       "    </tr>\n",
       "    <tr>\n",
       "      <th>city</th>\n",
       "      <td>Homestead</td>\n",
       "    </tr>\n",
       "    <tr>\n",
       "      <th>country</th>\n",
       "      <td>US</td>\n",
       "    </tr>\n",
       "    <tr>\n",
       "      <th>post_code</th>\n",
       "      <td>33035</td>\n",
       "    </tr>\n",
       "    <tr>\n",
       "      <th>safety_flag</th>\n",
       "      <td>False</td>\n",
       "    </tr>\n",
       "    <tr>\n",
       "      <th>state</th>\n",
       "      <td>FL</td>\n",
       "    </tr>\n",
       "    <tr>\n",
       "      <th>street</th>\n",
       "      <td>1612 S Goldeneye Ln</td>\n",
       "    </tr>\n",
       "    <tr>\n",
       "      <th>row_id</th>\n",
       "      <td>6723</td>\n",
       "    </tr>\n",
       "    <tr>\n",
       "      <th>attom_id</th>\n",
       "      <td>146609930</td>\n",
       "    </tr>\n",
       "    <tr>\n",
       "      <th>confidencescore</th>\n",
       "      <td>77</td>\n",
       "    </tr>\n",
       "    <tr>\n",
       "      <th>createdate</th>\n",
       "      <td>2019-07-03</td>\n",
       "    </tr>\n",
       "    <tr>\n",
       "      <th>estimatedmaxvalue</th>\n",
       "      <td>319000.0</td>\n",
       "    </tr>\n",
       "    <tr>\n",
       "      <th>estimatedminvalue</th>\n",
       "      <td>228000.0</td>\n",
       "    </tr>\n",
       "    <tr>\n",
       "      <th>estimatedvalue</th>\n",
       "      <td>273000.0</td>\n",
       "    </tr>\n",
       "    <tr>\n",
       "      <th>fsd</th>\n",
       "      <td>16.0</td>\n",
       "    </tr>\n",
       "    <tr>\n",
       "      <th>lastupdatedate</th>\n",
       "      <td>2019-07-03</td>\n",
       "    </tr>\n",
       "    <tr>\n",
       "      <th>publicationdate</th>\n",
       "      <td>2019-07-22</td>\n",
       "    </tr>\n",
       "    <tr>\n",
       "      <th>valuationdate</th>\n",
       "      <td>2019-06-28</td>\n",
       "    </tr>\n",
       "  </tbody>\n",
       "</table>\n",
       "<p>653 rows × 1 columns</p>\n",
       "</div>"
      ],
      "text/plain": [
       "                                                  6723\n",
       "attom_id                                     146609930\n",
       "city                                         Homestead\n",
       "country                                             US\n",
       "post_code                                        33035\n",
       "safety_flag                                      False\n",
       "state                                               FL\n",
       "street                             1612 S Goldeneye Ln\n",
       "row_id                                            6723\n",
       "apnformatted                                       NaN\n",
       "apnoriginal                                        NaN\n",
       "armslengthflag                                     NaN\n",
       "attom_id                                           NaN\n",
       "book                                               NaN\n",
       "documentnumberformatted                            NaN\n",
       "documentnumberlegacy                               NaN\n",
       "documentrecordingcountyfips                        NaN\n",
       "documentrecordingcountyname                        NaN\n",
       "documentrecordingjurisdictionname                  NaN\n",
       "documentrecordingstatecode                         NaN\n",
       "documenttypecode                                   NaN\n",
       "foreclosureauctionsale                             NaN\n",
       "grantee1infoentityclassification                   NaN\n",
       "grantee1infoownertype                              NaN\n",
       "grantee1namefirst                                  NaN\n",
       "grantee1namefull                                   NaN\n",
       "grantee1namelast                                   NaN\n",
       "grantee1namemiddle                                 NaN\n",
       "grantee1namesuffix                                 NaN\n",
       "grantee2infoentityclassification                   NaN\n",
       "grantee2namefirst                                  NaN\n",
       "...                                                ...\n",
       "trusteeaddressstate                                NaN\n",
       "trusteeaddressstreetdirection                      NaN\n",
       "trusteeaddressstreetname                           NaN\n",
       "trusteeaddressstreetpostdirection                  NaN\n",
       "trusteeaddressstreetsuffix                         NaN\n",
       "trusteeaddressunitvalue                            NaN\n",
       "trusteeaddresszip                                  NaN\n",
       "trusteename                                        NaN\n",
       "trusteephone                                       NaN\n",
       "trusteereferencenumber                             NaN\n",
       "yearbuilt                                          NaN\n",
       "yearbuilteffective                                 NaN\n",
       "attom_id                                     146609930\n",
       "city                                         Homestead\n",
       "country                                             US\n",
       "post_code                                        33035\n",
       "safety_flag                                      False\n",
       "state                                               FL\n",
       "street                             1612 S Goldeneye Ln\n",
       "row_id                                            6723\n",
       "attom_id                                     146609930\n",
       "confidencescore                                     77\n",
       "createdate                                  2019-07-03\n",
       "estimatedmaxvalue                             319000.0\n",
       "estimatedminvalue                             228000.0\n",
       "estimatedvalue                                273000.0\n",
       "fsd                                               16.0\n",
       "lastupdatedate                              2019-07-03\n",
       "publicationdate                             2019-07-22\n",
       "valuationdate                               2019-06-28\n",
       "\n",
       "[653 rows x 1 columns]"
      ]
     },
     "execution_count": 594,
     "metadata": {},
     "output_type": "execute_result"
    }
   ],
   "source": [
    "new_cols = []\n",
    "for col in full_df.columns.tolist():\n",
    "    if len(col.split('.'))>=2:\n",
    "        print(col.split('.')[0])\n",
    "        new_cols.append(col.split('.')[1])\n",
    "    else:\n",
    "        new_cols.append(col)\n",
    "full_df.columns = new_cols\n",
    "full_df.sample(1).T"
   ]
  },
  {
   "cell_type": "code",
   "execution_count": 596,
   "metadata": {},
   "outputs": [
    {
     "data": {
      "text/plain": [
       "3943721"
      ]
     },
     "execution_count": 596,
     "metadata": {},
     "output_type": "execute_result"
    }
   ],
   "source": [
    "full_df.isna().sum().sum()"
   ]
  },
  {
   "cell_type": "code",
   "execution_count": 652,
   "metadata": {},
   "outputs": [
    {
     "data": {
      "text/plain": [
       "(8904, 565)"
      ]
     },
     "execution_count": 652,
     "metadata": {},
     "output_type": "execute_result"
    }
   ],
   "source": [
    "cleaned_res = full_df.copy()\n",
    "\n",
    "cleaned_res.dropna(how='all', axis=1, inplace=True)\n",
    "cleaned_res.drop_duplicates(inplace=True)\n",
    "for x in cleaned_res:\n",
    "    if 'date' in x:\n",
    "        cleaned_res[x] = pd.to_datetime(cleaned_res[x]).dt.year\n",
    "        cleaned_res = cleaned_res.loc[:,~cleaned_res.columns.duplicated()] \n",
    "\n",
    "cleaned_res.shape"
   ]
  },
  {
   "cell_type": "code",
   "execution_count": 653,
   "metadata": {},
   "outputs": [
    {
     "data": {
      "text/plain": [
       "3552425"
      ]
     },
     "execution_count": 653,
     "metadata": {},
     "output_type": "execute_result"
    }
   ],
   "source": [
    "cleaned_res.isna().sum().sum()"
   ]
  },
  {
   "cell_type": "code",
   "execution_count": 654,
   "metadata": {},
   "outputs": [
    {
     "data": {
      "text/plain": [
       "4826    684000.0\n",
       "6409    208000.0\n",
       "4748    151000.0\n",
       "4105    519000.0\n",
       "4       380000.0\n",
       "2245     99000.0\n",
       "4955    137000.0\n",
       "449     135000.0\n",
       "7096    232000.0\n",
       "8597         NaN\n",
       "Name: estimatedminvalue, dtype: object"
      ]
     },
     "execution_count": 654,
     "metadata": {},
     "output_type": "execute_result"
    }
   ],
   "source": [
    "results_df_clean = cleaned_res.dropna(how='all', axis=1) # drop empty columns (must perform this BEFORE dropping Nan rows)\n",
    "\n",
    "results_df_clean['estimatedminvalue'].sample(10)"
   ]
  },
  {
   "cell_type": "code",
   "execution_count": 655,
   "metadata": {},
   "outputs": [
    {
     "data": {
      "text/plain": [
       "(8904, 229)"
      ]
     },
     "execution_count": 655,
     "metadata": {},
     "output_type": "execute_result"
    }
   ],
   "source": [
    "# drop records with large 'NA' percentage\n",
    "# let's set that threshold arbitrarily to 80%\n",
    "\n",
    "no_records = results_df_clean.shape[0]\n",
    "bad_cols = []\n",
    "for col in results_df_clean.columns:\n",
    "    if results_df_clean[col].isna().sum()/no_records >= 0.8:\n",
    "        bad_cols.append(col)\n",
    "results_df_clean.drop(bad_cols, inplace=True, axis=1)\n",
    "results_df_clean.shape"
   ]
  },
  {
   "cell_type": "code",
   "execution_count": 656,
   "metadata": {},
   "outputs": [
    {
     "data": {
      "text/plain": [
       "object     191\n",
       "float64     35\n",
       "int64        2\n",
       "bool         1\n",
       "dtype: int64"
      ]
     },
     "execution_count": 656,
     "metadata": {},
     "output_type": "execute_result"
    }
   ],
   "source": [
    "results_df_clean.dtypes.value_counts()"
   ]
  },
  {
   "cell_type": "code",
   "execution_count": 648,
   "metadata": {},
   "outputs": [
    {
     "data": {
      "text/html": [
       "<div>\n",
       "<style scoped>\n",
       "    .dataframe tbody tr th:only-of-type {\n",
       "        vertical-align: middle;\n",
       "    }\n",
       "\n",
       "    .dataframe tbody tr th {\n",
       "        vertical-align: top;\n",
       "    }\n",
       "\n",
       "    .dataframe thead th {\n",
       "        text-align: right;\n",
       "    }\n",
       "</style>\n",
       "<table border=\"1\" class=\"dataframe\">\n",
       "  <thead>\n",
       "    <tr style=\"text-align: right;\">\n",
       "      <th></th>\n",
       "      <th>0</th>\n",
       "      <th>1</th>\n",
       "      <th>2</th>\n",
       "      <th>3</th>\n",
       "      <th>4</th>\n",
       "    </tr>\n",
       "  </thead>\n",
       "  <tbody>\n",
       "    <tr>\n",
       "      <th>armslengthflag</th>\n",
       "      <td>0.0</td>\n",
       "      <td>0.0</td>\n",
       "      <td>0.0</td>\n",
       "      <td>0.0</td>\n",
       "      <td>0.0</td>\n",
       "    </tr>\n",
       "    <tr>\n",
       "      <th>documentrecordingcountyfips</th>\n",
       "      <td>12105.0</td>\n",
       "      <td>18097.0</td>\n",
       "      <td>51023.0</td>\n",
       "      <td>39097.0</td>\n",
       "      <td>12019.0</td>\n",
       "    </tr>\n",
       "    <tr>\n",
       "      <th>granteemailaddresshousenumber</th>\n",
       "      <td>3160.0</td>\n",
       "      <td>940.0</td>\n",
       "      <td>NaN</td>\n",
       "      <td>3330.0</td>\n",
       "      <td>4254.0</td>\n",
       "    </tr>\n",
       "    <tr>\n",
       "      <th>granteemailaddresszip</th>\n",
       "      <td>33812.0</td>\n",
       "      <td>46227.0</td>\n",
       "      <td>NaN</td>\n",
       "      <td>43162.0</td>\n",
       "      <td>32065.0</td>\n",
       "    </tr>\n",
       "    <tr>\n",
       "      <th>granteemailaddresszip4</th>\n",
       "      <td>5237.0</td>\n",
       "      <td>2321.0</td>\n",
       "      <td>NaN</td>\n",
       "      <td>NaN</td>\n",
       "      <td>2631.0</td>\n",
       "    </tr>\n",
       "    <tr>\n",
       "      <th>instrumentdate</th>\n",
       "      <td>2009.0</td>\n",
       "      <td>2018.0</td>\n",
       "      <td>NaN</td>\n",
       "      <td>2015.0</td>\n",
       "      <td>2018.0</td>\n",
       "    </tr>\n",
       "    <tr>\n",
       "      <th>lastupdated</th>\n",
       "      <td>2014.0</td>\n",
       "      <td>2018.0</td>\n",
       "      <td>2016.0</td>\n",
       "      <td>2015.0</td>\n",
       "      <td>2019.0</td>\n",
       "    </tr>\n",
       "    <tr>\n",
       "      <th>mortgage1amount</th>\n",
       "      <td>NaN</td>\n",
       "      <td>20950.0</td>\n",
       "      <td>10000.0</td>\n",
       "      <td>212000.0</td>\n",
       "      <td>107000.0</td>\n",
       "    </tr>\n",
       "    <tr>\n",
       "      <th>mortgage1interestrate</th>\n",
       "      <td>NaN</td>\n",
       "      <td>0.0</td>\n",
       "      <td>NaN</td>\n",
       "      <td>0.0</td>\n",
       "      <td>0.0</td>\n",
       "    </tr>\n",
       "    <tr>\n",
       "      <th>mortgage1interestratetype</th>\n",
       "      <td>NaN</td>\n",
       "      <td>1.0</td>\n",
       "      <td>1.0</td>\n",
       "      <td>0.0</td>\n",
       "      <td>0.0</td>\n",
       "    </tr>\n",
       "    <tr>\n",
       "      <th>mortgage1lenderaddresszip</th>\n",
       "      <td>NaN</td>\n",
       "      <td>43231.0</td>\n",
       "      <td>NaN</td>\n",
       "      <td>44503.0</td>\n",
       "      <td>32210.0</td>\n",
       "    </tr>\n",
       "    <tr>\n",
       "      <th>mortgage1lendercode</th>\n",
       "      <td>NaN</td>\n",
       "      <td>2415.0</td>\n",
       "      <td>NaN</td>\n",
       "      <td>32365.0</td>\n",
       "      <td>41499.0</td>\n",
       "    </tr>\n",
       "    <tr>\n",
       "      <th>mortgage1lenderinfosellercarrybackflag</th>\n",
       "      <td>NaN</td>\n",
       "      <td>0.0</td>\n",
       "      <td>NaN</td>\n",
       "      <td>0.0</td>\n",
       "      <td>0.0</td>\n",
       "    </tr>\n",
       "    <tr>\n",
       "      <th>mortgage1recordingdate</th>\n",
       "      <td>NaN</td>\n",
       "      <td>2018.0</td>\n",
       "      <td>2008.0</td>\n",
       "      <td>2015.0</td>\n",
       "      <td>2019.0</td>\n",
       "    </tr>\n",
       "    <tr>\n",
       "      <th>propertyaddresszip</th>\n",
       "      <td>33812.0</td>\n",
       "      <td>46227.0</td>\n",
       "      <td>24175.0</td>\n",
       "      <td>43162.0</td>\n",
       "      <td>32065.0</td>\n",
       "    </tr>\n",
       "    <tr>\n",
       "      <th>propertyaddresszip4</th>\n",
       "      <td>5237.0</td>\n",
       "      <td>2321.0</td>\n",
       "      <td>6054.0</td>\n",
       "      <td>9735.0</td>\n",
       "      <td>2631.0</td>\n",
       "    </tr>\n",
       "    <tr>\n",
       "      <th>propertyusestandardized</th>\n",
       "      <td>385.0</td>\n",
       "      <td>385.0</td>\n",
       "      <td>383.0</td>\n",
       "      <td>401.0</td>\n",
       "      <td>385.0</td>\n",
       "    </tr>\n",
       "    <tr>\n",
       "      <th>publicationdate</th>\n",
       "      <td>1970.0</td>\n",
       "      <td>1970.0</td>\n",
       "      <td>1970.0</td>\n",
       "      <td>1970.0</td>\n",
       "      <td>1970.0</td>\n",
       "    </tr>\n",
       "    <tr>\n",
       "      <th>recordingdate</th>\n",
       "      <td>2009.0</td>\n",
       "      <td>NaN</td>\n",
       "      <td>NaN</td>\n",
       "      <td>NaN</td>\n",
       "      <td>NaN</td>\n",
       "    </tr>\n",
       "    <tr>\n",
       "      <th>titlecompanystandardizedcode</th>\n",
       "      <td>NaN</td>\n",
       "      <td>4892.0</td>\n",
       "      <td>NaN</td>\n",
       "      <td>7303.0</td>\n",
       "      <td>5283.0</td>\n",
       "    </tr>\n",
       "    <tr>\n",
       "      <th>transactionid</th>\n",
       "      <td>272320017.0</td>\n",
       "      <td>781939664.0</td>\n",
       "      <td>607337821.0</td>\n",
       "      <td>554612763.0</td>\n",
       "      <td>808429458.0</td>\n",
       "    </tr>\n",
       "    <tr>\n",
       "      <th>transferamount</th>\n",
       "      <td>0.0</td>\n",
       "      <td>NaN</td>\n",
       "      <td>NaN</td>\n",
       "      <td>NaN</td>\n",
       "      <td>NaN</td>\n",
       "    </tr>\n",
       "    <tr>\n",
       "      <th>transferinfomultiparcelflag</th>\n",
       "      <td>0.0</td>\n",
       "      <td>0.0</td>\n",
       "      <td>0.0</td>\n",
       "      <td>0.0</td>\n",
       "      <td>0.0</td>\n",
       "    </tr>\n",
       "    <tr>\n",
       "      <th>transferinfopurchasedownpayment</th>\n",
       "      <td>0.0</td>\n",
       "      <td>0.0</td>\n",
       "      <td>0.0</td>\n",
       "      <td>0.0</td>\n",
       "      <td>0.0</td>\n",
       "    </tr>\n",
       "    <tr>\n",
       "      <th>transferinfopurchaseloantovalue</th>\n",
       "      <td>0.0</td>\n",
       "      <td>0.0</td>\n",
       "      <td>0.0</td>\n",
       "      <td>0.0</td>\n",
       "      <td>0.0</td>\n",
       "    </tr>\n",
       "    <tr>\n",
       "      <th>transferinfopurchasetypecode</th>\n",
       "      <td>40.0</td>\n",
       "      <td>30.0</td>\n",
       "      <td>30.0</td>\n",
       "      <td>30.0</td>\n",
       "      <td>30.0</td>\n",
       "    </tr>\n",
       "    <tr>\n",
       "      <th>transfertaxtotal</th>\n",
       "      <td>0.0</td>\n",
       "      <td>NaN</td>\n",
       "      <td>NaN</td>\n",
       "      <td>NaN</td>\n",
       "      <td>NaN</td>\n",
       "    </tr>\n",
       "    <tr>\n",
       "      <th>assessorlastsaledate</th>\n",
       "      <td>2004.0</td>\n",
       "      <td>2007.0</td>\n",
       "      <td>2003.0</td>\n",
       "      <td>2018.0</td>\n",
       "      <td>2012.0</td>\n",
       "    </tr>\n",
       "    <tr>\n",
       "      <th>assessorpriorsaledate</th>\n",
       "      <td>NaN</td>\n",
       "      <td>NaN</td>\n",
       "      <td>NaN</td>\n",
       "      <td>2007.0</td>\n",
       "      <td>NaN</td>\n",
       "    </tr>\n",
       "    <tr>\n",
       "      <th>assrlastupdated</th>\n",
       "      <td>2018.0</td>\n",
       "      <td>2018.0</td>\n",
       "      <td>2018.0</td>\n",
       "      <td>2019.0</td>\n",
       "      <td>2019.0</td>\n",
       "    </tr>\n",
       "    <tr>\n",
       "      <th>deedlastsaledate</th>\n",
       "      <td>2004.0</td>\n",
       "      <td>2007.0</td>\n",
       "      <td>2003.0</td>\n",
       "      <td>2018.0</td>\n",
       "      <td>2012.0</td>\n",
       "    </tr>\n",
       "    <tr>\n",
       "      <th>lastassessortaxrollupdate</th>\n",
       "      <td>2018.0</td>\n",
       "      <td>2018.0</td>\n",
       "      <td>2018.0</td>\n",
       "      <td>2016.0</td>\n",
       "      <td>2018.0</td>\n",
       "    </tr>\n",
       "    <tr>\n",
       "      <th>lastownershiptransferdate</th>\n",
       "      <td>2009.0</td>\n",
       "      <td>2007.0</td>\n",
       "      <td>NaN</td>\n",
       "      <td>2018.0</td>\n",
       "      <td>2012.0</td>\n",
       "    </tr>\n",
       "    <tr>\n",
       "      <th>lastupdatedate</th>\n",
       "      <td>2019.0</td>\n",
       "      <td>2019.0</td>\n",
       "      <td>2019.0</td>\n",
       "      <td>2019.0</td>\n",
       "      <td>2019.0</td>\n",
       "    </tr>\n",
       "    <tr>\n",
       "      <th>valuationdate</th>\n",
       "      <td>2019.0</td>\n",
       "      <td>2019.0</td>\n",
       "      <td>2019.0</td>\n",
       "      <td>2019.0</td>\n",
       "      <td>2019.0</td>\n",
       "    </tr>\n",
       "  </tbody>\n",
       "</table>\n",
       "</div>"
      ],
      "text/plain": [
       "                                                  0            1            2  \\\n",
       "armslengthflag                                  0.0          0.0          0.0   \n",
       "documentrecordingcountyfips                 12105.0      18097.0      51023.0   \n",
       "granteemailaddresshousenumber                3160.0        940.0          NaN   \n",
       "granteemailaddresszip                       33812.0      46227.0          NaN   \n",
       "granteemailaddresszip4                       5237.0       2321.0          NaN   \n",
       "instrumentdate                               2009.0       2018.0          NaN   \n",
       "lastupdated                                  2014.0       2018.0       2016.0   \n",
       "mortgage1amount                                 NaN      20950.0      10000.0   \n",
       "mortgage1interestrate                           NaN          0.0          NaN   \n",
       "mortgage1interestratetype                       NaN          1.0          1.0   \n",
       "mortgage1lenderaddresszip                       NaN      43231.0          NaN   \n",
       "mortgage1lendercode                             NaN       2415.0          NaN   \n",
       "mortgage1lenderinfosellercarrybackflag          NaN          0.0          NaN   \n",
       "mortgage1recordingdate                          NaN       2018.0       2008.0   \n",
       "propertyaddresszip                          33812.0      46227.0      24175.0   \n",
       "propertyaddresszip4                          5237.0       2321.0       6054.0   \n",
       "propertyusestandardized                       385.0        385.0        383.0   \n",
       "publicationdate                              1970.0       1970.0       1970.0   \n",
       "recordingdate                                2009.0          NaN          NaN   \n",
       "titlecompanystandardizedcode                    NaN       4892.0          NaN   \n",
       "transactionid                           272320017.0  781939664.0  607337821.0   \n",
       "transferamount                                  0.0          NaN          NaN   \n",
       "transferinfomultiparcelflag                     0.0          0.0          0.0   \n",
       "transferinfopurchasedownpayment                 0.0          0.0          0.0   \n",
       "transferinfopurchaseloantovalue                 0.0          0.0          0.0   \n",
       "transferinfopurchasetypecode                   40.0         30.0         30.0   \n",
       "transfertaxtotal                                0.0          NaN          NaN   \n",
       "assessorlastsaledate                         2004.0       2007.0       2003.0   \n",
       "assessorpriorsaledate                           NaN          NaN          NaN   \n",
       "assrlastupdated                              2018.0       2018.0       2018.0   \n",
       "deedlastsaledate                             2004.0       2007.0       2003.0   \n",
       "lastassessortaxrollupdate                    2018.0       2018.0       2018.0   \n",
       "lastownershiptransferdate                    2009.0       2007.0          NaN   \n",
       "lastupdatedate                               2019.0       2019.0       2019.0   \n",
       "valuationdate                                2019.0       2019.0       2019.0   \n",
       "\n",
       "                                                  3            4  \n",
       "armslengthflag                                  0.0          0.0  \n",
       "documentrecordingcountyfips                 39097.0      12019.0  \n",
       "granteemailaddresshousenumber                3330.0       4254.0  \n",
       "granteemailaddresszip                       43162.0      32065.0  \n",
       "granteemailaddresszip4                          NaN       2631.0  \n",
       "instrumentdate                               2015.0       2018.0  \n",
       "lastupdated                                  2015.0       2019.0  \n",
       "mortgage1amount                            212000.0     107000.0  \n",
       "mortgage1interestrate                           0.0          0.0  \n",
       "mortgage1interestratetype                       0.0          0.0  \n",
       "mortgage1lenderaddresszip                   44503.0      32210.0  \n",
       "mortgage1lendercode                         32365.0      41499.0  \n",
       "mortgage1lenderinfosellercarrybackflag          0.0          0.0  \n",
       "mortgage1recordingdate                       2015.0       2019.0  \n",
       "propertyaddresszip                          43162.0      32065.0  \n",
       "propertyaddresszip4                          9735.0       2631.0  \n",
       "propertyusestandardized                       401.0        385.0  \n",
       "publicationdate                              1970.0       1970.0  \n",
       "recordingdate                                   NaN          NaN  \n",
       "titlecompanystandardizedcode                 7303.0       5283.0  \n",
       "transactionid                           554612763.0  808429458.0  \n",
       "transferamount                                  NaN          NaN  \n",
       "transferinfomultiparcelflag                     0.0          0.0  \n",
       "transferinfopurchasedownpayment                 0.0          0.0  \n",
       "transferinfopurchaseloantovalue                 0.0          0.0  \n",
       "transferinfopurchasetypecode                   30.0         30.0  \n",
       "transfertaxtotal                                NaN          NaN  \n",
       "assessorlastsaledate                         2018.0       2012.0  \n",
       "assessorpriorsaledate                        2007.0          NaN  \n",
       "assrlastupdated                              2019.0       2019.0  \n",
       "deedlastsaledate                             2018.0       2012.0  \n",
       "lastassessortaxrollupdate                    2016.0       2018.0  \n",
       "lastownershiptransferdate                    2018.0       2012.0  \n",
       "lastupdatedate                               2019.0       2019.0  \n",
       "valuationdate                                2019.0       2019.0  "
      ]
     },
     "execution_count": 648,
     "metadata": {},
     "output_type": "execute_result"
    }
   ],
   "source": [
    "results_df_clean.select_dtypes(include='float').head().T\n"
   ]
  },
  {
   "cell_type": "markdown",
   "metadata": {},
   "source": [
    "### It is clear that we're going to have to use some kind of imputation strategy to handle the presence of 'Nan's \n",
    "### in certain columns  - there is some kind of trade-off between keeping these NaNs with a 'mean' imputation strategy versus ditching them completely. Let's find out.\n",
    "### A good starting place would be to use the library 'sklearn_pandas', as well as the 'sklearn' imputers available"
   ]
  },
  {
   "cell_type": "code",
   "execution_count": 330,
   "metadata": {},
   "outputs": [],
   "source": [
    "df_avm_2 = df_avm.copy()\n",
    "cleaned_product_dict = {}\n",
    "product_name_dict = {}\n",
    "raw_data_dixt = {}\n",
    "for idx, (name, dataset) in enumerate(prod_dict.items()):\n",
    "    col_names = dataset.columns\n",
    "    product_name_dict[str(idx)] = list(set([str(name).split('.')[0] for name in col_names if 'inputs' not in name]))\n",
    "    cur_name = product_name_dict[str(idx)].pop()\n",
    "    cleaned_product_dict[name+str(idx)] = avm_preprocesser(dataset, cur_name)\n",
    "    df_avm_2 = pd.concat([df_avm_2, cleaned_product_dict[name+str(idx)]], axis=1)\n",
    "    df_avm_3 = pd.concat([df_avm, dataset], axis=1)\n",
    "assert df_avm_2.shape[1] == prod_dict['0'].shape[1] + prod_dict['1'].shape[1] + prod_dict['2'].shape[1] + df_avm.shape[1]"
   ]
  },
  {
   "cell_type": "code",
   "execution_count": null,
   "metadata": {},
   "outputs": [],
   "source": [
    "# import pandas_profiling as pf\n",
    "# df_avm.profile_report(style={'full_width':True})\n"
   ]
  },
  {
   "cell_type": "code",
   "execution_count": 651,
   "metadata": {},
   "outputs": [
    {
     "name": "stdout",
     "output_type": "stream",
     "text": [
      "  product_name  product_match_rate   attribute_name  attribute_fill_rate  \\\n",
      "0    attom_avm               100.0         attom_id                84.52   \n",
      "1    attom_avm               100.0        client_id                 0.00   \n",
      "2    attom_avm               100.0  confidencescore                84.52   \n",
      "3    attom_avm               100.0       createdate                84.52   \n",
      "4    attom_avm               100.0            error                 0.00   \n",
      "\n",
      "  attribute_type  unique_values  \\\n",
      "0        float64           7514   \n",
      "1        float64              0   \n",
      "2        float64             80   \n",
      "3         object             14   \n",
      "4        float64              0   \n",
      "\n",
      "                                  most_common_values  cardinality  \\\n",
      "0  {\"31236220.0\": 2, \"322428212.0\": 2, \"20512479....        99.84   \n",
      "1                                                 {}         0.00   \n",
      "2  {\"87.0\": 228, \"83.0\": 223, \"85.0\": 207, \"86.0\"...         1.06   \n",
      "3  {\"2019-07-03\": 7419, \"2019-05-08\": 24, \"2018-1...         0.19   \n",
      "4                                                 {}         0.00   \n",
      "\n",
      "            std       median          mean    max_value  min_value  \\\n",
      "0  8.416698e+07  144379308.5  1.120931e+08  327192577.0     8770.0   \n",
      "1           NaN          NaN           NaN          NaN        NaN   \n",
      "2  1.715554e+01         73.0  7.005607e+01         96.0       17.0   \n",
      "3           NaN          NaN           NaN          NaN        NaN   \n",
      "4           NaN          NaN           NaN          NaN        NaN   \n",
      "\n",
      "       variance  \n",
      "0  7.084080e+15  \n",
      "1           NaN  \n",
      "2  2.943126e+02  \n",
      "3           NaN  \n",
      "4           NaN  \n"
     ]
    }
   ],
   "source": [
    "stats = analytics.report(df_avm)\n",
    "print(stats.head(5))\n"
   ]
  },
  {
   "cell_type": "code",
   "execution_count": 650,
   "metadata": {},
   "outputs": [
    {
     "name": "stdout",
     "output_type": "stream",
     "text": [
      "Variable           Type         Data/Info\n",
      "-----------------------------------------\n",
      "dataset            DataFrame    Empty DataFrame\\nColumns:<...>n\\n[0 rows x 116 columns]\n",
      "df                 DataFrame                             <...>n[11229 rows x 5 columns]\n",
      "df_avm             DataFrame          inputs.attom_id    <...>n[8904 rows x 20 columns]\n",
      "df_avm_2           DataFrame             attom_id        <...>[8904 rows x 682 columns]\n",
      "df_avm_3           DataFrame             attom_id        <...>[8904 rows x 136 columns]\n",
      "df_copy            DataFrame                             <...>n[11198 rows x 6 columns]\n",
      "df_recorder        DataFrame           attom_id          <...>[8904 rows x 248 columns]\n",
      "full_df            DataFrame           attom_id          <...>[8904 rows x 653 columns]\n",
      "input_f            DataFrame                             <...>field  94533-6834   False\n",
      "q                  DataFrame           inputs.attom_id   <...>[11198 rows x 20 columns]\n",
      "results            DataFrame                          cit<...>\\n[8904 rows x 7 columns]\n",
      "results1           DataFrame                          cit<...>\\n[8904 rows x 7 columns]\n",
      "results3           DataFrame           attom_id          <...>[8904 rows x 248 columns]\n",
      "results_avm        DataFrame          inputs.attom_id    <...>n[8904 rows x 20 columns]\n",
      "results_avm_com    DataFrame         inputs.attom_id     <...>n[8904 rows x 30 columns]\n",
      "results_df_clean   DataFrame           attom_id          <...>[8904 rows x 229 columns]\n",
      "results_df_tmp     DataFrame           attom_id          <...>[8904 rows x 565 columns]\n",
      "results_tax        DataFrame          inputs.attom_id    <...>11198 rows x 338 columns]\n",
      "stats              DataFrame       product_name  product_<...>+07  \\n12           NaN  \n",
      "updated_data       DataFrame             attom_id        <...>[8904 rows x 143 columns]\n"
     ]
    }
   ],
   "source": [
    "whos DataFrame"
   ]
  },
  {
   "cell_type": "code",
   "execution_count": null,
   "metadata": {},
   "outputs": [],
   "source": [
    "from sklearn_pandas import DataFrameMapper\n",
    "from sklearn.linear_model import LinearRegression\n",
    "from sklearn.metrics import mean_absolute_error\n",
    "from sklearn.model_selection import train_test_split\n",
    "from sklearn.pipeline import Pipeline\n",
    "from sklearn.preprocessing import LabelBinarizer, StandardScaler\n",
    "from xgboost.sklearn import XGBRegressor\n",
    "b = pd.read_csv('data/updated_fixed_data.csv')\n",
    "b['name'] = b['name'].str.lower()\n",
    "b = b[~(b['name'].str.contains('portable')|b['name'].str.contains('hannah')|b['name'].str.contains('ruoyi'))]\n",
    "b.drop(['name', 'children_age', 'id', 'resp_b', 'support_name', 'support_result', 'Unnamed: 0'], axis=1, inplace=True)\n",
    "col_list = b.columns\n",
    "new_col_list = list(col_list[:9]) + list(col_list[10:])\n",
    "new_col_list.extend(['total_a'])\n",
    "b = b[new_col_list]\n",
    "b = handle_duplicates(b, target_index=-1, strategy='ignore', ignore_cols=[])\n",
    "\n",
    "categorical_cols_ordinal = ['health_a', 'health_b']\n",
    "categorical_cols_normal = ['child_support_new_encoding', 'no_children_flag']\n",
    "continuous_cols = set(b.columns) - set(categorical_cols_ordinal) - set(categorical_cols_normal) - set(['total_a'])\n",
    "estimator = XGBRegressor()\n",
    "estimator = LinearRegression()\n",
    "mapper = DataFrameMapper(\n",
    "  [([continuous_col], StandardScaler()) for continuous_col in continuous_cols] +\n",
    "  [(categorical_col, LabelBinarizer()) for categorical_col in categorical_cols_normal] +\n",
    "  [([categorical_col], OrdinalEncoder()) for categorical_col in categorical_cols_ordinal],\n",
    "  input_df=True, df_out=True\n",
    ")\n",
    "\n",
    "pipeline = Pipeline(\n",
    "  [(\"mapper\", mapper),\n",
    "  (\"estimator\", estimator)]\n",
    ")\n",
    "\n",
    "X_train, X_test, Y_train, Y_test = train_test_split(b[b.columns.difference(['total_a'])], b['total_a'])\n",
    "pipeline.fit(X_train, Y_train)\n",
    "print(mean_absolute_error(pipeline.predict(X_test), Y_test))\n",
    "#pipeline.fit(b.copy(), b[\"total_a\"])\n",
    "\n",
    "#pipeline.predict(b)"
   ]
  }
 ],
 "metadata": {
  "kernelspec": {
   "display_name": "Python 3",
   "language": "python",
   "name": "python3"
  },
  "language_info": {
   "codemirror_mode": {
    "name": "ipython",
    "version": 3
   },
   "file_extension": ".py",
   "mimetype": "text/x-python",
   "name": "python",
   "nbconvert_exporter": "python",
   "pygments_lexer": "ipython3",
   "version": "3.7.0"
  }
 },
 "nbformat": 4,
 "nbformat_minor": 2
}
