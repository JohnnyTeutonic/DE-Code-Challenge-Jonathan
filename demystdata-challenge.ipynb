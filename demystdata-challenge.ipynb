{
 "cells": [
  {
   "cell_type": "code",
   "execution_count": null,
   "metadata": {},
   "outputs": [],
   "source": [
    "# example of using in-built analytics 'load_input' function.\n",
    "# old code\n",
    "from demyst.analytics import Analytics\n",
    "analytics = Analytics(username=\"code-challenge-johnathan@demystdata.com\", password=\"y(z%CrM32aXW^CQw8cUe2Mx83uG[\")\n",
    "import numpy as np\n",
    "import pandas as pd\n",
    "input_f = analytics.load_input(\"input_file.csv\")\n",
    "analytics.search(input_f)\n",
    "df = pd.read_csv('input_file.csv', encoding = \"latin\", header=0)\n",
    "df_copy = df.dropna()\n",
    "print(df_copy.shape)\n",
    "df_copy['country'] = 'USA'\n",
    "df_copy.rename(index=str, columns={\"postcode\": \"post_code\"}, inplace=True)\n",
    "results4 = analytics.enrich_and_download([\"attom_expanded_profile_report\"], df_copy, validate=True)\n",
    "print(analytics.sample_enrich(df_copy).head(3))\n",
    "print(results4.shape)"
   ]
  },
  {
   "cell_type": "code",
   "execution_count": null,
   "metadata": {},
   "outputs": [],
   "source": [
    "analytics.attribute_search(name=\"city\")\n"
   ]
  },
  {
   "cell_type": "markdown",
   "metadata": {},
   "source": [
    "# Beginning of Exploratory Data Analysis"
   ]
  },
  {
   "cell_type": "code",
   "execution_count": 13,
   "metadata": {},
   "outputs": [
    {
     "name": "stdout",
     "output_type": "stream",
     "text": [
      "(11229, 5)\n"
     ]
    },
    {
     "data": {
      "text/html": [
       "<table><tr><th>Column</th><th>Status</th><th>Description</th></tr><tr><th><a href=\"https://demyst.com/docs/demyst-live/types/#street\" target=\"_blank\">street</a></th><td style=\"background-color: lightgreen\"><nobr>All Valid</nobr></td><td style=\"text-align: left\">All values in this column are good to go.</td></tr><tr><th><a href=\"https://demyst.com/docs/demyst-live/types/#state\" target=\"_blank\">state</a></th><td style=\"background-color: peachpuff\"><nobr>Some Invalid</nobr></td><td style=\"text-align: left\">16.8% of the values of this column failed validation. One example of an invalid value is 'NJ  '. <a href=\"https://demyst.com/docs/demyst-live/types/#state\" target=\"_blank\">Click here for documentation for this column.</a></td></tr><tr><th><a href=\"https://demyst.com/docs/demyst-live/types/#city\" target=\"_blank\">city</a></th><td style=\"background-color: lightgreen\"><nobr>All Valid</nobr></td><td style=\"text-align: left\">All values in this column are good to go.</td></tr><tr><th>postcode</th><td style=\"background-color: lightpink\"><nobr>Unrecognized Column Name</nobr></td><td style=\"text-align: left\">This column name is not supported. <a href=\"https://demyst.com/docs/demyst-live/types/\" target=\"_blank\">Click here for a list of all supported column names.</a></td></tr><tr><th>safety_flag</th><td style=\"background-color: lightpink\"><nobr>Unrecognized Column Name</nobr></td><td style=\"text-align: left\">This column name is not supported. <a href=\"https://demyst.com/docs/demyst-live/types/\" target=\"_blank\">Click here for a list of all supported column names.</a></td></tr></table>"
      ],
      "text/plain": [
       "<demyst.analytics.analytics.Validation at 0x14c4a8e48>"
      ]
     },
     "execution_count": 13,
     "metadata": {},
     "output_type": "execute_result"
    }
   ],
   "source": [
    "import warnings\n",
    "warnings.filterwarnings('ignore')\n",
    "from demyst.analytics import Analytics\n",
    "analytics = Analytics(username=\"code-challenge-johnathan@demystdata.com\", password=\"y(z%CrM32aXW^CQw8cUe2Mx83uG[\")\n",
    "from demyst.common import connectors\n",
    "import numpy as np\n",
    "import pandas as pd\n",
    "df = pd.read_csv('input_file.csv', encoding = \"latin\", header=0)\n",
    "df_copy = df.copy()\n",
    "print(df_copy.shape)\n",
    "analytics.validate(df_copy)\n"
   ]
  },
  {
   "cell_type": "markdown",
   "metadata": {},
   "source": [
    "The two columns 'postcode' and 'safety_flag' aren't recognised as valid column names.\n",
    "We're able to infer the valid column names from https://demyst.com/docs/demyst-live/types/.\n",
    "\n",
    "Based on the column names found in the link listed avoce, we need to change the column name 'postcode' to 'post-code'.\n",
    "'safety_flag' is also not recognised as a valid name, but we can leave it in the dataframe for now because that is our 'target' variable.\n",
    "We will also need to fix the 'state' variables as there are invalid data points present as shown in the output above."
   ]
  },
  {
   "cell_type": "code",
   "execution_count": 14,
   "metadata": {},
   "outputs": [
    {
     "data": {
      "text/html": [
       "<table><tr><th>Column</th><th>Status</th><th>Description</th></tr><tr><th><a href=\"https://demyst.com/docs/demyst-live/types/#street\" target=\"_blank\">street</a></th><td style=\"background-color: lightgreen\"><nobr>All Valid</nobr></td><td style=\"text-align: left\">All values in this column are good to go.</td></tr><tr><th><a href=\"https://demyst.com/docs/demyst-live/types/#state\" target=\"_blank\">state</a></th><td style=\"background-color: peachpuff\"><nobr>Some Invalid</nobr></td><td style=\"text-align: left\">16.8% of the values of this column failed validation. One example of an invalid value is 'NJ  '. <a href=\"https://demyst.com/docs/demyst-live/types/#state\" target=\"_blank\">Click here for documentation for this column.</a></td></tr><tr><th><a href=\"https://demyst.com/docs/demyst-live/types/#city\" target=\"_blank\">city</a></th><td style=\"background-color: lightgreen\"><nobr>All Valid</nobr></td><td style=\"text-align: left\">All values in this column are good to go.</td></tr><tr><th><a href=\"https://demyst.com/docs/demyst-live/types/#post_code\" target=\"_blank\">post_code</a></th><td style=\"background-color: peachpuff\"><nobr>Some Invalid</nobr></td><td style=\"text-align: left\">0.1% of the values of this column failed validation. One example of an invalid value is 'nan'. <a href=\"https://demyst.com/docs/demyst-live/types/#post_code\" target=\"_blank\">Click here for documentation for this column.</a></td></tr><tr><th>safety_flag</th><td style=\"background-color: lightpink\"><nobr>Unrecognized Column Name</nobr></td><td style=\"text-align: left\">This column name is not supported. <a href=\"https://demyst.com/docs/demyst-live/types/\" target=\"_blank\">Click here for a list of all supported column names.</a></td></tr></table>"
      ],
      "text/plain": [
       "<demyst.analytics.analytics.Validation at 0x14c4a86a0>"
      ]
     },
     "execution_count": 14,
     "metadata": {},
     "output_type": "execute_result"
    }
   ],
   "source": [
    "df_copy.rename(index=str, columns={\"postcode\": \"post_code\"}, inplace=True)\n",
    "analytics.validate(df_copy)\n"
   ]
  },
  {
   "cell_type": "markdown",
   "metadata": {},
   "source": [
    "<!-- The column that has name 'safety_flag' has been inferred to be of type 'Boolean'. This is useful to know - even though we can't use this column for a lookup search for data enrichment, the DemystData api is at least able to infer the *type* of this target variable. -->\n",
    "Now that we've changed the name of 'postcode' to a valid column name (post-code), the analysis recognises this column and has shown that there is a small proportion (0.1%) of invalid data, including the presence of 'nans'.\n",
    "Likewise, the 'state' variable contains invalid data, so we need to fix those invalid data points additionally."
   ]
  },
  {
   "cell_type": "markdown",
   "metadata": {},
   "source": [
    "### Clean data that has invalid inputs"
   ]
  },
  {
   "cell_type": "markdown",
   "metadata": {},
   "source": [
    "There are 'nans' present in the 'state' and 'post_code' variables, so we will drop those from the dataframe"
   ]
  },
  {
   "cell_type": "code",
   "execution_count": 17,
   "metadata": {},
   "outputs": [
    {
     "data": {
      "text/plain": [
       "street         0\n",
       "state          9\n",
       "city           9\n",
       "post_code      9\n",
       "safety_flag    0\n",
       "dtype: int64"
      ]
     },
     "execution_count": 17,
     "metadata": {},
     "output_type": "execute_result"
    }
   ],
   "source": [
    "df_copy.isna().sum()"
   ]
  },
  {
   "cell_type": "code",
   "execution_count": 18,
   "metadata": {},
   "outputs": [
    {
     "name": "stdout",
     "output_type": "stream",
     "text": [
      "(11229, 5)\n",
      "(11219, 5)\n"
     ]
    }
   ],
   "source": [
    "print(df_copy.shape)\n",
    "# this will drop *all* 'nans', regardless of which variable is contained\n",
    "df_copy.dropna(inplace=True)\n",
    "print(df_copy.shape)"
   ]
  },
  {
   "cell_type": "markdown",
   "metadata": {},
   "source": [
    "We managed to remove 10 records from the input data after executing the 'dropna' function, in an 'inplace' manner"
   ]
  },
  {
   "cell_type": "code",
   "execution_count": 19,
   "metadata": {},
   "outputs": [
    {
     "name": "stdout",
     "output_type": "stream",
     "text": [
      "['FL' 'IN' 'VA' 'OH' 'MA' 'MN' 'WI' 'NC' 'CO' 'CA' 'NY' 'NH' 'CT' 'MD'\n",
      " 'NJ' 'KY' 'WA' 'IA' 'LA' 'GA' 'IL' 'TX' 'AZ' 'DE' 'MI' 'RI' 'OR' 'AR'\n",
      " 'HI' 'PA' 'SC' 'AL' 'TN' 'WY' 'NV' 'NE' 'MT' 'MS' 'OK' 'KS' 'MO' 'ID'\n",
      " 'DC' 'UT' 'NM' 'ND' 'ME' 'VT' 'AK' 'SD' 'NJ  ' 'NY  ' 'CA  ' 'OR  '\n",
      " 'GA  ' 'MI  ' 'AZ  ' 'TX  ' 'PA  ']\n"
     ]
    }
   ],
   "source": [
    "print(df_copy['state'].unique())"
   ]
  },
  {
   "cell_type": "markdown",
   "metadata": {},
   "source": [
    "There is whitespace present in several of the data points, so we should remove them"
   ]
  },
  {
   "cell_type": "code",
   "execution_count": 20,
   "metadata": {},
   "outputs": [],
   "source": [
    "# remove whitespace found in state names above\n",
    "df_copy['state'] = df_copy['state'].str.strip()"
   ]
  },
  {
   "cell_type": "markdown",
   "metadata": {},
   "source": [
    "There is an inconsistent schema for the 'city' variable as seen below ('VACKAVILLE' vs 'Lakeland')"
   ]
  },
  {
   "cell_type": "code",
   "execution_count": 22,
   "metadata": {},
   "outputs": [
    {
     "data": {
      "text/plain": [
       "array(['Lakeland', 'Indianapolis', 'Troutville', ..., 'VACKAVILLE',\n",
       "       'San Juan Capistrano', 'White Pains'], dtype=object)"
      ]
     },
     "execution_count": 22,
     "metadata": {},
     "output_type": "execute_result"
    }
   ],
   "source": [
    "df_copy['city'].unique()"
   ]
  },
  {
   "cell_type": "code",
   "execution_count": 23,
   "metadata": {},
   "outputs": [
    {
     "data": {
      "text/plain": [
       "New York            245\n",
       "Brooklyn            158\n",
       "San Francisco       155\n",
       "Los Angeles         138\n",
       "Chicago              99\n",
       "San Antonio          83\n",
       "San Diego            83\n",
       "Houston              82\n",
       "San Jose             74\n",
       "Bronx                65\n",
       "Dallas               54\n",
       "Miami                50\n",
       "Philadelphia         43\n",
       "Atlanta              43\n",
       "Sacramento           42\n",
       "Oakland              41\n",
       "Orlando              37\n",
       "Austin               37\n",
       "Charlotte            34\n",
       "Seattle              33\n",
       "Phoenix              32\n",
       "Jacksonville         31\n",
       "El Paso              31\n",
       "Las Vegas            30\n",
       "Washington           27\n",
       "Fort Worth           27\n",
       "Long Beach           26\n",
       "Pittsburgh           25\n",
       "Portland             25\n",
       "Tampa                25\n",
       "                   ... \n",
       "Marina Del Rey        1\n",
       "Addis                 1\n",
       "Chestnut Hill         1\n",
       "Lexington Park        1\n",
       "PITTSBURGH            1\n",
       "ROSEVILLE             1\n",
       "Rehoboth              1\n",
       "Dale                  1\n",
       "East Windsor          1\n",
       "Solvay                1\n",
       "Westford              1\n",
       "Carmel Valley         1\n",
       "Steger                1\n",
       "Oak park heights      1\n",
       "Kendall Park          1\n",
       "JACKSONVILLE          1\n",
       "tavares               1\n",
       "Whitehall             1\n",
       "Enola                 1\n",
       "LK HAVASU CTY         1\n",
       "West Springfield      1\n",
       "Winston               1\n",
       "Dana Point            1\n",
       "Defiance              1\n",
       "Saint Amant           1\n",
       "South Salt Lake       1\n",
       "long beach            1\n",
       "Prescott              1\n",
       "Sandstone             1\n",
       "Menomonie             1\n",
       "Name: city, Length: 4181, dtype: int64"
      ]
     },
     "execution_count": 23,
     "metadata": {},
     "output_type": "execute_result"
    }
   ],
   "source": [
    "df_copy['city'].value_counts()"
   ]
  },
  {
   "cell_type": "markdown",
   "metadata": {},
   "source": [
    "Because the majority of city names conform to the schema with a capitalised first letter for each part of the name,\n",
    "we need to transform other data points (such as 'long beach' and 'VACKAVILLE') to a schema like:\n",
    "'Long Beach', and 'Vackaville'"
   ]
  },
  {
   "cell_type": "code",
   "execution_count": 24,
   "metadata": {},
   "outputs": [],
   "source": [
    "df_copy['city'] = df_copy['city'].str.title()\n"
   ]
  },
  {
   "cell_type": "code",
   "execution_count": 25,
   "metadata": {},
   "outputs": [
    {
     "data": {
      "text/plain": [
       "New York              261\n",
       "Brooklyn              167\n",
       "San Francisco         158\n",
       "Los Angeles           142\n",
       "Chicago               104\n",
       "San Diego              88\n",
       "San Antonio            85\n",
       "Houston                84\n",
       "San Jose               76\n",
       "Bronx                  73\n",
       "Dallas                 54\n",
       "Miami                  54\n",
       "Sacramento             45\n",
       "Philadelphia           43\n",
       "Oakland                43\n",
       "Atlanta                43\n",
       "Austin                 39\n",
       "Orlando                37\n",
       "Charlotte              36\n",
       "Las Vegas              35\n",
       "Seattle                35\n",
       "Jacksonville           33\n",
       "Phoenix                32\n",
       "El Paso                32\n",
       "Washington             30\n",
       "Long Beach             29\n",
       "Fort Worth             29\n",
       "Pittsburgh             26\n",
       "Portland               26\n",
       "Staten Island          26\n",
       "                     ... \n",
       "Saint Peter             1\n",
       "Cookeville              1\n",
       "Summerspoint            1\n",
       "Aumsville               1\n",
       "Morrilton               1\n",
       "Cazenovia               1\n",
       "Union Beach             1\n",
       "Bainbridge Island       1\n",
       "Richland Center         1\n",
       "Cameron Park            1\n",
       "Greenport               1\n",
       "Caruthers               1\n",
       "Glenn Heights           1\n",
       "Hanson                  1\n",
       "Marina Del Rey          1\n",
       "Addis                   1\n",
       "Chestnut Hill           1\n",
       "Lexington Park          1\n",
       "Jeffersonville          1\n",
       "Draper                  1\n",
       "Rosenberg               1\n",
       "Elberta                 1\n",
       "Forks Township          1\n",
       "Bottineau               1\n",
       "New Ringgold            1\n",
       "Grand Prarie            1\n",
       "Fairfield Township      1\n",
       "Mifflinville            1\n",
       "Sprngfld Gdns           1\n",
       "Menomonie               1\n",
       "Name: city, Length: 3785, dtype: int64"
      ]
     },
     "execution_count": 25,
     "metadata": {},
     "output_type": "execute_result"
    }
   ],
   "source": [
    "df_copy['city'].value_counts()"
   ]
  },
  {
   "cell_type": "markdown",
   "metadata": {},
   "source": [
    "As seen above, now the 'state' variable contains data points that all conform to the same schema"
   ]
  },
  {
   "cell_type": "markdown",
   "metadata": {},
   "source": [
    "Based on the 'postcode' output below, there are variable types of coding schemas present in the dataset.\n",
    "We need to ensure that each postcode is of fixed length. "
   ]
  },
  {
   "cell_type": "code",
   "execution_count": 26,
   "metadata": {},
   "outputs": [
    {
     "data": {
      "text/plain": [
       "array(['33812-5237', '46227', '24175-6054', ..., '14626', '92192',\n",
       "       '92782'], dtype=object)"
      ]
     },
     "execution_count": 26,
     "metadata": {},
     "output_type": "execute_result"
    }
   ],
   "source": [
    "df_copy['post_code'].unique()"
   ]
  },
  {
   "cell_type": "markdown",
   "metadata": {},
   "source": [
    "The majority of postcodes are 5 digits long, so let's ensure that *every* postcode is of that length"
   ]
  },
  {
   "cell_type": "code",
   "execution_count": 27,
   "metadata": {},
   "outputs": [
    {
     "data": {
      "text/plain": [
       "94107    25\n",
       "94103    21\n",
       "10001    20\n",
       "10016    16\n",
       "10003    14\n",
       "10012    13\n",
       "Name: post_code, dtype: int64"
      ]
     },
     "execution_count": 27,
     "metadata": {},
     "output_type": "execute_result"
    }
   ],
   "source": [
    "df_copy['post_code'].value_counts().head(6)"
   ]
  },
  {
   "cell_type": "code",
   "execution_count": 28,
   "metadata": {},
   "outputs": [],
   "source": [
    "# we need to ensure we have a consistent schema for the postcodes\n",
    "def transform_postcodes(postcode):\n",
    "    '''Converts postcodes to 5-digits. Assumes that the input is a Pandas Series'''\n",
    "    l = len(postcode)\n",
    "    if l == 4:\n",
    "        return postcode.zfill(5)\n",
    "    if l == 5:\n",
    "        return postcode\n",
    "    #if l == 9 or l == 10:\n",
    "    #    return postcode[:5]\n",
    "    else:\n",
    "        return postcode[:5]\n",
    "\n",
    "#df_copy.loc[:, 'post-code'] = df_copy['post-code'].astype('str').apply(transform_postcodes)"
   ]
  },
  {
   "cell_type": "code",
   "execution_count": 31,
   "metadata": {},
   "outputs": [
    {
     "data": {
      "text/plain": [
       "94107    26\n",
       "94103    22\n",
       "10001    22\n",
       "10016    17\n",
       "10003    15\n",
       "10012    13\n",
       "11201    13\n",
       "10019    13\n",
       "11222    13\n",
       "94110    12\n",
       "10022    12\n",
       "10013    12\n",
       "94025    11\n",
       "10018    11\n",
       "90069    11\n",
       "10014    11\n",
       "94111    10\n",
       "07024    10\n",
       "92101    10\n",
       "10010    10\n",
       "94610    10\n",
       "94114    10\n",
       "94109    10\n",
       "92660    10\n",
       "11249    10\n",
       "12866    10\n",
       "92130     9\n",
       "10940     9\n",
       "11215     9\n",
       "77449     9\n",
       "         ..\n",
       "75251     1\n",
       "53718     1\n",
       "08512     1\n",
       "31320     1\n",
       "07827     1\n",
       "62930     1\n",
       "90210     1\n",
       "96717     1\n",
       "29154     1\n",
       "73096     1\n",
       "61615     1\n",
       "86322     1\n",
       "64089     1\n",
       "84009     1\n",
       "81507     1\n",
       "85224     1\n",
       "67207     1\n",
       "89509     1\n",
       "30054     1\n",
       "27703     1\n",
       "81401     1\n",
       "41129     1\n",
       "73127     1\n",
       "37026     1\n",
       "62821     1\n",
       "88766     1\n",
       "14020     1\n",
       "70774     1\n",
       "94703     1\n",
       "56011     1\n",
       "Name: post_code, Length: 6597, dtype: int64"
      ]
     },
     "execution_count": 31,
     "metadata": {},
     "output_type": "execute_result"
    }
   ],
   "source": [
    "a = df_copy['post_code'].astype('str').apply(transform_postcodes)\n",
    "a.value_counts()"
   ]
  },
  {
   "cell_type": "markdown",
   "metadata": {},
   "source": [
    "Now we're ready to apply the 'transform_postcodes' function to the 'post_code' variable"
   ]
  },
  {
   "cell_type": "code",
   "execution_count": 37,
   "metadata": {},
   "outputs": [],
   "source": [
    "df_copy['post_code'] = df_copy['post_code'].astype('str').apply(transform_postcodes)\n"
   ]
  },
  {
   "cell_type": "code",
   "execution_count": 38,
   "metadata": {},
   "outputs": [
    {
     "data": {
      "text/html": [
       "<table><tr><th>Column</th><th>Status</th><th>Description</th></tr><tr><th><a href=\"https://demyst.com/docs/demyst-live/types/#street\" target=\"_blank\">street</a></th><td style=\"background-color: lightgreen\"><nobr>All Valid</nobr></td><td style=\"text-align: left\">All values in this column are good to go.</td></tr><tr><th><a href=\"https://demyst.com/docs/demyst-live/types/#state\" target=\"_blank\">state</a></th><td style=\"background-color: lightgreen\"><nobr>All Valid</nobr></td><td style=\"text-align: left\">All values in this column are good to go.</td></tr><tr><th><a href=\"https://demyst.com/docs/demyst-live/types/#city\" target=\"_blank\">city</a></th><td style=\"background-color: lightgreen\"><nobr>All Valid</nobr></td><td style=\"text-align: left\">All values in this column are good to go.</td></tr><tr><th><a href=\"https://demyst.com/docs/demyst-live/types/#post_code\" target=\"_blank\">post_code</a></th><td style=\"background-color: lightgreen\"><nobr>All Valid</nobr></td><td style=\"text-align: left\">All values in this column are good to go.</td></tr><tr><th>safety_flag</th><td style=\"background-color: lightpink\"><nobr>Unrecognized Column Name</nobr></td><td style=\"text-align: left\">This column name is not supported. <a href=\"https://demyst.com/docs/demyst-live/types/\" target=\"_blank\">Click here for a list of all supported column names.</a></td></tr></table>"
      ],
      "text/plain": [
       "<demyst.analytics.analytics.Validation at 0x151306c50>"
      ]
     },
     "execution_count": 38,
     "metadata": {},
     "output_type": "execute_result"
    }
   ],
   "source": [
    "analytics.validate(df_copy)\n"
   ]
  },
  {
   "cell_type": "markdown",
   "metadata": {},
   "source": [
    "Everything appears 'good to go' for data enrichment *however*, we also need to ensure that there aren't any duplicated data points present.    \n"
   ]
  },
  {
   "cell_type": "code",
   "execution_count": 42,
   "metadata": {},
   "outputs": [
    {
     "data": {
      "text/plain": [
       "21"
      ]
     },
     "execution_count": 42,
     "metadata": {},
     "output_type": "execute_result"
    }
   ],
   "source": [
    "df_copy[df_copy.duplicated()].shape[0]"
   ]
  },
  {
   "cell_type": "markdown",
   "metadata": {},
   "source": [
    "21 duplicates were found, so let's drop them"
   ]
  },
  {
   "cell_type": "code",
   "execution_count": 43,
   "metadata": {},
   "outputs": [],
   "source": [
    "df_copy.drop_duplicates(inplace=True)\n"
   ]
  },
  {
   "cell_type": "markdown",
   "metadata": {},
   "source": [
    "Now we're ready to search for any data sets that we could use for enrichment for our input data"
   ]
  },
  {
   "cell_type": "code",
   "execution_count": 44,
   "metadata": {},
   "outputs": [
    {
     "data": {
      "text/html": [
       "<div style=\"\"><div style=\"pading:10px;\"><div style=\"padding:5px\"><h1><img height=\"30\" width=\"30\" src=\"https://console.demystdata.com/assets/attom-018667395fd6d2e395ec7079d09434844d7ef98d02dac7c32e8bcb6c326145f1.svg\" style=\"display:inline-block\" /> Attom</h1><pre style=\"\">attom_expanded_profile_report</pre><p><em>Retrieve Attom's internal reference ID for a property in order to search public property records including real estate data: sale, ownership, tax, and more - for more than 150 million U.S. properties.</em></p></div><div style=\"padding: 5px;\"><table><tr><th> </th><th>post_code</th><th>country</th><th>city</th><th>state</th><th>street</th></tr><tr><td>Option 1</td><td><span style=\"font-size: 20px;\">☒</span></td><td><span style=\"font-size: 20px;\">☐</span></td><td><span style=\"font-size: 20px;\">☒</span></td><td><span style=\"font-size: 20px;\">☒</span></td><td><span style=\"font-size: 20px;\">☒</span></td></tr></table></div></div></div>"
      ],
      "text/plain": [
       "<IPython.core.display.HTML object>"
      ]
     },
     "execution_count": 44,
     "metadata": {},
     "output_type": "execute_result"
    }
   ],
   "source": [
    "analytics.search(df_copy)\n"
   ]
  },
  {
   "cell_type": "markdown",
   "metadata": {},
   "source": [
    "The above output shows that 'attom_expanded_profile_report' could be used to enrich our input dataframe.\n",
    "However, we don't have the column/attribute 'country' present in our data, so we need to include that to get a proper match.\n",
    "We can infer that the 'country' column can be set to 'USA', as the output from running df['state'].unique() shows that each of the two letter acronyms match the 'ANSI' schema or 'USPS' coding schema of all the american states.\n",
    "So let's add that column to the sanitised dataframe.\n"
   ]
  },
  {
   "cell_type": "code",
   "execution_count": 45,
   "metadata": {},
   "outputs": [],
   "source": [
    "df_copy['country'] = 'USA'\n"
   ]
  },
  {
   "cell_type": "code",
   "execution_count": 46,
   "metadata": {},
   "outputs": [
    {
     "data": {
      "text/html": [
       "<div style=\"\"><div style=\"pading:10px;\"><div style=\"padding:5px\"><h1><img height=\"30\" width=\"30\" src=\"https://console.demystdata.com/assets/attom-018667395fd6d2e395ec7079d09434844d7ef98d02dac7c32e8bcb6c326145f1.svg\" style=\"display:inline-block\" /> Attom</h1><pre style=\"\">attom_expanded_profile_report</pre><p><em>Retrieve Attom's internal reference ID for a property in order to search public property records including real estate data: sale, ownership, tax, and more - for more than 150 million U.S. properties.</em></p></div><div style=\"padding: 5px;\"><table><tr><th> </th><th>post_code</th><th>country</th><th>city</th><th>state</th><th>street</th></tr><tr><td>Option 1</td><td><span style=\"font-size: 20px;\">☒</span></td><td><span style=\"font-size: 20px;\">☒</span></td><td><span style=\"font-size: 20px;\">☒</span></td><td><span style=\"font-size: 20px;\">☒</span></td><td><span style=\"font-size: 20px;\">☒</span></td></tr></table></div></div></div>"
      ],
      "text/plain": [
       "<IPython.core.display.HTML object>"
      ]
     },
     "execution_count": 46,
     "metadata": {},
     "output_type": "execute_result"
    }
   ],
   "source": [
    "analytics.search(df_copy)\n"
   ]
  },
  {
   "cell_type": "markdown",
   "metadata": {},
   "source": [
    "Now all the data matches!"
   ]
  },
  {
   "cell_type": "code",
   "execution_count": 220,
   "metadata": {},
   "outputs": [
    {
     "name": "stdout",
     "output_type": "stream",
     "text": [
      "Verifying providers...\n",
      "Starting enrichment...\n",
      "Enrich Job ID: 13179\n"
     ]
    },
    {
     "data": {
      "application/vnd.jupyter.widget-view+json": {
       "model_id": "aba15bd8aba846df904f491e4195f266",
       "version_major": 2,
       "version_minor": 0
      },
      "text/plain": [
       "IntProgress(value=1, max=2)"
      ]
     },
     "metadata": {},
     "output_type": "display_data"
    },
    {
     "data": {
      "application/vnd.jupyter.widget-view+json": {
       "model_id": "455cd89c040b41cabbb0bfb632eb7368",
       "version_major": 2,
       "version_minor": 0
      },
      "text/plain": [
       "HTML(value='Checking status...')"
      ]
     },
     "metadata": {},
     "output_type": "display_data"
    }
   ],
   "source": [
    "results4 = analytics.enrich_and_download([\"attom_expanded_profile_report\"], df_copy, validate=True)\n"
   ]
  },
  {
   "cell_type": "code",
   "execution_count": 224,
   "metadata": {},
   "outputs": [
    {
     "data": {
      "text/plain": [
       "(11219, 10)"
      ]
     },
     "execution_count": 224,
     "metadata": {},
     "output_type": "execute_result"
    }
   ],
   "source": [
    "results4.shape"
   ]
  },
  {
   "cell_type": "code",
   "execution_count": 225,
   "metadata": {},
   "outputs": [
    {
     "data": {
      "text/html": [
       "<p style=\"font-style: italic;\">Sorry, we couldn't find any Data Products that matched this input.</p>"
      ],
      "text/plain": [
       "<IPython.core.display.HTML object>"
      ]
     },
     "execution_count": 225,
     "metadata": {},
     "output_type": "execute_result"
    }
   ],
   "source": [
    "analytics.search(results4, strict=False)"
   ]
  },
  {
   "cell_type": "code",
   "execution_count": 189,
   "metadata": {},
   "outputs": [
    {
     "data": {
      "text/html": [
       "<div>\n",
       "<style scoped>\n",
       "    .dataframe tbody tr th:only-of-type {\n",
       "        vertical-align: middle;\n",
       "    }\n",
       "\n",
       "    .dataframe tbody tr th {\n",
       "        vertical-align: top;\n",
       "    }\n",
       "\n",
       "    .dataframe thead th {\n",
       "        text-align: right;\n",
       "    }\n",
       "</style>\n",
       "<table border=\"1\" class=\"dataframe\">\n",
       "  <thead>\n",
       "    <tr style=\"text-align: right;\">\n",
       "      <th></th>\n",
       "      <th>inputs.city</th>\n",
       "      <th>inputs.country</th>\n",
       "      <th>inputs.post_code</th>\n",
       "      <th>inputs.safety_flag</th>\n",
       "      <th>inputs.state</th>\n",
       "      <th>inputs.street</th>\n",
       "      <th>attom_expanded_profile_report.row_id</th>\n",
       "      <th>attom_expanded_profile_report.client_id</th>\n",
       "      <th>attom_expanded_profile_report.attom_id</th>\n",
       "      <th>attom_expanded_profile_report.error</th>\n",
       "    </tr>\n",
       "  </thead>\n",
       "  <tbody>\n",
       "    <tr>\n",
       "      <th>0</th>\n",
       "      <td>Lakeland</td>\n",
       "      <td>USA</td>\n",
       "      <td>33812-5237</td>\n",
       "      <td>False</td>\n",
       "      <td>FL</td>\n",
       "      <td>3160 Otto Dr</td>\n",
       "      <td>0</td>\n",
       "      <td></td>\n",
       "      <td>162278089</td>\n",
       "      <td></td>\n",
       "    </tr>\n",
       "    <tr>\n",
       "      <th>1</th>\n",
       "      <td>Indianapolis</td>\n",
       "      <td>USA</td>\n",
       "      <td>46227</td>\n",
       "      <td>False</td>\n",
       "      <td>IN</td>\n",
       "      <td>940 Tulip Dr</td>\n",
       "      <td>1</td>\n",
       "      <td></td>\n",
       "      <td>28461481</td>\n",
       "      <td></td>\n",
       "    </tr>\n",
       "    <tr>\n",
       "      <th>2</th>\n",
       "      <td>Troutville</td>\n",
       "      <td>USA</td>\n",
       "      <td>24175-6054</td>\n",
       "      <td>False</td>\n",
       "      <td>VA</td>\n",
       "      <td>68 Rocky Top Rd</td>\n",
       "      <td>2</td>\n",
       "      <td></td>\n",
       "      <td>214628965</td>\n",
       "      <td></td>\n",
       "    </tr>\n",
       "  </tbody>\n",
       "</table>\n",
       "</div>"
      ],
      "text/plain": [
       "    inputs.city inputs.country inputs.post_code  inputs.safety_flag  \\\n",
       "0      Lakeland            USA       33812-5237               False   \n",
       "1  Indianapolis            USA            46227               False   \n",
       "2    Troutville            USA       24175-6054               False   \n",
       "\n",
       "  inputs.state    inputs.street  attom_expanded_profile_report.row_id  \\\n",
       "0           FL     3160 Otto Dr                                     0   \n",
       "1           IN     940 Tulip Dr                                     1   \n",
       "2           VA  68 Rocky Top Rd                                     2   \n",
       "\n",
       "  attom_expanded_profile_report.client_id  \\\n",
       "0                                           \n",
       "1                                           \n",
       "2                                           \n",
       "\n",
       "  attom_expanded_profile_report.attom_id attom_expanded_profile_report.error  \n",
       "0                              162278089                                      \n",
       "1                               28461481                                      \n",
       "2                              214628965                                      "
      ]
     },
     "execution_count": 189,
     "metadata": {},
     "output_type": "execute_result"
    }
   ],
   "source": [
    "results4.head(3)"
   ]
  },
  {
   "cell_type": "code",
   "execution_count": 98,
   "metadata": {},
   "outputs": [
    {
     "name": "stdout",
     "output_type": "stream",
     "text": [
      "Verifying providers...\n",
      "Starting enrichment...\n",
      "Enrich Job ID: 13164\n"
     ]
    },
    {
     "data": {
      "application/vnd.jupyter.widget-view+json": {
       "model_id": "5e40c41436f9406ba44c774dcad9a2ed",
       "version_major": 2,
       "version_minor": 0
      },
      "text/plain": [
       "IntProgress(value=1, max=2)"
      ]
     },
     "metadata": {},
     "output_type": "display_data"
    },
    {
     "data": {
      "application/vnd.jupyter.widget-view+json": {
       "model_id": "10e9c42caff747328b53b808ef5df742",
       "version_major": 2,
       "version_minor": 0
      },
      "text/plain": [
       "HTML(value='Checking status...')"
      ]
     },
     "metadata": {},
     "output_type": "display_data"
    }
   ],
   "source": [
    "results3 = analytics.enrich_and_download([\"attom_expanded_profile_report\"], df, validate=False)\n"
   ]
  },
  {
   "cell_type": "code",
   "execution_count": 133,
   "metadata": {},
   "outputs": [
    {
     "data": {
      "text/html": [
       "<div>\n",
       "<style scoped>\n",
       "    .dataframe tbody tr th:only-of-type {\n",
       "        vertical-align: middle;\n",
       "    }\n",
       "\n",
       "    .dataframe tbody tr th {\n",
       "        vertical-align: top;\n",
       "    }\n",
       "\n",
       "    .dataframe thead th {\n",
       "        text-align: right;\n",
       "    }\n",
       "</style>\n",
       "<table border=\"1\" class=\"dataframe\">\n",
       "  <thead>\n",
       "    <tr style=\"text-align: right;\">\n",
       "      <th></th>\n",
       "      <th>inputs.city</th>\n",
       "      <th>inputs.postcode</th>\n",
       "      <th>inputs.safety_flag</th>\n",
       "      <th>inputs.state</th>\n",
       "      <th>inputs.street</th>\n",
       "      <th>attom_expanded_profile_report.row_id</th>\n",
       "      <th>attom_expanded_profile_report.client_id</th>\n",
       "      <th>attom_expanded_profile_report.error</th>\n",
       "    </tr>\n",
       "  </thead>\n",
       "  <tbody>\n",
       "    <tr>\n",
       "      <th>0</th>\n",
       "      <td>Lakeland</td>\n",
       "      <td>33812-5237</td>\n",
       "      <td>False</td>\n",
       "      <td>FL</td>\n",
       "      <td>3160 Otto Dr</td>\n",
       "      <td>0</td>\n",
       "      <td></td>\n",
       "      <td>type: insufficient_input , message: Inputs are...</td>\n",
       "    </tr>\n",
       "    <tr>\n",
       "      <th>1</th>\n",
       "      <td>Indianapolis</td>\n",
       "      <td>46227</td>\n",
       "      <td>False</td>\n",
       "      <td>IN</td>\n",
       "      <td>940 Tulip Dr</td>\n",
       "      <td>1</td>\n",
       "      <td></td>\n",
       "      <td>type: insufficient_input , message: Inputs are...</td>\n",
       "    </tr>\n",
       "    <tr>\n",
       "      <th>2</th>\n",
       "      <td>Troutville</td>\n",
       "      <td>24175-6054</td>\n",
       "      <td>False</td>\n",
       "      <td>VA</td>\n",
       "      <td>68 Rocky Top Rd</td>\n",
       "      <td>2</td>\n",
       "      <td></td>\n",
       "      <td>type: insufficient_input , message: Inputs are...</td>\n",
       "    </tr>\n",
       "  </tbody>\n",
       "</table>\n",
       "</div>"
      ],
      "text/plain": [
       "    inputs.city inputs.postcode  inputs.safety_flag inputs.state  \\\n",
       "0      Lakeland      33812-5237               False           FL   \n",
       "1  Indianapolis           46227               False           IN   \n",
       "2    Troutville      24175-6054               False           VA   \n",
       "\n",
       "     inputs.street  attom_expanded_profile_report.row_id  \\\n",
       "0     3160 Otto Dr                                     0   \n",
       "1     940 Tulip Dr                                     1   \n",
       "2  68 Rocky Top Rd                                     2   \n",
       "\n",
       "  attom_expanded_profile_report.client_id  \\\n",
       "0                                           \n",
       "1                                           \n",
       "2                                           \n",
       "\n",
       "                 attom_expanded_profile_report.error  \n",
       "0  type: insufficient_input , message: Inputs are...  \n",
       "1  type: insufficient_input , message: Inputs are...  \n",
       "2  type: insufficient_input , message: Inputs are...  "
      ]
     },
     "execution_count": 133,
     "metadata": {},
     "output_type": "execute_result"
    }
   ],
   "source": [
    "results3.head(3)"
   ]
  },
  {
   "cell_type": "code",
   "execution_count": 102,
   "metadata": {},
   "outputs": [
    {
     "data": {
      "text/plain": [
       "(11229, 5)"
      ]
     },
     "execution_count": 102,
     "metadata": {},
     "output_type": "execute_result"
    }
   ],
   "source": [
    "df.shape"
   ]
  },
  {
   "cell_type": "code",
   "execution_count": 103,
   "metadata": {},
   "outputs": [
    {
     "data": {
      "text/plain": [
       "(11229, 8)"
      ]
     },
     "execution_count": 103,
     "metadata": {},
     "output_type": "execute_result"
    }
   ],
   "source": [
    "results3.shape"
   ]
  },
  {
   "cell_type": "code",
   "execution_count": 239,
   "metadata": {},
   "outputs": [
    {
     "data": {
      "text/html": [
       "<div>\n",
       "<style scoped>\n",
       "    .dataframe tbody tr th:only-of-type {\n",
       "        vertical-align: middle;\n",
       "    }\n",
       "\n",
       "    .dataframe tbody tr th {\n",
       "        vertical-align: top;\n",
       "    }\n",
       "\n",
       "    .dataframe thead th {\n",
       "        text-align: right;\n",
       "    }\n",
       "</style>\n",
       "<table border=\"1\" class=\"dataframe\">\n",
       "  <thead>\n",
       "    <tr style=\"text-align: right;\">\n",
       "      <th></th>\n",
       "    </tr>\n",
       "  </thead>\n",
       "  <tbody>\n",
       "  </tbody>\n",
       "</table>\n",
       "</div>"
      ],
      "text/plain": [
       "Empty DataFrame\n",
       "Columns: []\n",
       "Index: []"
      ]
     },
     "execution_count": 239,
     "metadata": {},
     "output_type": "execute_result"
    }
   ],
   "source": [
    "a.product_outputs([\"state\"])\n"
   ]
  },
  {
   "cell_type": "code",
   "execution_count": 126,
   "metadata": {},
   "outputs": [
    {
     "name": "stderr",
     "output_type": "stream",
     "text": [
      "__init__() missing 1 required positional argument: 'config'\n"
     ]
    }
   ],
   "source": [
    "s = connectors.Connectors()\n",
    "s.fetch('attom_expanded_profile_report', inputs = [inputs], sample_mode=False, config={'mode': 'sample', 'return_flattened_data': True, \n",
    "                                                 'return_raw_data': True, 'return_meta_fields': True})"
   ]
  },
  {
   "cell_type": "code",
   "execution_count": null,
   "metadata": {},
   "outputs": [],
   "source": []
  }
 ],
 "metadata": {
  "kernelspec": {
   "display_name": "Python 3",
   "language": "python",
   "name": "python3"
  },
  "language_info": {
   "codemirror_mode": {
    "name": "ipython",
    "version": 3
   },
   "file_extension": ".py",
   "mimetype": "text/x-python",
   "name": "python",
   "nbconvert_exporter": "python",
   "pygments_lexer": "ipython3",
   "version": "3.7.0"
  }
 },
 "nbformat": 4,
 "nbformat_minor": 2
}
