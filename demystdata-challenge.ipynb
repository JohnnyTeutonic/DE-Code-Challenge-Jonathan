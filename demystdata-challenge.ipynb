{
 "cells": [
  {
   "cell_type": "markdown",
   "metadata": {},
   "source": [
    "# Beginning of Exploratory Data Analysis"
   ]
  },
  {
   "cell_type": "code",
   "execution_count": 1,
   "metadata": {},
   "outputs": [
    {
     "name": "stdout",
     "output_type": "stream",
     "text": [
      "(11229, 5)\n"
     ]
    },
    {
     "data": {
      "text/html": [
       "<table><tr><th>Column</th><th>Status</th><th>Description</th></tr><tr><th><a href=\"https://demyst.com/docs/demyst-live/types/#street\" target=\"_blank\">street</a></th><td style=\"background-color: lightgreen\"><nobr>All Valid</nobr></td><td style=\"text-align: left\">All values in this column are good to go.</td></tr><tr><th><a href=\"https://demyst.com/docs/demyst-live/types/#state\" target=\"_blank\">state</a></th><td style=\"background-color: peachpuff\"><nobr>Some Invalid</nobr></td><td style=\"text-align: left\">16.8% of the values of this column failed validation. One example of an invalid value is 'NJ  '. <a href=\"https://demyst.com/docs/demyst-live/types/#state\" target=\"_blank\">Click here for documentation for this column.</a></td></tr><tr><th><a href=\"https://demyst.com/docs/demyst-live/types/#city\" target=\"_blank\">city</a></th><td style=\"background-color: lightgreen\"><nobr>All Valid</nobr></td><td style=\"text-align: left\">All values in this column are good to go.</td></tr><tr><th>postcode</th><td style=\"background-color: lightpink\"><nobr>Unrecognized Column Name</nobr></td><td style=\"text-align: left\">This column name is not supported. <a href=\"https://demyst.com/docs/demyst-live/types/\" target=\"_blank\">Click here for a list of all supported column names.</a></td></tr><tr><th>safety_flag</th><td style=\"background-color: lightpink\"><nobr>Unrecognized Column Name</nobr></td><td style=\"text-align: left\">This column name is not supported. <a href=\"https://demyst.com/docs/demyst-live/types/\" target=\"_blank\">Click here for a list of all supported column names.</a></td></tr></table>"
      ],
      "text/plain": [
       "<demyst.analytics.analytics.Validation at 0x14a7043c8>"
      ]
     },
     "execution_count": 1,
     "metadata": {},
     "output_type": "execute_result"
    }
   ],
   "source": [
    "import warnings\n",
    "warnings.filterwarnings('ignore')\n",
    "from demyst.analytics import Analytics\n",
    "analytics = Analytics(username=\"code-challenge-johnathan@demystdata.com\", password=\"y(z%CrM32aXW^CQw8cUe2Mx83uG[\")\n",
    "import joblib\n",
    "import numpy as np\n",
    "import os\n",
    "import pandas as pd\n",
    "df = pd.read_csv('input_file.csv', encoding = \"latin\", header=0)\n",
    "df_copy = df.copy()\n",
    "print(df_copy.shape)\n",
    "analytics.validate(df_copy)\n"
   ]
  },
  {
   "cell_type": "markdown",
   "metadata": {},
   "source": [
    "The two columns 'postcode' and 'safety_flag' aren't recognised as valid column names.\n",
    "We're able to infer the valid column names from https://demyst.com/docs/demyst-live/types/.\n",
    "\n",
    "Based on the column names found in the link listed avoce, we need to change the column name 'postcode' to 'post-code'.\n",
    "'safety_flag' is also not recognised as a valid name, but we can leave it in the dataframe for now because that is our 'target' variable.\n",
    "We will also need to fix the 'state' variables as there are invalid data points present as shown in the output above."
   ]
  },
  {
   "cell_type": "code",
   "execution_count": 431,
   "metadata": {},
   "outputs": [
    {
     "data": {
      "text/html": [
       "<table><tr><th>Column</th><th>Status</th><th>Description</th></tr><tr><th><a href=\"https://demyst.com/docs/demyst-live/types/#street\" target=\"_blank\">street</a></th><td style=\"background-color: lightgreen\"><nobr>All Valid</nobr></td><td style=\"text-align: left\">All values in this column are good to go.</td></tr><tr><th><a href=\"https://demyst.com/docs/demyst-live/types/#state\" target=\"_blank\">state</a></th><td style=\"background-color: peachpuff\"><nobr>Some Invalid</nobr></td><td style=\"text-align: left\">16.8% of the values of this column failed validation. One example of an invalid value is 'NJ  '. <a href=\"https://demyst.com/docs/demyst-live/types/#state\" target=\"_blank\">Click here for documentation for this column.</a></td></tr><tr><th><a href=\"https://demyst.com/docs/demyst-live/types/#city\" target=\"_blank\">city</a></th><td style=\"background-color: lightgreen\"><nobr>All Valid</nobr></td><td style=\"text-align: left\">All values in this column are good to go.</td></tr><tr><th><a href=\"https://demyst.com/docs/demyst-live/types/#post_code\" target=\"_blank\">post_code</a></th><td style=\"background-color: peachpuff\"><nobr>Some Invalid</nobr></td><td style=\"text-align: left\">0.1% of the values of this column failed validation. One example of an invalid value is 'nan'. <a href=\"https://demyst.com/docs/demyst-live/types/#post_code\" target=\"_blank\">Click here for documentation for this column.</a></td></tr><tr><th>safety_flag</th><td style=\"background-color: lightpink\"><nobr>Unrecognized Column Name</nobr></td><td style=\"text-align: left\">This column name is not supported. <a href=\"https://demyst.com/docs/demyst-live/types/\" target=\"_blank\">Click here for a list of all supported column names.</a></td></tr></table>"
      ],
      "text/plain": [
       "<demyst.analytics.analytics.Validation at 0x178e37a58>"
      ]
     },
     "execution_count": 431,
     "metadata": {},
     "output_type": "execute_result"
    }
   ],
   "source": [
    "df_copy.rename(index=str, columns={\"postcode\": \"post_code\"}, inplace=True)\n",
    "analytics.validate(df_copy)\n"
   ]
  },
  {
   "cell_type": "markdown",
   "metadata": {},
   "source": [
    "<!-- The column that has name 'safety_flag' has been inferred to be of type 'Boolean'. This is useful to know - even though we can't use this column for a lookup search for data enrichment, the DemystData api is at least able to infer the *type* of this target variable. -->\n",
    "Now that we've changed the name of 'postcode' to a valid column name (post-code), the analysis recognises this column and has shown that there is a small proportion (0.1%) of invalid data, including the presence of 'nans'.\n",
    "Likewise, the 'state' variable contains invalid data, so we need to fix those invalid data points additionally."
   ]
  },
  {
   "cell_type": "markdown",
   "metadata": {},
   "source": [
    "### Clean data that has invalid inputs"
   ]
  },
  {
   "cell_type": "markdown",
   "metadata": {},
   "source": [
    "There are 'nans' present in the 'state' and 'post_code' variables, so we will drop those from the dataframe"
   ]
  },
  {
   "cell_type": "code",
   "execution_count": 432,
   "metadata": {},
   "outputs": [
    {
     "data": {
      "text/plain": [
       "street         0\n",
       "state          9\n",
       "city           9\n",
       "post_code      9\n",
       "safety_flag    0\n",
       "dtype: int64"
      ]
     },
     "execution_count": 432,
     "metadata": {},
     "output_type": "execute_result"
    }
   ],
   "source": [
    "df_copy.isna().sum()"
   ]
  },
  {
   "cell_type": "code",
   "execution_count": 433,
   "metadata": {},
   "outputs": [
    {
     "name": "stdout",
     "output_type": "stream",
     "text": [
      "(11229, 5)\n",
      "(11219, 5)\n"
     ]
    }
   ],
   "source": [
    "print(df_copy.shape)\n",
    "# this will drop *all* 'nans', regardless of which variable is contained\n",
    "df_copy.dropna(inplace=True)\n",
    "print(df_copy.shape)"
   ]
  },
  {
   "cell_type": "markdown",
   "metadata": {},
   "source": [
    "We managed to remove 10 records from the input data after executing the 'dropna' function, in an 'inplace' manner"
   ]
  },
  {
   "cell_type": "code",
   "execution_count": 434,
   "metadata": {},
   "outputs": [
    {
     "name": "stdout",
     "output_type": "stream",
     "text": [
      "['FL' 'IN' 'VA' 'OH' 'MA' 'MN' 'WI' 'NC' 'CO' 'CA' 'NY' 'NH' 'CT' 'MD'\n",
      " 'NJ' 'KY' 'WA' 'IA' 'LA' 'GA' 'IL' 'TX' 'AZ' 'DE' 'MI' 'RI' 'OR' 'AR'\n",
      " 'HI' 'PA' 'SC' 'AL' 'TN' 'WY' 'NV' 'NE' 'MT' 'MS' 'OK' 'KS' 'MO' 'ID'\n",
      " 'DC' 'UT' 'NM' 'ND' 'ME' 'VT' 'AK' 'SD' 'NJ  ' 'NY  ' 'CA  ' 'OR  '\n",
      " 'GA  ' 'MI  ' 'AZ  ' 'TX  ' 'PA  ']\n"
     ]
    }
   ],
   "source": [
    "print(df_copy['state'].unique())"
   ]
  },
  {
   "cell_type": "markdown",
   "metadata": {},
   "source": [
    "There is whitespace present in several of the data points, so we should remove them"
   ]
  },
  {
   "cell_type": "code",
   "execution_count": 435,
   "metadata": {},
   "outputs": [],
   "source": [
    "# remove whitespace found in state names above\n",
    "df_copy['state'] = df_copy['state'].str.strip()"
   ]
  },
  {
   "cell_type": "markdown",
   "metadata": {},
   "source": [
    "There is an inconsistent schema for the 'city' variable as seen below ('VACKAVILLE' vs 'Lakeland')"
   ]
  },
  {
   "cell_type": "code",
   "execution_count": 436,
   "metadata": {},
   "outputs": [
    {
     "data": {
      "text/plain": [
       "array(['Lakeland', 'Indianapolis', 'Troutville', ..., 'VACKAVILLE',\n",
       "       'San Juan Capistrano', 'White Pains'], dtype=object)"
      ]
     },
     "execution_count": 436,
     "metadata": {},
     "output_type": "execute_result"
    }
   ],
   "source": [
    "df_copy['city'].unique()"
   ]
  },
  {
   "cell_type": "code",
   "execution_count": 437,
   "metadata": {},
   "outputs": [
    {
     "data": {
      "text/plain": [
       "New York            245\n",
       "Brooklyn            158\n",
       "San Francisco       155\n",
       "Los Angeles         138\n",
       "Chicago              99\n",
       "San Antonio          83\n",
       "San Diego            83\n",
       "Houston              82\n",
       "San Jose             74\n",
       "Bronx                65\n",
       "Dallas               54\n",
       "Miami                50\n",
       "Atlanta              43\n",
       "Philadelphia         43\n",
       "Sacramento           42\n",
       "Oakland              41\n",
       "Austin               37\n",
       "Orlando              37\n",
       "Charlotte            34\n",
       "Seattle              33\n",
       "Phoenix              32\n",
       "Jacksonville         31\n",
       "El Paso              31\n",
       "Las Vegas            30\n",
       "Washington           27\n",
       "Fort Worth           27\n",
       "Long Beach           26\n",
       "Portland             25\n",
       "Fresno               25\n",
       "Pittsburgh           25\n",
       "                   ... \n",
       "Sandy Hook            1\n",
       "Ambridge              1\n",
       "Burney                1\n",
       "Pembroke pines        1\n",
       "Flanders              1\n",
       "Beloit                1\n",
       "king of prussia       1\n",
       "North Tonawanda       1\n",
       "greeley               1\n",
       "fox lake              1\n",
       "Gowen                 1\n",
       "Lake Helen            1\n",
       "Buckhead              1\n",
       "Canal Winchester      1\n",
       "Mc Rae Helena         1\n",
       "Kotzebue              1\n",
       "arlington             1\n",
       "Wadsworth             1\n",
       "spring valley         1\n",
       "Alma                  1\n",
       "Cape Canaveral        1\n",
       "MIDLAND               1\n",
       "Cookeville            1\n",
       "Sykesville            1\n",
       "AKRON                 1\n",
       "Hopkins               1\n",
       "DES MOINES            1\n",
       "Brunson               1\n",
       "Borrego Springs       1\n",
       "Hancocks Bridge       1\n",
       "Name: city, Length: 4181, dtype: int64"
      ]
     },
     "execution_count": 437,
     "metadata": {},
     "output_type": "execute_result"
    }
   ],
   "source": [
    "df_copy['city'].value_counts()"
   ]
  },
  {
   "cell_type": "markdown",
   "metadata": {},
   "source": [
    "\n",
    "Because the majority of city names conform to the schema with a capitalised first letter for each part of the name,\n",
    "we need to transform other data points (such as 'long beach' and 'VACKAVILLE') to a schema like:\n",
    "'Long Beach', and 'Vackaville'"
   ]
  },
  {
   "cell_type": "code",
   "execution_count": 438,
   "metadata": {},
   "outputs": [],
   "source": [
    "df_copy['city'] = df_copy['city'].str.title()\n"
   ]
  },
  {
   "cell_type": "code",
   "execution_count": 439,
   "metadata": {},
   "outputs": [
    {
     "data": {
      "text/plain": [
       "New York             261\n",
       "Brooklyn             167\n",
       "San Francisco        158\n",
       "Los Angeles          142\n",
       "Chicago              104\n",
       "San Diego             88\n",
       "San Antonio           85\n",
       "Houston               84\n",
       "San Jose              76\n",
       "Bronx                 73\n",
       "Miami                 54\n",
       "Dallas                54\n",
       "Sacramento            45\n",
       "Philadelphia          43\n",
       "Atlanta               43\n",
       "Oakland               43\n",
       "Austin                39\n",
       "Orlando               37\n",
       "Charlotte             36\n",
       "Las Vegas             35\n",
       "Seattle               35\n",
       "Jacksonville          33\n",
       "Phoenix               32\n",
       "El Paso               32\n",
       "Washington            30\n",
       "Long Beach            29\n",
       "Fort Worth            29\n",
       "Albany                26\n",
       "Pittsburgh            26\n",
       "Portland              26\n",
       "                    ... \n",
       "Chichester             1\n",
       "Moorhead               1\n",
       "Chantilly              1\n",
       "Callicoon              1\n",
       "Gleason                1\n",
       "Lock Haven             1\n",
       "Havertown              1\n",
       "Minooka                1\n",
       "Burien                 1\n",
       "Hanford                1\n",
       "Ravenna                1\n",
       "Del Valle              1\n",
       "Lahoya                 1\n",
       "Deland                 1\n",
       "Cleburne               1\n",
       "Biglerville            1\n",
       "Monmouth Junction      1\n",
       "Erieville              1\n",
       "Angie                  1\n",
       "Dolton                 1\n",
       "West Henrietta         1\n",
       "Riviera Beach          1\n",
       "Lugoff                 1\n",
       "Colts Neck             1\n",
       "Gloster                1\n",
       "Lake Charles           1\n",
       "Pocatello              1\n",
       "Henryville             1\n",
       "Taberg                 1\n",
       "Hancocks Bridge        1\n",
       "Name: city, Length: 3785, dtype: int64"
      ]
     },
     "execution_count": 439,
     "metadata": {},
     "output_type": "execute_result"
    }
   ],
   "source": [
    "df_copy['city'].value_counts()"
   ]
  },
  {
   "cell_type": "markdown",
   "metadata": {},
   "source": [
    "As seen above, now the 'state' variable contains data points that all conform to the same schema"
   ]
  },
  {
   "cell_type": "markdown",
   "metadata": {},
   "source": [
    "Based on the 'postcode' output below, there are variable types of coding schemas present in the dataset.\n",
    "We need to ensure that each postcode is of fixed length. "
   ]
  },
  {
   "cell_type": "code",
   "execution_count": 440,
   "metadata": {},
   "outputs": [
    {
     "data": {
      "text/plain": [
       "array(['33812-5237', '46227', '24175-6054', ..., '14626', '92192',\n",
       "       '92782'], dtype=object)"
      ]
     },
     "execution_count": 440,
     "metadata": {},
     "output_type": "execute_result"
    }
   ],
   "source": [
    "df_copy['post_code'].unique()"
   ]
  },
  {
   "cell_type": "markdown",
   "metadata": {},
   "source": [
    "The majority of postcodes are 5 digits long, so let's ensure that *every* postcode is of that length"
   ]
  },
  {
   "cell_type": "code",
   "execution_count": 441,
   "metadata": {},
   "outputs": [
    {
     "data": {
      "text/plain": [
       "94107    25\n",
       "94103    21\n",
       "10001    20\n",
       "10016    16\n",
       "10003    14\n",
       "10012    13\n",
       "Name: post_code, dtype: int64"
      ]
     },
     "execution_count": 441,
     "metadata": {},
     "output_type": "execute_result"
    }
   ],
   "source": [
    "df_copy['post_code'].value_counts().head(6)"
   ]
  },
  {
   "cell_type": "code",
   "execution_count": 442,
   "metadata": {},
   "outputs": [],
   "source": [
    "# we need to ensure we have a consistent schema for the postcodes\n",
    "def transform_postcodes(pc):\n",
    "    '''Takes in a list/pd.series of postcodes and transforms each to be length of five digits.'''\n",
    "    max_len = len(pc)\n",
    "    # fill them with a zero \n",
    "    if max_len == 4:\n",
    "        return pc.zfill(5)\n",
    "    # this is the optimal length of the post-code, so we can return as is\n",
    "    if max_len == 5:\n",
    "        return pc\n",
    "    # if the post-code is longer than 5 digits, just return just the first five digits \n",
    "    else:\n",
    "        return pc[:5]\n"
   ]
  },
  {
   "cell_type": "code",
   "execution_count": 443,
   "metadata": {},
   "outputs": [
    {
     "data": {
      "text/plain": [
       "94107    26\n",
       "94103    22\n",
       "10001    22\n",
       "10016    17\n",
       "10003    15\n",
       "10012    13\n",
       "11201    13\n",
       "10019    13\n",
       "11222    13\n",
       "10022    12\n",
       "94110    12\n",
       "10013    12\n",
       "10014    11\n",
       "94025    11\n",
       "10018    11\n",
       "90069    11\n",
       "92101    10\n",
       "94111    10\n",
       "94610    10\n",
       "10010    10\n",
       "92660    10\n",
       "94114    10\n",
       "12866    10\n",
       "94109    10\n",
       "11249    10\n",
       "07024    10\n",
       "92130     9\n",
       "94105     9\n",
       "10009     9\n",
       "11215     9\n",
       "         ..\n",
       "55358     1\n",
       "80751     1\n",
       "11553     1\n",
       "92240     1\n",
       "29303     1\n",
       "29172     1\n",
       "51201     1\n",
       "02330     1\n",
       "85305     1\n",
       "66772     1\n",
       "93304     1\n",
       "50249     1\n",
       "01082     1\n",
       "31058     1\n",
       "37821     1\n",
       "98591     1\n",
       "13057     1\n",
       "21046     1\n",
       "15235     1\n",
       "19522     1\n",
       "62223     1\n",
       "39038     1\n",
       "78404     1\n",
       "66537     1\n",
       "99362     1\n",
       "55396     1\n",
       "32177     1\n",
       "17551     1\n",
       "60051     1\n",
       "95124     1\n",
       "Name: post_code, Length: 6597, dtype: int64"
      ]
     },
     "execution_count": 443,
     "metadata": {},
     "output_type": "execute_result"
    }
   ],
   "source": [
    "a = df_copy['post_code'].astype('str').apply(transform_postcodes)\n",
    "a.value_counts()"
   ]
  },
  {
   "cell_type": "markdown",
   "metadata": {},
   "source": [
    "Now we're ready to apply the 'transform_postcodes' function to the 'post_code' variable"
   ]
  },
  {
   "cell_type": "code",
   "execution_count": 444,
   "metadata": {},
   "outputs": [],
   "source": [
    "df_copy['post_code'] = df_copy['post_code'].astype('str').apply(transform_postcodes)\n"
   ]
  },
  {
   "cell_type": "code",
   "execution_count": 445,
   "metadata": {},
   "outputs": [
    {
     "data": {
      "text/html": [
       "<table><tr><th>Column</th><th>Status</th><th>Description</th></tr><tr><th><a href=\"https://demyst.com/docs/demyst-live/types/#street\" target=\"_blank\">street</a></th><td style=\"background-color: lightgreen\"><nobr>All Valid</nobr></td><td style=\"text-align: left\">All values in this column are good to go.</td></tr><tr><th><a href=\"https://demyst.com/docs/demyst-live/types/#state\" target=\"_blank\">state</a></th><td style=\"background-color: lightgreen\"><nobr>All Valid</nobr></td><td style=\"text-align: left\">All values in this column are good to go.</td></tr><tr><th><a href=\"https://demyst.com/docs/demyst-live/types/#city\" target=\"_blank\">city</a></th><td style=\"background-color: lightgreen\"><nobr>All Valid</nobr></td><td style=\"text-align: left\">All values in this column are good to go.</td></tr><tr><th><a href=\"https://demyst.com/docs/demyst-live/types/#post_code\" target=\"_blank\">post_code</a></th><td style=\"background-color: lightgreen\"><nobr>All Valid</nobr></td><td style=\"text-align: left\">All values in this column are good to go.</td></tr><tr><th>safety_flag</th><td style=\"background-color: lightpink\"><nobr>Unrecognized Column Name</nobr></td><td style=\"text-align: left\">This column name is not supported. <a href=\"https://demyst.com/docs/demyst-live/types/\" target=\"_blank\">Click here for a list of all supported column names.</a></td></tr></table>"
      ],
      "text/plain": [
       "<demyst.analytics.analytics.Validation at 0x176104c50>"
      ]
     },
     "execution_count": 445,
     "metadata": {},
     "output_type": "execute_result"
    }
   ],
   "source": [
    "analytics.validate(df_copy)\n"
   ]
  },
  {
   "cell_type": "markdown",
   "metadata": {},
   "source": [
    "Everything appears 'good to go' for data enrichment *however*, we also need to ensure that there aren't any duplicated data points present.    \n"
   ]
  },
  {
   "cell_type": "code",
   "execution_count": 446,
   "metadata": {},
   "outputs": [
    {
     "data": {
      "text/plain": [
       "21"
      ]
     },
     "execution_count": 446,
     "metadata": {},
     "output_type": "execute_result"
    }
   ],
   "source": [
    "df_copy[df_copy.duplicated()].shape[0]"
   ]
  },
  {
   "cell_type": "markdown",
   "metadata": {},
   "source": [
    "21 duplicates were found, so let's drop them"
   ]
  },
  {
   "cell_type": "code",
   "execution_count": 447,
   "metadata": {},
   "outputs": [],
   "source": [
    "df_copy.drop_duplicates(inplace=True)\n"
   ]
  },
  {
   "cell_type": "markdown",
   "metadata": {},
   "source": [
    "Now we're ready to search for any data sets that we could use for enrichment for our input data"
   ]
  },
  {
   "cell_type": "code",
   "execution_count": 448,
   "metadata": {},
   "outputs": [
    {
     "data": {
      "text/html": [
       "<div style=\"\"><div style=\"pading:10px;\"><div style=\"padding:5px\"><h1><img height=\"30\" width=\"30\" src=\"https://console.demystdata.com/assets/attom-018667395fd6d2e395ec7079d09434844d7ef98d02dac7c32e8bcb6c326145f1.svg\" style=\"display:inline-block\" /> Attom</h1><pre style=\"\">attom_expanded_profile_report</pre><p><em>Retrieve Attom's internal reference ID for a property in order to search public property records including real estate data: sale, ownership, tax, and more - for more than 150 million U.S. properties.</em></p></div><div style=\"padding: 5px;\"><table><tr><th> </th><th>post_code</th><th>street</th><th>country</th><th>city</th><th>state</th></tr><tr><td>Option 1</td><td><span style=\"font-size: 20px;\">☒</span></td><td><span style=\"font-size: 20px;\">☒</span></td><td><span style=\"font-size: 20px;\">☐</span></td><td><span style=\"font-size: 20px;\">☒</span></td><td><span style=\"font-size: 20px;\">☒</span></td></tr></table></div></div></div>"
      ],
      "text/plain": [
       "<IPython.core.display.HTML object>"
      ]
     },
     "execution_count": 448,
     "metadata": {},
     "output_type": "execute_result"
    }
   ],
   "source": [
    "analytics.search(df_copy)\n"
   ]
  },
  {
   "cell_type": "markdown",
   "metadata": {},
   "source": [
    "The above output shows that 'attom_expanded_profile_report' could be used to enrich our input dataframe.\n",
    "However, we don't have the column/attribute 'country' present in our data, so we need to include that to get a proper match.\n",
    "We can infer that the 'country' column can be set to 'US', as the output from running df['state'].unique() shows that each of the two letter acronyms match the 'ISO_3166-1_alpha-2' schema referenced in https://demyst.com/docs/demyst-live/types/#country\n",
    "So let's add that column to the sanitised dataframe.\n"
   ]
  },
  {
   "cell_type": "code",
   "execution_count": 449,
   "metadata": {},
   "outputs": [],
   "source": [
    "df_copy['country'] = 'US'\n"
   ]
  },
  {
   "cell_type": "code",
   "execution_count": 450,
   "metadata": {},
   "outputs": [
    {
     "data": {
      "text/html": [
       "<div style=\"\"><div style=\"pading:10px;\"><div style=\"padding:5px\"><h1><img height=\"30\" width=\"30\" src=\"https://console.demystdata.com/assets/attom-018667395fd6d2e395ec7079d09434844d7ef98d02dac7c32e8bcb6c326145f1.svg\" style=\"display:inline-block\" /> Attom</h1><pre style=\"\">attom_expanded_profile_report</pre><p><em>Retrieve Attom's internal reference ID for a property in order to search public property records including real estate data: sale, ownership, tax, and more - for more than 150 million U.S. properties.</em></p></div><div style=\"padding: 5px;\"><table><tr><th> </th><th>post_code</th><th>street</th><th>country</th><th>city</th><th>state</th></tr><tr><td>Option 1</td><td><span style=\"font-size: 20px;\">☒</span></td><td><span style=\"font-size: 20px;\">☒</span></td><td><span style=\"font-size: 20px;\">☒</span></td><td><span style=\"font-size: 20px;\">☒</span></td><td><span style=\"font-size: 20px;\">☒</span></td></tr></table></div></div></div>"
      ],
      "text/plain": [
       "<IPython.core.display.HTML object>"
      ]
     },
     "execution_count": 450,
     "metadata": {},
     "output_type": "execute_result"
    }
   ],
   "source": [
    "analytics.search(df_copy)\n"
   ]
  },
  {
   "cell_type": "markdown",
   "metadata": {},
   "source": [
    "Now all the data matches!\n",
    "It's time to perform enrichment and downloading"
   ]
  },
  {
   "cell_type": "code",
   "execution_count": 503,
   "metadata": {},
   "outputs": [
    {
     "data": {
      "text/html": [
       "<table><tr><th>Column</th><th>Status</th><th>Description</th></tr><tr><th><a href=\"https://demyst.com/docs/demyst-live/types/#street\" target=\"_blank\">street</a></th><td style=\"background-color: lightgreen\"><nobr>All Valid</nobr></td><td style=\"text-align: left\">All values in this column are good to go.</td></tr><tr><th><a href=\"https://demyst.com/docs/demyst-live/types/#state\" target=\"_blank\">state</a></th><td style=\"background-color: lightgreen\"><nobr>All Valid</nobr></td><td style=\"text-align: left\">All values in this column are good to go.</td></tr><tr><th><a href=\"https://demyst.com/docs/demyst-live/types/#city\" target=\"_blank\">city</a></th><td style=\"background-color: lightgreen\"><nobr>All Valid</nobr></td><td style=\"text-align: left\">All values in this column are good to go.</td></tr><tr><th><a href=\"https://demyst.com/docs/demyst-live/types/#post_code\" target=\"_blank\">post_code</a></th><td style=\"background-color: lightgreen\"><nobr>All Valid</nobr></td><td style=\"text-align: left\">All values in this column are good to go.</td></tr><tr><th>safety_flag</th><td style=\"background-color: lightpink\"><nobr>Unrecognized Column Name</nobr></td><td style=\"text-align: left\">This column name is not supported. <a href=\"https://demyst.com/docs/demyst-live/types/\" target=\"_blank\">Click here for a list of all supported column names.</a></td></tr><tr><th><a href=\"https://demyst.com/docs/demyst-live/types/#country\" target=\"_blank\">country</a></th><td style=\"background-color: lightgreen\"><nobr>All Valid</nobr></td><td style=\"text-align: left\">All values in this column are good to go.</td></tr></table>"
      ],
      "text/plain": [
       "<demyst.analytics.analytics.Validation at 0x1765713c8>"
      ]
     },
     "execution_count": 503,
     "metadata": {},
     "output_type": "execute_result"
    }
   ],
   "source": [
    "analytics.validate(df_copy)"
   ]
  },
  {
   "cell_type": "code",
   "execution_count": 47,
   "metadata": {},
   "outputs": [
    {
     "name": "stdout",
     "output_type": "stream",
     "text": [
      "Verifying providers...\n",
      "Starting enrichment...\n",
      "Enrich Job ID: 13191\n"
     ]
    },
    {
     "data": {
      "application/vnd.jupyter.widget-view+json": {
       "model_id": "955e50949c524a3f96ec037c3b931d54",
       "version_major": 2,
       "version_minor": 0
      },
      "text/plain": [
       "IntProgress(value=1, max=2)"
      ]
     },
     "metadata": {},
     "output_type": "display_data"
    },
    {
     "data": {
      "application/vnd.jupyter.widget-view+json": {
       "model_id": "70f4215a629c45fe96b29c0278dda06d",
       "version_major": 2,
       "version_minor": 0
      },
      "text/plain": [
       "HTML(value='Checking status...')"
      ]
     },
     "metadata": {},
     "output_type": "display_data"
    }
   ],
   "source": [
    "# check if enriched data already exists, otherwise write it out to a csv file\n",
    "if not os.path.isfile('enriched_dataframe_attom.csv'):\n",
    "    results = analytics.enrich_and_download([\"attom_expanded_profile_report\"], df_copy, validate=True)\n",
    "    results.to_csv('enriched_dataframe_attom.csv', index=False)\n"
   ]
  },
  {
   "cell_type": "markdown",
   "metadata": {},
   "source": [
    "The output of the below cell shows that we've obtained four new columns appended to our original data"
   ]
  },
  {
   "cell_type": "code",
   "execution_count": 451,
   "metadata": {},
   "outputs": [
    {
     "data": {
      "text/html": [
       "<div>\n",
       "<style scoped>\n",
       "    .dataframe tbody tr th:only-of-type {\n",
       "        vertical-align: middle;\n",
       "    }\n",
       "\n",
       "    .dataframe tbody tr th {\n",
       "        vertical-align: top;\n",
       "    }\n",
       "\n",
       "    .dataframe thead th {\n",
       "        text-align: right;\n",
       "    }\n",
       "</style>\n",
       "<table border=\"1\" class=\"dataframe\">\n",
       "  <thead>\n",
       "    <tr style=\"text-align: right;\">\n",
       "      <th></th>\n",
       "      <th>inputs.city</th>\n",
       "      <th>inputs.country</th>\n",
       "      <th>inputs.post_code</th>\n",
       "      <th>inputs.safety_flag</th>\n",
       "      <th>inputs.state</th>\n",
       "      <th>inputs.street</th>\n",
       "      <th>attom_expanded_profile_report.row_id</th>\n",
       "      <th>attom_expanded_profile_report.client_id</th>\n",
       "      <th>attom_expanded_profile_report.attom_id</th>\n",
       "      <th>attom_expanded_profile_report.error</th>\n",
       "    </tr>\n",
       "  </thead>\n",
       "  <tbody>\n",
       "    <tr>\n",
       "      <th>0</th>\n",
       "      <td>Lakeland</td>\n",
       "      <td>USA</td>\n",
       "      <td>33812</td>\n",
       "      <td>False</td>\n",
       "      <td>FL</td>\n",
       "      <td>3160 Otto Dr</td>\n",
       "      <td>0</td>\n",
       "      <td>NaN</td>\n",
       "      <td>162278089.0</td>\n",
       "      <td>NaN</td>\n",
       "    </tr>\n",
       "    <tr>\n",
       "      <th>1</th>\n",
       "      <td>Indianapolis</td>\n",
       "      <td>USA</td>\n",
       "      <td>46227</td>\n",
       "      <td>False</td>\n",
       "      <td>IN</td>\n",
       "      <td>940 Tulip Dr</td>\n",
       "      <td>1</td>\n",
       "      <td>NaN</td>\n",
       "      <td>28461481.0</td>\n",
       "      <td>NaN</td>\n",
       "    </tr>\n",
       "    <tr>\n",
       "      <th>2</th>\n",
       "      <td>Troutville</td>\n",
       "      <td>USA</td>\n",
       "      <td>24175</td>\n",
       "      <td>False</td>\n",
       "      <td>VA</td>\n",
       "      <td>68 Rocky Top Rd</td>\n",
       "      <td>2</td>\n",
       "      <td>NaN</td>\n",
       "      <td>214628965.0</td>\n",
       "      <td>NaN</td>\n",
       "    </tr>\n",
       "  </tbody>\n",
       "</table>\n",
       "</div>"
      ],
      "text/plain": [
       "    inputs.city inputs.country  inputs.post_code  inputs.safety_flag  \\\n",
       "0      Lakeland            USA             33812               False   \n",
       "1  Indianapolis            USA             46227               False   \n",
       "2    Troutville            USA             24175               False   \n",
       "\n",
       "  inputs.state    inputs.street  attom_expanded_profile_report.row_id  \\\n",
       "0           FL     3160 Otto Dr                                     0   \n",
       "1           IN     940 Tulip Dr                                     1   \n",
       "2           VA  68 Rocky Top Rd                                     2   \n",
       "\n",
       "   attom_expanded_profile_report.client_id  \\\n",
       "0                                      NaN   \n",
       "1                                      NaN   \n",
       "2                                      NaN   \n",
       "\n",
       "   attom_expanded_profile_report.attom_id  attom_expanded_profile_report.error  \n",
       "0                             162278089.0                                  NaN  \n",
       "1                              28461481.0                                  NaN  \n",
       "2                             214628965.0                                  NaN  "
      ]
     },
     "execution_count": 451,
     "metadata": {},
     "output_type": "execute_result"
    }
   ],
   "source": [
    "# after reading in the enriched data from a csv, we need to drop useless columns like 'Unnamed: 0'\n",
    "results = pd.read_csv('enriched_dataframe_attom.csv')\n",
    "results.drop(results.filter(regex=\"Unname|index\"),axis=1, inplace=True)\n",
    "results.head(3)"
   ]
  },
  {
   "cell_type": "code",
   "execution_count": 452,
   "metadata": {},
   "outputs": [
    {
     "data": {
      "text/plain": [
       "(11198, 10)"
      ]
     },
     "execution_count": 452,
     "metadata": {},
     "output_type": "execute_result"
    }
   ],
   "source": [
    "results.shape"
   ]
  },
  {
   "cell_type": "code",
   "execution_count": 169,
   "metadata": {},
   "outputs": [
    {
     "data": {
      "text/html": [
       "<div>\n",
       "<style scoped>\n",
       "    .dataframe tbody tr th:only-of-type {\n",
       "        vertical-align: middle;\n",
       "    }\n",
       "\n",
       "    .dataframe tbody tr th {\n",
       "        vertical-align: top;\n",
       "    }\n",
       "\n",
       "    .dataframe thead th {\n",
       "        text-align: right;\n",
       "    }\n",
       "</style>\n",
       "<table border=\"1\" class=\"dataframe\">\n",
       "  <thead>\n",
       "    <tr style=\"text-align: right;\">\n",
       "      <th></th>\n",
       "      <th>street</th>\n",
       "      <th>state</th>\n",
       "      <th>city</th>\n",
       "      <th>post_code</th>\n",
       "      <th>safety_flag</th>\n",
       "      <th>country</th>\n",
       "    </tr>\n",
       "  </thead>\n",
       "  <tbody>\n",
       "    <tr>\n",
       "      <th>0</th>\n",
       "      <td>3160 Otto Dr</td>\n",
       "      <td>FL</td>\n",
       "      <td>Lakeland</td>\n",
       "      <td>33812</td>\n",
       "      <td>False</td>\n",
       "      <td>US</td>\n",
       "    </tr>\n",
       "    <tr>\n",
       "      <th>1</th>\n",
       "      <td>940 Tulip Dr</td>\n",
       "      <td>IN</td>\n",
       "      <td>Indianapolis</td>\n",
       "      <td>46227</td>\n",
       "      <td>False</td>\n",
       "      <td>US</td>\n",
       "    </tr>\n",
       "    <tr>\n",
       "      <th>2</th>\n",
       "      <td>68 Rocky Top Rd</td>\n",
       "      <td>VA</td>\n",
       "      <td>Troutville</td>\n",
       "      <td>24175</td>\n",
       "      <td>False</td>\n",
       "      <td>US</td>\n",
       "    </tr>\n",
       "    <tr>\n",
       "      <th>3</th>\n",
       "      <td>3330 Taylor Blair Rd</td>\n",
       "      <td>OH</td>\n",
       "      <td>West Jefferson</td>\n",
       "      <td>43162</td>\n",
       "      <td>False</td>\n",
       "      <td>US</td>\n",
       "    </tr>\n",
       "    <tr>\n",
       "      <th>4</th>\n",
       "      <td>4254 Eagle Landing Parkway</td>\n",
       "      <td>FL</td>\n",
       "      <td>Orange Park</td>\n",
       "      <td>32065</td>\n",
       "      <td>False</td>\n",
       "      <td>US</td>\n",
       "    </tr>\n",
       "  </tbody>\n",
       "</table>\n",
       "</div>"
      ],
      "text/plain": [
       "                       street state            city post_code  safety_flag  \\\n",
       "0                3160 Otto Dr    FL        Lakeland     33812        False   \n",
       "1                940 Tulip Dr    IN    Indianapolis     46227        False   \n",
       "2             68 Rocky Top Rd    VA      Troutville     24175        False   \n",
       "3        3330 Taylor Blair Rd    OH  West Jefferson     43162        False   \n",
       "4  4254 Eagle Landing Parkway    FL     Orange Park     32065        False   \n",
       "\n",
       "  country  \n",
       "0      US  \n",
       "1      US  \n",
       "2      US  \n",
       "3      US  \n",
       "4      US  "
      ]
     },
     "metadata": {},
     "output_type": "display_data"
    },
    {
     "data": {
      "text/html": [
       "<div>\n",
       "<style scoped>\n",
       "    .dataframe tbody tr th:only-of-type {\n",
       "        vertical-align: middle;\n",
       "    }\n",
       "\n",
       "    .dataframe tbody tr th {\n",
       "        vertical-align: top;\n",
       "    }\n",
       "\n",
       "    .dataframe thead th {\n",
       "        text-align: right;\n",
       "    }\n",
       "</style>\n",
       "<table border=\"1\" class=\"dataframe\">\n",
       "  <thead>\n",
       "    <tr style=\"text-align: right;\">\n",
       "      <th></th>\n",
       "      <th>inputs.city</th>\n",
       "      <th>inputs.country</th>\n",
       "      <th>inputs.post_code</th>\n",
       "      <th>inputs.safety_flag</th>\n",
       "      <th>inputs.state</th>\n",
       "      <th>inputs.street</th>\n",
       "      <th>attom_expanded_profile_report.row_id</th>\n",
       "      <th>attom_expanded_profile_report.client_id</th>\n",
       "      <th>attom_expanded_profile_report.attom_id</th>\n",
       "      <th>attom_expanded_profile_report.error</th>\n",
       "    </tr>\n",
       "  </thead>\n",
       "  <tbody>\n",
       "    <tr>\n",
       "      <th>0</th>\n",
       "      <td>Lakeland</td>\n",
       "      <td>USA</td>\n",
       "      <td>33812</td>\n",
       "      <td>False</td>\n",
       "      <td>FL</td>\n",
       "      <td>3160 Otto Dr</td>\n",
       "      <td>0</td>\n",
       "      <td>NaN</td>\n",
       "      <td>162278089.0</td>\n",
       "      <td>NaN</td>\n",
       "    </tr>\n",
       "    <tr>\n",
       "      <th>1</th>\n",
       "      <td>Indianapolis</td>\n",
       "      <td>USA</td>\n",
       "      <td>46227</td>\n",
       "      <td>False</td>\n",
       "      <td>IN</td>\n",
       "      <td>940 Tulip Dr</td>\n",
       "      <td>1</td>\n",
       "      <td>NaN</td>\n",
       "      <td>28461481.0</td>\n",
       "      <td>NaN</td>\n",
       "    </tr>\n",
       "    <tr>\n",
       "      <th>2</th>\n",
       "      <td>Troutville</td>\n",
       "      <td>USA</td>\n",
       "      <td>24175</td>\n",
       "      <td>False</td>\n",
       "      <td>VA</td>\n",
       "      <td>68 Rocky Top Rd</td>\n",
       "      <td>2</td>\n",
       "      <td>NaN</td>\n",
       "      <td>214628965.0</td>\n",
       "      <td>NaN</td>\n",
       "    </tr>\n",
       "    <tr>\n",
       "      <th>3</th>\n",
       "      <td>West Jefferson</td>\n",
       "      <td>USA</td>\n",
       "      <td>43162</td>\n",
       "      <td>False</td>\n",
       "      <td>OH</td>\n",
       "      <td>3330 Taylor Blair Rd</td>\n",
       "      <td>3</td>\n",
       "      <td>NaN</td>\n",
       "      <td>246515148.0</td>\n",
       "      <td>NaN</td>\n",
       "    </tr>\n",
       "    <tr>\n",
       "      <th>4</th>\n",
       "      <td>Orange Park</td>\n",
       "      <td>USA</td>\n",
       "      <td>32065</td>\n",
       "      <td>False</td>\n",
       "      <td>FL</td>\n",
       "      <td>4254 Eagle Landing Parkway</td>\n",
       "      <td>4</td>\n",
       "      <td>NaN</td>\n",
       "      <td>164680663.0</td>\n",
       "      <td>NaN</td>\n",
       "    </tr>\n",
       "  </tbody>\n",
       "</table>\n",
       "</div>"
      ],
      "text/plain": [
       "      inputs.city inputs.country  inputs.post_code  inputs.safety_flag  \\\n",
       "0        Lakeland            USA             33812               False   \n",
       "1    Indianapolis            USA             46227               False   \n",
       "2      Troutville            USA             24175               False   \n",
       "3  West Jefferson            USA             43162               False   \n",
       "4     Orange Park            USA             32065               False   \n",
       "\n",
       "  inputs.state               inputs.street  \\\n",
       "0           FL                3160 Otto Dr   \n",
       "1           IN                940 Tulip Dr   \n",
       "2           VA             68 Rocky Top Rd   \n",
       "3           OH        3330 Taylor Blair Rd   \n",
       "4           FL  4254 Eagle Landing Parkway   \n",
       "\n",
       "   attom_expanded_profile_report.row_id  \\\n",
       "0                                     0   \n",
       "1                                     1   \n",
       "2                                     2   \n",
       "3                                     3   \n",
       "4                                     4   \n",
       "\n",
       "   attom_expanded_profile_report.client_id  \\\n",
       "0                                      NaN   \n",
       "1                                      NaN   \n",
       "2                                      NaN   \n",
       "3                                      NaN   \n",
       "4                                      NaN   \n",
       "\n",
       "   attom_expanded_profile_report.attom_id  attom_expanded_profile_report.error  \n",
       "0                             162278089.0                                  NaN  \n",
       "1                              28461481.0                                  NaN  \n",
       "2                             214628965.0                                  NaN  \n",
       "3                             246515148.0                                  NaN  \n",
       "4                             164680663.0                                  NaN  "
      ]
     },
     "metadata": {},
     "output_type": "display_data"
    },
    {
     "data": {
      "text/plain": [
       "(11198, 6)"
      ]
     },
     "metadata": {},
     "output_type": "display_data"
    },
    {
     "data": {
      "text/plain": [
       "(11198, 10)"
      ]
     },
     "metadata": {},
     "output_type": "display_data"
    }
   ],
   "source": [
    "# comparison of enriched datadframe with original data\n",
    "from IPython.display import display\n",
    "display(df_copy.head(5))\n",
    "display(results.head(5))\n",
    "display(df_copy.shape)\n",
    "display(results.shape)"
   ]
  },
  {
   "cell_type": "markdown",
   "metadata": {},
   "source": [
    "Let's save the results to csv for future use..."
   ]
  },
  {
   "cell_type": "markdown",
   "metadata": {},
   "source": [
    "Let's do some analysis on the new data to see if there is any cleaning required."
   ]
  },
  {
   "cell_type": "code",
   "execution_count": 453,
   "metadata": {},
   "outputs": [
    {
     "data": {
      "text/plain": [
       "'100013224.0'"
      ]
     },
     "metadata": {},
     "output_type": "display_data"
    },
    {
     "data": {
      "text/plain": [
       "'nan'"
      ]
     },
     "metadata": {},
     "output_type": "display_data"
    },
    {
     "data": {
      "text/plain": [
       "str"
      ]
     },
     "metadata": {},
     "output_type": "display_data"
    }
   ],
   "source": [
    "results['attom_expanded_profile_report.attom_id'] = results['attom_expanded_profile_report.attom_id'].astype(str)\n",
    "display(results['attom_expanded_profile_report.attom_id'].min())\n",
    "display(results['attom_expanded_profile_report.attom_id'].max())\n",
    "display(type(results['attom_expanded_profile_report.attom_id'].iloc[0]))"
   ]
  },
  {
   "cell_type": "markdown",
   "metadata": {},
   "source": [
    "Let's find the indices of the empty values"
   ]
  },
  {
   "cell_type": "code",
   "execution_count": 454,
   "metadata": {},
   "outputs": [],
   "source": [
    "empty_res_idxs = results['attom_expanded_profile_report.attom_id'][results['attom_expanded_profile_report.attom_id'].isin(['nan'])].index"
   ]
  },
  {
   "cell_type": "code",
   "execution_count": 455,
   "metadata": {},
   "outputs": [
    {
     "data": {
      "text/plain": [
       "Int64Index([   15,    25,    32,    35,    46,    69,    76,    78,    82,\n",
       "               87,\n",
       "            ...\n",
       "            11169, 11171, 11173, 11178, 11180, 11184, 11186, 11187, 11190,\n",
       "            11195],\n",
       "           dtype='int64', length=2294)"
      ]
     },
     "execution_count": 455,
     "metadata": {},
     "output_type": "execute_result"
    }
   ],
   "source": [
    "empty_res_idxs"
   ]
  },
  {
   "cell_type": "markdown",
   "metadata": {},
   "source": [
    "Let's replace those empty atom ids with 'nans'"
   ]
  },
  {
   "cell_type": "code",
   "execution_count": 456,
   "metadata": {},
   "outputs": [],
   "source": [
    "results['attom_expanded_profile_report.attom_id'].iloc[empty_res_idxs] = results['attom_expanded_profile_report.attom_id'].iloc[empty_res_idxs].replace('', np.nan)"
   ]
  },
  {
   "cell_type": "markdown",
   "metadata": {},
   "source": [
    "Now we have to drop 2294 of these records with empty atom ids"
   ]
  },
  {
   "cell_type": "code",
   "execution_count": 457,
   "metadata": {},
   "outputs": [
    {
     "data": {
      "text/plain": [
       "nan            2294\n",
       "155661423.0       4\n",
       "206014472.0       3\n",
       "157625010.0       3\n",
       "168314141.0       2\n",
       "155978117.0       2\n",
       "155999620.0       2\n",
       "157172850.0       2\n",
       "200973617.0       2\n",
       "224674708.0       2\n",
       "216044453.0       2\n",
       "206551040.0       2\n",
       "169559254.0       2\n",
       "168655763.0       2\n",
       "46343898.0        2\n",
       "162850659.0       2\n",
       "51309196.0        2\n",
       "45608305.0        2\n",
       "170838616.0       2\n",
       "151113878.0       2\n",
       "156777902.0       2\n",
       "223390422.0       2\n",
       "205710214.0       2\n",
       "169176504.0       2\n",
       "169180531.0       2\n",
       "156158432.0       2\n",
       "31236220.0        2\n",
       "156346735.0       2\n",
       "243763327.0       2\n",
       "227579808.0       2\n",
       "               ... \n",
       "23260640.0        1\n",
       "209460331.0       1\n",
       "20154871.0        1\n",
       "49454559.0        1\n",
       "34455770.0        1\n",
       "45945459.0        1\n",
       "159161898.0       1\n",
       "168052774.0       1\n",
       "154396676.0       1\n",
       "169548732.0       1\n",
       "191090737.0       1\n",
       "46698444.0        1\n",
       "17158735.0        1\n",
       "187561483.0       1\n",
       "196178513.0       1\n",
       "193253751.0       1\n",
       "41618418.0        1\n",
       "195815116.0       1\n",
       "54427789.0        1\n",
       "217749145.0       1\n",
       "168183335.0       1\n",
       "215663244.0       1\n",
       "37553553.0        1\n",
       "50329236.0        1\n",
       "20544342.0        1\n",
       "164983989.0       1\n",
       "169817631.0       1\n",
       "52894503.0        1\n",
       "14614532.0        1\n",
       "189044221.0       1\n",
       "Name: attom_expanded_profile_report.attom_id, Length: 8853, dtype: int64"
      ]
     },
     "execution_count": 457,
     "metadata": {},
     "output_type": "execute_result"
    }
   ],
   "source": [
    "results['attom_expanded_profile_report.attom_id'].value_counts()"
   ]
  },
  {
   "cell_type": "code",
   "execution_count": 458,
   "metadata": {},
   "outputs": [
    {
     "data": {
      "text/plain": [
       "(11198, 10)"
      ]
     },
     "metadata": {},
     "output_type": "display_data"
    },
    {
     "data": {
      "text/plain": [
       "(8904, 8)"
      ]
     },
     "metadata": {},
     "output_type": "display_data"
    },
    {
     "data": {
      "text/plain": [
       "(8904, 8)"
      ]
     },
     "metadata": {},
     "output_type": "display_data"
    },
    {
     "data": {
      "text/plain": [
       "(8904, 7)"
      ]
     },
     "metadata": {},
     "output_type": "display_data"
    }
   ],
   "source": [
    "# after reading in the enriched data from a csv, we need to drop useless columns like 'Unnamed: 0'\n",
    "results = pd.read_csv('enriched_dataframe_attom.csv')\n",
    "results.drop(results.filter(regex=\"Unname|index\"),axis=1, inplace=True)\n",
    "display(results.shape)\n",
    "# drop cols first\n",
    "results.dropna(how='all', axis=1, inplace=True)\n",
    "# now drop rows \n",
    "results.dropna(inplace=True, axis=0)\n",
    "display(results.shape)\n",
    "results.drop_duplicates(inplace=True)\n",
    "display(results.shape)\n",
    "# drop row_id (not useful) and 'Unnamed :0' - this is an index \n",
    "results.drop(columns=['attom_expanded_profile_report.row_id'], inplace=True)\n",
    "display(results.shape)"
   ]
  },
  {
   "cell_type": "code",
   "execution_count": 460,
   "metadata": {},
   "outputs": [
    {
     "data": {
      "text/html": [
       "<div>\n",
       "<style scoped>\n",
       "    .dataframe tbody tr th:only-of-type {\n",
       "        vertical-align: middle;\n",
       "    }\n",
       "\n",
       "    .dataframe tbody tr th {\n",
       "        vertical-align: top;\n",
       "    }\n",
       "\n",
       "    .dataframe thead th {\n",
       "        text-align: right;\n",
       "    }\n",
       "</style>\n",
       "<table border=\"1\" class=\"dataframe\">\n",
       "  <thead>\n",
       "    <tr style=\"text-align: right;\">\n",
       "      <th></th>\n",
       "      <th>inputs.city</th>\n",
       "      <th>inputs.country</th>\n",
       "      <th>inputs.post_code</th>\n",
       "      <th>inputs.safety_flag</th>\n",
       "      <th>inputs.state</th>\n",
       "      <th>inputs.street</th>\n",
       "      <th>attom_expanded_profile_report.attom_id</th>\n",
       "    </tr>\n",
       "  </thead>\n",
       "  <tbody>\n",
       "    <tr>\n",
       "      <th>0</th>\n",
       "      <td>Lakeland</td>\n",
       "      <td>USA</td>\n",
       "      <td>33812</td>\n",
       "      <td>False</td>\n",
       "      <td>FL</td>\n",
       "      <td>3160 Otto Dr</td>\n",
       "      <td>162278089.0</td>\n",
       "    </tr>\n",
       "    <tr>\n",
       "      <th>1</th>\n",
       "      <td>Indianapolis</td>\n",
       "      <td>USA</td>\n",
       "      <td>46227</td>\n",
       "      <td>False</td>\n",
       "      <td>IN</td>\n",
       "      <td>940 Tulip Dr</td>\n",
       "      <td>28461481.0</td>\n",
       "    </tr>\n",
       "    <tr>\n",
       "      <th>2</th>\n",
       "      <td>Troutville</td>\n",
       "      <td>USA</td>\n",
       "      <td>24175</td>\n",
       "      <td>False</td>\n",
       "      <td>VA</td>\n",
       "      <td>68 Rocky Top Rd</td>\n",
       "      <td>214628965.0</td>\n",
       "    </tr>\n",
       "  </tbody>\n",
       "</table>\n",
       "</div>"
      ],
      "text/plain": [
       "    inputs.city inputs.country  inputs.post_code  inputs.safety_flag  \\\n",
       "0      Lakeland            USA             33812               False   \n",
       "1  Indianapolis            USA             46227               False   \n",
       "2    Troutville            USA             24175               False   \n",
       "\n",
       "  inputs.state    inputs.street  attom_expanded_profile_report.attom_id  \n",
       "0           FL     3160 Otto Dr                             162278089.0  \n",
       "1           IN     940 Tulip Dr                              28461481.0  \n",
       "2           VA  68 Rocky Top Rd                             214628965.0  "
      ]
     },
     "execution_count": 460,
     "metadata": {},
     "output_type": "execute_result"
    }
   ],
   "source": [
    "results.head(3)"
   ]
  },
  {
   "cell_type": "markdown",
   "metadata": {},
   "source": [
    "We need to remove the 'inputs' beginning of each column as there are no matches currently..."
   ]
  },
  {
   "cell_type": "code",
   "execution_count": 461,
   "metadata": {},
   "outputs": [],
   "source": [
    "results.columns = results.columns.str.replace('inputs.', '').str.replace('attom_expanded_profile_report.', '')\n",
    "results['country'] = 'US'"
   ]
  },
  {
   "cell_type": "code",
   "execution_count": 462,
   "metadata": {},
   "outputs": [
    {
     "data": {
      "text/html": [
       "<table><tr><th>Column</th><th>Status</th><th>Description</th></tr><tr><th><a href=\"https://demyst.com/docs/demyst-live/types/#city\" target=\"_blank\">city</a></th><td style=\"background-color: lightgreen\"><nobr>All Valid</nobr></td><td style=\"text-align: left\">All values in this column are good to go.</td></tr><tr><th><a href=\"https://demyst.com/docs/demyst-live/types/#country\" target=\"_blank\">country</a></th><td style=\"background-color: lightgreen\"><nobr>All Valid</nobr></td><td style=\"text-align: left\">All values in this column are good to go.</td></tr><tr><th>post_code</th><td style=\"background-color: lightpink\"><nobr>Not a String Column</nobr></td><td style=\"text-align: left\">You must convert this column to string type.</td></tr><tr><th>safety_flag</th><td style=\"background-color: lightpink\"><nobr>Unrecognized Column Name</nobr></td><td style=\"text-align: left\">This column name is not supported. <a href=\"https://demyst.com/docs/demyst-live/types/\" target=\"_blank\">Click here for a list of all supported column names.</a></td></tr><tr><th><a href=\"https://demyst.com/docs/demyst-live/types/#state\" target=\"_blank\">state</a></th><td style=\"background-color: lightgreen\"><nobr>All Valid</nobr></td><td style=\"text-align: left\">All values in this column are good to go.</td></tr><tr><th><a href=\"https://demyst.com/docs/demyst-live/types/#street\" target=\"_blank\">street</a></th><td style=\"background-color: lightgreen\"><nobr>All Valid</nobr></td><td style=\"text-align: left\">All values in this column are good to go.</td></tr><tr><th>attom_id</th><td style=\"background-color: lightpink\"><nobr>Not a String Column</nobr></td><td style=\"text-align: left\">You must convert this column to string type.</td></tr></table>"
      ],
      "text/plain": [
       "<demyst.analytics.analytics.Validation at 0x168b90588>"
      ]
     },
     "execution_count": 462,
     "metadata": {},
     "output_type": "execute_result"
    }
   ],
   "source": [
    "analytics.validate(results)"
   ]
  },
  {
   "cell_type": "code",
   "execution_count": 465,
   "metadata": {},
   "outputs": [],
   "source": [
    "results1 = results.copy()\n",
    "results['post_code'] = results['post_code'].astype('str')\n",
    "results['attom_id'] = results['attom_id'].astype('str')\n"
   ]
  },
  {
   "cell_type": "code",
   "execution_count": 466,
   "metadata": {},
   "outputs": [
    {
     "data": {
      "text/html": [
       "<div style=\"\"><div style=\"pading:10px;\"><div style=\"padding:5px\"><h1><img height=\"30\" width=\"30\" src=\"https://console.demystdata.com/assets/attom-018667395fd6d2e395ec7079d09434844d7ef98d02dac7c32e8bcb6c326145f1.svg\" style=\"display:inline-block\" /> Attom</h1><pre style=\"\">attom_expanded_profile_report</pre><p><em>Retrieve Attom's internal reference ID for a property in order to search public property records including real estate data: sale, ownership, tax, and more - for more than 150 million U.S. properties.</em></p></div><div style=\"padding: 5px;\"><table><tr><th> </th><th>post_code</th><th>street</th><th>country</th><th>city</th><th>state</th></tr><tr><td>Option 1</td><td><span style=\"font-size: 20px;\">☒</span></td><td><span style=\"font-size: 20px;\">☒</span></td><td><span style=\"font-size: 20px;\">☒</span></td><td><span style=\"font-size: 20px;\">☒</span></td><td><span style=\"font-size: 20px;\">☒</span></td></tr></table></div></div></div><div style=\"\"><div style=\"pading:10px;\"><div style=\"padding:5px\"><h1><img height=\"30\" width=\"30\" src=\"https://console.demystdata.com/assets/attom-018667395fd6d2e395ec7079d09434844d7ef98d02dac7c32e8bcb6c326145f1.svg\" style=\"display:inline-block\" /> Attom</h1><pre style=\"\">attom_tax_assessor</pre><p><em>Attom Tax Assessor provides publicly available information collected by county tax assessor offices.  Attom is a database that contains public property records including real estate data (sale, ownership, tax, and more) for more than 150 million U.S. properties. All the data Attom collects is publicly recorded.\r\n",
       "</em></p></div><div style=\"padding: 5px;\"><table><tr><th> </th><th>propertyaddressstate</th><th>unit_count_high</th><th>unit_count_low</th><th>unit_count_comparison_operator</th><th>unit_count</th><th>attom_id</th></tr><tr><td>Option 1</td><td><span style=\"font-size: 20px;\"> </span></td><td><span style=\"font-size: 20px;\"> </span></td><td><span style=\"font-size: 20px;\"> </span></td><td><span style=\"font-size: 20px;\"> </span></td><td><span style=\"font-size: 20px;\"> </span></td><td><span style=\"font-size: 20px;\">☒</span></td></tr><tr><td>Option 2</td><td><span style=\"font-size: 20px;\">☐</span></td><td><span style=\"font-size: 20px;\">☐</span></td><td><span style=\"font-size: 20px;\">☐</span></td><td><span style=\"font-size: 20px;\"> </span></td><td><span style=\"font-size: 20px;\"> </span></td><td><span style=\"font-size: 20px;\"> </span></td></tr><tr><td>Option 3</td><td><span style=\"font-size: 20px;\">☐</span></td><td><span style=\"font-size: 20px;\"> </span></td><td><span style=\"font-size: 20px;\"> </span></td><td><span style=\"font-size: 20px;\">☐</span></td><td><span style=\"font-size: 20px;\">☐</span></td><td><span style=\"font-size: 20px;\"> </span></td></tr></table></div></div></div><div style=\"\"><div style=\"pading:10px;\"><div style=\"padding:5px\"><h1><img height=\"30\" width=\"30\" src=\"https://console.demystdata.com/assets/attom-018667395fd6d2e395ec7079d09434844d7ef98d02dac7c32e8bcb6c326145f1.svg\" style=\"display:inline-block\" /> Attom</h1><pre style=\"\">attom_recorder</pre><p><em>Attom Recorder provides recorder and deed information on properties including real-estate transactions involving properties throughout the United States.  This data set contains primarily residential properties within the US.  ATTOM blends property tax, deed, mortgage, foreclosure, environmental risk, natural hazard and neighborhood data for more than 155 million U.S. residential and commercial properties multi-sourced from more than 3,000 U.S. counties.\r\n",
       "</em></p></div><div style=\"padding: 5px;\"><table><tr><th> </th><th>attom_id</th><th>transactionid</th></tr><tr><td>Option 1</td><td><span style=\"font-size: 20px;\"> </span></td><td><span style=\"font-size: 20px;\">☐</span></td></tr><tr><td>Option 2</td><td><span style=\"font-size: 20px;\">☒</span></td><td><span style=\"font-size: 20px;\"> </span></td></tr></table></div></div></div><div style=\"\"><div style=\"pading:10px;\"><div style=\"padding:5px\"><h1><img height=\"30\" width=\"30\" src=\"https://console.demystdata.com/assets/attom-018667395fd6d2e395ec7079d09434844d7ef98d02dac7c32e8bcb6c326145f1.svg\" style=\"display:inline-block\" /> Attom</h1><pre style=\"\">attom_pre_foreclosure</pre><p><em>Attom Pre-Foreclosure provides pre-forclosure notices and relevant property data. This data set contains primarily residential properties within the US.  ATTOM blends property tax, deed, mortgage, foreclosure, environmental risk, natural hazard and neighborhood data for more than 155 million U.S. residential and commercial properties multi-sourced from more than 3,000 U.S. counties.\r\n",
       "</em></p></div><div style=\"padding: 5px;\"><table><tr><th> </th><th>attom_id</th><th>transactionid</th></tr><tr><td>Option 1</td><td><span style=\"font-size: 20px;\"> </span></td><td><span style=\"font-size: 20px;\">☐</span></td></tr><tr><td>Option 2</td><td><span style=\"font-size: 20px;\">☒</span></td><td><span style=\"font-size: 20px;\"> </span></td></tr></table></div></div></div><div style=\"\"><div style=\"pading:10px;\"><div style=\"padding:5px\"><h1><img height=\"30\" width=\"30\" src=\"https://console.demystdata.com/assets/attom-018667395fd6d2e395ec7079d09434844d7ef98d02dac7c32e8bcb6c326145f1.svg\" style=\"display:inline-block\" /> Attom</h1><pre style=\"\">attom_avm</pre><p><em>Attom Commerical AVM (automated valuation model) Value is a statistical calculation model to estimate the current value of a property.  This data set contains primarily residential properties within the US.  ATTOM blends property tax, deed, mortgage, foreclosure, environmental risk, natural hazard and neighborhood data for more than 155 million U.S. residential and commercial properties multi-sourced from more than 3,000 U.S. counties.</em></p></div><div style=\"padding: 5px;\"><table><tr><th> </th><th>attom_id</th></tr><tr><td>Option 1</td><td><span style=\"font-size: 20px;\">☒</span></td></tr></table></div></div></div><div style=\"\"><div style=\"pading:10px;\"><div style=\"padding:5px\"><h1><img height=\"30\" width=\"30\" src=\"https://console.demystdata.com/assets/attom-018667395fd6d2e395ec7079d09434844d7ef98d02dac7c32e8bcb6c326145f1.svg\" style=\"display:inline-block\" /> Attom</h1><pre style=\"\">attom_commercial_tax_assessor</pre><p><em>Attom Commerical Tax Assessor Data provides publicly available information collected by county tax assessor offices including property details and ownership information.  This data set contains primarily commercial properties within the US.  ATTOM blends property tax, deed, mortgage, foreclosure, environmental risk, natural hazard and neighborhood data for more than 155 million U.S. residential and commercial properties multi-sourced from more than 3,000 U.S. counties.</em></p></div><div style=\"padding: 5px;\"><table><tr><th> </th><th>propertyaddressstate</th><th>unit_count_high</th><th>unit_count_low</th><th>unit_count_comparison_operator</th><th>unit_count</th><th>attom_id</th></tr><tr><td>Option 1</td><td><span style=\"font-size: 20px;\"> </span></td><td><span style=\"font-size: 20px;\"> </span></td><td><span style=\"font-size: 20px;\"> </span></td><td><span style=\"font-size: 20px;\"> </span></td><td><span style=\"font-size: 20px;\"> </span></td><td><span style=\"font-size: 20px;\">☒</span></td></tr><tr><td>Option 2</td><td><span style=\"font-size: 20px;\">☐</span></td><td><span style=\"font-size: 20px;\">☐</span></td><td><span style=\"font-size: 20px;\">☐</span></td><td><span style=\"font-size: 20px;\"> </span></td><td><span style=\"font-size: 20px;\"> </span></td><td><span style=\"font-size: 20px;\"> </span></td></tr><tr><td>Option 3</td><td><span style=\"font-size: 20px;\">☐</span></td><td><span style=\"font-size: 20px;\"> </span></td><td><span style=\"font-size: 20px;\"> </span></td><td><span style=\"font-size: 20px;\">☐</span></td><td><span style=\"font-size: 20px;\">☐</span></td><td><span style=\"font-size: 20px;\"> </span></td></tr></table></div></div></div><div style=\"\"><div style=\"pading:10px;\"><div style=\"padding:5px\"><h1><img height=\"30\" width=\"30\" src=\"https://console.demystdata.com/assets/attom-018667395fd6d2e395ec7079d09434844d7ef98d02dac7c32e8bcb6c326145f1.svg\" style=\"display:inline-block\" /> Attom</h1><pre style=\"\">attom_commercial_pre_foreclosure</pre><p><em>Attom Commerical Pre-Foreclosure Data aggregates data from Notice of Default (NODs) and Lis Pendens (LIS) submissions.  This data set contains primarily commercial properties within the US.  ATTOM blends property tax, deed, mortgage, foreclosure, environmental risk, natural hazard and neighborhood data for more than 155 million U.S. residential and commercial properties multi-sourced from more than 3,000 U.S. counties.</em></p></div><div style=\"padding: 5px;\"><table><tr><th> </th><th>attom_id</th><th>transactionid</th></tr><tr><td>Option 1</td><td><span style=\"font-size: 20px;\"> </span></td><td><span style=\"font-size: 20px;\">☐</span></td></tr><tr><td>Option 2</td><td><span style=\"font-size: 20px;\">☒</span></td><td><span style=\"font-size: 20px;\"> </span></td></tr></table></div></div></div><div style=\"\"><div style=\"pading:10px;\"><div style=\"padding:5px\"><h1><img height=\"30\" width=\"30\" src=\"https://console.demystdata.com/assets/attom-018667395fd6d2e395ec7079d09434844d7ef98d02dac7c32e8bcb6c326145f1.svg\" style=\"display:inline-block\" /> Attom</h1><pre style=\"\">attom_commercial_avm</pre><p><em>Attom Commerical AVM (automated valuation model) Value is a statistical calculation model to estimate the current value of a property.  This data set contains primarily commercial properties within the US.  ATTOM blends property tax, deed, mortgage, foreclosure, environmental risk, natural hazard and neighborhood data for more than 155 million U.S. residential and commercial properties multi-sourced from more than 3,000 U.S. counties.</em></p></div><div style=\"padding: 5px;\"><table><tr><th> </th><th>attom_id</th></tr><tr><td>Option 1</td><td><span style=\"font-size: 20px;\">☒</span></td></tr></table></div></div></div><div style=\"\"><div style=\"pading:10px;\"><div style=\"padding:5px\"><h1><img height=\"30\" width=\"30\" src=\"https://console.demystdata.com/assets/attom-018667395fd6d2e395ec7079d09434844d7ef98d02dac7c32e8bcb6c326145f1.svg\" style=\"display:inline-block\" /> Attom</h1><pre style=\"\">attom_commercial_recorder</pre><p><em>Attom Commerical Recorder Data provides data derived from public records and documents on real estate transactions (sales deeds and mortgages) involving properties.  This data set contains primarily commercial properties within the US.  ATTOM blends property tax, deed, mortgage, foreclosure, environmental risk, natural hazard and neighborhood data for more than 155 million U.S. residential and commercial properties multi-sourced from more than 3,000 U.S. counties.</em></p></div><div style=\"padding: 5px;\"><table><tr><th> </th><th>attom_id</th><th>transactionid</th></tr><tr><td>Option 1</td><td><span style=\"font-size: 20px;\"> </span></td><td><span style=\"font-size: 20px;\">☐</span></td></tr><tr><td>Option 2</td><td><span style=\"font-size: 20px;\">☒</span></td><td><span style=\"font-size: 20px;\"> </span></td></tr></table></div></div></div>"
      ],
      "text/plain": [
       "<IPython.core.display.HTML object>"
      ]
     },
     "metadata": {},
     "output_type": "display_data"
    }
   ],
   "source": [
    "# let's look at any further data sets for enrichment without using a 'strict' policy\n",
    "display(analytics.search(results, strict=False))\n"
   ]
  },
  {
   "cell_type": "code",
   "execution_count": 467,
   "metadata": {},
   "outputs": [
    {
     "data": {
      "text/html": [
       "<div>\n",
       "<style scoped>\n",
       "    .dataframe tbody tr th:only-of-type {\n",
       "        vertical-align: middle;\n",
       "    }\n",
       "\n",
       "    .dataframe tbody tr th {\n",
       "        vertical-align: top;\n",
       "    }\n",
       "\n",
       "    .dataframe thead th {\n",
       "        text-align: right;\n",
       "    }\n",
       "</style>\n",
       "<table border=\"1\" class=\"dataframe\">\n",
       "  <thead>\n",
       "    <tr style=\"text-align: right;\">\n",
       "      <th></th>\n",
       "      <th>provider_name</th>\n",
       "      <th>attribute</th>\n",
       "      <th>option</th>\n",
       "      <th>type</th>\n",
       "      <th>description</th>\n",
       "    </tr>\n",
       "  </thead>\n",
       "  <tbody>\n",
       "    <tr>\n",
       "      <th>1286</th>\n",
       "      <td>attom_tax_assessor</td>\n",
       "      <td>results[].fencecode</td>\n",
       "      <td>output</td>\n",
       "      <td>String</td>\n",
       "      <td>Indicates the presence and/or type of fence on...</td>\n",
       "    </tr>\n",
       "    <tr>\n",
       "      <th>1015</th>\n",
       "      <td>attom_recorder</td>\n",
       "      <td>results[].mortgage2interestrateminfirstchanger...</td>\n",
       "      <td>output</td>\n",
       "      <td>Number</td>\n",
       "      <td>Applies only to adjustable rate loans. The min...</td>\n",
       "    </tr>\n",
       "    <tr>\n",
       "      <th>1161</th>\n",
       "      <td>attom_tax_assessor</td>\n",
       "      <td>results[].taxmarketvalueland</td>\n",
       "      <td>output</td>\n",
       "      <td>Number</td>\n",
       "      <td>Market value of the land</td>\n",
       "    </tr>\n",
       "    <tr>\n",
       "      <th>1011</th>\n",
       "      <td>attom_recorder</td>\n",
       "      <td>results[].mortgage2documentinforideradjustable...</td>\n",
       "      <td>output</td>\n",
       "      <td>String</td>\n",
       "      <td>Flag to indicate if an adjustable rate rider w...</td>\n",
       "    </tr>\n",
       "    <tr>\n",
       "      <th>1054</th>\n",
       "      <td>attom_tax_assessor</td>\n",
       "      <td>results[].parcelnumberprevious</td>\n",
       "      <td>output</td>\n",
       "      <td>String</td>\n",
       "      <td>Previous parcel number assigned to the subject...</td>\n",
       "    </tr>\n",
       "    <tr>\n",
       "      <th>1082</th>\n",
       "      <td>attom_tax_assessor</td>\n",
       "      <td>results[].legaltractnumber</td>\n",
       "      <td>output</td>\n",
       "      <td>String</td>\n",
       "      <td>Tract number</td>\n",
       "    </tr>\n",
       "    <tr>\n",
       "      <th>471</th>\n",
       "      <td>attom_commercial_tax_assessor</td>\n",
       "      <td>results[].deedowner1namemiddle</td>\n",
       "      <td>output</td>\n",
       "      <td>MiddleName</td>\n",
       "      <td>The first deed owner's middle name of the prop...</td>\n",
       "    </tr>\n",
       "    <tr>\n",
       "      <th>1071</th>\n",
       "      <td>attom_tax_assessor</td>\n",
       "      <td>results[].propertylatitude</td>\n",
       "      <td>output</td>\n",
       "      <td>Latitude</td>\n",
       "      <td>The latitude of the property in degrees.</td>\n",
       "    </tr>\n",
       "    <tr>\n",
       "      <th>125</th>\n",
       "      <td>attom_commercial_pre_foreclosure</td>\n",
       "      <td>results[].publicationdate</td>\n",
       "      <td>output</td>\n",
       "      <td>Date</td>\n",
       "      <td>The date on which the client's data file was e...</td>\n",
       "    </tr>\n",
       "    <tr>\n",
       "      <th>809</th>\n",
       "      <td>attom_recorder</td>\n",
       "      <td>results[].transferinfomultiparcelflag</td>\n",
       "      <td>output</td>\n",
       "      <td>Number</td>\n",
       "      <td>Flag used to indicate a multiple parcel transa...</td>\n",
       "    </tr>\n",
       "  </tbody>\n",
       "</table>\n",
       "</div>"
      ],
      "text/plain": [
       "                         provider_name  \\\n",
       "1286                attom_tax_assessor   \n",
       "1015                    attom_recorder   \n",
       "1161                attom_tax_assessor   \n",
       "1011                    attom_recorder   \n",
       "1054                attom_tax_assessor   \n",
       "1082                attom_tax_assessor   \n",
       "471      attom_commercial_tax_assessor   \n",
       "1071                attom_tax_assessor   \n",
       "125   attom_commercial_pre_foreclosure   \n",
       "809                     attom_recorder   \n",
       "\n",
       "                                              attribute  option        type  \\\n",
       "1286                                results[].fencecode  output      String   \n",
       "1015  results[].mortgage2interestrateminfirstchanger...  output      Number   \n",
       "1161                       results[].taxmarketvalueland  output      Number   \n",
       "1011  results[].mortgage2documentinforideradjustable...  output      String   \n",
       "1054                     results[].parcelnumberprevious  output      String   \n",
       "1082                         results[].legaltractnumber  output      String   \n",
       "471                      results[].deedowner1namemiddle  output  MiddleName   \n",
       "1071                         results[].propertylatitude  output    Latitude   \n",
       "125                           results[].publicationdate  output        Date   \n",
       "809               results[].transferinfomultiparcelflag  output      Number   \n",
       "\n",
       "                                            description  \n",
       "1286  Indicates the presence and/or type of fence on...  \n",
       "1015  Applies only to adjustable rate loans. The min...  \n",
       "1161                           Market value of the land  \n",
       "1011  Flag to indicate if an adjustable rate rider w...  \n",
       "1054  Previous parcel number assigned to the subject...  \n",
       "1082                                       Tract number  \n",
       "471   The first deed owner's middle name of the prop...  \n",
       "1071           The latitude of the property in degrees.  \n",
       "125   The date on which the client's data file was e...  \n",
       "809   Flag used to indicate a multiple parcel transa...  "
      ]
     },
     "execution_count": 467,
     "metadata": {},
     "output_type": "execute_result"
    }
   ],
   "source": [
    "analytics.product_outputs('safety_flag', all_products=True).sample(10)"
   ]
  },
  {
   "cell_type": "code",
   "execution_count": 468,
   "metadata": {},
   "outputs": [
    {
     "data": {
      "text/plain": [
       "attom_tax_assessor                       319\n",
       "attom_commercial_tax_assessor            319\n",
       "attom_recorder                           239\n",
       "attom_commercial_recorder                239\n",
       "attom_pre_foreclosure                    104\n",
       "attom_commercial_pre_foreclosure         104\n",
       "powerlytics_lfo2_zipcode_naics4_sales     46\n",
       "attom_commercial_avm                      11\n",
       "attom_avm                                 11\n",
       "attom_expanded_profile_report              1\n",
       "data-fn--818-demyst-testdf                 1\n",
       "Name: provider_name, dtype: int64"
      ]
     },
     "execution_count": 468,
     "metadata": {},
     "output_type": "execute_result"
    }
   ],
   "source": [
    "analytics.product_outputs('safety_flag', all_products=True).provider_name.value_counts()"
   ]
  },
  {
   "cell_type": "markdown",
   "metadata": {},
   "source": [
    "As we have already enriched our initial data with the 'attom_expanded_profile_report' dataset, we can exclude that from further enrichment.\n",
    "Let's make a list excluding that data set from further enrichments"
   ]
  },
  {
   "cell_type": "code",
   "execution_count": 469,
   "metadata": {},
   "outputs": [],
   "source": [
    "potential_products = list(set(analytics.product_outputs('safety_flag', all_products=True).provider_name)-\\\n",
    "                          set(['attom_expanded_profile_report']))"
   ]
  },
  {
   "cell_type": "code",
   "execution_count": 470,
   "metadata": {},
   "outputs": [
    {
     "data": {
      "text/plain": [
       "['attom_avm',\n",
       " 'attom_commercial_recorder',\n",
       " 'data-fn--818-demyst-testdf',\n",
       " 'attom_tax_assessor',\n",
       " 'powerlytics_lfo2_zipcode_naics4_sales',\n",
       " 'attom_commercial_pre_foreclosure',\n",
       " 'attom_recorder',\n",
       " 'attom_commercial_avm',\n",
       " 'attom_commercial_tax_assessor',\n",
       " 'attom_pre_foreclosure']"
      ]
     },
     "execution_count": 470,
     "metadata": {},
     "output_type": "execute_result"
    }
   ],
   "source": [
    "potential_products"
   ]
  },
  {
   "cell_type": "code",
   "execution_count": 504,
   "metadata": {},
   "outputs": [
    {
     "data": {
      "text/html": [
       "<table><tr><th>Column</th><th>Status</th><th>Description</th></tr><tr><th><a href=\"https://demyst.com/docs/demyst-live/types/#city\" target=\"_blank\">city</a></th><td style=\"background-color: lightgreen\"><nobr>All Valid</nobr></td><td style=\"text-align: left\">All values in this column are good to go.</td></tr><tr><th><a href=\"https://demyst.com/docs/demyst-live/types/#country\" target=\"_blank\">country</a></th><td style=\"background-color: lightgreen\"><nobr>All Valid</nobr></td><td style=\"text-align: left\">All values in this column are good to go.</td></tr><tr><th><a href=\"https://demyst.com/docs/demyst-live/types/#post_code\" target=\"_blank\">post_code</a></th><td style=\"background-color: lightgreen\"><nobr>All Valid</nobr></td><td style=\"text-align: left\">All values in this column are good to go.</td></tr><tr><th>safety_flag</th><td style=\"background-color: lightpink\"><nobr>Unrecognized Column Name</nobr></td><td style=\"text-align: left\">This column name is not supported. <a href=\"https://demyst.com/docs/demyst-live/types/\" target=\"_blank\">Click here for a list of all supported column names.</a></td></tr><tr><th><a href=\"https://demyst.com/docs/demyst-live/types/#state\" target=\"_blank\">state</a></th><td style=\"background-color: lightgreen\"><nobr>All Valid</nobr></td><td style=\"text-align: left\">All values in this column are good to go.</td></tr><tr><th><a href=\"https://demyst.com/docs/demyst-live/types/#street\" target=\"_blank\">street</a></th><td style=\"background-color: lightgreen\"><nobr>All Valid</nobr></td><td style=\"text-align: left\">All values in this column are good to go.</td></tr><tr><th>attom_id</th><td style=\"background-color: lightgreen\"><nobr>All Valid</nobr></td><td style=\"text-align: left\">All values in this column are good to go.</td></tr></table>"
      ],
      "text/plain": [
       "<demyst.analytics.analytics.Validation at 0x15a3829e8>"
      ]
     },
     "execution_count": 504,
     "metadata": {},
     "output_type": "execute_result"
    }
   ],
   "source": [
    "analytics.validate(results)"
   ]
  },
  {
   "cell_type": "code",
   "execution_count": 505,
   "metadata": {},
   "outputs": [
    {
     "name": "stdout",
     "output_type": "stream",
     "text": [
      "Verifying providers...\n",
      "Starting enrichment...\n",
      "Enrich Job ID: 13220\n"
     ]
    },
    {
     "data": {
      "application/vnd.jupyter.widget-view+json": {
       "model_id": "e14573695f1c429581b83cc586e8b757",
       "version_major": 2,
       "version_minor": 0
      },
      "text/plain": [
       "IntProgress(value=1, max=2)"
      ]
     },
     "metadata": {},
     "output_type": "display_data"
    },
    {
     "data": {
      "application/vnd.jupyter.widget-view+json": {
       "model_id": "10b46bd1b593431490f9858d2061d983",
       "version_major": 2,
       "version_minor": 0
      },
      "text/plain": [
       "HTML(value='Checking status...')"
      ]
     },
     "metadata": {},
     "output_type": "display_data"
    }
   ],
   "source": [
    "# obtain one of the potential products\n",
    "results_avm = analytics.enrich_and_download([\"attom_avm\"], results, validate=True)\n"
   ]
  },
  {
   "cell_type": "code",
   "execution_count": 506,
   "metadata": {},
   "outputs": [],
   "source": [
    "if not os.path.isfile('results_avm_21_12.csv'):\n",
    "    results_avm.to_csv('results_avm_21_12.csv', index=False)\n"
   ]
  },
  {
   "cell_type": "markdown",
   "metadata": {},
   "source": [
    "We need to clean the data into the appropriate format, as shown above.\n",
    "Let's create a function to do so."
   ]
  },
  {
   "cell_type": "code",
   "execution_count": 327,
   "metadata": {},
   "outputs": [],
   "source": [
    "def clean_avm(df, target_col):\n",
    "    df.columns = df.columns.str.replace('inputs.', '').str.replace(str(target_col) + '.', '')\n",
    "    return df"
   ]
  },
  {
   "cell_type": "code",
   "execution_count": 199,
   "metadata": {},
   "outputs": [
    {
     "name": "stdout",
     "output_type": "stream",
     "text": [
      "Verifying providers...\n",
      "Starting enrichment...\n",
      "Enrich Job ID: 13203\n"
     ]
    },
    {
     "data": {
      "application/vnd.jupyter.widget-view+json": {
       "model_id": "9c42ecb5b6da47ff9edd2232cc889468",
       "version_major": 2,
       "version_minor": 0
      },
      "text/plain": [
       "IntProgress(value=1, max=2)"
      ]
     },
     "metadata": {},
     "output_type": "display_data"
    },
    {
     "data": {
      "application/vnd.jupyter.widget-view+json": {
       "model_id": "67bc32322e064fd690eb47db8d8a5e3b",
       "version_major": 2,
       "version_minor": 0
      },
      "text/plain": [
       "HTML(value='Checking status...')"
      ]
     },
     "metadata": {},
     "output_type": "display_data"
    }
   ],
   "source": [
    "if not os.path.isfile('results_avm_com.csv'):\n",
    "    results_avm_com = analytics.enrich_and_download([\"attom_commercial_avm\"], df_avm, validate=True)\n",
    "    results_avm_com.to_csv('results_avm_com.csv')"
   ]
  },
  {
   "cell_type": "markdown",
   "metadata": {},
   "source": [
    "Based on the number of records that were downloaded through both the 'attom_avm' and 'attom_commerical_avm' data sets,\n",
    "this shows that the input dataset consists *only* of non-commerial/residential records.\n",
    "Therefore, we can deduce that we can remove any of the commercial data sets from further enrichment pipelines."
   ]
  },
  {
   "cell_type": "code",
   "execution_count": 200,
   "metadata": {},
   "outputs": [
    {
     "data": {
      "text/plain": [
       "((8904, 20), (8904, 30))"
      ]
     },
     "execution_count": 200,
     "metadata": {},
     "output_type": "execute_result"
    }
   ],
   "source": [
    "results_avm.shape, results_avm_com.shape"
   ]
  },
  {
   "cell_type": "markdown",
   "metadata": {},
   "source": [
    "The number of records present in the different 'tax_assesor' data sets also confirm that *only* residential properties\n",
    "are present in our input dataset"
   ]
  },
  {
   "cell_type": "code",
   "execution_count": 160,
   "metadata": {},
   "outputs": [
    {
     "name": "stderr",
     "output_type": "stream",
     "text": [
      "Provider doesn't have any sample data.\n"
     ]
    }
   ],
   "source": [
    "analytics.sample_data('data-fn--818-demyst-testdf',row_limit=5).columns"
   ]
  },
  {
   "cell_type": "markdown",
   "metadata": {},
   "source": [
    "We can infer from the name that 'data-fn--818-demyst-testdf' is not going to be of interest to us.\n",
    "Based on the other product descriptions, the other remaining 'attom' data sets could be used for enrichment.\n",
    "The 'powerlytics_lfo2_zipcode_naics4_sales' could be of use, but the output of the cell shown below shows that there isn't an 'attom_id' column to tie in this data set to the others."
   ]
  },
  {
   "cell_type": "code",
   "execution_count": 161,
   "metadata": {},
   "outputs": [
    {
     "data": {
      "text/plain": [
       "False"
      ]
     },
     "execution_count": 161,
     "metadata": {},
     "output_type": "execute_result"
    }
   ],
   "source": [
    "s = analytics.sample_data('powerlytics_lfo2_zipcode_naics4_sales', row_limit=5).columns\n",
    "'attom_id' in s"
   ]
  },
  {
   "cell_type": "code",
   "execution_count": 201,
   "metadata": {},
   "outputs": [
    {
     "data": {
      "text/plain": [
       "['attom_tax_assessor', 'attom_recorder', 'attom_pre_foreclosure']"
      ]
     },
     "execution_count": 201,
     "metadata": {},
     "output_type": "execute_result"
    }
   ],
   "source": [
    "updated_prods = [prod for prod in potential_products if not ('comm' in prod or 'avm' in prod or 'power' in prod \\\n",
    "                                                         or 'data-fn' in prod)]\n",
    "updated_prods"
   ]
  },
  {
   "cell_type": "code",
   "execution_count": 353,
   "metadata": {},
   "outputs": [
    {
     "data": {
      "text/plain": [
       "city           0\n",
       "country        0\n",
       "post_code      0\n",
       "safety_flag    0\n",
       "state          0\n",
       "street         0\n",
       "attom_id       0\n",
       "dtype: int64"
      ]
     },
     "execution_count": 353,
     "metadata": {},
     "output_type": "execute_result"
    }
   ],
   "source": [
    "results.isna().sum()"
   ]
  },
  {
   "cell_type": "code",
   "execution_count": 501,
   "metadata": {},
   "outputs": [],
   "source": [
    "results['attom_id'] = results['attom_id'].astype(float)\n",
    "results['attom_id'] = results['attom_id'].astype(int)\n",
    "results['attom_id'] = results['attom_id'].astype(str)\n"
   ]
  },
  {
   "cell_type": "code",
   "execution_count": 544,
   "metadata": {},
   "outputs": [
    {
     "data": {
      "text/plain": [
       "['attom_tax_assessor', 'attom_recorder', 'attom_pre_foreclosure']"
      ]
     },
     "execution_count": 544,
     "metadata": {},
     "output_type": "execute_result"
    }
   ],
   "source": [
    "updated_prods"
   ]
  },
  {
   "cell_type": "code",
   "execution_count": 546,
   "metadata": {},
   "outputs": [
    {
     "data": {
      "text/html": [
       "<table><tr><th>Column</th><th>Status</th><th>Description</th></tr><tr><th><a href=\"https://demyst.com/docs/demyst-live/types/#city\" target=\"_blank\">city</a></th><td style=\"background-color: lightgreen\"><nobr>All Valid</nobr></td><td style=\"text-align: left\">All values in this column are good to go.</td></tr><tr><th><a href=\"https://demyst.com/docs/demyst-live/types/#country\" target=\"_blank\">country</a></th><td style=\"background-color: lightgreen\"><nobr>All Valid</nobr></td><td style=\"text-align: left\">All values in this column are good to go.</td></tr><tr><th><a href=\"https://demyst.com/docs/demyst-live/types/#post_code\" target=\"_blank\">post_code</a></th><td style=\"background-color: lightgreen\"><nobr>All Valid</nobr></td><td style=\"text-align: left\">All values in this column are good to go.</td></tr><tr><th>safety_flag</th><td style=\"background-color: lightpink\"><nobr>Unrecognized Column Name</nobr></td><td style=\"text-align: left\">This column name is not supported. <a href=\"https://demyst.com/docs/demyst-live/types/\" target=\"_blank\">Click here for a list of all supported column names.</a></td></tr><tr><th><a href=\"https://demyst.com/docs/demyst-live/types/#state\" target=\"_blank\">state</a></th><td style=\"background-color: lightgreen\"><nobr>All Valid</nobr></td><td style=\"text-align: left\">All values in this column are good to go.</td></tr><tr><th><a href=\"https://demyst.com/docs/demyst-live/types/#street\" target=\"_blank\">street</a></th><td style=\"background-color: lightgreen\"><nobr>All Valid</nobr></td><td style=\"text-align: left\">All values in this column are good to go.</td></tr><tr><th>attom_id</th><td style=\"background-color: lightgreen\"><nobr>All Valid</nobr></td><td style=\"text-align: left\">All values in this column are good to go.</td></tr></table>"
      ],
      "text/plain": [
       "<demyst.analytics.analytics.Validation at 0x17a399d68>"
      ]
     },
     "execution_count": 546,
     "metadata": {},
     "output_type": "execute_result"
    }
   ],
   "source": [
    "analytics.validate(results)"
   ]
  },
  {
   "cell_type": "markdown",
   "metadata": {},
   "source": [
    "Nowe we can iterate through the remaining product list, and create a 'dict' containing additional meta-data found that\n",
    "matches our sanitised 'results' dataframe.\n",
    "We can then concatenate these other results with the earlier downloaded 'recorder_df'."
   ]
  },
  {
   "cell_type": "code",
   "execution_count": 547,
   "metadata": {},
   "outputs": [
    {
     "name": "stdout",
     "output_type": "stream",
     "text": [
      "Verifying providers...\n",
      "Starting enrichment...\n",
      "Enrich Job ID: 13222\n"
     ]
    },
    {
     "data": {
      "application/vnd.jupyter.widget-view+json": {
       "model_id": "1b290a71dde94f17a592a4de3ab0d19f",
       "version_major": 2,
       "version_minor": 0
      },
      "text/plain": [
       "IntProgress(value=1, max=2)"
      ]
     },
     "metadata": {},
     "output_type": "display_data"
    },
    {
     "data": {
      "application/vnd.jupyter.widget-view+json": {
       "model_id": "d64762315ebc40c7b546a96f0e1d30c9",
       "version_major": 2,
       "version_minor": 0
      },
      "text/plain": [
       "HTML(value='Checking status...')"
      ]
     },
     "metadata": {},
     "output_type": "display_data"
    },
    {
     "name": "stdout",
     "output_type": "stream",
     "text": [
      "Verifying providers...\n",
      "Starting enrichment...\n",
      "Enrich Job ID: 13223\n"
     ]
    },
    {
     "data": {
      "application/vnd.jupyter.widget-view+json": {
       "model_id": "11fe8e4aae2240509175df203a5e9f29",
       "version_major": 2,
       "version_minor": 0
      },
      "text/plain": [
       "IntProgress(value=1, max=2)"
      ]
     },
     "metadata": {},
     "output_type": "display_data"
    },
    {
     "data": {
      "application/vnd.jupyter.widget-view+json": {
       "model_id": "0a6cadf8bdef4224b3a272593f65b1bb",
       "version_major": 2,
       "version_minor": 0
      },
      "text/plain": [
       "HTML(value='Checking status...')"
      ]
     },
     "metadata": {},
     "output_type": "display_data"
    },
    {
     "name": "stdout",
     "output_type": "stream",
     "text": [
      "Verifying providers...\n",
      "Starting enrichment...\n",
      "Enrich Job ID: 13225\n"
     ]
    },
    {
     "data": {
      "application/vnd.jupyter.widget-view+json": {
       "model_id": "d245378bf4d4446c92bda547fb764860",
       "version_major": 2,
       "version_minor": 0
      },
      "text/plain": [
       "IntProgress(value=1, max=2)"
      ]
     },
     "metadata": {},
     "output_type": "display_data"
    },
    {
     "data": {
      "application/vnd.jupyter.widget-view+json": {
       "model_id": "9bba4a0dbc6c4c20ad11c09acc8bb8e1",
       "version_major": 2,
       "version_minor": 0
      },
      "text/plain": [
       "HTML(value='Checking status...')"
      ]
     },
     "metadata": {},
     "output_type": "display_data"
    }
   ],
   "source": [
    "prod_dict_3 = {}\n",
    "for idx, prod in enumerate(updated_prods):\n",
    "    if prod_dict_3.get(str(idx)) is None and not os.path.isfile(f'{prod}_{idx}_22_11.csv'):\n",
    "        prod_dict_3[str(idx)] = analytics.enrich_and_download([prod], results, validate=True)\n",
    "        if not os.path.isfile(f'{prod}_{idx}_22_11.csv'):\n",
    "            prod_dict_2[str(idx)].to_csv(f'{prod}_{idx}_22_11.csv', index=False)\n",
    "    else:\n",
    "        prod_dict_3[str(idx)] = pd.read_csv(f'{prod}_{idx}_22_11.csv')\n",
    "full_df = pd.concat([df_recorder, *prod_dict_3.values()],axis=1)\n"
   ]
  },
  {
   "cell_type": "code",
   "execution_count": 545,
   "metadata": {},
   "outputs": [
    {
     "data": {
      "text/html": [
       "<table><tr><th>Column</th><th>Status</th><th>Description</th></tr><tr><th>attom_id</th><td style=\"background-color: lightpink\"><nobr>Not a String Column</nobr></td><td style=\"text-align: left\">You must convert this column to string type.</td></tr><tr><th><a href=\"https://demyst.com/docs/demyst-live/types/#city\" target=\"_blank\">city</a></th><td style=\"background-color: lightgreen\"><nobr>All Valid</nobr></td><td style=\"text-align: left\">All values in this column are good to go.</td></tr><tr><th><a href=\"https://demyst.com/docs/demyst-live/types/#country\" target=\"_blank\">country</a></th><td style=\"background-color: lightgreen\"><nobr>All Valid</nobr></td><td style=\"text-align: left\">All values in this column are good to go.</td></tr><tr><th><a href=\"https://demyst.com/docs/demyst-live/types/#post_code\" target=\"_blank\">post_code</a></th><td style=\"background-color: lightgreen\"><nobr>All Valid</nobr></td><td style=\"text-align: left\">All values in this column are good to go.</td></tr><tr><th>safety_flag</th><td style=\"background-color: lightpink\"><nobr>Unrecognized Column Name</nobr></td><td style=\"text-align: left\">This column name is not supported. <a href=\"https://demyst.com/docs/demyst-live/types/\" target=\"_blank\">Click here for a list of all supported column names.</a></td></tr><tr><th><a href=\"https://demyst.com/docs/demyst-live/types/#state\" target=\"_blank\">state</a></th><td style=\"background-color: lightgreen\"><nobr>All Valid</nobr></td><td style=\"text-align: left\">All values in this column are good to go.</td></tr><tr><th><a href=\"https://demyst.com/docs/demyst-live/types/#street\" target=\"_blank\">street</a></th><td style=\"background-color: lightgreen\"><nobr>All Valid</nobr></td><td style=\"text-align: left\">All values in this column are good to go.</td></tr><tr><th>row_id</th><td style=\"background-color: lightpink\"><nobr>Unrecognized Column Name</nobr></td><td style=\"text-align: left\">This column name is not supported. <a href=\"https://demyst.com/docs/demyst-live/types/\" target=\"_blank\">Click here for a list of all supported column names.</a></td></tr><tr><th>client_id</th><td style=\"background-color: lightpink\"><nobr>Unrecognized Column Name</nobr></td><td style=\"text-align: left\">This column name is not supported. <a href=\"https://demyst.com/docs/demyst-live/types/\" target=\"_blank\">Click here for a list of all supported column names.</a></td></tr><tr><th>apnformatted</th><td style=\"background-color: lightpink\"><nobr>Unrecognized Column Name</nobr></td><td style=\"text-align: left\">This column name is not supported. <a href=\"https://demyst.com/docs/demyst-live/types/\" target=\"_blank\">Click here for a list of all supported column names.</a></td></tr><tr><th>apnoriginal</th><td style=\"background-color: lightpink\"><nobr>Unrecognized Column Name</nobr></td><td style=\"text-align: left\">This column name is not supported. <a href=\"https://demyst.com/docs/demyst-live/types/\" target=\"_blank\">Click here for a list of all supported column names.</a></td></tr><tr><th>armslengthflag</th><td style=\"background-color: lightpink\"><nobr>Unrecognized Column Name</nobr></td><td style=\"text-align: left\">This column name is not supported. <a href=\"https://demyst.com/docs/demyst-live/types/\" target=\"_blank\">Click here for a list of all supported column names.</a></td></tr><tr><th>attom_id</th><td style=\"background-color: lightpink\"><nobr>Not a String Column</nobr></td><td style=\"text-align: left\">You must convert this column to string type.</td></tr><tr><th>book</th><td style=\"background-color: lightpink\"><nobr>Unrecognized Column Name</nobr></td><td style=\"text-align: left\">This column name is not supported. <a href=\"https://demyst.com/docs/demyst-live/types/\" target=\"_blank\">Click here for a list of all supported column names.</a></td></tr><tr><th>documentnumberformatted</th><td style=\"background-color: lightpink\"><nobr>Unrecognized Column Name</nobr></td><td style=\"text-align: left\">This column name is not supported. <a href=\"https://demyst.com/docs/demyst-live/types/\" target=\"_blank\">Click here for a list of all supported column names.</a></td></tr><tr><th>documentnumberlegacy</th><td style=\"background-color: lightpink\"><nobr>Unrecognized Column Name</nobr></td><td style=\"text-align: left\">This column name is not supported. <a href=\"https://demyst.com/docs/demyst-live/types/\" target=\"_blank\">Click here for a list of all supported column names.</a></td></tr><tr><th>documentrecordingcountyfips</th><td style=\"background-color: lightpink\"><nobr>Unrecognized Column Name</nobr></td><td style=\"text-align: left\">This column name is not supported. <a href=\"https://demyst.com/docs/demyst-live/types/\" target=\"_blank\">Click here for a list of all supported column names.</a></td></tr><tr><th>documentrecordingcountyname</th><td style=\"background-color: lightpink\"><nobr>Unrecognized Column Name</nobr></td><td style=\"text-align: left\">This column name is not supported. <a href=\"https://demyst.com/docs/demyst-live/types/\" target=\"_blank\">Click here for a list of all supported column names.</a></td></tr><tr><th>documentrecordingjurisdictionname</th><td style=\"background-color: lightpink\"><nobr>Unrecognized Column Name</nobr></td><td style=\"text-align: left\">This column name is not supported. <a href=\"https://demyst.com/docs/demyst-live/types/\" target=\"_blank\">Click here for a list of all supported column names.</a></td></tr><tr><th>documentrecordingstatecode</th><td style=\"background-color: lightpink\"><nobr>Unrecognized Column Name</nobr></td><td style=\"text-align: left\">This column name is not supported. <a href=\"https://demyst.com/docs/demyst-live/types/\" target=\"_blank\">Click here for a list of all supported column names.</a></td></tr><tr><th>documenttypecode</th><td style=\"background-color: lightpink\"><nobr>Unrecognized Column Name</nobr></td><td style=\"text-align: left\">This column name is not supported. <a href=\"https://demyst.com/docs/demyst-live/types/\" target=\"_blank\">Click here for a list of all supported column names.</a></td></tr><tr><th>foreclosureauctionsale</th><td style=\"background-color: lightpink\"><nobr>Unrecognized Column Name</nobr></td><td style=\"text-align: left\">This column name is not supported. <a href=\"https://demyst.com/docs/demyst-live/types/\" target=\"_blank\">Click here for a list of all supported column names.</a></td></tr><tr><th>grantee1infoentityclassification</th><td style=\"background-color: lightpink\"><nobr>Unrecognized Column Name</nobr></td><td style=\"text-align: left\">This column name is not supported. <a href=\"https://demyst.com/docs/demyst-live/types/\" target=\"_blank\">Click here for a list of all supported column names.</a></td></tr><tr><th>grantee1infoownertype</th><td style=\"background-color: lightpink\"><nobr>Unrecognized Column Name</nobr></td><td style=\"text-align: left\">This column name is not supported. <a href=\"https://demyst.com/docs/demyst-live/types/\" target=\"_blank\">Click here for a list of all supported column names.</a></td></tr><tr><th>grantee1namefirst</th><td style=\"background-color: lightpink\"><nobr>Unrecognized Column Name</nobr></td><td style=\"text-align: left\">This column name is not supported. <a href=\"https://demyst.com/docs/demyst-live/types/\" target=\"_blank\">Click here for a list of all supported column names.</a></td></tr><tr><th>grantee1namefull</th><td style=\"background-color: lightpink\"><nobr>Unrecognized Column Name</nobr></td><td style=\"text-align: left\">This column name is not supported. <a href=\"https://demyst.com/docs/demyst-live/types/\" target=\"_blank\">Click here for a list of all supported column names.</a></td></tr><tr><th>grantee1namelast</th><td style=\"background-color: lightpink\"><nobr>Unrecognized Column Name</nobr></td><td style=\"text-align: left\">This column name is not supported. <a href=\"https://demyst.com/docs/demyst-live/types/\" target=\"_blank\">Click here for a list of all supported column names.</a></td></tr><tr><th>grantee1namemiddle</th><td style=\"background-color: lightpink\"><nobr>Unrecognized Column Name</nobr></td><td style=\"text-align: left\">This column name is not supported. <a href=\"https://demyst.com/docs/demyst-live/types/\" target=\"_blank\">Click here for a list of all supported column names.</a></td></tr><tr><th>grantee1namesuffix</th><td style=\"background-color: lightpink\"><nobr>Unrecognized Column Name</nobr></td><td style=\"text-align: left\">This column name is not supported. <a href=\"https://demyst.com/docs/demyst-live/types/\" target=\"_blank\">Click here for a list of all supported column names.</a></td></tr><tr><th>grantee2infoentityclassification</th><td style=\"background-color: lightpink\"><nobr>Unrecognized Column Name</nobr></td><td style=\"text-align: left\">This column name is not supported. <a href=\"https://demyst.com/docs/demyst-live/types/\" target=\"_blank\">Click here for a list of all supported column names.</a></td></tr><tr><th>grantee2namefirst</th><td style=\"background-color: lightpink\"><nobr>Unrecognized Column Name</nobr></td><td style=\"text-align: left\">This column name is not supported. <a href=\"https://demyst.com/docs/demyst-live/types/\" target=\"_blank\">Click here for a list of all supported column names.</a></td></tr><tr><th>grantee2namefull</th><td style=\"background-color: lightpink\"><nobr>Unrecognized Column Name</nobr></td><td style=\"text-align: left\">This column name is not supported. <a href=\"https://demyst.com/docs/demyst-live/types/\" target=\"_blank\">Click here for a list of all supported column names.</a></td></tr><tr><th>grantee2namelast</th><td style=\"background-color: lightpink\"><nobr>Unrecognized Column Name</nobr></td><td style=\"text-align: left\">This column name is not supported. <a href=\"https://demyst.com/docs/demyst-live/types/\" target=\"_blank\">Click here for a list of all supported column names.</a></td></tr><tr><th>grantee2namemiddle</th><td style=\"background-color: lightpink\"><nobr>Unrecognized Column Name</nobr></td><td style=\"text-align: left\">This column name is not supported. <a href=\"https://demyst.com/docs/demyst-live/types/\" target=\"_blank\">Click here for a list of all supported column names.</a></td></tr><tr><th>grantee2namesuffix</th><td style=\"background-color: lightpink\"><nobr>Unrecognized Column Name</nobr></td><td style=\"text-align: left\">This column name is not supported. <a href=\"https://demyst.com/docs/demyst-live/types/\" target=\"_blank\">Click here for a list of all supported column names.</a></td></tr><tr><th>grantee3infoentityclassification</th><td style=\"background-color: lightpink\"><nobr>Unrecognized Column Name</nobr></td><td style=\"text-align: left\">This column name is not supported. <a href=\"https://demyst.com/docs/demyst-live/types/\" target=\"_blank\">Click here for a list of all supported column names.</a></td></tr><tr><th>grantee3namefirst</th><td style=\"background-color: lightpink\"><nobr>Unrecognized Column Name</nobr></td><td style=\"text-align: left\">This column name is not supported. <a href=\"https://demyst.com/docs/demyst-live/types/\" target=\"_blank\">Click here for a list of all supported column names.</a></td></tr><tr><th>grantee3namefull</th><td style=\"background-color: lightpink\"><nobr>Unrecognized Column Name</nobr></td><td style=\"text-align: left\">This column name is not supported. <a href=\"https://demyst.com/docs/demyst-live/types/\" target=\"_blank\">Click here for a list of all supported column names.</a></td></tr><tr><th>grantee3namelast</th><td style=\"background-color: lightpink\"><nobr>Unrecognized Column Name</nobr></td><td style=\"text-align: left\">This column name is not supported. <a href=\"https://demyst.com/docs/demyst-live/types/\" target=\"_blank\">Click here for a list of all supported column names.</a></td></tr><tr><th>grantee3namemiddle</th><td style=\"background-color: lightpink\"><nobr>Unrecognized Column Name</nobr></td><td style=\"text-align: left\">This column name is not supported. <a href=\"https://demyst.com/docs/demyst-live/types/\" target=\"_blank\">Click here for a list of all supported column names.</a></td></tr><tr><th>grantee3namesuffix</th><td style=\"background-color: lightpink\"><nobr>Unrecognized Column Name</nobr></td><td style=\"text-align: left\">This column name is not supported. <a href=\"https://demyst.com/docs/demyst-live/types/\" target=\"_blank\">Click here for a list of all supported column names.</a></td></tr><tr><th>grantee4infoentityclassification</th><td style=\"background-color: lightpink\"><nobr>Unrecognized Column Name</nobr></td><td style=\"text-align: left\">This column name is not supported. <a href=\"https://demyst.com/docs/demyst-live/types/\" target=\"_blank\">Click here for a list of all supported column names.</a></td></tr><tr><th>grantee4namefirst</th><td style=\"background-color: lightpink\"><nobr>Unrecognized Column Name</nobr></td><td style=\"text-align: left\">This column name is not supported. <a href=\"https://demyst.com/docs/demyst-live/types/\" target=\"_blank\">Click here for a list of all supported column names.</a></td></tr><tr><th>grantee4namefull</th><td style=\"background-color: lightpink\"><nobr>Unrecognized Column Name</nobr></td><td style=\"text-align: left\">This column name is not supported. <a href=\"https://demyst.com/docs/demyst-live/types/\" target=\"_blank\">Click here for a list of all supported column names.</a></td></tr><tr><th>grantee4namelast</th><td style=\"background-color: lightpink\"><nobr>Unrecognized Column Name</nobr></td><td style=\"text-align: left\">This column name is not supported. <a href=\"https://demyst.com/docs/demyst-live/types/\" target=\"_blank\">Click here for a list of all supported column names.</a></td></tr><tr><th>grantee4namemiddle</th><td style=\"background-color: lightpink\"><nobr>Unrecognized Column Name</nobr></td><td style=\"text-align: left\">This column name is not supported. <a href=\"https://demyst.com/docs/demyst-live/types/\" target=\"_blank\">Click here for a list of all supported column names.</a></td></tr><tr><th>grantee4namesuffix</th><td style=\"background-color: lightpink\"><nobr>Unrecognized Column Name</nobr></td><td style=\"text-align: left\">This column name is not supported. <a href=\"https://demyst.com/docs/demyst-live/types/\" target=\"_blank\">Click here for a list of all supported column names.</a></td></tr><tr><th>granteegrantorownerrelationshipcode</th><td style=\"background-color: lightpink\"><nobr>Unrecognized Column Name</nobr></td><td style=\"text-align: left\">This column name is not supported. <a href=\"https://demyst.com/docs/demyst-live/types/\" target=\"_blank\">Click here for a list of all supported column names.</a></td></tr><tr><th>granteeinfoentitycount</th><td style=\"background-color: lightpink\"><nobr>Unrecognized Column Name</nobr></td><td style=\"text-align: left\">This column name is not supported. <a href=\"https://demyst.com/docs/demyst-live/types/\" target=\"_blank\">Click here for a list of all supported column names.</a></td></tr><tr><th>granteeinfovesting1</th><td style=\"background-color: lightpink\"><nobr>Unrecognized Column Name</nobr></td><td style=\"text-align: left\">This column name is not supported. <a href=\"https://demyst.com/docs/demyst-live/types/\" target=\"_blank\">Click here for a list of all supported column names.</a></td></tr><tr><th>granteeinfovesting2</th><td style=\"background-color: lightpink\"><nobr>Unrecognized Column Name</nobr></td><td style=\"text-align: left\">This column name is not supported. <a href=\"https://demyst.com/docs/demyst-live/types/\" target=\"_blank\">Click here for a list of all supported column names.</a></td></tr><tr><th>granteeinvestorflag</th><td style=\"background-color: lightpink\"><nobr>Unrecognized Column Name</nobr></td><td style=\"text-align: left\">This column name is not supported. <a href=\"https://demyst.com/docs/demyst-live/types/\" target=\"_blank\">Click here for a list of all supported column names.</a></td></tr><tr><th>granteemailaddresscity</th><td style=\"background-color: lightpink\"><nobr>Unrecognized Column Name</nobr></td><td style=\"text-align: left\">This column name is not supported. <a href=\"https://demyst.com/docs/demyst-live/types/\" target=\"_blank\">Click here for a list of all supported column names.</a></td></tr><tr><th>granteemailaddresscrrt</th><td style=\"background-color: lightpink\"><nobr>Unrecognized Column Name</nobr></td><td style=\"text-align: left\">This column name is not supported. <a href=\"https://demyst.com/docs/demyst-live/types/\" target=\"_blank\">Click here for a list of all supported column names.</a></td></tr><tr><th>granteemailaddressfull</th><td style=\"background-color: lightpink\"><nobr>Unrecognized Column Name</nobr></td><td style=\"text-align: left\">This column name is not supported. <a href=\"https://demyst.com/docs/demyst-live/types/\" target=\"_blank\">Click here for a list of all supported column names.</a></td></tr><tr><th>granteemailaddresshousenumber</th><td style=\"background-color: lightpink\"><nobr>Unrecognized Column Name</nobr></td><td style=\"text-align: left\">This column name is not supported. <a href=\"https://demyst.com/docs/demyst-live/types/\" target=\"_blank\">Click here for a list of all supported column names.</a></td></tr><tr><th>granteemailaddressinfoformat</th><td style=\"background-color: lightpink\"><nobr>Unrecognized Column Name</nobr></td><td style=\"text-align: left\">This column name is not supported. <a href=\"https://demyst.com/docs/demyst-live/types/\" target=\"_blank\">Click here for a list of all supported column names.</a></td></tr><tr><th>granteemailaddressinfoprivacy</th><td style=\"background-color: lightpink\"><nobr>Unrecognized Column Name</nobr></td><td style=\"text-align: left\">This column name is not supported. <a href=\"https://demyst.com/docs/demyst-live/types/\" target=\"_blank\">Click here for a list of all supported column names.</a></td></tr><tr><th>granteemailaddressstate</th><td style=\"background-color: lightpink\"><nobr>Unrecognized Column Name</nobr></td><td style=\"text-align: left\">This column name is not supported. <a href=\"https://demyst.com/docs/demyst-live/types/\" target=\"_blank\">Click here for a list of all supported column names.</a></td></tr><tr><th>granteemailaddressstreetdirection</th><td style=\"background-color: lightpink\"><nobr>Unrecognized Column Name</nobr></td><td style=\"text-align: left\">This column name is not supported. <a href=\"https://demyst.com/docs/demyst-live/types/\" target=\"_blank\">Click here for a list of all supported column names.</a></td></tr><tr><th>granteemailaddressstreetname</th><td style=\"background-color: lightpink\"><nobr>Unrecognized Column Name</nobr></td><td style=\"text-align: left\">This column name is not supported. <a href=\"https://demyst.com/docs/demyst-live/types/\" target=\"_blank\">Click here for a list of all supported column names.</a></td></tr><tr><th>granteemailaddressstreetpostdirection</th><td style=\"background-color: lightpink\"><nobr>Unrecognized Column Name</nobr></td><td style=\"text-align: left\">This column name is not supported. <a href=\"https://demyst.com/docs/demyst-live/types/\" target=\"_blank\">Click here for a list of all supported column names.</a></td></tr><tr><th>granteemailaddressstreetsuffix</th><td style=\"background-color: lightpink\"><nobr>Unrecognized Column Name</nobr></td><td style=\"text-align: left\">This column name is not supported. <a href=\"https://demyst.com/docs/demyst-live/types/\" target=\"_blank\">Click here for a list of all supported column names.</a></td></tr><tr><th>granteemailaddressunitprefix</th><td style=\"background-color: lightpink\"><nobr>Unrecognized Column Name</nobr></td><td style=\"text-align: left\">This column name is not supported. <a href=\"https://demyst.com/docs/demyst-live/types/\" target=\"_blank\">Click here for a list of all supported column names.</a></td></tr><tr><th>granteemailaddressunitvalue</th><td style=\"background-color: lightpink\"><nobr>Unrecognized Column Name</nobr></td><td style=\"text-align: left\">This column name is not supported. <a href=\"https://demyst.com/docs/demyst-live/types/\" target=\"_blank\">Click here for a list of all supported column names.</a></td></tr><tr><th>granteemailaddresszip</th><td style=\"background-color: lightpink\"><nobr>Unrecognized Column Name</nobr></td><td style=\"text-align: left\">This column name is not supported. <a href=\"https://demyst.com/docs/demyst-live/types/\" target=\"_blank\">Click here for a list of all supported column names.</a></td></tr><tr><th>granteemailaddresszip4</th><td style=\"background-color: lightpink\"><nobr>Unrecognized Column Name</nobr></td><td style=\"text-align: left\">This column name is not supported. <a href=\"https://demyst.com/docs/demyst-live/types/\" target=\"_blank\">Click here for a list of all supported column names.</a></td></tr><tr><th>granteemailcareofname</th><td style=\"background-color: lightpink\"><nobr>Unrecognized Column Name</nobr></td><td style=\"text-align: left\">This column name is not supported. <a href=\"https://demyst.com/docs/demyst-live/types/\" target=\"_blank\">Click here for a list of all supported column names.</a></td></tr><tr><th>grantor1infoentityclassification</th><td style=\"background-color: lightpink\"><nobr>Unrecognized Column Name</nobr></td><td style=\"text-align: left\">This column name is not supported. <a href=\"https://demyst.com/docs/demyst-live/types/\" target=\"_blank\">Click here for a list of all supported column names.</a></td></tr><tr><th>grantor1infoownertype</th><td style=\"background-color: lightpink\"><nobr>Unrecognized Column Name</nobr></td><td style=\"text-align: left\">This column name is not supported. <a href=\"https://demyst.com/docs/demyst-live/types/\" target=\"_blank\">Click here for a list of all supported column names.</a></td></tr><tr><th>grantor1namefirst</th><td style=\"background-color: lightpink\"><nobr>Unrecognized Column Name</nobr></td><td style=\"text-align: left\">This column name is not supported. <a href=\"https://demyst.com/docs/demyst-live/types/\" target=\"_blank\">Click here for a list of all supported column names.</a></td></tr><tr><th>grantor1namefull</th><td style=\"background-color: lightpink\"><nobr>Unrecognized Column Name</nobr></td><td style=\"text-align: left\">This column name is not supported. <a href=\"https://demyst.com/docs/demyst-live/types/\" target=\"_blank\">Click here for a list of all supported column names.</a></td></tr><tr><th>grantor1namelast</th><td style=\"background-color: lightpink\"><nobr>Unrecognized Column Name</nobr></td><td style=\"text-align: left\">This column name is not supported. <a href=\"https://demyst.com/docs/demyst-live/types/\" target=\"_blank\">Click here for a list of all supported column names.</a></td></tr><tr><th>grantor1namemiddle</th><td style=\"background-color: lightpink\"><nobr>Unrecognized Column Name</nobr></td><td style=\"text-align: left\">This column name is not supported. <a href=\"https://demyst.com/docs/demyst-live/types/\" target=\"_blank\">Click here for a list of all supported column names.</a></td></tr><tr><th>grantor1namesuffix</th><td style=\"background-color: lightpink\"><nobr>Unrecognized Column Name</nobr></td><td style=\"text-align: left\">This column name is not supported. <a href=\"https://demyst.com/docs/demyst-live/types/\" target=\"_blank\">Click here for a list of all supported column names.</a></td></tr><tr><th>grantor2infoentityclassification</th><td style=\"background-color: lightpink\"><nobr>Unrecognized Column Name</nobr></td><td style=\"text-align: left\">This column name is not supported. <a href=\"https://demyst.com/docs/demyst-live/types/\" target=\"_blank\">Click here for a list of all supported column names.</a></td></tr><tr><th>grantor2infoownertype</th><td style=\"background-color: lightpink\"><nobr>Unrecognized Column Name</nobr></td><td style=\"text-align: left\">This column name is not supported. <a href=\"https://demyst.com/docs/demyst-live/types/\" target=\"_blank\">Click here for a list of all supported column names.</a></td></tr><tr><th>grantor2namefirst</th><td style=\"background-color: lightpink\"><nobr>Unrecognized Column Name</nobr></td><td style=\"text-align: left\">This column name is not supported. <a href=\"https://demyst.com/docs/demyst-live/types/\" target=\"_blank\">Click here for a list of all supported column names.</a></td></tr><tr><th>grantor2namefull</th><td style=\"background-color: lightpink\"><nobr>Unrecognized Column Name</nobr></td><td style=\"text-align: left\">This column name is not supported. <a href=\"https://demyst.com/docs/demyst-live/types/\" target=\"_blank\">Click here for a list of all supported column names.</a></td></tr><tr><th>grantor2namelast</th><td style=\"background-color: lightpink\"><nobr>Unrecognized Column Name</nobr></td><td style=\"text-align: left\">This column name is not supported. <a href=\"https://demyst.com/docs/demyst-live/types/\" target=\"_blank\">Click here for a list of all supported column names.</a></td></tr><tr><th>grantor2namemiddle</th><td style=\"background-color: lightpink\"><nobr>Unrecognized Column Name</nobr></td><td style=\"text-align: left\">This column name is not supported. <a href=\"https://demyst.com/docs/demyst-live/types/\" target=\"_blank\">Click here for a list of all supported column names.</a></td></tr><tr><th>grantor2namesuffix</th><td style=\"background-color: lightpink\"><nobr>Unrecognized Column Name</nobr></td><td style=\"text-align: left\">This column name is not supported. <a href=\"https://demyst.com/docs/demyst-live/types/\" target=\"_blank\">Click here for a list of all supported column names.</a></td></tr><tr><th>grantor3infoentityclassification</th><td style=\"background-color: lightpink\"><nobr>Unrecognized Column Name</nobr></td><td style=\"text-align: left\">This column name is not supported. <a href=\"https://demyst.com/docs/demyst-live/types/\" target=\"_blank\">Click here for a list of all supported column names.</a></td></tr><tr><th>grantor3namefirst</th><td style=\"background-color: lightpink\"><nobr>Unrecognized Column Name</nobr></td><td style=\"text-align: left\">This column name is not supported. <a href=\"https://demyst.com/docs/demyst-live/types/\" target=\"_blank\">Click here for a list of all supported column names.</a></td></tr><tr><th>grantor3namefull</th><td style=\"background-color: lightpink\"><nobr>Unrecognized Column Name</nobr></td><td style=\"text-align: left\">This column name is not supported. <a href=\"https://demyst.com/docs/demyst-live/types/\" target=\"_blank\">Click here for a list of all supported column names.</a></td></tr><tr><th>grantor3namelast</th><td style=\"background-color: lightpink\"><nobr>Unrecognized Column Name</nobr></td><td style=\"text-align: left\">This column name is not supported. <a href=\"https://demyst.com/docs/demyst-live/types/\" target=\"_blank\">Click here for a list of all supported column names.</a></td></tr><tr><th>grantor3namemiddle</th><td style=\"background-color: lightpink\"><nobr>Unrecognized Column Name</nobr></td><td style=\"text-align: left\">This column name is not supported. <a href=\"https://demyst.com/docs/demyst-live/types/\" target=\"_blank\">Click here for a list of all supported column names.</a></td></tr><tr><th>grantor3namesuffix</th><td style=\"background-color: lightpink\"><nobr>Unrecognized Column Name</nobr></td><td style=\"text-align: left\">This column name is not supported. <a href=\"https://demyst.com/docs/demyst-live/types/\" target=\"_blank\">Click here for a list of all supported column names.</a></td></tr><tr><th>grantor4infoentityclassification</th><td style=\"background-color: lightpink\"><nobr>Unrecognized Column Name</nobr></td><td style=\"text-align: left\">This column name is not supported. <a href=\"https://demyst.com/docs/demyst-live/types/\" target=\"_blank\">Click here for a list of all supported column names.</a></td></tr><tr><th>grantor4namefirst</th><td style=\"background-color: lightpink\"><nobr>Unrecognized Column Name</nobr></td><td style=\"text-align: left\">This column name is not supported. <a href=\"https://demyst.com/docs/demyst-live/types/\" target=\"_blank\">Click here for a list of all supported column names.</a></td></tr><tr><th>grantor4namefull</th><td style=\"background-color: lightpink\"><nobr>Unrecognized Column Name</nobr></td><td style=\"text-align: left\">This column name is not supported. <a href=\"https://demyst.com/docs/demyst-live/types/\" target=\"_blank\">Click here for a list of all supported column names.</a></td></tr><tr><th>grantor4namelast</th><td style=\"background-color: lightpink\"><nobr>Unrecognized Column Name</nobr></td><td style=\"text-align: left\">This column name is not supported. <a href=\"https://demyst.com/docs/demyst-live/types/\" target=\"_blank\">Click here for a list of all supported column names.</a></td></tr><tr><th>grantor4namemiddle</th><td style=\"background-color: lightpink\"><nobr>Unrecognized Column Name</nobr></td><td style=\"text-align: left\">This column name is not supported. <a href=\"https://demyst.com/docs/demyst-live/types/\" target=\"_blank\">Click here for a list of all supported column names.</a></td></tr><tr><th>grantor4namesuffix</th><td style=\"background-color: lightpink\"><nobr>Unrecognized Column Name</nobr></td><td style=\"text-align: left\">This column name is not supported. <a href=\"https://demyst.com/docs/demyst-live/types/\" target=\"_blank\">Click here for a list of all supported column names.</a></td></tr><tr><th>grantoraddresscity</th><td style=\"background-color: lightpink\"><nobr>Unrecognized Column Name</nobr></td><td style=\"text-align: left\">This column name is not supported. <a href=\"https://demyst.com/docs/demyst-live/types/\" target=\"_blank\">Click here for a list of all supported column names.</a></td></tr><tr><th>grantoraddresscrrt</th><td style=\"background-color: lightpink\"><nobr>Unrecognized Column Name</nobr></td><td style=\"text-align: left\">This column name is not supported. <a href=\"https://demyst.com/docs/demyst-live/types/\" target=\"_blank\">Click here for a list of all supported column names.</a></td></tr><tr><th>grantoraddressfull</th><td style=\"background-color: lightpink\"><nobr>Unrecognized Column Name</nobr></td><td style=\"text-align: left\">This column name is not supported. <a href=\"https://demyst.com/docs/demyst-live/types/\" target=\"_blank\">Click here for a list of all supported column names.</a></td></tr><tr><th>grantoraddresshousenumber</th><td style=\"background-color: lightpink\"><nobr>Unrecognized Column Name</nobr></td><td style=\"text-align: left\">This column name is not supported. <a href=\"https://demyst.com/docs/demyst-live/types/\" target=\"_blank\">Click here for a list of all supported column names.</a></td></tr><tr><th>grantoraddressinfoformat</th><td style=\"background-color: lightpink\"><nobr>Unrecognized Column Name</nobr></td><td style=\"text-align: left\">This column name is not supported. <a href=\"https://demyst.com/docs/demyst-live/types/\" target=\"_blank\">Click here for a list of all supported column names.</a></td></tr><tr><th>grantoraddressinfoprivacy</th><td style=\"background-color: lightpink\"><nobr>Unrecognized Column Name</nobr></td><td style=\"text-align: left\">This column name is not supported. <a href=\"https://demyst.com/docs/demyst-live/types/\" target=\"_blank\">Click here for a list of all supported column names.</a></td></tr><tr><th>grantoraddressstate</th><td style=\"background-color: lightpink\"><nobr>Unrecognized Column Name</nobr></td><td style=\"text-align: left\">This column name is not supported. <a href=\"https://demyst.com/docs/demyst-live/types/\" target=\"_blank\">Click here for a list of all supported column names.</a></td></tr><tr><th>grantoraddressstreetdirection</th><td style=\"background-color: lightpink\"><nobr>Unrecognized Column Name</nobr></td><td style=\"text-align: left\">This column name is not supported. <a href=\"https://demyst.com/docs/demyst-live/types/\" target=\"_blank\">Click here for a list of all supported column names.</a></td></tr><tr><th>grantoraddressstreetname</th><td style=\"background-color: lightpink\"><nobr>Unrecognized Column Name</nobr></td><td style=\"text-align: left\">This column name is not supported. <a href=\"https://demyst.com/docs/demyst-live/types/\" target=\"_blank\">Click here for a list of all supported column names.</a></td></tr><tr><th>grantoraddressstreetpostdirection</th><td style=\"background-color: lightpink\"><nobr>Unrecognized Column Name</nobr></td><td style=\"text-align: left\">This column name is not supported. <a href=\"https://demyst.com/docs/demyst-live/types/\" target=\"_blank\">Click here for a list of all supported column names.</a></td></tr><tr><th>grantoraddressstreetsuffix</th><td style=\"background-color: lightpink\"><nobr>Unrecognized Column Name</nobr></td><td style=\"text-align: left\">This column name is not supported. <a href=\"https://demyst.com/docs/demyst-live/types/\" target=\"_blank\">Click here for a list of all supported column names.</a></td></tr><tr><th>grantoraddressunitprefix</th><td style=\"background-color: lightpink\"><nobr>Unrecognized Column Name</nobr></td><td style=\"text-align: left\">This column name is not supported. <a href=\"https://demyst.com/docs/demyst-live/types/\" target=\"_blank\">Click here for a list of all supported column names.</a></td></tr><tr><th>grantoraddressunitvalue</th><td style=\"background-color: lightpink\"><nobr>Unrecognized Column Name</nobr></td><td style=\"text-align: left\">This column name is not supported. <a href=\"https://demyst.com/docs/demyst-live/types/\" target=\"_blank\">Click here for a list of all supported column names.</a></td></tr><tr><th>grantoraddresszip</th><td style=\"background-color: lightpink\"><nobr>Unrecognized Column Name</nobr></td><td style=\"text-align: left\">This column name is not supported. <a href=\"https://demyst.com/docs/demyst-live/types/\" target=\"_blank\">Click here for a list of all supported column names.</a></td></tr><tr><th>grantoraddresszip4</th><td style=\"background-color: lightpink\"><nobr>Unrecognized Column Name</nobr></td><td style=\"text-align: left\">This column name is not supported. <a href=\"https://demyst.com/docs/demyst-live/types/\" target=\"_blank\">Click here for a list of all supported column names.</a></td></tr><tr><th>instrumentdate</th><td style=\"background-color: lightpink\"><nobr>Unrecognized Column Name</nobr></td><td style=\"text-align: left\">This column name is not supported. <a href=\"https://demyst.com/docs/demyst-live/types/\" target=\"_blank\">Click here for a list of all supported column names.</a></td></tr><tr><th>instrumentnumber</th><td style=\"background-color: lightpink\"><nobr>Unrecognized Column Name</nobr></td><td style=\"text-align: left\">This column name is not supported. <a href=\"https://demyst.com/docs/demyst-live/types/\" target=\"_blank\">Click here for a list of all supported column names.</a></td></tr><tr><th>lastupdated</th><td style=\"background-color: lightpink\"><nobr>Unrecognized Column Name</nobr></td><td style=\"text-align: left\">This column name is not supported. <a href=\"https://demyst.com/docs/demyst-live/types/\" target=\"_blank\">Click here for a list of all supported column names.</a></td></tr><tr><th>legalblock</th><td style=\"background-color: lightpink\"><nobr>Unrecognized Column Name</nobr></td><td style=\"text-align: left\">This column name is not supported. <a href=\"https://demyst.com/docs/demyst-live/types/\" target=\"_blank\">Click here for a list of all supported column names.</a></td></tr><tr><th>legaldescriptionpart1</th><td style=\"background-color: lightpink\"><nobr>Unrecognized Column Name</nobr></td><td style=\"text-align: left\">This column name is not supported. <a href=\"https://demyst.com/docs/demyst-live/types/\" target=\"_blank\">Click here for a list of all supported column names.</a></td></tr><tr><th>legaldescriptionpart2</th><td style=\"background-color: lightpink\"><nobr>Unrecognized Column Name</nobr></td><td style=\"text-align: left\">This column name is not supported. <a href=\"https://demyst.com/docs/demyst-live/types/\" target=\"_blank\">Click here for a list of all supported column names.</a></td></tr><tr><th>legaldescriptionpart3</th><td style=\"background-color: lightpink\"><nobr>Unrecognized Column Name</nobr></td><td style=\"text-align: left\">This column name is not supported. <a href=\"https://demyst.com/docs/demyst-live/types/\" target=\"_blank\">Click here for a list of all supported column names.</a></td></tr><tr><th>legaldescriptionpart4</th><td style=\"background-color: lightpink\"><nobr>Unrecognized Column Name</nobr></td><td style=\"text-align: left\">This column name is not supported. <a href=\"https://demyst.com/docs/demyst-live/types/\" target=\"_blank\">Click here for a list of all supported column names.</a></td></tr><tr><th>legaldistrict</th><td style=\"background-color: lightpink\"><nobr>Unrecognized Column Name</nobr></td><td style=\"text-align: left\">This column name is not supported. <a href=\"https://demyst.com/docs/demyst-live/types/\" target=\"_blank\">Click here for a list of all supported column names.</a></td></tr><tr><th>legallot</th><td style=\"background-color: lightpink\"><nobr>Unrecognized Column Name</nobr></td><td style=\"text-align: left\">This column name is not supported. <a href=\"https://demyst.com/docs/demyst-live/types/\" target=\"_blank\">Click here for a list of all supported column names.</a></td></tr><tr><th>legalplatmapbook</th><td style=\"background-color: lightpink\"><nobr>Unrecognized Column Name</nobr></td><td style=\"text-align: left\">This column name is not supported. <a href=\"https://demyst.com/docs/demyst-live/types/\" target=\"_blank\">Click here for a list of all supported column names.</a></td></tr><tr><th>legalplatmappage</th><td style=\"background-color: lightpink\"><nobr>Unrecognized Column Name</nobr></td><td style=\"text-align: left\">This column name is not supported. <a href=\"https://demyst.com/docs/demyst-live/types/\" target=\"_blank\">Click here for a list of all supported column names.</a></td></tr><tr><th>legalrange</th><td style=\"background-color: lightpink\"><nobr>Unrecognized Column Name</nobr></td><td style=\"text-align: left\">This column name is not supported. <a href=\"https://demyst.com/docs/demyst-live/types/\" target=\"_blank\">Click here for a list of all supported column names.</a></td></tr><tr><th>legalsection</th><td style=\"background-color: lightpink\"><nobr>Unrecognized Column Name</nobr></td><td style=\"text-align: left\">This column name is not supported. <a href=\"https://demyst.com/docs/demyst-live/types/\" target=\"_blank\">Click here for a list of all supported column names.</a></td></tr><tr><th>legalsubdivision</th><td style=\"background-color: lightpink\"><nobr>Unrecognized Column Name</nobr></td><td style=\"text-align: left\">This column name is not supported. <a href=\"https://demyst.com/docs/demyst-live/types/\" target=\"_blank\">Click here for a list of all supported column names.</a></td></tr><tr><th>legaltownship</th><td style=\"background-color: lightpink\"><nobr>Unrecognized Column Name</nobr></td><td style=\"text-align: left\">This column name is not supported. <a href=\"https://demyst.com/docs/demyst-live/types/\" target=\"_blank\">Click here for a list of all supported column names.</a></td></tr><tr><th>legaltract</th><td style=\"background-color: lightpink\"><nobr>Unrecognized Column Name</nobr></td><td style=\"text-align: left\">This column name is not supported. <a href=\"https://demyst.com/docs/demyst-live/types/\" target=\"_blank\">Click here for a list of all supported column names.</a></td></tr><tr><th>legalunit</th><td style=\"background-color: lightpink\"><nobr>Unrecognized Column Name</nobr></td><td style=\"text-align: left\">This column name is not supported. <a href=\"https://demyst.com/docs/demyst-live/types/\" target=\"_blank\">Click here for a list of all supported column names.</a></td></tr><tr><th>mortgage1adjustablerateindex</th><td style=\"background-color: lightpink\"><nobr>Unrecognized Column Name</nobr></td><td style=\"text-align: left\">This column name is not supported. <a href=\"https://demyst.com/docs/demyst-live/types/\" target=\"_blank\">Click here for a list of all supported column names.</a></td></tr><tr><th>mortgage1amount</th><td style=\"background-color: lightpink\"><nobr>Unrecognized Column Name</nobr></td><td style=\"text-align: left\">This column name is not supported. <a href=\"https://demyst.com/docs/demyst-live/types/\" target=\"_blank\">Click here for a list of all supported column names.</a></td></tr><tr><th>mortgage1book</th><td style=\"background-color: lightpink\"><nobr>Unrecognized Column Name</nobr></td><td style=\"text-align: left\">This column name is not supported. <a href=\"https://demyst.com/docs/demyst-live/types/\" target=\"_blank\">Click here for a list of all supported column names.</a></td></tr><tr><th>mortgage1documentinforideradjustablerateflag</th><td style=\"background-color: lightpink\"><nobr>Unrecognized Column Name</nobr></td><td style=\"text-align: left\">This column name is not supported. <a href=\"https://demyst.com/docs/demyst-live/types/\" target=\"_blank\">Click here for a list of all supported column names.</a></td></tr><tr><th>mortgage1documentnumberformatted</th><td style=\"background-color: lightpink\"><nobr>Unrecognized Column Name</nobr></td><td style=\"text-align: left\">This column name is not supported. <a href=\"https://demyst.com/docs/demyst-live/types/\" target=\"_blank\">Click here for a list of all supported column names.</a></td></tr><tr><th>mortgage1documentnumberlegacy</th><td style=\"background-color: lightpink\"><nobr>Unrecognized Column Name</nobr></td><td style=\"text-align: left\">This column name is not supported. <a href=\"https://demyst.com/docs/demyst-live/types/\" target=\"_blank\">Click here for a list of all supported column names.</a></td></tr><tr><th>mortgage1fixedstepconversionrate</th><td style=\"background-color: lightpink\"><nobr>Unrecognized Column Name</nobr></td><td style=\"text-align: left\">This column name is not supported. <a href=\"https://demyst.com/docs/demyst-live/types/\" target=\"_blank\">Click here for a list of all supported column names.</a></td></tr><tr><th>mortgage1infointeresttypechangeday</th><td style=\"background-color: lightpink\"><nobr>Unrecognized Column Name</nobr></td><td style=\"text-align: left\">This column name is not supported. <a href=\"https://demyst.com/docs/demyst-live/types/\" target=\"_blank\">Click here for a list of all supported column names.</a></td></tr><tr><th>mortgage1infointeresttypechangemonth</th><td style=\"background-color: lightpink\"><nobr>Unrecognized Column Name</nobr></td><td style=\"text-align: left\">This column name is not supported. <a href=\"https://demyst.com/docs/demyst-live/types/\" target=\"_blank\">Click here for a list of all supported column names.</a></td></tr><tr><th>mortgage1infointeresttypechangeyear</th><td style=\"background-color: lightpink\"><nobr>Unrecognized Column Name</nobr></td><td style=\"text-align: left\">This column name is not supported. <a href=\"https://demyst.com/docs/demyst-live/types/\" target=\"_blank\">Click here for a list of all supported column names.</a></td></tr><tr><th>mortgage1infoprepaymentpenaltyflag</th><td style=\"background-color: lightpink\"><nobr>Unrecognized Column Name</nobr></td><td style=\"text-align: left\">This column name is not supported. <a href=\"https://demyst.com/docs/demyst-live/types/\" target=\"_blank\">Click here for a list of all supported column names.</a></td></tr><tr><th>mortgage1infoprepaymentterm</th><td style=\"background-color: lightpink\"><nobr>Unrecognized Column Name</nobr></td><td style=\"text-align: left\">This column name is not supported. <a href=\"https://demyst.com/docs/demyst-live/types/\" target=\"_blank\">Click here for a list of all supported column names.</a></td></tr><tr><th>mortgage1instrumentnumber</th><td style=\"background-color: lightpink\"><nobr>Unrecognized Column Name</nobr></td><td style=\"text-align: left\">This column name is not supported. <a href=\"https://demyst.com/docs/demyst-live/types/\" target=\"_blank\">Click here for a list of all supported column names.</a></td></tr><tr><th>mortgage1interestchangefrequency</th><td style=\"background-color: lightpink\"><nobr>Unrecognized Column Name</nobr></td><td style=\"text-align: left\">This column name is not supported. <a href=\"https://demyst.com/docs/demyst-live/types/\" target=\"_blank\">Click here for a list of all supported column names.</a></td></tr><tr><th>mortgage1interestindex</th><td style=\"background-color: lightpink\"><nobr>Unrecognized Column Name</nobr></td><td style=\"text-align: left\">This column name is not supported. <a href=\"https://demyst.com/docs/demyst-live/types/\" target=\"_blank\">Click here for a list of all supported column names.</a></td></tr><tr><th>mortgage1interestmargin</th><td style=\"background-color: lightpink\"><nobr>Unrecognized Column Name</nobr></td><td style=\"text-align: left\">This column name is not supported. <a href=\"https://demyst.com/docs/demyst-live/types/\" target=\"_blank\">Click here for a list of all supported column names.</a></td></tr><tr><th>mortgage1interestonlyflag</th><td style=\"background-color: lightpink\"><nobr>Unrecognized Column Name</nobr></td><td style=\"text-align: left\">This column name is not supported. <a href=\"https://demyst.com/docs/demyst-live/types/\" target=\"_blank\">Click here for a list of all supported column names.</a></td></tr><tr><th>mortgage1interestonlyperiod</th><td style=\"background-color: lightpink\"><nobr>Unrecognized Column Name</nobr></td><td style=\"text-align: left\">This column name is not supported. <a href=\"https://demyst.com/docs/demyst-live/types/\" target=\"_blank\">Click here for a list of all supported column names.</a></td></tr><tr><th>mortgage1interestrate</th><td style=\"background-color: lightpink\"><nobr>Unrecognized Column Name</nobr></td><td style=\"text-align: left\">This column name is not supported. <a href=\"https://demyst.com/docs/demyst-live/types/\" target=\"_blank\">Click here for a list of all supported column names.</a></td></tr><tr><th>mortgage1interestratemax</th><td style=\"background-color: lightpink\"><nobr>Unrecognized Column Name</nobr></td><td style=\"text-align: left\">This column name is not supported. <a href=\"https://demyst.com/docs/demyst-live/types/\" target=\"_blank\">Click here for a list of all supported column names.</a></td></tr><tr><th>mortgage1interestratemaxfirstchangerateconversion</th><td style=\"background-color: lightpink\"><nobr>Unrecognized Column Name</nobr></td><td style=\"text-align: left\">This column name is not supported. <a href=\"https://demyst.com/docs/demyst-live/types/\" target=\"_blank\">Click here for a list of all supported column names.</a></td></tr><tr><th>mortgage1interestrateminfirstchangerateconversion</th><td style=\"background-color: lightpink\"><nobr>Unrecognized Column Name</nobr></td><td style=\"text-align: left\">This column name is not supported. <a href=\"https://demyst.com/docs/demyst-live/types/\" target=\"_blank\">Click here for a list of all supported column names.</a></td></tr><tr><th>mortgage1interestratetype</th><td style=\"background-color: lightpink\"><nobr>Unrecognized Column Name</nobr></td><td style=\"text-align: left\">This column name is not supported. <a href=\"https://demyst.com/docs/demyst-live/types/\" target=\"_blank\">Click here for a list of all supported column names.</a></td></tr><tr><th>mortgage1interesttypeinitial</th><td style=\"background-color: lightpink\"><nobr>Unrecognized Column Name</nobr></td><td style=\"text-align: left\">This column name is not supported. <a href=\"https://demyst.com/docs/demyst-live/types/\" target=\"_blank\">Click here for a list of all supported column names.</a></td></tr><tr><th>mortgage1lenderaddress</th><td style=\"background-color: lightpink\"><nobr>Unrecognized Column Name</nobr></td><td style=\"text-align: left\">This column name is not supported. <a href=\"https://demyst.com/docs/demyst-live/types/\" target=\"_blank\">Click here for a list of all supported column names.</a></td></tr><tr><th>mortgage1lenderaddresscity</th><td style=\"background-color: lightpink\"><nobr>Unrecognized Column Name</nobr></td><td style=\"text-align: left\">This column name is not supported. <a href=\"https://demyst.com/docs/demyst-live/types/\" target=\"_blank\">Click here for a list of all supported column names.</a></td></tr><tr><th>mortgage1lenderaddressstate</th><td style=\"background-color: lightpink\"><nobr>Unrecognized Column Name</nobr></td><td style=\"text-align: left\">This column name is not supported. <a href=\"https://demyst.com/docs/demyst-live/types/\" target=\"_blank\">Click here for a list of all supported column names.</a></td></tr><tr><th>mortgage1lenderaddresszip</th><td style=\"background-color: lightpink\"><nobr>Unrecognized Column Name</nobr></td><td style=\"text-align: left\">This column name is not supported. <a href=\"https://demyst.com/docs/demyst-live/types/\" target=\"_blank\">Click here for a list of all supported column names.</a></td></tr><tr><th>mortgage1lenderaddresszip4</th><td style=\"background-color: lightpink\"><nobr>Unrecognized Column Name</nobr></td><td style=\"text-align: left\">This column name is not supported. <a href=\"https://demyst.com/docs/demyst-live/types/\" target=\"_blank\">Click here for a list of all supported column names.</a></td></tr><tr><th>mortgage1lendercode</th><td style=\"background-color: lightpink\"><nobr>Unrecognized Column Name</nobr></td><td style=\"text-align: left\">This column name is not supported. <a href=\"https://demyst.com/docs/demyst-live/types/\" target=\"_blank\">Click here for a list of all supported column names.</a></td></tr><tr><th>mortgage1lenderinfoentityclassification</th><td style=\"background-color: lightpink\"><nobr>Unrecognized Column Name</nobr></td><td style=\"text-align: left\">This column name is not supported. <a href=\"https://demyst.com/docs/demyst-live/types/\" target=\"_blank\">Click here for a list of all supported column names.</a></td></tr><tr><th>mortgage1lenderinfosellercarrybackflag</th><td style=\"background-color: lightpink\"><nobr>Unrecognized Column Name</nobr></td><td style=\"text-align: left\">This column name is not supported. <a href=\"https://demyst.com/docs/demyst-live/types/\" target=\"_blank\">Click here for a list of all supported column names.</a></td></tr><tr><th>mortgage1lendernamefirst</th><td style=\"background-color: lightpink\"><nobr>Unrecognized Column Name</nobr></td><td style=\"text-align: left\">This column name is not supported. <a href=\"https://demyst.com/docs/demyst-live/types/\" target=\"_blank\">Click here for a list of all supported column names.</a></td></tr><tr><th>mortgage1lendernamefullstandardized</th><td style=\"background-color: lightpink\"><nobr>Unrecognized Column Name</nobr></td><td style=\"text-align: left\">This column name is not supported. <a href=\"https://demyst.com/docs/demyst-live/types/\" target=\"_blank\">Click here for a list of all supported column names.</a></td></tr><tr><th>mortgage1lendernamelast</th><td style=\"background-color: lightpink\"><nobr>Unrecognized Column Name</nobr></td><td style=\"text-align: left\">This column name is not supported. <a href=\"https://demyst.com/docs/demyst-live/types/\" target=\"_blank\">Click here for a list of all supported column names.</a></td></tr><tr><th>mortgage1page</th><td style=\"background-color: lightpink\"><nobr>Unrecognized Column Name</nobr></td><td style=\"text-align: left\">This column name is not supported. <a href=\"https://demyst.com/docs/demyst-live/types/\" target=\"_blank\">Click here for a list of all supported column names.</a></td></tr><tr><th>mortgage1recordingdate</th><td style=\"background-color: lightpink\"><nobr>Unrecognized Column Name</nobr></td><td style=\"text-align: left\">This column name is not supported. <a href=\"https://demyst.com/docs/demyst-live/types/\" target=\"_blank\">Click here for a list of all supported column names.</a></td></tr><tr><th>mortgage1term</th><td style=\"background-color: lightpink\"><nobr>Unrecognized Column Name</nobr></td><td style=\"text-align: left\">This column name is not supported. <a href=\"https://demyst.com/docs/demyst-live/types/\" target=\"_blank\">Click here for a list of all supported column names.</a></td></tr><tr><th>mortgage1termdate</th><td style=\"background-color: lightpink\"><nobr>Unrecognized Column Name</nobr></td><td style=\"text-align: left\">This column name is not supported. <a href=\"https://demyst.com/docs/demyst-live/types/\" target=\"_blank\">Click here for a list of all supported column names.</a></td></tr><tr><th>mortgage1termtype</th><td style=\"background-color: lightpink\"><nobr>Unrecognized Column Name</nobr></td><td style=\"text-align: left\">This column name is not supported. <a href=\"https://demyst.com/docs/demyst-live/types/\" target=\"_blank\">Click here for a list of all supported column names.</a></td></tr><tr><th>mortgage1type</th><td style=\"background-color: lightpink\"><nobr>Unrecognized Column Name</nobr></td><td style=\"text-align: left\">This column name is not supported. <a href=\"https://demyst.com/docs/demyst-live/types/\" target=\"_blank\">Click here for a list of all supported column names.</a></td></tr><tr><th>mortgage2adjustablerateindex</th><td style=\"background-color: lightpink\"><nobr>Unrecognized Column Name</nobr></td><td style=\"text-align: left\">This column name is not supported. <a href=\"https://demyst.com/docs/demyst-live/types/\" target=\"_blank\">Click here for a list of all supported column names.</a></td></tr><tr><th>mortgage2amount</th><td style=\"background-color: lightpink\"><nobr>Unrecognized Column Name</nobr></td><td style=\"text-align: left\">This column name is not supported. <a href=\"https://demyst.com/docs/demyst-live/types/\" target=\"_blank\">Click here for a list of all supported column names.</a></td></tr><tr><th>mortgage2book</th><td style=\"background-color: lightpink\"><nobr>Unrecognized Column Name</nobr></td><td style=\"text-align: left\">This column name is not supported. <a href=\"https://demyst.com/docs/demyst-live/types/\" target=\"_blank\">Click here for a list of all supported column names.</a></td></tr><tr><th>mortgage2documentinforideradjustablerateflag</th><td style=\"background-color: lightpink\"><nobr>Unrecognized Column Name</nobr></td><td style=\"text-align: left\">This column name is not supported. <a href=\"https://demyst.com/docs/demyst-live/types/\" target=\"_blank\">Click here for a list of all supported column names.</a></td></tr><tr><th>mortgage2documentnumberformatted</th><td style=\"background-color: lightpink\"><nobr>Unrecognized Column Name</nobr></td><td style=\"text-align: left\">This column name is not supported. <a href=\"https://demyst.com/docs/demyst-live/types/\" target=\"_blank\">Click here for a list of all supported column names.</a></td></tr><tr><th>mortgage2documentnumberlegacy</th><td style=\"background-color: lightpink\"><nobr>Unrecognized Column Name</nobr></td><td style=\"text-align: left\">This column name is not supported. <a href=\"https://demyst.com/docs/demyst-live/types/\" target=\"_blank\">Click here for a list of all supported column names.</a></td></tr><tr><th>mortgage2fixedstepconversionrate</th><td style=\"background-color: lightpink\"><nobr>Unrecognized Column Name</nobr></td><td style=\"text-align: left\">This column name is not supported. <a href=\"https://demyst.com/docs/demyst-live/types/\" target=\"_blank\">Click here for a list of all supported column names.</a></td></tr><tr><th>mortgage2infointeresttypechangeday</th><td style=\"background-color: lightpink\"><nobr>Unrecognized Column Name</nobr></td><td style=\"text-align: left\">This column name is not supported. <a href=\"https://demyst.com/docs/demyst-live/types/\" target=\"_blank\">Click here for a list of all supported column names.</a></td></tr><tr><th>mortgage2infointeresttypechangemonth</th><td style=\"background-color: lightpink\"><nobr>Unrecognized Column Name</nobr></td><td style=\"text-align: left\">This column name is not supported. <a href=\"https://demyst.com/docs/demyst-live/types/\" target=\"_blank\">Click here for a list of all supported column names.</a></td></tr><tr><th>mortgage2infointeresttypechangeyear</th><td style=\"background-color: lightpink\"><nobr>Unrecognized Column Name</nobr></td><td style=\"text-align: left\">This column name is not supported. <a href=\"https://demyst.com/docs/demyst-live/types/\" target=\"_blank\">Click here for a list of all supported column names.</a></td></tr><tr><th>mortgage2infoprepaymentpenaltyflag</th><td style=\"background-color: lightpink\"><nobr>Unrecognized Column Name</nobr></td><td style=\"text-align: left\">This column name is not supported. <a href=\"https://demyst.com/docs/demyst-live/types/\" target=\"_blank\">Click here for a list of all supported column names.</a></td></tr><tr><th>mortgage2infoprepaymentterm</th><td style=\"background-color: lightpink\"><nobr>Unrecognized Column Name</nobr></td><td style=\"text-align: left\">This column name is not supported. <a href=\"https://demyst.com/docs/demyst-live/types/\" target=\"_blank\">Click here for a list of all supported column names.</a></td></tr><tr><th>mortgage2instrumentnumber</th><td style=\"background-color: lightpink\"><nobr>Unrecognized Column Name</nobr></td><td style=\"text-align: left\">This column name is not supported. <a href=\"https://demyst.com/docs/demyst-live/types/\" target=\"_blank\">Click here for a list of all supported column names.</a></td></tr><tr><th>mortgage2interestchangefrequency</th><td style=\"background-color: lightpink\"><nobr>Unrecognized Column Name</nobr></td><td style=\"text-align: left\">This column name is not supported. <a href=\"https://demyst.com/docs/demyst-live/types/\" target=\"_blank\">Click here for a list of all supported column names.</a></td></tr><tr><th>mortgage2interestindex</th><td style=\"background-color: lightpink\"><nobr>Unrecognized Column Name</nobr></td><td style=\"text-align: left\">This column name is not supported. <a href=\"https://demyst.com/docs/demyst-live/types/\" target=\"_blank\">Click here for a list of all supported column names.</a></td></tr><tr><th>mortgage2interestmargin</th><td style=\"background-color: lightpink\"><nobr>Unrecognized Column Name</nobr></td><td style=\"text-align: left\">This column name is not supported. <a href=\"https://demyst.com/docs/demyst-live/types/\" target=\"_blank\">Click here for a list of all supported column names.</a></td></tr><tr><th>mortgage2interestonlyflag</th><td style=\"background-color: lightpink\"><nobr>Unrecognized Column Name</nobr></td><td style=\"text-align: left\">This column name is not supported. <a href=\"https://demyst.com/docs/demyst-live/types/\" target=\"_blank\">Click here for a list of all supported column names.</a></td></tr><tr><th>mortgage2interestonlyperiod</th><td style=\"background-color: lightpink\"><nobr>Unrecognized Column Name</nobr></td><td style=\"text-align: left\">This column name is not supported. <a href=\"https://demyst.com/docs/demyst-live/types/\" target=\"_blank\">Click here for a list of all supported column names.</a></td></tr><tr><th>mortgage2interestrate</th><td style=\"background-color: lightpink\"><nobr>Unrecognized Column Name</nobr></td><td style=\"text-align: left\">This column name is not supported. <a href=\"https://demyst.com/docs/demyst-live/types/\" target=\"_blank\">Click here for a list of all supported column names.</a></td></tr><tr><th>mortgage2interestratemax</th><td style=\"background-color: lightpink\"><nobr>Unrecognized Column Name</nobr></td><td style=\"text-align: left\">This column name is not supported. <a href=\"https://demyst.com/docs/demyst-live/types/\" target=\"_blank\">Click here for a list of all supported column names.</a></td></tr><tr><th>mortgage2interestratemaxfirstchangerateconversion</th><td style=\"background-color: lightpink\"><nobr>Unrecognized Column Name</nobr></td><td style=\"text-align: left\">This column name is not supported. <a href=\"https://demyst.com/docs/demyst-live/types/\" target=\"_blank\">Click here for a list of all supported column names.</a></td></tr><tr><th>mortgage2interestrateminfirstchangerateconversion</th><td style=\"background-color: lightpink\"><nobr>Unrecognized Column Name</nobr></td><td style=\"text-align: left\">This column name is not supported. <a href=\"https://demyst.com/docs/demyst-live/types/\" target=\"_blank\">Click here for a list of all supported column names.</a></td></tr><tr><th>mortgage2interestratetype</th><td style=\"background-color: lightpink\"><nobr>Unrecognized Column Name</nobr></td><td style=\"text-align: left\">This column name is not supported. <a href=\"https://demyst.com/docs/demyst-live/types/\" target=\"_blank\">Click here for a list of all supported column names.</a></td></tr><tr><th>mortgage2interesttypeinitial</th><td style=\"background-color: lightpink\"><nobr>Unrecognized Column Name</nobr></td><td style=\"text-align: left\">This column name is not supported. <a href=\"https://demyst.com/docs/demyst-live/types/\" target=\"_blank\">Click here for a list of all supported column names.</a></td></tr><tr><th>mortgage2lenderaddress</th><td style=\"background-color: lightpink\"><nobr>Unrecognized Column Name</nobr></td><td style=\"text-align: left\">This column name is not supported. <a href=\"https://demyst.com/docs/demyst-live/types/\" target=\"_blank\">Click here for a list of all supported column names.</a></td></tr><tr><th>mortgage2lenderaddresscity</th><td style=\"background-color: lightpink\"><nobr>Unrecognized Column Name</nobr></td><td style=\"text-align: left\">This column name is not supported. <a href=\"https://demyst.com/docs/demyst-live/types/\" target=\"_blank\">Click here for a list of all supported column names.</a></td></tr><tr><th>mortgage2lenderaddressstate</th><td style=\"background-color: lightpink\"><nobr>Unrecognized Column Name</nobr></td><td style=\"text-align: left\">This column name is not supported. <a href=\"https://demyst.com/docs/demyst-live/types/\" target=\"_blank\">Click here for a list of all supported column names.</a></td></tr><tr><th>mortgage2lenderaddresszip</th><td style=\"background-color: lightpink\"><nobr>Unrecognized Column Name</nobr></td><td style=\"text-align: left\">This column name is not supported. <a href=\"https://demyst.com/docs/demyst-live/types/\" target=\"_blank\">Click here for a list of all supported column names.</a></td></tr><tr><th>mortgage2lenderaddresszip4</th><td style=\"background-color: lightpink\"><nobr>Unrecognized Column Name</nobr></td><td style=\"text-align: left\">This column name is not supported. <a href=\"https://demyst.com/docs/demyst-live/types/\" target=\"_blank\">Click here for a list of all supported column names.</a></td></tr><tr><th>mortgage2lendercode</th><td style=\"background-color: lightpink\"><nobr>Unrecognized Column Name</nobr></td><td style=\"text-align: left\">This column name is not supported. <a href=\"https://demyst.com/docs/demyst-live/types/\" target=\"_blank\">Click here for a list of all supported column names.</a></td></tr><tr><th>mortgage2lenderinfoentityclassification</th><td style=\"background-color: lightpink\"><nobr>Unrecognized Column Name</nobr></td><td style=\"text-align: left\">This column name is not supported. <a href=\"https://demyst.com/docs/demyst-live/types/\" target=\"_blank\">Click here for a list of all supported column names.</a></td></tr><tr><th>mortgage2lenderinfosellercarrybackflag</th><td style=\"background-color: lightpink\"><nobr>Unrecognized Column Name</nobr></td><td style=\"text-align: left\">This column name is not supported. <a href=\"https://demyst.com/docs/demyst-live/types/\" target=\"_blank\">Click here for a list of all supported column names.</a></td></tr><tr><th>mortgage2lendernamefirst</th><td style=\"background-color: lightpink\"><nobr>Unrecognized Column Name</nobr></td><td style=\"text-align: left\">This column name is not supported. <a href=\"https://demyst.com/docs/demyst-live/types/\" target=\"_blank\">Click here for a list of all supported column names.</a></td></tr><tr><th>mortgage2lendernamefullstandardized</th><td style=\"background-color: lightpink\"><nobr>Unrecognized Column Name</nobr></td><td style=\"text-align: left\">This column name is not supported. <a href=\"https://demyst.com/docs/demyst-live/types/\" target=\"_blank\">Click here for a list of all supported column names.</a></td></tr><tr><th>mortgage2lendernamelast</th><td style=\"background-color: lightpink\"><nobr>Unrecognized Column Name</nobr></td><td style=\"text-align: left\">This column name is not supported. <a href=\"https://demyst.com/docs/demyst-live/types/\" target=\"_blank\">Click here for a list of all supported column names.</a></td></tr><tr><th>mortgage2page</th><td style=\"background-color: lightpink\"><nobr>Unrecognized Column Name</nobr></td><td style=\"text-align: left\">This column name is not supported. <a href=\"https://demyst.com/docs/demyst-live/types/\" target=\"_blank\">Click here for a list of all supported column names.</a></td></tr><tr><th>mortgage2recordingdate</th><td style=\"background-color: lightpink\"><nobr>Unrecognized Column Name</nobr></td><td style=\"text-align: left\">This column name is not supported. <a href=\"https://demyst.com/docs/demyst-live/types/\" target=\"_blank\">Click here for a list of all supported column names.</a></td></tr><tr><th>mortgage2term</th><td style=\"background-color: lightpink\"><nobr>Unrecognized Column Name</nobr></td><td style=\"text-align: left\">This column name is not supported. <a href=\"https://demyst.com/docs/demyst-live/types/\" target=\"_blank\">Click here for a list of all supported column names.</a></td></tr><tr><th>mortgage2termdate</th><td style=\"background-color: lightpink\"><nobr>Unrecognized Column Name</nobr></td><td style=\"text-align: left\">This column name is not supported. <a href=\"https://demyst.com/docs/demyst-live/types/\" target=\"_blank\">Click here for a list of all supported column names.</a></td></tr><tr><th>mortgage2termtype</th><td style=\"background-color: lightpink\"><nobr>Unrecognized Column Name</nobr></td><td style=\"text-align: left\">This column name is not supported. <a href=\"https://demyst.com/docs/demyst-live/types/\" target=\"_blank\">Click here for a list of all supported column names.</a></td></tr><tr><th>mortgage2type</th><td style=\"background-color: lightpink\"><nobr>Unrecognized Column Name</nobr></td><td style=\"text-align: left\">This column name is not supported. <a href=\"https://demyst.com/docs/demyst-live/types/\" target=\"_blank\">Click here for a list of all supported column names.</a></td></tr><tr><th>page</th><td style=\"background-color: lightpink\"><nobr>Unrecognized Column Name</nobr></td><td style=\"text-align: left\">This column name is not supported. <a href=\"https://demyst.com/docs/demyst-live/types/\" target=\"_blank\">Click here for a list of all supported column names.</a></td></tr><tr><th>partialinterest</th><td style=\"background-color: lightpink\"><nobr>Unrecognized Column Name</nobr></td><td style=\"text-align: left\">This column name is not supported. <a href=\"https://demyst.com/docs/demyst-live/types/\" target=\"_blank\">Click here for a list of all supported column names.</a></td></tr><tr><th>propertyaddresscity</th><td style=\"background-color: lightpink\"><nobr>Unrecognized Column Name</nobr></td><td style=\"text-align: left\">This column name is not supported. <a href=\"https://demyst.com/docs/demyst-live/types/\" target=\"_blank\">Click here for a list of all supported column names.</a></td></tr><tr><th>propertyaddresscrrt</th><td style=\"background-color: lightpink\"><nobr>Unrecognized Column Name</nobr></td><td style=\"text-align: left\">This column name is not supported. <a href=\"https://demyst.com/docs/demyst-live/types/\" target=\"_blank\">Click here for a list of all supported column names.</a></td></tr><tr><th>propertyaddressfull</th><td style=\"background-color: lightpink\"><nobr>Unrecognized Column Name</nobr></td><td style=\"text-align: left\">This column name is not supported. <a href=\"https://demyst.com/docs/demyst-live/types/\" target=\"_blank\">Click here for a list of all supported column names.</a></td></tr><tr><th>propertyaddresshousenumber</th><td style=\"background-color: lightpink\"><nobr>Unrecognized Column Name</nobr></td><td style=\"text-align: left\">This column name is not supported. <a href=\"https://demyst.com/docs/demyst-live/types/\" target=\"_blank\">Click here for a list of all supported column names.</a></td></tr><tr><th>propertyaddressinfoformat</th><td style=\"background-color: lightpink\"><nobr>Unrecognized Column Name</nobr></td><td style=\"text-align: left\">This column name is not supported. <a href=\"https://demyst.com/docs/demyst-live/types/\" target=\"_blank\">Click here for a list of all supported column names.</a></td></tr><tr><th>propertyaddressinfoprivacy</th><td style=\"background-color: lightpink\"><nobr>Unrecognized Column Name</nobr></td><td style=\"text-align: left\">This column name is not supported. <a href=\"https://demyst.com/docs/demyst-live/types/\" target=\"_blank\">Click here for a list of all supported column names.</a></td></tr><tr><th>propertyaddressstate</th><td style=\"background-color: lightgreen\"><nobr>All Valid</nobr></td><td style=\"text-align: left\">All values in this column are good to go.</td></tr><tr><th>propertyaddressstreetdirection</th><td style=\"background-color: lightpink\"><nobr>Unrecognized Column Name</nobr></td><td style=\"text-align: left\">This column name is not supported. <a href=\"https://demyst.com/docs/demyst-live/types/\" target=\"_blank\">Click here for a list of all supported column names.</a></td></tr><tr><th>propertyaddressstreetname</th><td style=\"background-color: lightpink\"><nobr>Unrecognized Column Name</nobr></td><td style=\"text-align: left\">This column name is not supported. <a href=\"https://demyst.com/docs/demyst-live/types/\" target=\"_blank\">Click here for a list of all supported column names.</a></td></tr><tr><th>propertyaddressstreetpostdirection</th><td style=\"background-color: lightpink\"><nobr>Unrecognized Column Name</nobr></td><td style=\"text-align: left\">This column name is not supported. <a href=\"https://demyst.com/docs/demyst-live/types/\" target=\"_blank\">Click here for a list of all supported column names.</a></td></tr><tr><th>propertyaddressstreetsuffix</th><td style=\"background-color: lightpink\"><nobr>Unrecognized Column Name</nobr></td><td style=\"text-align: left\">This column name is not supported. <a href=\"https://demyst.com/docs/demyst-live/types/\" target=\"_blank\">Click here for a list of all supported column names.</a></td></tr><tr><th>propertyaddressunitprefix</th><td style=\"background-color: lightpink\"><nobr>Unrecognized Column Name</nobr></td><td style=\"text-align: left\">This column name is not supported. <a href=\"https://demyst.com/docs/demyst-live/types/\" target=\"_blank\">Click here for a list of all supported column names.</a></td></tr><tr><th>propertyaddressunitvalue</th><td style=\"background-color: lightpink\"><nobr>Unrecognized Column Name</nobr></td><td style=\"text-align: left\">This column name is not supported. <a href=\"https://demyst.com/docs/demyst-live/types/\" target=\"_blank\">Click here for a list of all supported column names.</a></td></tr><tr><th>propertyaddresszip</th><td style=\"background-color: lightpink\"><nobr>Unrecognized Column Name</nobr></td><td style=\"text-align: left\">This column name is not supported. <a href=\"https://demyst.com/docs/demyst-live/types/\" target=\"_blank\">Click here for a list of all supported column names.</a></td></tr><tr><th>propertyaddresszip4</th><td style=\"background-color: lightpink\"><nobr>Unrecognized Column Name</nobr></td><td style=\"text-align: left\">This column name is not supported. <a href=\"https://demyst.com/docs/demyst-live/types/\" target=\"_blank\">Click here for a list of all supported column names.</a></td></tr><tr><th>propertyusegroup</th><td style=\"background-color: lightpink\"><nobr>Unrecognized Column Name</nobr></td><td style=\"text-align: left\">This column name is not supported. <a href=\"https://demyst.com/docs/demyst-live/types/\" target=\"_blank\">Click here for a list of all supported column names.</a></td></tr><tr><th>propertyusestandardized</th><td style=\"background-color: lightpink\"><nobr>Unrecognized Column Name</nobr></td><td style=\"text-align: left\">This column name is not supported. <a href=\"https://demyst.com/docs/demyst-live/types/\" target=\"_blank\">Click here for a list of all supported column names.</a></td></tr><tr><th>publicationdate</th><td style=\"background-color: lightpink\"><nobr>Unrecognized Column Name</nobr></td><td style=\"text-align: left\">This column name is not supported. <a href=\"https://demyst.com/docs/demyst-live/types/\" target=\"_blank\">Click here for a list of all supported column names.</a></td></tr><tr><th>quitclaimflag</th><td style=\"background-color: lightpink\"><nobr>Unrecognized Column Name</nobr></td><td style=\"text-align: left\">This column name is not supported. <a href=\"https://demyst.com/docs/demyst-live/types/\" target=\"_blank\">Click here for a list of all supported column names.</a></td></tr><tr><th>recordermapreference</th><td style=\"background-color: lightpink\"><nobr>Unrecognized Column Name</nobr></td><td style=\"text-align: left\">This column name is not supported. <a href=\"https://demyst.com/docs/demyst-live/types/\" target=\"_blank\">Click here for a list of all supported column names.</a></td></tr><tr><th>recordingdate</th><td style=\"background-color: lightpink\"><nobr>Unrecognized Column Name</nobr></td><td style=\"text-align: left\">This column name is not supported. <a href=\"https://demyst.com/docs/demyst-live/types/\" target=\"_blank\">Click here for a list of all supported column names.</a></td></tr><tr><th>titlecompanyraw</th><td style=\"background-color: lightpink\"><nobr>Unrecognized Column Name</nobr></td><td style=\"text-align: left\">This column name is not supported. <a href=\"https://demyst.com/docs/demyst-live/types/\" target=\"_blank\">Click here for a list of all supported column names.</a></td></tr><tr><th>titlecompanystandardizedcode</th><td style=\"background-color: lightpink\"><nobr>Unrecognized Column Name</nobr></td><td style=\"text-align: left\">This column name is not supported. <a href=\"https://demyst.com/docs/demyst-live/types/\" target=\"_blank\">Click here for a list of all supported column names.</a></td></tr><tr><th>titlecompanystandardizedname</th><td style=\"background-color: lightpink\"><nobr>Unrecognized Column Name</nobr></td><td style=\"text-align: left\">This column name is not supported. <a href=\"https://demyst.com/docs/demyst-live/types/\" target=\"_blank\">Click here for a list of all supported column names.</a></td></tr><tr><th>transactionid</th><td style=\"background-color: lightpink\"><nobr>Not a String Column</nobr></td><td style=\"text-align: left\">You must convert this column to string type.</td></tr><tr><th>transactiontype</th><td style=\"background-color: lightpink\"><nobr>Unrecognized Column Name</nobr></td><td style=\"text-align: left\">This column name is not supported. <a href=\"https://demyst.com/docs/demyst-live/types/\" target=\"_blank\">Click here for a list of all supported column names.</a></td></tr><tr><th>transferamount</th><td style=\"background-color: lightpink\"><nobr>Unrecognized Column Name</nobr></td><td style=\"text-align: left\">This column name is not supported. <a href=\"https://demyst.com/docs/demyst-live/types/\" target=\"_blank\">Click here for a list of all supported column names.</a></td></tr><tr><th>transferamountinfoaccuracy</th><td style=\"background-color: lightpink\"><nobr>Unrecognized Column Name</nobr></td><td style=\"text-align: left\">This column name is not supported. <a href=\"https://demyst.com/docs/demyst-live/types/\" target=\"_blank\">Click here for a list of all supported column names.</a></td></tr><tr><th>transferinfodistresscircumstancecode</th><td style=\"background-color: lightpink\"><nobr>Unrecognized Column Name</nobr></td><td style=\"text-align: left\">This column name is not supported. <a href=\"https://demyst.com/docs/demyst-live/types/\" target=\"_blank\">Click here for a list of all supported column names.</a></td></tr><tr><th>transferinfomultiparcelflag</th><td style=\"background-color: lightpink\"><nobr>Unrecognized Column Name</nobr></td><td style=\"text-align: left\">This column name is not supported. <a href=\"https://demyst.com/docs/demyst-live/types/\" target=\"_blank\">Click here for a list of all supported column names.</a></td></tr><tr><th>transferinfopurchasedownpayment</th><td style=\"background-color: lightpink\"><nobr>Unrecognized Column Name</nobr></td><td style=\"text-align: left\">This column name is not supported. <a href=\"https://demyst.com/docs/demyst-live/types/\" target=\"_blank\">Click here for a list of all supported column names.</a></td></tr><tr><th>transferinfopurchaseloantovalue</th><td style=\"background-color: lightpink\"><nobr>Unrecognized Column Name</nobr></td><td style=\"text-align: left\">This column name is not supported. <a href=\"https://demyst.com/docs/demyst-live/types/\" target=\"_blank\">Click here for a list of all supported column names.</a></td></tr><tr><th>transferinfopurchasetypecode</th><td style=\"background-color: lightpink\"><nobr>Unrecognized Column Name</nobr></td><td style=\"text-align: left\">This column name is not supported. <a href=\"https://demyst.com/docs/demyst-live/types/\" target=\"_blank\">Click here for a list of all supported column names.</a></td></tr><tr><th>transfertaxcity</th><td style=\"background-color: lightpink\"><nobr>Unrecognized Column Name</nobr></td><td style=\"text-align: left\">This column name is not supported. <a href=\"https://demyst.com/docs/demyst-live/types/\" target=\"_blank\">Click here for a list of all supported column names.</a></td></tr><tr><th>transfertaxcounty</th><td style=\"background-color: lightpink\"><nobr>Unrecognized Column Name</nobr></td><td style=\"text-align: left\">This column name is not supported. <a href=\"https://demyst.com/docs/demyst-live/types/\" target=\"_blank\">Click here for a list of all supported column names.</a></td></tr><tr><th>transfertaxtotal</th><td style=\"background-color: lightpink\"><nobr>Unrecognized Column Name</nobr></td><td style=\"text-align: left\">This column name is not supported. <a href=\"https://demyst.com/docs/demyst-live/types/\" target=\"_blank\">Click here for a list of all supported column names.</a></td></tr><tr><th>error</th><td style=\"background-color: lightpink\"><nobr>Unrecognized Column Name</nobr></td><td style=\"text-align: left\">This column name is not supported. <a href=\"https://demyst.com/docs/demyst-live/types/\" target=\"_blank\">Click here for a list of all supported column names.</a></td></tr></table>"
      ],
      "text/plain": [
       "<demyst.analytics.analytics.Validation at 0x17a39bcc0>"
      ]
     },
     "execution_count": 545,
     "metadata": {},
     "output_type": "execute_result"
    }
   ],
   "source": [
    "# we replace the 'attom_recorder' part of the name from the enriched 'recorder_df' dataframe\n",
    "recorder_df = clean_avm(results3, 'attom_recorder')\n",
    "analytics.validate(results3)"
   ]
  },
  {
   "cell_type": "markdown",
   "metadata": {},
   "source": [
    "Now that we have downloaded the full list of products into one large dataframe (full_df), we can perform the same\n",
    "process of removing replacing whitespace with 'nans', droping duplicates, etc"
   ]
  },
  {
   "cell_type": "code",
   "execution_count": 571,
   "metadata": {},
   "outputs": [
    {
     "name": "stdout",
     "output_type": "stream",
     "text": [
      "(8904, 709)\n",
      "(8904, 653)\n"
     ]
    }
   ],
   "source": [
    "full_df = pd.concat([recorder_df, *prod_dict_3.values()],axis=1)\n",
    "print(full_df.shape)\n",
    "# sub in pure whitespace with 'nans'\n",
    "full_df.replace(r'^\\s*$', np.nan, regex=True, inplace=True)\n",
    "# drop only if all colls have 'nans' present\n",
    "full_df.dropna(how='all', axis=1, inplace=True)\n",
    "# remove full duplicated data points\n",
    "full_df.drop_duplicates(inplace=True)\n",
    "full_df.columns = full_df.columns.str.replace('inputs.', '').str.replace(str('attom_avm')+'.', '')\n",
    "print(full_df.shape)"
   ]
  },
  {
   "cell_type": "code",
   "execution_count": 575,
   "metadata": {},
   "outputs": [
    {
     "data": {
      "text/plain": [
       "3943721"
      ]
     },
     "execution_count": 575,
     "metadata": {},
     "output_type": "execute_result"
    }
   ],
   "source": [
    "full_df.isna().sum().sum()"
   ]
  },
  {
   "cell_type": "code",
   "execution_count": 576,
   "metadata": {},
   "outputs": [
    {
     "data": {
      "text/plain": [
       "object     569\n",
       "float64     69\n",
       "int64       11\n",
       "bool         4\n",
       "dtype: int64"
      ]
     },
     "execution_count": 576,
     "metadata": {},
     "output_type": "execute_result"
    }
   ],
   "source": [
    "full_df.dtypes.value_counts()"
   ]
  },
  {
   "cell_type": "code",
   "execution_count": null,
   "metadata": {},
   "outputs": [],
   "source": [
    "def remove_dots_col(full_df):\n",
    "    new_cols = []\n",
    "    for col in full_df.columns.tolist():\n",
    "        if len(col.split('.'))>=2:\n",
    "        print(col.split('.')[0])\n",
    "        new_cols.append(col.split('.')[1])\n",
    "    else:\n",
    "        new_cols.append(col)\n",
    "    full_df.columns = new_cols\n",
    "    return full_df"
   ]
  },
  {
   "cell_type": "code",
   "execution_count": 594,
   "metadata": {},
   "outputs": [
    {
     "name": "stdout",
     "output_type": "stream",
     "text": [
      "attom_tax_assessor\n",
      "attom_tax_assessor\n",
      "attom_tax_assessor\n",
      "attom_tax_assessor\n",
      "attom_tax_assessor\n",
      "attom_tax_assessor\n",
      "attom_tax_assessor\n",
      "attom_tax_assessor\n",
      "attom_tax_assessor\n",
      "attom_tax_assessor\n",
      "attom_tax_assessor\n",
      "attom_tax_assessor\n",
      "attom_tax_assessor\n",
      "attom_tax_assessor\n",
      "attom_tax_assessor\n",
      "attom_tax_assessor\n",
      "attom_tax_assessor\n",
      "attom_tax_assessor\n",
      "attom_tax_assessor\n",
      "attom_tax_assessor\n",
      "attom_tax_assessor\n",
      "attom_tax_assessor\n",
      "attom_tax_assessor\n",
      "attom_tax_assessor\n",
      "attom_tax_assessor\n",
      "attom_tax_assessor\n",
      "attom_tax_assessor\n",
      "attom_tax_assessor\n",
      "attom_tax_assessor\n",
      "attom_tax_assessor\n",
      "attom_tax_assessor\n",
      "attom_tax_assessor\n",
      "attom_tax_assessor\n",
      "attom_tax_assessor\n",
      "attom_tax_assessor\n",
      "attom_tax_assessor\n",
      "attom_tax_assessor\n",
      "attom_tax_assessor\n",
      "attom_tax_assessor\n",
      "attom_tax_assessor\n",
      "attom_tax_assessor\n",
      "attom_tax_assessor\n",
      "attom_tax_assessor\n",
      "attom_tax_assessor\n",
      "attom_tax_assessor\n",
      "attom_tax_assessor\n",
      "attom_tax_assessor\n",
      "attom_tax_assessor\n",
      "attom_tax_assessor\n",
      "attom_tax_assessor\n",
      "attom_tax_assessor\n",
      "attom_tax_assessor\n",
      "attom_tax_assessor\n",
      "attom_tax_assessor\n",
      "attom_tax_assessor\n",
      "attom_tax_assessor\n",
      "attom_tax_assessor\n",
      "attom_tax_assessor\n",
      "attom_tax_assessor\n",
      "attom_tax_assessor\n",
      "attom_tax_assessor\n",
      "attom_tax_assessor\n",
      "attom_tax_assessor\n",
      "attom_tax_assessor\n",
      "attom_tax_assessor\n",
      "attom_tax_assessor\n",
      "attom_tax_assessor\n",
      "attom_tax_assessor\n",
      "attom_tax_assessor\n",
      "attom_tax_assessor\n",
      "attom_tax_assessor\n",
      "attom_tax_assessor\n",
      "attom_tax_assessor\n",
      "attom_tax_assessor\n",
      "attom_tax_assessor\n",
      "attom_tax_assessor\n",
      "attom_tax_assessor\n",
      "attom_tax_assessor\n",
      "attom_tax_assessor\n",
      "attom_tax_assessor\n",
      "attom_tax_assessor\n",
      "attom_tax_assessor\n",
      "attom_tax_assessor\n",
      "attom_tax_assessor\n",
      "attom_tax_assessor\n",
      "attom_tax_assessor\n",
      "attom_tax_assessor\n",
      "attom_tax_assessor\n",
      "attom_tax_assessor\n",
      "attom_tax_assessor\n",
      "attom_tax_assessor\n",
      "attom_tax_assessor\n",
      "attom_tax_assessor\n",
      "attom_tax_assessor\n",
      "attom_tax_assessor\n",
      "attom_tax_assessor\n",
      "attom_tax_assessor\n",
      "attom_tax_assessor\n",
      "attom_tax_assessor\n",
      "attom_tax_assessor\n",
      "attom_tax_assessor\n",
      "attom_tax_assessor\n",
      "attom_tax_assessor\n",
      "attom_tax_assessor\n",
      "attom_tax_assessor\n",
      "attom_tax_assessor\n",
      "attom_tax_assessor\n",
      "attom_tax_assessor\n",
      "attom_tax_assessor\n",
      "attom_tax_assessor\n",
      "attom_tax_assessor\n",
      "attom_tax_assessor\n",
      "attom_tax_assessor\n",
      "attom_tax_assessor\n",
      "attom_tax_assessor\n",
      "attom_tax_assessor\n",
      "attom_tax_assessor\n",
      "attom_tax_assessor\n",
      "attom_tax_assessor\n",
      "attom_tax_assessor\n",
      "attom_tax_assessor\n",
      "attom_tax_assessor\n",
      "attom_tax_assessor\n",
      "attom_tax_assessor\n",
      "attom_tax_assessor\n",
      "attom_tax_assessor\n",
      "attom_tax_assessor\n",
      "attom_tax_assessor\n",
      "attom_tax_assessor\n",
      "attom_tax_assessor\n",
      "attom_tax_assessor\n",
      "attom_tax_assessor\n",
      "attom_tax_assessor\n",
      "attom_tax_assessor\n",
      "attom_tax_assessor\n",
      "attom_tax_assessor\n",
      "attom_tax_assessor\n",
      "attom_tax_assessor\n",
      "attom_tax_assessor\n",
      "attom_tax_assessor\n",
      "attom_tax_assessor\n",
      "attom_tax_assessor\n",
      "attom_tax_assessor\n",
      "attom_tax_assessor\n",
      "attom_tax_assessor\n",
      "attom_tax_assessor\n",
      "attom_tax_assessor\n",
      "attom_tax_assessor\n",
      "attom_tax_assessor\n",
      "attom_tax_assessor\n",
      "attom_tax_assessor\n",
      "attom_tax_assessor\n",
      "attom_tax_assessor\n",
      "attom_tax_assessor\n",
      "attom_tax_assessor\n",
      "attom_tax_assessor\n",
      "attom_tax_assessor\n",
      "attom_tax_assessor\n",
      "attom_tax_assessor\n",
      "attom_tax_assessor\n",
      "attom_tax_assessor\n",
      "attom_tax_assessor\n",
      "attom_tax_assessor\n",
      "attom_tax_assessor\n",
      "attom_tax_assessor\n",
      "attom_tax_assessor\n",
      "attom_tax_assessor\n",
      "attom_tax_assessor\n",
      "attom_tax_assessor\n",
      "attom_tax_assessor\n",
      "attom_tax_assessor\n",
      "attom_tax_assessor\n",
      "attom_tax_assessor\n",
      "attom_tax_assessor\n",
      "attom_tax_assessor\n",
      "attom_tax_assessor\n",
      "attom_tax_assessor\n",
      "attom_tax_assessor\n",
      "attom_tax_assessor\n",
      "attom_tax_assessor\n",
      "attom_tax_assessor\n",
      "attom_tax_assessor\n",
      "attom_tax_assessor\n",
      "attom_tax_assessor\n",
      "attom_tax_assessor\n",
      "attom_tax_assessor\n",
      "attom_tax_assessor\n",
      "attom_tax_assessor\n",
      "attom_tax_assessor\n",
      "attom_tax_assessor\n",
      "attom_tax_assessor\n",
      "attom_tax_assessor\n",
      "attom_tax_assessor\n",
      "attom_tax_assessor\n",
      "attom_tax_assessor\n",
      "attom_tax_assessor\n",
      "attom_tax_assessor\n",
      "attom_tax_assessor\n",
      "attom_tax_assessor\n",
      "attom_tax_assessor\n",
      "attom_tax_assessor\n",
      "attom_tax_assessor\n",
      "attom_tax_assessor\n",
      "attom_tax_assessor\n",
      "attom_tax_assessor\n",
      "attom_tax_assessor\n",
      "attom_tax_assessor\n",
      "attom_tax_assessor\n",
      "attom_tax_assessor\n",
      "attom_tax_assessor\n",
      "attom_tax_assessor\n",
      "attom_tax_assessor\n",
      "attom_tax_assessor\n",
      "attom_tax_assessor\n",
      "attom_tax_assessor\n",
      "attom_tax_assessor\n",
      "attom_tax_assessor\n",
      "attom_tax_assessor\n",
      "attom_tax_assessor\n",
      "attom_tax_assessor\n",
      "attom_tax_assessor\n",
      "attom_tax_assessor\n",
      "attom_tax_assessor\n",
      "attom_tax_assessor\n",
      "attom_tax_assessor\n",
      "attom_tax_assessor\n",
      "attom_tax_assessor\n",
      "attom_tax_assessor\n",
      "attom_tax_assessor\n",
      "attom_tax_assessor\n",
      "attom_tax_assessor\n",
      "attom_tax_assessor\n",
      "attom_tax_assessor\n",
      "attom_tax_assessor\n",
      "attom_tax_assessor\n",
      "attom_tax_assessor\n",
      "attom_tax_assessor\n",
      "attom_tax_assessor\n",
      "attom_tax_assessor\n",
      "attom_tax_assessor\n",
      "attom_tax_assessor\n",
      "attom_tax_assessor\n",
      "attom_tax_assessor\n",
      "attom_tax_assessor\n",
      "attom_tax_assessor\n",
      "attom_tax_assessor\n",
      "attom_tax_assessor\n",
      "attom_tax_assessor\n",
      "attom_tax_assessor\n",
      "attom_tax_assessor\n",
      "attom_tax_assessor\n",
      "attom_tax_assessor\n",
      "attom_tax_assessor\n",
      "attom_tax_assessor\n",
      "attom_tax_assessor\n",
      "attom_tax_assessor\n",
      "attom_tax_assessor\n",
      "attom_tax_assessor\n",
      "attom_tax_assessor\n",
      "attom_tax_assessor\n",
      "attom_tax_assessor\n",
      "attom_tax_assessor\n",
      "attom_tax_assessor\n",
      "attom_tax_assessor\n",
      "attom_tax_assessor\n",
      "attom_tax_assessor\n",
      "attom_tax_assessor\n",
      "attom_tax_assessor\n",
      "attom_tax_assessor\n",
      "attom_tax_assessor\n",
      "attom_tax_assessor\n",
      "attom_tax_assessor\n",
      "attom_tax_assessor\n",
      "attom_tax_assessor\n",
      "attom_tax_assessor\n",
      "attom_tax_assessor\n",
      "attom_tax_assessor\n",
      "attom_tax_assessor\n",
      "attom_tax_assessor\n",
      "attom_tax_assessor\n",
      "attom_tax_assessor\n",
      "attom_tax_assessor\n",
      "attom_tax_assessor\n",
      "attom_tax_assessor\n",
      "attom_tax_assessor\n",
      "attom_tax_assessor\n",
      "attom_tax_assessor\n",
      "attom_tax_assessor\n",
      "attom_tax_assessor\n",
      "attom_tax_assessor\n",
      "attom_tax_assessor\n",
      "attom_tax_assessor\n",
      "attom_tax_assessor\n",
      "attom_tax_assessor\n",
      "attom_tax_assessor\n",
      "attom_tax_assessor\n",
      "attom_tax_assessor\n",
      "attom_tax_assessor\n",
      "attom_tax_assessor\n",
      "attom_pre_foreclosure\n",
      "attom_pre_foreclosure\n",
      "attom_pre_foreclosure\n",
      "attom_pre_foreclosure\n",
      "attom_pre_foreclosure\n",
      "attom_pre_foreclosure\n",
      "attom_pre_foreclosure\n",
      "attom_pre_foreclosure\n",
      "attom_pre_foreclosure\n",
      "attom_pre_foreclosure\n",
      "attom_pre_foreclosure\n",
      "attom_pre_foreclosure\n",
      "attom_pre_foreclosure\n",
      "attom_pre_foreclosure\n",
      "attom_pre_foreclosure\n",
      "attom_pre_foreclosure\n",
      "attom_pre_foreclosure\n",
      "attom_pre_foreclosure\n",
      "attom_pre_foreclosure\n",
      "attom_pre_foreclosure\n",
      "attom_pre_foreclosure\n",
      "attom_pre_foreclosure\n",
      "attom_pre_foreclosure\n",
      "attom_pre_foreclosure\n",
      "attom_pre_foreclosure\n",
      "attom_pre_foreclosure\n",
      "attom_pre_foreclosure\n",
      "attom_pre_foreclosure\n",
      "attom_pre_foreclosure\n",
      "attom_pre_foreclosure\n",
      "attom_pre_foreclosure\n",
      "attom_pre_foreclosure\n",
      "attom_pre_foreclosure\n",
      "attom_pre_foreclosure\n",
      "attom_pre_foreclosure\n",
      "attom_pre_foreclosure\n",
      "attom_pre_foreclosure\n",
      "attom_pre_foreclosure\n",
      "attom_pre_foreclosure\n",
      "attom_pre_foreclosure\n",
      "attom_pre_foreclosure\n",
      "attom_pre_foreclosure\n",
      "attom_pre_foreclosure\n",
      "attom_pre_foreclosure\n",
      "attom_pre_foreclosure\n",
      "attom_pre_foreclosure\n",
      "attom_pre_foreclosure\n",
      "attom_pre_foreclosure\n",
      "attom_pre_foreclosure\n",
      "attom_pre_foreclosure\n",
      "attom_pre_foreclosure\n",
      "attom_pre_foreclosure\n",
      "attom_pre_foreclosure\n",
      "attom_pre_foreclosure\n",
      "attom_pre_foreclosure\n",
      "attom_pre_foreclosure\n",
      "attom_pre_foreclosure\n",
      "attom_pre_foreclosure\n",
      "attom_pre_foreclosure\n",
      "attom_pre_foreclosure\n",
      "attom_pre_foreclosure\n",
      "attom_pre_foreclosure\n",
      "attom_pre_foreclosure\n",
      "attom_pre_foreclosure\n",
      "attom_pre_foreclosure\n",
      "attom_pre_foreclosure\n",
      "attom_pre_foreclosure\n",
      "attom_pre_foreclosure\n",
      "attom_pre_foreclosure\n",
      "attom_pre_foreclosure\n",
      "attom_pre_foreclosure\n",
      "attom_pre_foreclosure\n",
      "attom_pre_foreclosure\n",
      "attom_pre_foreclosure\n",
      "attom_pre_foreclosure\n",
      "attom_pre_foreclosure\n",
      "attom_pre_foreclosure\n",
      "attom_pre_foreclosure\n",
      "attom_pre_foreclosure\n",
      "attom_pre_foreclosure\n",
      "attom_pre_foreclosure\n",
      "attom_pre_foreclosure\n",
      "attom_pre_foreclosure\n",
      "attom_pre_foreclosure\n",
      "attom_pre_foreclosure\n",
      "attom_pre_foreclosure\n",
      "attom_pre_foreclosure\n",
      "attom_pre_foreclosure\n",
      "attom_pre_foreclosure\n",
      "attom_pre_foreclosure\n",
      "attom_pre_foreclosure\n",
      "attom_pre_foreclosure\n",
      "attom_pre_foreclosure\n",
      "attom_pre_foreclosure\n",
      "attom_pre_foreclosure\n",
      "attom_pre_foreclosure\n",
      "attom_pre_foreclosure\n",
      "attom_pre_foreclosure\n",
      "attom_pre_foreclosure\n",
      "attom_pre_foreclosure\n"
     ]
    },
    {
     "data": {
      "text/html": [
       "<div>\n",
       "<style scoped>\n",
       "    .dataframe tbody tr th:only-of-type {\n",
       "        vertical-align: middle;\n",
       "    }\n",
       "\n",
       "    .dataframe tbody tr th {\n",
       "        vertical-align: top;\n",
       "    }\n",
       "\n",
       "    .dataframe thead th {\n",
       "        text-align: right;\n",
       "    }\n",
       "</style>\n",
       "<table border=\"1\" class=\"dataframe\">\n",
       "  <thead>\n",
       "    <tr style=\"text-align: right;\">\n",
       "      <th></th>\n",
       "      <th>6723</th>\n",
       "    </tr>\n",
       "  </thead>\n",
       "  <tbody>\n",
       "    <tr>\n",
       "      <th>attom_id</th>\n",
       "      <td>146609930</td>\n",
       "    </tr>\n",
       "    <tr>\n",
       "      <th>city</th>\n",
       "      <td>Homestead</td>\n",
       "    </tr>\n",
       "    <tr>\n",
       "      <th>country</th>\n",
       "      <td>US</td>\n",
       "    </tr>\n",
       "    <tr>\n",
       "      <th>post_code</th>\n",
       "      <td>33035</td>\n",
       "    </tr>\n",
       "    <tr>\n",
       "      <th>safety_flag</th>\n",
       "      <td>False</td>\n",
       "    </tr>\n",
       "    <tr>\n",
       "      <th>state</th>\n",
       "      <td>FL</td>\n",
       "    </tr>\n",
       "    <tr>\n",
       "      <th>street</th>\n",
       "      <td>1612 S Goldeneye Ln</td>\n",
       "    </tr>\n",
       "    <tr>\n",
       "      <th>row_id</th>\n",
       "      <td>6723</td>\n",
       "    </tr>\n",
       "    <tr>\n",
       "      <th>apnformatted</th>\n",
       "      <td>NaN</td>\n",
       "    </tr>\n",
       "    <tr>\n",
       "      <th>apnoriginal</th>\n",
       "      <td>NaN</td>\n",
       "    </tr>\n",
       "    <tr>\n",
       "      <th>armslengthflag</th>\n",
       "      <td>NaN</td>\n",
       "    </tr>\n",
       "    <tr>\n",
       "      <th>attom_id</th>\n",
       "      <td>NaN</td>\n",
       "    </tr>\n",
       "    <tr>\n",
       "      <th>book</th>\n",
       "      <td>NaN</td>\n",
       "    </tr>\n",
       "    <tr>\n",
       "      <th>documentnumberformatted</th>\n",
       "      <td>NaN</td>\n",
       "    </tr>\n",
       "    <tr>\n",
       "      <th>documentnumberlegacy</th>\n",
       "      <td>NaN</td>\n",
       "    </tr>\n",
       "    <tr>\n",
       "      <th>documentrecordingcountyfips</th>\n",
       "      <td>NaN</td>\n",
       "    </tr>\n",
       "    <tr>\n",
       "      <th>documentrecordingcountyname</th>\n",
       "      <td>NaN</td>\n",
       "    </tr>\n",
       "    <tr>\n",
       "      <th>documentrecordingjurisdictionname</th>\n",
       "      <td>NaN</td>\n",
       "    </tr>\n",
       "    <tr>\n",
       "      <th>documentrecordingstatecode</th>\n",
       "      <td>NaN</td>\n",
       "    </tr>\n",
       "    <tr>\n",
       "      <th>documenttypecode</th>\n",
       "      <td>NaN</td>\n",
       "    </tr>\n",
       "    <tr>\n",
       "      <th>foreclosureauctionsale</th>\n",
       "      <td>NaN</td>\n",
       "    </tr>\n",
       "    <tr>\n",
       "      <th>grantee1infoentityclassification</th>\n",
       "      <td>NaN</td>\n",
       "    </tr>\n",
       "    <tr>\n",
       "      <th>grantee1infoownertype</th>\n",
       "      <td>NaN</td>\n",
       "    </tr>\n",
       "    <tr>\n",
       "      <th>grantee1namefirst</th>\n",
       "      <td>NaN</td>\n",
       "    </tr>\n",
       "    <tr>\n",
       "      <th>grantee1namefull</th>\n",
       "      <td>NaN</td>\n",
       "    </tr>\n",
       "    <tr>\n",
       "      <th>grantee1namelast</th>\n",
       "      <td>NaN</td>\n",
       "    </tr>\n",
       "    <tr>\n",
       "      <th>grantee1namemiddle</th>\n",
       "      <td>NaN</td>\n",
       "    </tr>\n",
       "    <tr>\n",
       "      <th>grantee1namesuffix</th>\n",
       "      <td>NaN</td>\n",
       "    </tr>\n",
       "    <tr>\n",
       "      <th>grantee2infoentityclassification</th>\n",
       "      <td>NaN</td>\n",
       "    </tr>\n",
       "    <tr>\n",
       "      <th>grantee2namefirst</th>\n",
       "      <td>NaN</td>\n",
       "    </tr>\n",
       "    <tr>\n",
       "      <th>...</th>\n",
       "      <td>...</td>\n",
       "    </tr>\n",
       "    <tr>\n",
       "      <th>trusteeaddressstate</th>\n",
       "      <td>NaN</td>\n",
       "    </tr>\n",
       "    <tr>\n",
       "      <th>trusteeaddressstreetdirection</th>\n",
       "      <td>NaN</td>\n",
       "    </tr>\n",
       "    <tr>\n",
       "      <th>trusteeaddressstreetname</th>\n",
       "      <td>NaN</td>\n",
       "    </tr>\n",
       "    <tr>\n",
       "      <th>trusteeaddressstreetpostdirection</th>\n",
       "      <td>NaN</td>\n",
       "    </tr>\n",
       "    <tr>\n",
       "      <th>trusteeaddressstreetsuffix</th>\n",
       "      <td>NaN</td>\n",
       "    </tr>\n",
       "    <tr>\n",
       "      <th>trusteeaddressunitvalue</th>\n",
       "      <td>NaN</td>\n",
       "    </tr>\n",
       "    <tr>\n",
       "      <th>trusteeaddresszip</th>\n",
       "      <td>NaN</td>\n",
       "    </tr>\n",
       "    <tr>\n",
       "      <th>trusteename</th>\n",
       "      <td>NaN</td>\n",
       "    </tr>\n",
       "    <tr>\n",
       "      <th>trusteephone</th>\n",
       "      <td>NaN</td>\n",
       "    </tr>\n",
       "    <tr>\n",
       "      <th>trusteereferencenumber</th>\n",
       "      <td>NaN</td>\n",
       "    </tr>\n",
       "    <tr>\n",
       "      <th>yearbuilt</th>\n",
       "      <td>NaN</td>\n",
       "    </tr>\n",
       "    <tr>\n",
       "      <th>yearbuilteffective</th>\n",
       "      <td>NaN</td>\n",
       "    </tr>\n",
       "    <tr>\n",
       "      <th>attom_id</th>\n",
       "      <td>146609930</td>\n",
       "    </tr>\n",
       "    <tr>\n",
       "      <th>city</th>\n",
       "      <td>Homestead</td>\n",
       "    </tr>\n",
       "    <tr>\n",
       "      <th>country</th>\n",
       "      <td>US</td>\n",
       "    </tr>\n",
       "    <tr>\n",
       "      <th>post_code</th>\n",
       "      <td>33035</td>\n",
       "    </tr>\n",
       "    <tr>\n",
       "      <th>safety_flag</th>\n",
       "      <td>False</td>\n",
       "    </tr>\n",
       "    <tr>\n",
       "      <th>state</th>\n",
       "      <td>FL</td>\n",
       "    </tr>\n",
       "    <tr>\n",
       "      <th>street</th>\n",
       "      <td>1612 S Goldeneye Ln</td>\n",
       "    </tr>\n",
       "    <tr>\n",
       "      <th>row_id</th>\n",
       "      <td>6723</td>\n",
       "    </tr>\n",
       "    <tr>\n",
       "      <th>attom_id</th>\n",
       "      <td>146609930</td>\n",
       "    </tr>\n",
       "    <tr>\n",
       "      <th>confidencescore</th>\n",
       "      <td>77</td>\n",
       "    </tr>\n",
       "    <tr>\n",
       "      <th>createdate</th>\n",
       "      <td>2019-07-03</td>\n",
       "    </tr>\n",
       "    <tr>\n",
       "      <th>estimatedmaxvalue</th>\n",
       "      <td>319000.0</td>\n",
       "    </tr>\n",
       "    <tr>\n",
       "      <th>estimatedminvalue</th>\n",
       "      <td>228000.0</td>\n",
       "    </tr>\n",
       "    <tr>\n",
       "      <th>estimatedvalue</th>\n",
       "      <td>273000.0</td>\n",
       "    </tr>\n",
       "    <tr>\n",
       "      <th>fsd</th>\n",
       "      <td>16.0</td>\n",
       "    </tr>\n",
       "    <tr>\n",
       "      <th>lastupdatedate</th>\n",
       "      <td>2019-07-03</td>\n",
       "    </tr>\n",
       "    <tr>\n",
       "      <th>publicationdate</th>\n",
       "      <td>2019-07-22</td>\n",
       "    </tr>\n",
       "    <tr>\n",
       "      <th>valuationdate</th>\n",
       "      <td>2019-06-28</td>\n",
       "    </tr>\n",
       "  </tbody>\n",
       "</table>\n",
       "<p>653 rows × 1 columns</p>\n",
       "</div>"
      ],
      "text/plain": [
       "                                                  6723\n",
       "attom_id                                     146609930\n",
       "city                                         Homestead\n",
       "country                                             US\n",
       "post_code                                        33035\n",
       "safety_flag                                      False\n",
       "state                                               FL\n",
       "street                             1612 S Goldeneye Ln\n",
       "row_id                                            6723\n",
       "apnformatted                                       NaN\n",
       "apnoriginal                                        NaN\n",
       "armslengthflag                                     NaN\n",
       "attom_id                                           NaN\n",
       "book                                               NaN\n",
       "documentnumberformatted                            NaN\n",
       "documentnumberlegacy                               NaN\n",
       "documentrecordingcountyfips                        NaN\n",
       "documentrecordingcountyname                        NaN\n",
       "documentrecordingjurisdictionname                  NaN\n",
       "documentrecordingstatecode                         NaN\n",
       "documenttypecode                                   NaN\n",
       "foreclosureauctionsale                             NaN\n",
       "grantee1infoentityclassification                   NaN\n",
       "grantee1infoownertype                              NaN\n",
       "grantee1namefirst                                  NaN\n",
       "grantee1namefull                                   NaN\n",
       "grantee1namelast                                   NaN\n",
       "grantee1namemiddle                                 NaN\n",
       "grantee1namesuffix                                 NaN\n",
       "grantee2infoentityclassification                   NaN\n",
       "grantee2namefirst                                  NaN\n",
       "...                                                ...\n",
       "trusteeaddressstate                                NaN\n",
       "trusteeaddressstreetdirection                      NaN\n",
       "trusteeaddressstreetname                           NaN\n",
       "trusteeaddressstreetpostdirection                  NaN\n",
       "trusteeaddressstreetsuffix                         NaN\n",
       "trusteeaddressunitvalue                            NaN\n",
       "trusteeaddresszip                                  NaN\n",
       "trusteename                                        NaN\n",
       "trusteephone                                       NaN\n",
       "trusteereferencenumber                             NaN\n",
       "yearbuilt                                          NaN\n",
       "yearbuilteffective                                 NaN\n",
       "attom_id                                     146609930\n",
       "city                                         Homestead\n",
       "country                                             US\n",
       "post_code                                        33035\n",
       "safety_flag                                      False\n",
       "state                                               FL\n",
       "street                             1612 S Goldeneye Ln\n",
       "row_id                                            6723\n",
       "attom_id                                     146609930\n",
       "confidencescore                                     77\n",
       "createdate                                  2019-07-03\n",
       "estimatedmaxvalue                             319000.0\n",
       "estimatedminvalue                             228000.0\n",
       "estimatedvalue                                273000.0\n",
       "fsd                                               16.0\n",
       "lastupdatedate                              2019-07-03\n",
       "publicationdate                             2019-07-22\n",
       "valuationdate                               2019-06-28\n",
       "\n",
       "[653 rows x 1 columns]"
      ]
     },
     "execution_count": 594,
     "metadata": {},
     "output_type": "execute_result"
    }
   ],
   "source": [
    "# this code creates new column names by removing any column that has a '.' present as a separator between multiple \n",
    "# strings found in columns; e.g. attom_avm.estimatedmaxvalue-> estimatedmaxvalue\n",
    "new_cols = []\n",
    "for col in full_df.columns.tolist():\n",
    "    if len(col.split('.'))>=2:\n",
    "        print(col.split('.')[0])\n",
    "        new_cols.append(col.split('.')[1])\n",
    "    else:\n",
    "        new_cols.append(col)\n",
    "full_df.columns = new_cols\n",
    "full_df.sample(1).T"
   ]
  },
  {
   "cell_type": "code",
   "execution_count": 596,
   "metadata": {},
   "outputs": [
    {
     "data": {
      "text/plain": [
       "3943721"
      ]
     },
     "execution_count": 596,
     "metadata": {},
     "output_type": "execute_result"
    }
   ],
   "source": [
    "full_df.isna().sum().sum()"
   ]
  },
  {
   "cell_type": "code",
   "execution_count": 652,
   "metadata": {},
   "outputs": [
    {
     "data": {
      "text/plain": [
       "(8904, 565)"
      ]
     },
     "execution_count": 652,
     "metadata": {},
     "output_type": "execute_result"
    }
   ],
   "source": [
    "# make a clean copy of the data (in case we make some mistakes)\n",
    "cleaned_res = full_df.copy()\n",
    "\n",
    "# same process of removing 'nans' and duplicates\n",
    "cleaned_res.dropna(how='all', axis=1, inplace=True)\n",
    "cleaned_res.drop_duplicates(inplace=True)\n",
    "for col in cleaned_res:\n",
    "    if 'date' in col:\n",
    "        # convert to 'datetime' format\n",
    "        cleaned_res[col] = pd.to_datetime(cleaned_res[col]).dt.year\n",
    "        cleaned_res = cleaned_res.loc[:,~cleaned_res.columns.duplicated()] \n",
    "\n",
    "cleaned_res.shape"
   ]
  },
  {
   "cell_type": "code",
   "execution_count": 653,
   "metadata": {},
   "outputs": [
    {
     "data": {
      "text/plain": [
       "3552425"
      ]
     },
     "execution_count": 653,
     "metadata": {},
     "output_type": "execute_result"
    }
   ],
   "source": [
    "cleaned_res.isna().sum().sum()"
   ]
  },
  {
   "cell_type": "code",
   "execution_count": 679,
   "metadata": {},
   "outputs": [
    {
     "data": {
      "text/plain": [
       "3178     117000.0\n",
       "3810     191000.0\n",
       "4515     109000.0\n",
       "4953    1101000.0\n",
       "3950     118000.0\n",
       "632       58000.0\n",
       "2137     109000.0\n",
       "4099     344000.0\n",
       "4803     210000.0\n",
       "5765     110000.0\n",
       "Name: estimatedminvalue, dtype: object"
      ]
     },
     "execution_count": 679,
     "metadata": {},
     "output_type": "execute_result"
    }
   ],
   "source": [
    "results_df_clean = cleaned_res.dropna(how='all', axis=1)\n",
    "results_df_clean['estimatedminvalue'].sample(10)"
   ]
  },
  {
   "cell_type": "code",
   "execution_count": 680,
   "metadata": {},
   "outputs": [
    {
     "data": {
      "text/plain": [
       "(8904, 229)"
      ]
     },
     "execution_count": 680,
     "metadata": {},
     "output_type": "execute_result"
    }
   ],
   "source": [
    "# drop records with large 'NA' percentage\n",
    "# let's set that threshold arbitrarily to 80%\n",
    "\n",
    "no_records = results_df_clean.shape[0]\n",
    "bad_cols = []\n",
    "for col in results_df_clean.columns:\n",
    "    if results_df_clean[col].isna().sum()/no_records >= 0.8:\n",
    "        bad_cols.append(col)\n",
    "results_df_clean.drop(bad_cols, inplace=True, axis=1)\n",
    "results_df_clean.shape"
   ]
  },
  {
   "cell_type": "code",
   "execution_count": 681,
   "metadata": {},
   "outputs": [
    {
     "data": {
      "text/plain": [
       "object     191\n",
       "float64     35\n",
       "int64        2\n",
       "bool         1\n",
       "dtype: int64"
      ]
     },
     "execution_count": 681,
     "metadata": {},
     "output_type": "execute_result"
    }
   ],
   "source": [
    "results_df_clean.dtypes.value_counts()"
   ]
  },
  {
   "cell_type": "code",
   "execution_count": 1080,
   "metadata": {},
   "outputs": [
    {
     "data": {
      "text/html": [
       "<div>\n",
       "<style scoped>\n",
       "    .dataframe tbody tr th:only-of-type {\n",
       "        vertical-align: middle;\n",
       "    }\n",
       "\n",
       "    .dataframe tbody tr th {\n",
       "        vertical-align: top;\n",
       "    }\n",
       "\n",
       "    .dataframe thead th {\n",
       "        text-align: right;\n",
       "    }\n",
       "</style>\n",
       "<table border=\"1\" class=\"dataframe\">\n",
       "  <thead>\n",
       "    <tr style=\"text-align: right;\">\n",
       "      <th></th>\n",
       "      <th>0</th>\n",
       "    </tr>\n",
       "  </thead>\n",
       "  <tbody>\n",
       "    <tr>\n",
       "      <th>armslengthflag</th>\n",
       "      <td>0.0</td>\n",
       "    </tr>\n",
       "    <tr>\n",
       "      <th>documentrecordingcountyfips</th>\n",
       "      <td>12105.0</td>\n",
       "    </tr>\n",
       "    <tr>\n",
       "      <th>granteemailaddresshousenumber</th>\n",
       "      <td>3160.0</td>\n",
       "    </tr>\n",
       "    <tr>\n",
       "      <th>granteemailaddresszip</th>\n",
       "      <td>33812.0</td>\n",
       "    </tr>\n",
       "    <tr>\n",
       "      <th>granteemailaddresszip4</th>\n",
       "      <td>5237.0</td>\n",
       "    </tr>\n",
       "    <tr>\n",
       "      <th>instrumentdate</th>\n",
       "      <td>2009.0</td>\n",
       "    </tr>\n",
       "    <tr>\n",
       "      <th>lastupdated</th>\n",
       "      <td>2014.0</td>\n",
       "    </tr>\n",
       "    <tr>\n",
       "      <th>mortgage1amount</th>\n",
       "      <td>NaN</td>\n",
       "    </tr>\n",
       "    <tr>\n",
       "      <th>mortgage1interestrate</th>\n",
       "      <td>NaN</td>\n",
       "    </tr>\n",
       "    <tr>\n",
       "      <th>mortgage1interestratetype</th>\n",
       "      <td>NaN</td>\n",
       "    </tr>\n",
       "    <tr>\n",
       "      <th>mortgage1lenderaddresszip</th>\n",
       "      <td>NaN</td>\n",
       "    </tr>\n",
       "    <tr>\n",
       "      <th>mortgage1lendercode</th>\n",
       "      <td>NaN</td>\n",
       "    </tr>\n",
       "    <tr>\n",
       "      <th>mortgage1lenderinfosellercarrybackflag</th>\n",
       "      <td>NaN</td>\n",
       "    </tr>\n",
       "    <tr>\n",
       "      <th>mortgage1recordingdate</th>\n",
       "      <td>NaN</td>\n",
       "    </tr>\n",
       "    <tr>\n",
       "      <th>propertyusestandardized</th>\n",
       "      <td>385.0</td>\n",
       "    </tr>\n",
       "    <tr>\n",
       "      <th>publicationdate</th>\n",
       "      <td>1970.0</td>\n",
       "    </tr>\n",
       "    <tr>\n",
       "      <th>recordingdate</th>\n",
       "      <td>2009.0</td>\n",
       "    </tr>\n",
       "    <tr>\n",
       "      <th>titlecompanystandardizedcode</th>\n",
       "      <td>NaN</td>\n",
       "    </tr>\n",
       "    <tr>\n",
       "      <th>transactionid</th>\n",
       "      <td>272320017.0</td>\n",
       "    </tr>\n",
       "    <tr>\n",
       "      <th>transferamount</th>\n",
       "      <td>0.0</td>\n",
       "    </tr>\n",
       "    <tr>\n",
       "      <th>transferinfomultiparcelflag</th>\n",
       "      <td>0.0</td>\n",
       "    </tr>\n",
       "    <tr>\n",
       "      <th>transferinfopurchasedownpayment</th>\n",
       "      <td>0.0</td>\n",
       "    </tr>\n",
       "    <tr>\n",
       "      <th>transferinfopurchaseloantovalue</th>\n",
       "      <td>0.0</td>\n",
       "    </tr>\n",
       "    <tr>\n",
       "      <th>transferinfopurchasetypecode</th>\n",
       "      <td>40.0</td>\n",
       "    </tr>\n",
       "    <tr>\n",
       "      <th>transfertaxtotal</th>\n",
       "      <td>0.0</td>\n",
       "    </tr>\n",
       "    <tr>\n",
       "      <th>assessorlastsaledate</th>\n",
       "      <td>2004.0</td>\n",
       "    </tr>\n",
       "    <tr>\n",
       "      <th>assessorpriorsaledate</th>\n",
       "      <td>NaN</td>\n",
       "    </tr>\n",
       "    <tr>\n",
       "      <th>assrlastupdated</th>\n",
       "      <td>2018.0</td>\n",
       "    </tr>\n",
       "    <tr>\n",
       "      <th>deedlastsaledate</th>\n",
       "      <td>2004.0</td>\n",
       "    </tr>\n",
       "    <tr>\n",
       "      <th>lastassessortaxrollupdate</th>\n",
       "      <td>2018.0</td>\n",
       "    </tr>\n",
       "    <tr>\n",
       "      <th>lastownershiptransferdate</th>\n",
       "      <td>2009.0</td>\n",
       "    </tr>\n",
       "    <tr>\n",
       "      <th>lastupdatedate</th>\n",
       "      <td>2019.0</td>\n",
       "    </tr>\n",
       "    <tr>\n",
       "      <th>valuationdate</th>\n",
       "      <td>2019.0</td>\n",
       "    </tr>\n",
       "  </tbody>\n",
       "</table>\n",
       "</div>"
      ],
      "text/plain": [
       "                                                  0\n",
       "armslengthflag                                  0.0\n",
       "documentrecordingcountyfips                 12105.0\n",
       "granteemailaddresshousenumber                3160.0\n",
       "granteemailaddresszip                       33812.0\n",
       "granteemailaddresszip4                       5237.0\n",
       "instrumentdate                               2009.0\n",
       "lastupdated                                  2014.0\n",
       "mortgage1amount                                 NaN\n",
       "mortgage1interestrate                           NaN\n",
       "mortgage1interestratetype                       NaN\n",
       "mortgage1lenderaddresszip                       NaN\n",
       "mortgage1lendercode                             NaN\n",
       "mortgage1lenderinfosellercarrybackflag          NaN\n",
       "mortgage1recordingdate                          NaN\n",
       "propertyusestandardized                       385.0\n",
       "publicationdate                              1970.0\n",
       "recordingdate                                2009.0\n",
       "titlecompanystandardizedcode                    NaN\n",
       "transactionid                           272320017.0\n",
       "transferamount                                  0.0\n",
       "transferinfomultiparcelflag                     0.0\n",
       "transferinfopurchasedownpayment                 0.0\n",
       "transferinfopurchaseloantovalue                 0.0\n",
       "transferinfopurchasetypecode                   40.0\n",
       "transfertaxtotal                                0.0\n",
       "assessorlastsaledate                         2004.0\n",
       "assessorpriorsaledate                           NaN\n",
       "assrlastupdated                              2018.0\n",
       "deedlastsaledate                             2004.0\n",
       "lastassessortaxrollupdate                    2018.0\n",
       "lastownershiptransferdate                    2009.0\n",
       "lastupdatedate                               2019.0\n",
       "valuationdate                                2019.0"
      ]
     },
     "execution_count": 1080,
     "metadata": {},
     "output_type": "execute_result"
    }
   ],
   "source": [
    "# exploration of cleaned data\n",
    "results_df_clean.select_dtypes(include='float').head(1).T\n"
   ]
  },
  {
   "cell_type": "markdown",
   "metadata": {},
   "source": [
    "It is clear that we're going to have to use some kind of imputation strategy to handle the presence of 'nans' \n",
    "in certain columns. We can use generally the 'mode' or the 'mean' (only applicable for purely numeric values for the latter)."
   ]
  },
  {
   "cell_type": "code",
   "execution_count": 683,
   "metadata": {},
   "outputs": [],
   "source": [
    "continuous_cols = results_df_clean.select_dtypes(include='float')\n",
    "int_cols = results_df_clean.select_dtypes(include='int')"
   ]
  },
  {
   "cell_type": "code",
   "execution_count": 684,
   "metadata": {},
   "outputs": [
    {
     "data": {
      "text/html": [
       "<div>\n",
       "<style scoped>\n",
       "    .dataframe tbody tr th:only-of-type {\n",
       "        vertical-align: middle;\n",
       "    }\n",
       "\n",
       "    .dataframe tbody tr th {\n",
       "        vertical-align: top;\n",
       "    }\n",
       "\n",
       "    .dataframe thead th {\n",
       "        text-align: right;\n",
       "    }\n",
       "</style>\n",
       "<table border=\"1\" class=\"dataframe\">\n",
       "  <thead>\n",
       "    <tr style=\"text-align: right;\">\n",
       "      <th></th>\n",
       "      <th>attom_id</th>\n",
       "      <th>row_id</th>\n",
       "    </tr>\n",
       "  </thead>\n",
       "  <tbody>\n",
       "    <tr>\n",
       "      <th>0</th>\n",
       "      <td>162278089</td>\n",
       "      <td>0</td>\n",
       "    </tr>\n",
       "    <tr>\n",
       "      <th>1</th>\n",
       "      <td>28461481</td>\n",
       "      <td>1</td>\n",
       "    </tr>\n",
       "    <tr>\n",
       "      <th>2</th>\n",
       "      <td>214628965</td>\n",
       "      <td>2</td>\n",
       "    </tr>\n",
       "  </tbody>\n",
       "</table>\n",
       "</div>"
      ],
      "text/plain": [
       "    attom_id  row_id\n",
       "0  162278089       0\n",
       "1   28461481       1\n",
       "2  214628965       2"
      ]
     },
     "execution_count": 684,
     "metadata": {},
     "output_type": "execute_result"
    }
   ],
   "source": [
    "int_cols.head(3)"
   ]
  },
  {
   "cell_type": "markdown",
   "metadata": {},
   "source": [
    "The output from the cell found above suggests that these unique identifiers can now be removed from the data as they don't offer any meaningful information\n",
    "for predictive modelling purposes - rather, they served as a means to link together products found in the demystdata API."
   ]
  },
  {
   "cell_type": "code",
   "execution_count": 685,
   "metadata": {},
   "outputs": [
    {
     "data": {
      "text/html": [
       "<div>\n",
       "<style scoped>\n",
       "    .dataframe tbody tr th:only-of-type {\n",
       "        vertical-align: middle;\n",
       "    }\n",
       "\n",
       "    .dataframe tbody tr th {\n",
       "        vertical-align: top;\n",
       "    }\n",
       "\n",
       "    .dataframe thead th {\n",
       "        text-align: right;\n",
       "    }\n",
       "</style>\n",
       "<table border=\"1\" class=\"dataframe\">\n",
       "  <thead>\n",
       "    <tr style=\"text-align: right;\">\n",
       "      <th></th>\n",
       "      <th>contactownermailaddresszip</th>\n",
       "      <th>contactownermailaddresszip4</th>\n",
       "      <th>contactownermailingfips</th>\n",
       "      <th>propertyaddresszip</th>\n",
       "      <th>propertyaddresszip4</th>\n",
       "    </tr>\n",
       "  </thead>\n",
       "  <tbody>\n",
       "    <tr>\n",
       "      <th>1865</th>\n",
       "      <td>NaN</td>\n",
       "      <td>NaN</td>\n",
       "      <td>NaN</td>\n",
       "      <td>NaN</td>\n",
       "      <td>NaN</td>\n",
       "    </tr>\n",
       "    <tr>\n",
       "      <th>1830</th>\n",
       "      <td>45377</td>\n",
       "      <td>1859</td>\n",
       "      <td>39113</td>\n",
       "      <td>45377.0</td>\n",
       "      <td>1859.0</td>\n",
       "    </tr>\n",
       "    <tr>\n",
       "      <th>7454</th>\n",
       "      <td>73170</td>\n",
       "      <td>5106</td>\n",
       "      <td>40027</td>\n",
       "      <td>73071.0</td>\n",
       "      <td>2528.0</td>\n",
       "    </tr>\n",
       "  </tbody>\n",
       "</table>\n",
       "</div>"
      ],
      "text/plain": [
       "     contactownermailaddresszip contactownermailaddresszip4  \\\n",
       "1865                        NaN                         NaN   \n",
       "1830                      45377                        1859   \n",
       "7454                      73170                        5106   \n",
       "\n",
       "     contactownermailingfips  propertyaddresszip  propertyaddresszip4  \n",
       "1865                     NaN                 NaN                  NaN  \n",
       "1830                   39113             45377.0               1859.0  \n",
       "7454                   40027             73071.0               2528.0  "
      ]
     },
     "execution_count": 685,
     "metadata": {},
     "output_type": "execute_result"
    }
   ],
   "source": [
    "results_df_clean[uninformative_cols].sample(3)"
   ]
  },
  {
   "cell_type": "markdown",
   "metadata": {},
   "source": [
    "Additionally, there are a number of columns containing postcodes/zips and emails that don't appear to have any\n",
    "information that could be predictive, so let's drop them too"
   ]
  },
  {
   "cell_type": "code",
   "execution_count": null,
   "metadata": {},
   "outputs": [],
   "source": [
    "integer_col_names = list(int_cols.columns)\n",
    "results_df_clean.drop([*integer_col_names, *uninformative_cols],axis=1,inplace=True)"
   ]
  },
  {
   "cell_type": "code",
   "execution_count": 750,
   "metadata": {},
   "outputs": [
    {
     "data": {
      "text/plain": [
       "object     188\n",
       "float64     33\n",
       "bool         1\n",
       "dtype: int64"
      ]
     },
     "execution_count": 750,
     "metadata": {},
     "output_type": "execute_result"
    }
   ],
   "source": [
    "results_df_clean_2 = results_df_clean.copy()\n",
    "for col in results_df_clean_2.columns: \n",
    "    if type(col)==object:\n",
    "        results_df_clean_2[col] = results_df_clean_2[col].apply(lambda x: float(x) if not np.isnan(x) else x)\n",
    "results_df_clean_2.dtypes.value_counts()"
   ]
  },
  {
   "cell_type": "markdown",
   "metadata": {},
   "source": [
    "Some of the 'object' cols contain data that are clearly numeric such as 'confidencescore', 'estimatedmaxvalue', 'estimatedminvalue', 'fsd', amongst others."
   ]
  },
  {
   "cell_type": "markdown",
   "metadata": {},
   "source": [
    "Let's also have a look at the 'safety_flag' variable"
   ]
  },
  {
   "cell_type": "code",
   "execution_count": 1081,
   "metadata": {},
   "outputs": [
    {
     "name": "stderr",
     "output_type": "stream",
     "text": [
      "'safety_flag'\n"
     ]
    }
   ],
   "source": [
    "results_df_clean_2['safety_flag'].head(2)"
   ]
  },
  {
   "cell_type": "markdown",
   "metadata": {},
   "source": [
    "Let's convert the target to a schema using the 'label encoder' found in sklearn"
   ]
  },
  {
   "cell_type": "code",
   "execution_count": 758,
   "metadata": {},
   "outputs": [
    {
     "data": {
      "text/plain": [
       "array([0, 0, 0, ..., 1, 0, 1])"
      ]
     },
     "execution_count": 758,
     "metadata": {},
     "output_type": "execute_result"
    }
   ],
   "source": [
    "from sklearn.preprocessing import LabelEncoder, OneHotEncoder, OrdinalEncoder, StandardScaler\n",
    "from sklearn.model_selection import train_test_split\n",
    "le = LabelEncoder()\n",
    "target = le.fit_transform(results_df_clean_2['safety_flag'])\n",
    "target"
   ]
  },
  {
   "cell_type": "code",
   "execution_count": 756,
   "metadata": {},
   "outputs": [],
   "source": [
    "# we can isolate out the target variable from our features as a means of convenience for training the data later on\n",
    "results_df_clean_2.drop(['safety_flag'], axis=1, inplace=True)"
   ]
  },
  {
   "cell_type": "markdown",
   "metadata": {},
   "source": [
    "We need to organise the data into different categories - ordinal data, purely numerical data, and categorical data\n",
    "additionally. \n",
    "As a preliminary imputation strategy, we can take the mode for every attribute with NaNs present.\n",
    "We can then take advantage of Scikit-Learn's preprocessing capabilities to convert categorical strings into numeric form, then scaling the data to have mean=0 and standard deviation=1 for each feature"
   ]
  },
  {
   "cell_type": "code",
   "execution_count": 1033,
   "metadata": {},
   "outputs": [],
   "source": [
    "results_complete = results_df_clean_2.copy()\n",
    "ordinal_props = ['yearbuilt', 'assessorlastsaledate', 'assrlastupdated','bathcount','bathpartialcount','deedlastsaledate',\n",
    "              'fireplacecount','parcelnumberyearchange', 'lastassessortaxrollupdate',\n",
    "              'publicationdate','roomscount','parcelnumberyearadded', 'storiescount','taxfiscalyear','lastupdatedate',\n",
    "              'valuationdate']\n",
    "# convert these columns to 'object' type\n",
    "convert_to_obj = ['areabuildingdefinitioncode','congressionaldistricthouse']\n",
    "results_complete[convert_to_obj] = results_complete.loc[:,convert_to_obj].astype('object')\n",
    "\n",
    "categorical_props = results_complete.select_dtypes(include='object').columns.tolist()\n",
    "# remove columns found in intersection between ordinal and categorical column types\n",
    "for col in set(categorical_props) & set(ordinal_props):\n",
    "    categorical_props.remove(col)\n",
    "    \n",
    "# convert categorical columns to 'object' type\n",
    "results_complete[categorical_props] = results_complete.loc[:,categorical_props].astype('object')\n",
    "\n",
    "# select all numeric data\n",
    "numeric_props = results_complete.select_dtypes(include='float').columns.tolist()\n",
    "for col in set(numeric_props) & set(ordinal_props):\n",
    "    numeric_props.remove(col)\n",
    "\n",
    "# complete set of columns to be used in modelling\n",
    "full_cols = numeric_props + ordinal_props + categorical_props\n",
    "\n",
    "categorical_scaler = StandardScaler()\n",
    "ordinal_encoder = OrdinalEncoder()\n",
    "results_complete = results_df_clean_2.copy()\n",
    "for col in full_cols:\n",
    "    results_complete[col] = results_complete[col].fillna(results_complete[col].mode()[0]).astype('str')\n",
    "\n",
    "results_complete[categorical_props] = ordinal_encoder.fit_transform(results_complete.loc[:,categorical_props]).astype('int')\n",
    "results_complete[categorical_props] = categorical_scaler.fit_transform(results_complete.loc[:,categorical_props])\n",
    "\n"
   ]
  },
  {
   "cell_type": "markdown",
   "metadata": {},
   "source": [
    "We can take advantage of the analytics capabilities of the DemystData API to look at high cardinality features and statistics obtained from our cleaned data"
   ]
  },
  {
   "cell_type": "code",
   "execution_count": null,
   "metadata": {},
   "outputs": [],
   "source": [
    "stats = analytics.report(results_complete)\n",
    "stats"
   ]
  },
  {
   "cell_type": "code",
   "execution_count": 2,
   "metadata": {},
   "outputs": [
    {
     "data": {
      "text/html": [
       "<div>\n",
       "<style scoped>\n",
       "    .dataframe tbody tr th:only-of-type {\n",
       "        vertical-align: middle;\n",
       "    }\n",
       "\n",
       "    .dataframe tbody tr th {\n",
       "        vertical-align: top;\n",
       "    }\n",
       "\n",
       "    .dataframe thead th {\n",
       "        text-align: right;\n",
       "    }\n",
       "</style>\n",
       "<table border=\"1\" class=\"dataframe\">\n",
       "  <thead>\n",
       "    <tr style=\"text-align: right;\">\n",
       "      <th></th>\n",
       "      <th>Unnamed: 0</th>\n",
       "      <th>city</th>\n",
       "      <th>country</th>\n",
       "      <th>post_code</th>\n",
       "      <th>state</th>\n",
       "      <th>street</th>\n",
       "      <th>apnformatted</th>\n",
       "      <th>apnoriginal</th>\n",
       "      <th>armslengthflag</th>\n",
       "      <th>documentnumberformatted</th>\n",
       "      <th>...</th>\n",
       "      <th>viewdescription</th>\n",
       "      <th>yearbuilt</th>\n",
       "      <th>yearbuilteffective</th>\n",
       "      <th>zonedcodelocal</th>\n",
       "      <th>confidencescore</th>\n",
       "      <th>estimatedmaxvalue</th>\n",
       "      <th>estimatedminvalue</th>\n",
       "      <th>fsd</th>\n",
       "      <th>lastupdatedate</th>\n",
       "      <th>valuationdate</th>\n",
       "    </tr>\n",
       "  </thead>\n",
       "  <tbody>\n",
       "    <tr>\n",
       "      <th>0</th>\n",
       "      <td>0</td>\n",
       "      <td>-0.088822</td>\n",
       "      <td>0.0</td>\n",
       "      <td>-0.544559</td>\n",
       "      <td>-0.907115</td>\n",
       "      <td>0.096733</td>\n",
       "      <td>0.681118</td>\n",
       "      <td>0.014468</td>\n",
       "      <td>0.0</td>\n",
       "      <td>1.109704</td>\n",
       "      <td>...</td>\n",
       "      <td>-0.11555</td>\n",
       "      <td>2005</td>\n",
       "      <td>0.673966</td>\n",
       "      <td>0.11725</td>\n",
       "      <td>0.964637</td>\n",
       "      <td>-0.246053</td>\n",
       "      <td>-0.529423</td>\n",
       "      <td>-0.765340</td>\n",
       "      <td>2019.0</td>\n",
       "      <td>2019.0</td>\n",
       "    </tr>\n",
       "    <tr>\n",
       "      <th>1</th>\n",
       "      <td>1</td>\n",
       "      <td>-0.289593</td>\n",
       "      <td>0.0</td>\n",
       "      <td>-0.189322</td>\n",
       "      <td>-0.509405</td>\n",
       "      <td>1.653220</td>\n",
       "      <td>1.255527</td>\n",
       "      <td>0.929468</td>\n",
       "      <td>0.0</td>\n",
       "      <td>-0.606700</td>\n",
       "      <td>...</td>\n",
       "      <td>-0.11555</td>\n",
       "      <td>1950</td>\n",
       "      <td>-2.563862</td>\n",
       "      <td>0.11725</td>\n",
       "      <td>-1.458531</td>\n",
       "      <td>-0.933051</td>\n",
       "      <td>2.086425</td>\n",
       "      <td>0.479996</td>\n",
       "      <td>2019.0</td>\n",
       "      <td>2019.0</td>\n",
       "    </tr>\n",
       "  </tbody>\n",
       "</table>\n",
       "<p>2 rows × 222 columns</p>\n",
       "</div>"
      ],
      "text/plain": [
       "   Unnamed: 0      city  country  post_code     state    street  apnformatted  \\\n",
       "0           0 -0.088822      0.0  -0.544559 -0.907115  0.096733      0.681118   \n",
       "1           1 -0.289593      0.0  -0.189322 -0.509405  1.653220      1.255527   \n",
       "\n",
       "   apnoriginal  armslengthflag  documentnumberformatted  ...  viewdescription  \\\n",
       "0     0.014468             0.0                 1.109704  ...         -0.11555   \n",
       "1     0.929468             0.0                -0.606700  ...         -0.11555   \n",
       "\n",
       "   yearbuilt  yearbuilteffective  zonedcodelocal  confidencescore  \\\n",
       "0       2005            0.673966         0.11725         0.964637   \n",
       "1       1950           -2.563862         0.11725        -1.458531   \n",
       "\n",
       "   estimatedmaxvalue  estimatedminvalue       fsd  lastupdatedate  \\\n",
       "0          -0.246053          -0.529423 -0.765340          2019.0   \n",
       "1          -0.933051           2.086425  0.479996          2019.0   \n",
       "\n",
       "   valuationdate  \n",
       "0         2019.0  \n",
       "1         2019.0  \n",
       "\n",
       "[2 rows x 222 columns]"
      ]
     },
     "execution_count": 2,
     "metadata": {},
     "output_type": "execute_result"
    }
   ],
   "source": [
    "results3 = pd.read_csv('data/final_enriched_results.csv')\n",
    "results3.head(2)"
   ]
  },
  {
   "cell_type": "code",
   "execution_count": 1173,
   "metadata": {},
   "outputs": [],
   "source": [
    "# save the data with the NaNs replaced using the 'mode imputation strategy' to a csv file\n",
    "if not os.path.isfile('data/final_enriched_results.csv'):\n",
    "    results_complete.to_csv('data/final_enriched_results.csv')"
   ]
  },
  {
   "cell_type": "code",
   "execution_count": 1306,
   "metadata": {},
   "outputs": [],
   "source": [
    "# this code is used to create a preliminary 'requirements.txt' file from the external libraries used in this\n",
    "# notebook. This serves as an alternative to the bash command 'pip freeze >> requirements.txt'\n",
    "import imblearn\n",
    "import joblib\n",
    "import matplotlib\n",
    "import pandas\n",
    "import pandas_profiling\n",
    "import sklearn\n",
    "import rgf\n",
    "import xgboost\n",
    "import types\n",
    "def imports():\n",
    "    for name, val in globals().items():\n",
    "        if isinstance(val, types.ModuleType):\n",
    "            if hasattr(val, '__version__'):\n",
    "                yield val.__name__, val.__version__\n",
    "            else:\n",
    "                yield val.__name__\n",
    "fin_requirements = list(set(imports()))\n",
    "import simplejson\n",
    "with open('json_requirements.txt','w') as f:\n",
    "    simplejson.dump(fin_requirements, f)"
   ]
  },
  {
   "cell_type": "markdown",
   "metadata": {},
   "source": [
    "We can try out taking the mean (for numeric attributes) as an alternative imputation strategy, whilst still taking the mode for categorical attributes, then performing the same preprocessing steps as found in the cell three cells above."
   ]
  },
  {
   "cell_type": "code",
   "execution_count": 1041,
   "metadata": {},
   "outputs": [],
   "source": [
    "results4 = results_df_clean_2.copy()\n",
    "\n",
    "for col in num_attribs:\n",
    "    mean = np.mean(results4[col].astype('float'))\n",
    "    results4[col] = results4[col].fillna(mean).astype('str')\n",
    "for col in ord_attribs:\n",
    "    mean = np.mean(results4[col].astype('float'))\n",
    "    results4[col] = results4[col].fillna(mean).astype('str')\n",
    "for col in cat_attribs:\n",
    "    results4[col] = results4[col].fillna(results4[col].mode()[0]).astype('str')\n",
    "\n",
    "results4[cat_attribs] = cat_ord_enc.fit_transform(results4.loc[:,cat_attribs]).astype('int')\n",
    "results4[cat_attribs] = cat_scaler.fit_transform(results4.loc[:,cat_attribs])\n"
   ]
  },
  {
   "cell_type": "code",
   "execution_count": 1050,
   "metadata": {},
   "outputs": [
    {
     "name": "stdout",
     "output_type": "stream",
     "text": [
      "57.49981750090561\n",
      "87.6572327044025\n"
     ]
    }
   ],
   "source": [
    "# let's look at performance of a random forest classifier using the 'mean' imputation strategy \n",
    "from sklearn.ensemble import RandomForestClassifier\n",
    "from sklearn.metrics import accuracy_score, balanced_accuracy_score\n",
    "from sklearn.model_selection import cross_val_score, StratifiedKFold\n",
    "rf = RandomForestClassifier(n_estimators=500)\n",
    "skfold = StratifiedKFold(n_splits=5)\n",
    "print(cross_val_score(rf, results_complete, target, scoring='balanced_accuracy', cv=3, n_jobs=-1).mean()*100)\n",
    "print(cross_val_score(rf, results_complete, target, scoring='accuracy', cv=3, n_jobs=-1).mean()*100)"
   ]
  },
  {
   "cell_type": "markdown",
   "metadata": {},
   "source": [
    "If we pay attention to the output from above, we can see that there is a large difference between the accuracy taken irrespective of class (scoring='accuracy'), versus the accuracy taken with a weighted class balance (scoring='balanced accuracy'). This strongly suggests we have a strong class imbalance.\n",
    "In order to verify this, let's determine a raw count of each class label."
   ]
  },
  {
   "cell_type": "code",
   "execution_count": 1056,
   "metadata": {},
   "outputs": [
    {
     "name": "stdout",
     "output_type": "stream",
     "text": [
      "[0 1]\n",
      "0.909366576819407\n",
      "0.09063342318059298\n"
     ]
    }
   ],
   "source": [
    "print(np.unique(target))\n",
    "target_props_label_0 = len(target[target==0])/len(target)\n",
    "print(target_props_label_0)\n",
    "print(1.0 - target_props_label_0)"
   ]
  },
  {
   "cell_type": "markdown",
   "metadata": {},
   "source": [
    "The above output shows that we have a binary classification problem which is strongly imbalanced where the 'false' label is found in a ratio of roughly 9:1 to the 'true' label (for target 'safety_flag')"
   ]
  },
  {
   "cell_type": "code",
   "execution_count": 1043,
   "metadata": {},
   "outputs": [
    {
     "name": "stdout",
     "output_type": "stream",
     "text": [
      "57.103369782649324\n"
     ]
    }
   ],
   "source": [
    "from sklearn.ensemble import RandomForestClassifier\n",
    "from sklearn.metrics import accuracy_score, balanced_accuracy_score\n",
    "from sklearn.model_selection import cross_val_score, StratifiedKFold\n",
    "rf = RandomForestClassifier(n_estimators=500)\n",
    "skfold = StratifiedKFold(n_splits=5)\n",
    "print(cross_val_score(rf, results_complete, target, scoring='balanced_accuracy', cv=3, n_jobs=-1).mean()*100)"
   ]
  },
  {
   "cell_type": "markdown",
   "metadata": {},
   "source": [
    "By re-sampling using a technique called 'SMOTE' we can address this imbalance"
   ]
  },
  {
   "cell_type": "code",
   "execution_count": 1044,
   "metadata": {},
   "outputs": [
    {
     "name": "stdout",
     "output_type": "stream",
     "text": [
      "92.8183277757194\n"
     ]
    }
   ],
   "source": [
    "from imblearn.over_sampling import SMOTE\n",
    "rf = RandomForestClassifier(n_estimators=500)\n",
    "X_resampled, y_resampled = SMOTE().fit_resample(results_complete,\n",
    "                                                target)\n",
    "X_resampled.shape, y_resampled.shape\n",
    "print(cross_val_score(rf, X_resampled, y_resampled, scoring='balanced_accuracy', cv=3, n_jobs=-1).mean()*100)"
   ]
  },
  {
   "cell_type": "markdown",
   "metadata": {},
   "source": [
    "Now that we've performed re-sampling of this grossly imbalanced data set, we could try out some difference\n",
    "classifiers and determine which classifier/s performs best with this data set"
   ]
  },
  {
   "cell_type": "code",
   "execution_count": 1187,
   "metadata": {},
   "outputs": [
    {
     "name": "stdout",
     "output_type": "stream",
     "text": [
      "91.42274916635792\n"
     ]
    }
   ],
   "source": [
    "# regularised greedy forests - cf \"https://github.com/RGF-team/rgf/tree/master/python-package\"\n",
    "from rgf import RGFClassifier\n",
    "rgf = RGFClassifier()\n",
    "print(cross_val_score(rgf, X_resampled, y_resampled, scoring='balanced_accuracy', cv=3, n_jobs=-1).mean()*100)\n"
   ]
  },
  {
   "cell_type": "code",
   "execution_count": 1048,
   "metadata": {},
   "outputs": [
    {
     "name": "stdout",
     "output_type": "stream",
     "text": [
      "91.23749536865505\n"
     ]
    }
   ],
   "source": [
    "xgb = XGBClassifier()\n",
    "print(cross_val_score(xgb, X_resampled, y_resampled, scoring='balanced_accuracy', cv=3, n_jobs=-1).mean()*100)\n"
   ]
  },
  {
   "cell_type": "code",
   "execution_count": 1057,
   "metadata": {},
   "outputs": [
    {
     "name": "stdout",
     "output_type": "stream",
     "text": [
      "78.41793256761763\n"
     ]
    }
   ],
   "source": [
    "knn = KNeighborsClassifier()\n",
    "print(cross_val_score(knn, X_resampled, y_resampled, scoring='balanced_accuracy', cv=3, n_jobs=-1).mean()*100)\n"
   ]
  },
  {
   "cell_type": "code",
   "execution_count": 1058,
   "metadata": {},
   "outputs": [
    {
     "name": "stdout",
     "output_type": "stream",
     "text": [
      "50.024700506360375\n"
     ]
    }
   ],
   "source": [
    "from sklearn.svm import LinearSVC\n",
    "svc = LinearSVC()\n",
    "print(cross_val_score(svc, X_resampled, y_resampled, scoring='balanced_accuracy', cv=3, n_jobs=-1).mean()*100)\n"
   ]
  },
  {
   "cell_type": "code",
   "execution_count": 1190,
   "metadata": {},
   "outputs": [
    {
     "name": "stdout",
     "output_type": "stream",
     "text": [
      "59.51587007533653\n"
     ]
    }
   ],
   "source": [
    "from sklearn.linear_model import LogisticRegression\n",
    "lr = LogisticRegression()\n",
    "print(cross_val_score(lr, X_resampled, y_resampled, scoring='balanced_accuracy', cv=3, n_jobs=-1).mean()*100)\n"
   ]
  },
  {
   "cell_type": "code",
   "execution_count": 1064,
   "metadata": {},
   "outputs": [
    {
     "name": "stdout",
     "output_type": "stream",
     "text": [
      "86.08743979251575\n",
      "82.20946029393602\n"
     ]
    }
   ],
   "source": [
    "from sklearn.tree import DecisionTreeClassifier, ExtraTreeClassifier\n",
    "dt = DecisionTreeClassifier()\n",
    "et = ExtraTreeClassifier()\n",
    "print(cross_val_score(dt, X_resampled, y_resampled, scoring='balanced_accuracy', cv=3, n_jobs=-1).mean()*100)\n",
    "print(cross_val_score(et, X_resampled, y_resampled, scoring='balanced_accuracy', cv=3, n_jobs=-1).mean()*100)\n"
   ]
  },
  {
   "cell_type": "markdown",
   "metadata": {},
   "source": [
    "Using an ensemble of different base classifiers often can yield some improvements, as the cross-validation output shown in the cell below suggests"
   ]
  },
  {
   "cell_type": "code",
   "execution_count": 1047,
   "metadata": {},
   "outputs": [
    {
     "name": "stdout",
     "output_type": "stream",
     "text": [
      "92.87390391503024\n"
     ]
    }
   ],
   "source": [
    "from sklearn.neighbors import KNeighborsClassifier\n",
    "from sklearn.ensemble import RandomForestClassifier, VotingClassifier\n",
    "from sklearn.svm import LinearSVC\n",
    "from xgboost.sklearn import XGBClassifier\n",
    "knn = KNeighborsClassifier()\n",
    "rf = RandomForestClassifier(n_estimators=300)\n",
    "svc = LinearSVC()\n",
    "xgb = XGBClassifier()\n",
    "vc = VotingClassifier(estimators=[('k', knn), ('rf', rf), ('svc', svc), ('xgb', xgb)])\n",
    "print(cross_val_score(vc, X_resampled, y_resampled, scoring='balanced_accuracy', cv=3, n_jobs=-1).mean()*100)\n"
   ]
  },
  {
   "cell_type": "code",
   "execution_count": 1194,
   "metadata": {},
   "outputs": [
    {
     "name": "stdout",
     "output_type": "stream",
     "text": [
      "92.8245029023095\n"
     ]
    }
   ],
   "source": [
    "from mlxtend.classifier import StackingClassifier as scl\n",
    "sclf = scl(classifiers=[knn, rf, xgb],\n",
    "           use_probas=False,\n",
    "           average_probas=True,\n",
    "           meta_classifier=lr)\n",
    "print(cross_val_score(sclf, X_resampled, y_resampled, scoring='balanced_accuracy', cv=3, n_jobs=-1).mean()*100)\n"
   ]
  },
  {
   "cell_type": "code",
   "execution_count": 1195,
   "metadata": {},
   "outputs": [
    {
     "name": "stdout",
     "output_type": "stream",
     "text": [
      "92.73805113004818\n"
     ]
    }
   ],
   "source": [
    "from mlxtend.classifier import StackingClassifier as scl\n",
    "sclf = scl(classifiers=[knn, rf, xgb],\n",
    "           use_probas=False,\n",
    "           average_probas=False,\n",
    "           meta_classifier=lr)\n",
    "print(cross_val_score(sclf, X_resampled, y_resampled, scoring='balanced_accuracy', cv=3, n_jobs=-1).mean()*100)\n"
   ]
  },
  {
   "cell_type": "code",
   "execution_count": 1196,
   "metadata": {},
   "outputs": [
    {
     "name": "stdout",
     "output_type": "stream",
     "text": [
      "92.67629986414721\n"
     ]
    }
   ],
   "source": [
    "from mlxtend.classifier import StackingClassifier as scl\n",
    "sclf = scl(classifiers=[rf, lr],\n",
    "           use_probas=True,\n",
    "           average_probas=False,\n",
    "           meta_classifier=xgb)\n",
    "print(cross_val_score(sclf, X_resampled, y_resampled, scoring='balanced_accuracy', cv=3, n_jobs=-1).mean()*100)\n"
   ]
  },
  {
   "cell_type": "code",
   "execution_count": 1197,
   "metadata": {},
   "outputs": [
    {
     "name": "stdout",
     "output_type": "stream",
     "text": [
      "92.70100037050759\n"
     ]
    }
   ],
   "source": [
    "from mlxtend.classifier import StackingClassifier as scl\n",
    "sclf = scl(classifiers=[rf, lr],\n",
    "           use_probas=False,\n",
    "           average_probas=False,\n",
    "           meta_classifier=xgb)\n",
    "print(cross_val_score(sclf, X_resampled, y_resampled, scoring='balanced_accuracy', cv=3, n_jobs=-1).mean()*100)\n"
   ]
  },
  {
   "cell_type": "code",
   "execution_count": 1198,
   "metadata": {},
   "outputs": [
    {
     "name": "stdout",
     "output_type": "stream",
     "text": [
      "92.76892676299865\n"
     ]
    }
   ],
   "source": [
    "from mlxtend.classifier import StackingClassifier as scl\n",
    "sclf = scl(classifiers=[rf],\n",
    "           use_probas=False,\n",
    "           average_probas=False,\n",
    "           meta_classifier=xgb)\n",
    "print(cross_val_score(sclf, X_resampled, y_resampled, scoring='balanced_accuracy', cv=3, n_jobs=-1).mean()*100)\n"
   ]
  },
  {
   "cell_type": "markdown",
   "metadata": {},
   "source": [
    "Trying a MLP could also hold promise, with several caveats - we need to one-hot encode even the continuous features\n",
    "to get decent performance on a neural net. Owing to the high cardinality of many features (as the output from the analytics report obtained from the DemystData API shows), performing PCA will reduce the size of the space substantially and allow for training the model within a reasonable period of time"
   ]
  },
  {
   "cell_type": "code",
   "execution_count": 1267,
   "metadata": {},
   "outputs": [
    {
     "name": "stdout",
     "output_type": "stream",
     "text": [
      "Train on 8137 samples, validate on 4008 samples\n",
      "Epoch 1/5\n",
      "8137/8137 [==============================] - 433s 53ms/step - loss: 0.6396 - balanced_recall: 0.6364 - val_loss: 0.6132 - val_balanced_recall: 0.6757\n",
      "Epoch 2/5\n",
      "8137/8137 [==============================] - 435s 53ms/step - loss: 0.0317 - balanced_recall: 0.9997 - val_loss: 0.6236 - val_balanced_recall: 0.6732\n",
      "Epoch 3/5\n",
      "8137/8137 [==============================] - 405s 50ms/step - loss: 0.0015 - balanced_recall: 0.9997 - val_loss: 0.6258 - val_balanced_recall: 0.6694\n",
      "Epoch 4/5\n",
      "8137/8137 [==============================] - 400s 49ms/step - loss: 5.1659e-04 - balanced_recall: 0.9998 - val_loss: 0.6276 - val_balanced_recall: 0.6669\n",
      "Epoch 5/5\n",
      "8137/8137 [==============================] - 407s 50ms/step - loss: 6.4449e-04 - balanced_recall: 0.9998 - val_loss: 0.6287 - val_balanced_recall: 0.6642\n"
     ]
    }
   ],
   "source": [
    "from keras import Sequential\n",
    "from keras.layers import Activation, Dense, Dropout\n",
    "from keras.utils import to_categorical\n",
    "import keras.backend as K\n",
    "from sklearn.preprocessing import OneHotEncoder\n",
    "oe = OneHotEncoder(categories='auto')\n",
    "from sklearn.metrics import confusion_matrix\n",
    "def balanced_recall(y_true, y_pred):\n",
    "    \"\"\"\n",
    "    Computes the average per-column recall metric\n",
    "    for a multi-class classification problem\n",
    "    \"\"\"\n",
    "    true_positives = K.sum(K.round(K.clip(y_true * y_pred, 0, 1)), axis=0)\n",
    "    possible_positives = K.sum(K.round(K.clip(y_true, 0, 1)), axis=0)\n",
    "    recall = true_positives / (possible_positives + K.epsilon())\n",
    "    balanced_recall = K.mean(recall)\n",
    "    return balanced_recall\n",
    "new_target = to_categorical(y_resampled)\n",
    "from sklearn.decomposition import PCA\n",
    "# shrink down data into a feature space of 30 dimensions\n",
    "transformed_x = PCA(n_components=30).fit_transform(X_resampled)\n",
    "oe_x = oe.fit_transform(transformed_x)\n",
    "X_train, X_test, Y_train, Y_test = train_test_split(oe_x, new_target)\n",
    "model = Sequential()\n",
    "model.add(Dense(260,\n",
    "                input_shape=(X_train.shape[1],),\n",
    "                kernel_initializer='uniform',\n",
    "                activation='relu'))\n",
    "model.add(Dropout(0.2))\n",
    "model.add(Dense(new_target.shape[1], activation='softmax'))\n",
    "model.compile(loss='binary_crossentropy', optimizer='adam', metrics=[balanced_recall])\n",
    "history = model.fit(X_train, Y_train, validation_split=0.33, epochs=5, batch_size=32, verbose=1)\n"
   ]
  },
  {
   "cell_type": "code",
   "execution_count": 1264,
   "metadata": {},
   "outputs": [],
   "source": [
    "# need to reverse the one-hot encoding scheme to satisfy the sklearn 'balanced_accuracy_score' metric, which\n",
    "# assumes that one-hot encoded labels are 'multi-label' targets, not 'multiclass', which our problem is.\n",
    "def one_hot_to_normal(Y_test):\n",
    "        '''\n",
    "    This is a test:\n",
    "    >>> one_hot_to_normal(y_test[:5])\n",
    "    4\n",
    "    '''\n",
    "    reverse_one_hot = []\n",
    "    for lab in Y_test:\n",
    "        for idx, elem in enumerate(lab):\n",
    "            if elem == 1:\n",
    "                reverse_one_hot.append(idx)\n",
    "    return reverse_one_hot\n",
    "import doctest\n",
    "doctest.testmod(verbose=True)\n",
    "\n"
   ]
  },
  {
   "cell_type": "code",
   "execution_count": 1268,
   "metadata": {},
   "outputs": [
    {
     "name": "stdout",
     "output_type": "stream",
     "text": [
      "0.6830337695091793\n"
     ]
    }
   ],
   "source": [
    "test_preds = model.predict_classes(X_test)\n",
    "reverse_one_hot = one_hot_to_normal(Y_test)\n",
    "\n",
    "print(balanced_accuracy_score(test_preds, reverse_one_hot))"
   ]
  },
  {
   "cell_type": "markdown",
   "metadata": {},
   "source": [
    "The Random Forest classifier was the most promising base classifier. We could try hyper-parameter tuning on it to increase its performance further."
   ]
  },
  {
   "cell_type": "code",
   "execution_count": 1066,
   "metadata": {},
   "outputs": [
    {
     "name": "stdout",
     "output_type": "stream",
     "text": [
      "92.24404100284055\n"
     ]
    }
   ],
   "source": [
    "from imblearn.ensemble import BalancedRandomForestClassifier\n",
    "brf = BalancedRandomForestClassifier()\n",
    "print(cross_val_score(brf, X_resampled, y_resampled, scoring='balanced_accuracy', cv=3, n_jobs=-1).mean()*100)\n"
   ]
  },
  {
   "cell_type": "code",
   "execution_count": 1079,
   "metadata": {},
   "outputs": [
    {
     "name": "stdout",
     "output_type": "stream",
     "text": [
      "0.9414697416043243\n"
     ]
    }
   ],
   "source": [
    "X_train, X_test, Y_train, Y_test = train_test_split(X_resampled, y_resampled)\n",
    "forest = RandomForestClassifier()\n",
    "param_dist = {\"n_estimators\" : list(range(100, 800, 100)),\n",
    "              \"max_depth\": [3, None],\n",
    "              \"max_features\": list(range(1, X_train.shape[1]+1)),\n",
    "              \"min_samples_split\": list(range(2, 12, 3)),\n",
    "              \"min_samples_leaf\": list(range(2, 12, 3)),\n",
    "              \"criterion\": [\"gini\", \"entropy\"]}\n",
    "best_fr = RandomizedSearchCV(forest, param_distributions=param_dist, cv=4)\n",
    "best_fr.fit(X_train, Y_train)\n",
    "y_pred_tuned = best_fr.predict(X_test)\n",
    "print(balanced_accuracy_score(y_pred_tuned, Y_test))"
   ]
  },
  {
   "cell_type": "markdown",
   "metadata": {},
   "source": [
    "We got a 2% increase in balanced accuracy by using hyper-parameter tuning on the Random Forest Classifier, and the output of the confusion matrix shown below shows that this improved model is able to discriminate both classes quite evenly"
   ]
  },
  {
   "cell_type": "code",
   "execution_count": 1304,
   "metadata": {},
   "outputs": [
    {
     "name": "stdout",
     "output_type": "stream",
     "text": [
      "[[1924   35]\n",
      " [  55 2035]]\n"
     ]
    }
   ],
   "source": [
    "X_train, X_test, Y_train, Y_test = train_test_split(X_resampled, y_resampled)\n",
    "y_pred_tuned = best_fr.predict(X_test)\n",
    "from sklearn.metrics import confusion_matrix\n",
    "print(confusion_matrix(y_pred_tuned, Y_test))"
   ]
  },
  {
   "cell_type": "markdown",
   "metadata": {},
   "source": [
    "Let's also look at how predictive certain features are.\n",
    "Luckily, 'xgboost' has an in-built 'feature importance' function that handles this for us.\n",
    "We could also use the 'mutual information' or 'chisq' feature selection functions found in the sklearn.feature_selection library"
   ]
  },
  {
   "cell_type": "code",
   "execution_count": 1086,
   "metadata": {},
   "outputs": [],
   "source": [
    "from matplotlib import pyplot as plt\n",
    "import seaborn as sns\n",
    "from sklearn.feature_selection import chi2, SelectKBest, mutual_info_classif\n",
    "plt.rcParams['figure.figsize'] = (20.0,5.0)\n"
   ]
  },
  {
   "cell_type": "code",
   "execution_count": 1291,
   "metadata": {},
   "outputs": [
    {
     "data": {
      "text/html": [
       "<div>\n",
       "<style scoped>\n",
       "    .dataframe tbody tr th:only-of-type {\n",
       "        vertical-align: middle;\n",
       "    }\n",
       "\n",
       "    .dataframe tbody tr th {\n",
       "        vertical-align: top;\n",
       "    }\n",
       "\n",
       "    .dataframe thead th {\n",
       "        text-align: right;\n",
       "    }\n",
       "</style>\n",
       "<table border=\"1\" class=\"dataframe\">\n",
       "  <thead>\n",
       "    <tr style=\"text-align: right;\">\n",
       "      <th></th>\n",
       "      <th>city</th>\n",
       "      <th>post_code</th>\n",
       "      <th>state</th>\n",
       "      <th>apnformatted</th>\n",
       "      <th>documentnumberformatted</th>\n",
       "      <th>documentnumberlegacy</th>\n",
       "      <th>documentrecordingcountyfips</th>\n",
       "      <th>documentrecordingcountyname</th>\n",
       "      <th>documentrecordingjurisdictionname</th>\n",
       "      <th>documentrecordingstatecode</th>\n",
       "      <th>...</th>\n",
       "      <th>taxmarketimprovementsperc</th>\n",
       "      <th>taxmarketvalueimprovements</th>\n",
       "      <th>taxmarketvalueland</th>\n",
       "      <th>taxmarketvaluetotal</th>\n",
       "      <th>unitscount</th>\n",
       "      <th>yearbuilt</th>\n",
       "      <th>confidencescore</th>\n",
       "      <th>estimatedmaxvalue</th>\n",
       "      <th>estimatedminvalue</th>\n",
       "      <th>fsd</th>\n",
       "    </tr>\n",
       "  </thead>\n",
       "  <tbody>\n",
       "    <tr>\n",
       "      <th>0</th>\n",
       "      <td>-0.0888221</td>\n",
       "      <td>-0.544559</td>\n",
       "      <td>-0.907115</td>\n",
       "      <td>0.681118</td>\n",
       "      <td>1.1097</td>\n",
       "      <td>1.1097</td>\n",
       "      <td>12105.0</td>\n",
       "      <td>0.879788</td>\n",
       "      <td>0.917685</td>\n",
       "      <td>-0.479947</td>\n",
       "      <td>...</td>\n",
       "      <td>0.130079</td>\n",
       "      <td>-0.534363</td>\n",
       "      <td>0.752988</td>\n",
       "      <td>-0.357077</td>\n",
       "      <td>-0.267663</td>\n",
       "      <td>2005</td>\n",
       "      <td>0.964637</td>\n",
       "      <td>-0.246053</td>\n",
       "      <td>-0.529423</td>\n",
       "      <td>-0.76534</td>\n",
       "    </tr>\n",
       "    <tr>\n",
       "      <th>1</th>\n",
       "      <td>-0.289593</td>\n",
       "      <td>-0.189322</td>\n",
       "      <td>-0.509405</td>\n",
       "      <td>1.25553</td>\n",
       "      <td>-0.6067</td>\n",
       "      <td>-0.6067</td>\n",
       "      <td>18097.0</td>\n",
       "      <td>0.191503</td>\n",
       "      <td>0.177532</td>\n",
       "      <td>-0.0821765</td>\n",
       "      <td>...</td>\n",
       "      <td>-0.112075</td>\n",
       "      <td>1.9744</td>\n",
       "      <td>0.573087</td>\n",
       "      <td>-0.797663</td>\n",
       "      <td>-0.227925</td>\n",
       "      <td>1950</td>\n",
       "      <td>-1.45853</td>\n",
       "      <td>-0.933051</td>\n",
       "      <td>2.08643</td>\n",
       "      <td>0.479996</td>\n",
       "    </tr>\n",
       "    <tr>\n",
       "      <th>2</th>\n",
       "      <td>1.42358</td>\n",
       "      <td>-1.0238</td>\n",
       "      <td>1.47914</td>\n",
       "      <td>1.64155</td>\n",
       "      <td>-0.954461</td>\n",
       "      <td>-0.954461</td>\n",
       "      <td>51023.0</td>\n",
       "      <td>-1.98914</td>\n",
       "      <td>-1.94248</td>\n",
       "      <td>1.90668</td>\n",
       "      <td>...</td>\n",
       "      <td>-0.0515365</td>\n",
       "      <td>2.06544</td>\n",
       "      <td>0.616475</td>\n",
       "      <td>-0.702369</td>\n",
       "      <td>-0.267663</td>\n",
       "      <td>1993</td>\n",
       "      <td>-0.631108</td>\n",
       "      <td>-0.943785</td>\n",
       "      <td>2.48645</td>\n",
       "      <td>-0.00730934</td>\n",
       "    </tr>\n",
       "    <tr>\n",
       "      <th>3</th>\n",
       "      <td>1.59346</td>\n",
       "      <td>-0.29775</td>\n",
       "      <td>0.816293</td>\n",
       "      <td>-0.268532</td>\n",
       "      <td>-0.818984</td>\n",
       "      <td>-0.818984</td>\n",
       "      <td>39097.0</td>\n",
       "      <td>0.140043</td>\n",
       "      <td>0.119377</td>\n",
       "      <td>1.24373</td>\n",
       "      <td>...</td>\n",
       "      <td>0.311694</td>\n",
       "      <td>-0.854034</td>\n",
       "      <td>1.00379</td>\n",
       "      <td>1.13762</td>\n",
       "      <td>-0.267663</td>\n",
       "      <td>2005</td>\n",
       "      <td>-1.34033</td>\n",
       "      <td>-1.2685</td>\n",
       "      <td>1.72562</td>\n",
       "      <td>0.371706</td>\n",
       "    </tr>\n",
       "    <tr>\n",
       "      <th>4</th>\n",
       "      <td>0.57306</td>\n",
       "      <td>-0.731462</td>\n",
       "      <td>-0.907115</td>\n",
       "      <td>0.0276559</td>\n",
       "      <td>0.980094</td>\n",
       "      <td>0.980094</td>\n",
       "      <td>12019.0</td>\n",
       "      <td>-1.5067</td>\n",
       "      <td>-1.46138</td>\n",
       "      <td>-0.479947</td>\n",
       "      <td>...</td>\n",
       "      <td>0.674924</td>\n",
       "      <td>0.967474</td>\n",
       "      <td>1.1911</td>\n",
       "      <td>0.946446</td>\n",
       "      <td>-0.267663</td>\n",
       "      <td>2012</td>\n",
       "      <td>1.14194</td>\n",
       "      <td>0.848849</td>\n",
       "      <td>0.431421</td>\n",
       "      <td>3.45797</td>\n",
       "    </tr>\n",
       "    <tr>\n",
       "      <th>5</th>\n",
       "      <td>-1.18865</td>\n",
       "      <td>-1.01661</td>\n",
       "      <td>-0.244266</td>\n",
       "      <td>-0.986159</td>\n",
       "      <td>-0.954461</td>\n",
       "      <td>-0.954461</td>\n",
       "      <td>6037.0</td>\n",
       "      <td>0.0499868</td>\n",
       "      <td>0.0295008</td>\n",
       "      <td>-0.811423</td>\n",
       "      <td>...</td>\n",
       "      <td>0.311694</td>\n",
       "      <td>-0.854034</td>\n",
       "      <td>-0.870354</td>\n",
       "      <td>-0.975897</td>\n",
       "      <td>-0.227925</td>\n",
       "      <td>2005</td>\n",
       "      <td>0.846433</td>\n",
       "      <td>-1.05113</td>\n",
       "      <td>-0.80395</td>\n",
       "      <td>-0.602905</td>\n",
       "    </tr>\n",
       "  </tbody>\n",
       "</table>\n",
       "<p>6 rows × 100 columns</p>\n",
       "</div>"
      ],
      "text/plain": [
       "        city post_code     state apnformatted documentnumberformatted  \\\n",
       "0 -0.0888221 -0.544559 -0.907115     0.681118                  1.1097   \n",
       "1  -0.289593 -0.189322 -0.509405      1.25553                 -0.6067   \n",
       "2    1.42358   -1.0238   1.47914      1.64155               -0.954461   \n",
       "3    1.59346  -0.29775  0.816293    -0.268532               -0.818984   \n",
       "4    0.57306 -0.731462 -0.907115    0.0276559                0.980094   \n",
       "5   -1.18865  -1.01661 -0.244266    -0.986159               -0.954461   \n",
       "\n",
       "  documentnumberlegacy documentrecordingcountyfips  \\\n",
       "0               1.1097                     12105.0   \n",
       "1              -0.6067                     18097.0   \n",
       "2            -0.954461                     51023.0   \n",
       "3            -0.818984                     39097.0   \n",
       "4             0.980094                     12019.0   \n",
       "5            -0.954461                      6037.0   \n",
       "\n",
       "  documentrecordingcountyname documentrecordingjurisdictionname  \\\n",
       "0                    0.879788                          0.917685   \n",
       "1                    0.191503                          0.177532   \n",
       "2                    -1.98914                          -1.94248   \n",
       "3                    0.140043                          0.119377   \n",
       "4                     -1.5067                          -1.46138   \n",
       "5                   0.0499868                         0.0295008   \n",
       "\n",
       "  documentrecordingstatecode  ... taxmarketimprovementsperc  \\\n",
       "0                  -0.479947  ...                  0.130079   \n",
       "1                 -0.0821765  ...                 -0.112075   \n",
       "2                    1.90668  ...                -0.0515365   \n",
       "3                    1.24373  ...                  0.311694   \n",
       "4                  -0.479947  ...                  0.674924   \n",
       "5                  -0.811423  ...                  0.311694   \n",
       "\n",
       "  taxmarketvalueimprovements taxmarketvalueland taxmarketvaluetotal  \\\n",
       "0                  -0.534363           0.752988           -0.357077   \n",
       "1                     1.9744           0.573087           -0.797663   \n",
       "2                    2.06544           0.616475           -0.702369   \n",
       "3                  -0.854034            1.00379             1.13762   \n",
       "4                   0.967474             1.1911            0.946446   \n",
       "5                  -0.854034          -0.870354           -0.975897   \n",
       "\n",
       "  unitscount yearbuilt confidencescore estimatedmaxvalue estimatedminvalue  \\\n",
       "0  -0.267663      2005        0.964637         -0.246053         -0.529423   \n",
       "1  -0.227925      1950        -1.45853         -0.933051           2.08643   \n",
       "2  -0.267663      1993       -0.631108         -0.943785           2.48645   \n",
       "3  -0.267663      2005        -1.34033           -1.2685           1.72562   \n",
       "4  -0.267663      2012         1.14194          0.848849          0.431421   \n",
       "5  -0.227925      2005        0.846433          -1.05113          -0.80395   \n",
       "\n",
       "          fsd  \n",
       "0    -0.76534  \n",
       "1    0.479996  \n",
       "2 -0.00730934  \n",
       "3    0.371706  \n",
       "4     3.45797  \n",
       "5   -0.602905  \n",
       "\n",
       "[6 rows x 100 columns]"
      ]
     },
     "execution_count": 1291,
     "metadata": {},
     "output_type": "execute_result"
    }
   ],
   "source": [
    "# feature selection choosing only the 100 most important features using 'mutual information' as a metric\n",
    "X_new = SelectKBest(mutual_info_classif, k=100).fit_transform(results_complete, target)\n",
    "X_mask = SelectKBest(mutual_info_classif, k=100).fit(results_complete, target).get_support(indices=True)\n",
    "feature_mask = results_complete[results_complete.columns[X_mask]]\n",
    "results_complete.iloc[:, X_mask].head()\n",
    "feature_mask.head(6)"
   ]
  },
  {
   "cell_type": "code",
   "execution_count": 1099,
   "metadata": {},
   "outputs": [],
   "source": [
    "# obtain the feature importance using 'xgb.feature_importance_'\n",
    "xgb.fit(X_resampled, y_resampled)\n",
    "import_features = xgb.feature_importances_"
   ]
  },
  {
   "cell_type": "code",
   "execution_count": 1157,
   "metadata": {},
   "outputs": [],
   "source": [
    "# sort the features along with their names into the most important features\n",
    "features_with_cols = list(zip(import_features, results_complete.columns))\n",
    "sorted_features = sorted(features_with_cols, key=lambda x: x[0], reverse=True)\n",
    "array_features = np.array(sorted_features)\n",
    "from operator import itemgetter\n",
    "actual_cols = list(map(itemgetter(1), array_features))\n",
    "actual_features = list(map(itemgetter(0), array_features))\n",
    "actual_features = list(map(float, actual_features))"
   ]
  },
  {
   "cell_type": "markdown",
   "metadata": {},
   "source": [
    "## Feature importance via xgboost"
   ]
  },
  {
   "cell_type": "code",
   "execution_count": 1158,
   "metadata": {},
   "outputs": [
    {
     "data": {
      "text/plain": [
       "<matplotlib.axes._subplots.AxesSubplot at 0x19f0de0b8>"
      ]
     },
     "execution_count": 1158,
     "metadata": {},
     "output_type": "execute_result"
    },
    {
     "data": {
      "image/png": "[encoded data removed]",
      "text/plain": [
       "<Figure size 1440x360 with 1 Axes>"
      ]
     },
     "metadata": {},
     "output_type": "display_data"
    }
   ],
   "source": [
    "sns.barplot(actual_cols[0:10], actual_features[:10])"
   ]
  },
  {
   "cell_type": "markdown",
   "metadata": {},
   "source": [
    "### Feature importance via mutual information"
   ]
  },
  {
   "cell_type": "markdown",
   "metadata": {},
   "source": [
    "As a comparison point to the 'feature_importance' function found in the XGBoost library, we can use the mutual informationa. We need to ensure that we have labelled discrete features correctly.\n",
    "In order to do so, we need to create a boolean mask. We could also have used the categorical features that we generated in pre-processing the data as a mask."
   ]
  },
  {
   "cell_type": "code",
   "execution_count": 1293,
   "metadata": {},
   "outputs": [],
   "source": [
    "results_complete = results3.copy()\n",
    "discrete_mask = np.zeros(shape=results3.shape[1], dtype=np.int32)\n",
    "for feature in results3.columns:\n",
    "    if len(results3[feature].unique()) <= 30 or 'date' in feature or 'year' in feature:\n",
    "        discrete_mask[results3.columns.get_loc(feature)]=1"
   ]
  },
  {
   "cell_type": "code",
   "execution_count": 1289,
   "metadata": {},
   "outputs": [],
   "source": [
    "mi = mutual_info_classif(results_complete, target, discrete_features=discrete_mask)\n",
    "# sort the features along with their names into the most important features\n",
    "features_with_cols = list(zip(mi, results_complete.columns))\n",
    "sorted_features = sorted(features_with_cols, key=lambda x: x[0], reverse=True)\n",
    "array_features = np.array(sorted_features)\n",
    "from operator import itemgetter\n",
    "actual_cols = list(map(itemgetter(1), array_features))\n",
    "actual_features = list(map(itemgetter(0), array_features))\n",
    "actual_features = list(map(float, actual_features))"
   ]
  },
  {
   "cell_type": "markdown",
   "metadata": {},
   "source": [
    "It is interesting to note the lack of intersection between the features found to be important via the mutual information metric and via the 'feature_importance' functionality found in the XGBoost library.\n",
    "The output of the cell below showing just the top ten most important features are quite different to the output "
   ]
  },
  {
   "cell_type": "code",
   "execution_count": 1292,
   "metadata": {},
   "outputs": [
    {
     "data": {
      "text/plain": [
       "<matplotlib.axes._subplots.AxesSubplot at 0x1abf09a90>"
      ]
     },
     "execution_count": 1292,
     "metadata": {},
     "output_type": "execute_result"
    },
    {
     "data": {
      "image/png": "[encoded data removed]",
      "text/plain": [
       "<Figure size 1440x360 with 1 Axes>"
      ]
     },
     "metadata": {},
     "output_type": "display_data"
    }
   ],
   "source": [
    "sns.barplot(actual_cols[0:10], actual_features[:10])"
   ]
  },
  {
   "cell_type": "code",
   "execution_count": 1166,
   "metadata": {},
   "outputs": [],
   "source": [
    "import pandas_profiling as pf\n",
    "profile = results_complete.profile_report()\n",
    "rejected_variables = profile.get_rejected_variables(threshold=0.9)\n"
   ]
  },
  {
   "cell_type": "code",
   "execution_count": 1171,
   "metadata": {},
   "outputs": [],
   "source": [
    "os.mkdir('Models')"
   ]
  },
  {
   "cell_type": "code",
   "execution_count": 1172,
   "metadata": {},
   "outputs": [
    {
     "data": {
      "text/plain": [
       "['Models/voting_classifier']"
      ]
     },
     "execution_count": 1172,
     "metadata": {},
     "output_type": "execute_result"
    }
   ],
   "source": [
    "joblib.dump(vc, 'Models/voting_classifier')"
   ]
  },
  {
   "cell_type": "code",
   "execution_count": 1305,
   "metadata": {},
   "outputs": [
    {
     "data": {
      "text/plain": [
       "['Models/tuned_forest']"
      ]
     },
     "execution_count": 1305,
     "metadata": {},
     "output_type": "execute_result"
    }
   ],
   "source": [
    "joblib.dump(best_fr, 'Models/tuned_forest')"
   ]
  },
  {
   "cell_type": "markdown",
   "metadata": {},
   "source": [
    "## Unit Tests"
   ]
  },
  {
   "cell_type": "code",
   "execution_count": 82,
   "metadata": {},
   "outputs": [
    {
     "name": "stdout",
     "output_type": "stream",
     "text": [
      "Trying:\n",
      "    add(2, 2)\n",
      "Expecting:\n",
      "    4\n",
      "ok\n",
      "Trying:\n",
      "    one_hot_to_normal(y_ts[:5])\n",
      "Expecting:\n",
      "    [0, 0, 0, 1, 0]\n",
      "ok\n",
      "Trying:\n",
      "    remove_dots_col(q.iloc[:, :5])\n",
      "Expecting:\n",
      "    ['attom_id', 'city', 'country', 'post_code', 'safety_flag']\n",
      "ok\n",
      "1 items had no tests:\n",
      "    __main__\n",
      "3 items passed all tests:\n",
      "   1 tests in __main__.add\n",
      "   1 tests in __main__.one_hot_to_normal\n",
      "   1 tests in __main__.remove_dots_col\n",
      "3 tests in 4 items.\n",
      "3 passed and 0 failed.\n",
      "Test passed.\n"
     ]
    },
    {
     "data": {
      "text/plain": [
       "TestResults(failed=0, attempted=3)"
      ]
     },
     "execution_count": 82,
     "metadata": {},
     "output_type": "execute_result"
    }
   ],
   "source": [
    "import typing\n",
    "from typing import List\n",
    "def remove_dots_col(full_df: pd.DataFrame)->List[str]:\n",
    "    '''\n",
    "    This is a function that removes any columns before a '.' in a column name. Excepts a Pandas DataFrame\n",
    "    i.e. input.attom_id->attom_id, attom_avm.post_code->postcode, etc\n",
    "    >>> remove_dots_col(q.iloc[:, :5])\n",
    "    ['attom_id', 'city', 'country', 'post_code', 'safety_flag']\n",
    "    '''\n",
    "\n",
    "    new_cols = []\n",
    "    for col in full_df.columns.tolist():\n",
    "        if len(col.split('.'))>=2:\n",
    "            new_cols.append(col.split('.')[1])\n",
    "        else:\n",
    "            new_cols.append(col)\n",
    "    #full_df.columns = new_cols\n",
    "    # return full_df\n",
    "    return new_cols\n",
    "from keras.utils import to_categorical\n",
    "q = pd.read_csv('data/inputs_enrich3.csv')\n",
    "cleaned_data_cols = remove_dots_col(q)\n",
    "q.columns = cleaned_data_cols\n",
    "from sklearn.model_selection import train_test_split\n",
    "q['safety_flag'] = np.where(q['safety_flag']==False,0,1)\n",
    "x_tr, x_tr, y_tr, y_ts = train_test_split(q[q.columns.difference(['safety_flag'])], to_categorical(q['safety_flag']), random_state=1)\n",
    "def one_hot_to_normal(Y_test: np.ndarray)->np.ndarray:\n",
    "    '''\n",
    "    This is a test to convert one-hot encoded data back to a label-encoded scheme of a single-dimensional \n",
    "    i.e. [[0,0], [0,1], [0,0]] becomes [0,1,0]:\n",
    "    >>> one_hot_to_normal(y_ts[:5])\n",
    "    [0, 0, 0, 1, 0]\n",
    "    '''\n",
    "    reverse_one_hot = []\n",
    "    for lab in Y_test:\n",
    "        for idx, elem in enumerate(lab):\n",
    "            if elem == 1:\n",
    "                reverse_one_hot.append(idx)\n",
    "    return reverse_one_hot\n",
    "\n",
    "import doctest\n",
    "doctest.testmod(verbose=True)\n",
    "\n"
   ]
  },
  {
   "cell_type": "markdown",
   "metadata": {},
   "source": [
    "## Concluding Remarks"
   ]
  },
  {
   "cell_type": "markdown",
   "metadata": {},
   "source": [
    "The feature evaluation metrics show that the location of the city, as well as properties such as the assessed market value and number of buildings present in the area are strongly predictive of 'safety_flag'. This suggests that high density areas are correlated with the safety of the area.\n",
    "We could have also performed more feature elimination by removing highly correlated features. For example, the 'propertylatitude' and 'post_code' features would presumably by highly correlated (for example, using the in-built 'corr' function present in the Pandas API).\n",
    "Using a fair metric i.e. the balanced recall showed that a hyper-parameter tuned Random Forest was the best-performing \n",
    "classification model. The MLP (using Keras) could have possibly rivalled this model had there been more time present for fine-tuning the model i.e. using multiple hidden layers, changing the number of neurons present, using different activation functions or using different metrics to evaluate the performance of the model.\n",
    "The ensembled Voting Classifier also performed quite well in comparison to other models. This model could have been improved had more time been spent investigating better combinations of base classifiers, as well as using different voting strategies i.e. 'soft-voting versus hard-voting'.\n",
    "The stacking classifier also could have performed better had more time been spent on investigating different combinations of base classifiers as well as the 'meta-classifier'.\n",
    "Addtional steps that could have been taken would have been exploring different imputation strategies as well as different scaling strategies. \n",
    "The DemystData API was quite intuitive to use in terms of identifying different data sets to help enrich the preliminary data"
   ]
  }
 ],
 "metadata": {
  "kernelspec": {
   "display_name": "Python 3",
   "language": "python",
   "name": "python3"
  },
  "language_info": {
   "codemirror_mode": {
    "name": "ipython",
    "version": 3
   },
   "file_extension": ".py",
   "mimetype": "text/x-python",
   "name": "python",
   "nbconvert_exporter": "python",
   "pygments_lexer": "ipython3",
   "version": "3.7.0"
  }
 },
 "nbformat": 4,
 "nbformat_minor": 2
}
